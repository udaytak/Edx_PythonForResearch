{
 "cells": [
  {
   "cell_type": "markdown",
   "metadata": {},
   "source": [
    "4.2.1 Intorduction to GPS Tracking of Birds"
   ]
  },
  {
   "cell_type": "code",
   "execution_count": 1,
   "metadata": {},
   "outputs": [
    {
     "data": {
      "text/plain": [
       "'\\n    GPS - Global Positioning Systems\\n    LifeWatch INBO Project data set\\n        data of 3 gulls, 8 columns\\n'"
      ]
     },
     "execution_count": 1,
     "metadata": {},
     "output_type": "execute_result"
    }
   ],
   "source": [
    "'''\n",
    "    GPS - Global Positioning Systems\n",
    "    LifeWatch INBO Project data set\n",
    "        data of 3 gulls, 8 columns\n",
    "'''"
   ]
  },
  {
   "cell_type": "code",
   "execution_count": 2,
   "metadata": {},
   "outputs": [],
   "source": [
    "import pandas as pd"
   ]
  },
  {
   "cell_type": "code",
   "execution_count": 4,
   "metadata": {},
   "outputs": [],
   "source": [
    "birddata = pd.read_csv(\"./python_case_studies/Bird Tracking/bird_tracking.csv\")"
   ]
  },
  {
   "cell_type": "code",
   "execution_count": 5,
   "metadata": {},
   "outputs": [
    {
     "data": {
      "text/plain": [
       "<bound method DataFrame.info of        Unnamed: 0  altitude               date_time  device_info_serial  \\\n",
       "0               0        71  2013-08-15 00:18:08+00                 851   \n",
       "1               1        68  2013-08-15 00:48:07+00                 851   \n",
       "2               2        68  2013-08-15 01:17:58+00                 851   \n",
       "3               3        73  2013-08-15 01:47:51+00                 851   \n",
       "4               4        69  2013-08-15 02:17:42+00                 851   \n",
       "5               5        54  2013-08-15 02:47:38+00                 851   \n",
       "6               6        57  2013-08-15 03:02:33+00                 851   \n",
       "7               7        65  2013-08-15 03:17:27+00                 851   \n",
       "8               8        59  2013-08-15 03:32:35+00                 851   \n",
       "9               9       107  2013-08-15 03:47:48+00                 851   \n",
       "10             10        61  2013-08-15 04:03:39+00                 851   \n",
       "11             11        56  2013-08-15 04:18:40+00                 851   \n",
       "12             12        57  2013-08-15 04:33:53+00                 851   \n",
       "13             13        68  2013-08-15 04:49:06+00                 851   \n",
       "14             14        74  2013-08-15 05:04:45+00                 851   \n",
       "15             15        78  2013-08-15 05:20:09+00                 851   \n",
       "16             16        77  2013-08-15 05:35:04+00                 851   \n",
       "17             17        72  2013-08-15 05:49:58+00                 851   \n",
       "18             18        74  2013-08-15 06:04:56+00                 851   \n",
       "19             19        93  2013-08-15 06:19:54+00                 851   \n",
       "20             20        84  2013-08-15 06:34:50+00                 851   \n",
       "21             21        90  2013-08-15 06:49:43+00                 851   \n",
       "22             22        84  2013-08-15 07:04:40+00                 851   \n",
       "23             23        85  2013-08-15 07:19:35+00                 851   \n",
       "24             24        87  2013-08-15 07:34:31+00                 851   \n",
       "25             25       149  2013-08-15 07:49:29+00                 851   \n",
       "26             26        90  2013-08-15 08:04:56+00                 851   \n",
       "27             27        56  2013-08-15 08:19:52+00                 851   \n",
       "28             28        66  2013-08-15 08:34:47+00                 851   \n",
       "29             29        17  2013-08-15 08:49:51+00                 851   \n",
       "...           ...       ...                     ...                 ...   \n",
       "61890       61890       -14  2014-04-30 13:55:30+00                 833   \n",
       "61891       61891         7  2014-04-30 14:26:08+00                 833   \n",
       "61892       61892         2  2014-04-30 14:41:56+00                 833   \n",
       "61893       61893         4  2014-04-30 15:12:33+00                 833   \n",
       "61894       61894         6  2014-04-30 15:43:02+00                 833   \n",
       "61895       61895         7  2014-04-30 16:13:16+00                 833   \n",
       "61896       61896         4  2014-04-30 16:28:04+00                 833   \n",
       "61897       61897        15  2014-04-30 16:43:05+00                 833   \n",
       "61898       61898        19  2014-04-30 16:58:01+00                 833   \n",
       "61899       61899         2  2014-04-30 17:28:02+00                 833   \n",
       "61900       61900         5  2014-04-30 17:43:39+00                 833   \n",
       "61901       61901         7  2014-04-30 17:58:29+00                 833   \n",
       "61902       61902         5  2014-04-30 18:15:05+00                 833   \n",
       "61903       61903        25  2014-04-30 18:29:57+00                 833   \n",
       "61904       61904         5  2014-04-30 18:44:53+00                 833   \n",
       "61905       61905         5  2014-04-30 18:59:49+00                 833   \n",
       "61906       61906        18  2014-04-30 19:14:51+00                 833   \n",
       "61907       61907        18  2014-04-30 19:29:44+00                 833   \n",
       "61908       61908       110  2014-04-30 19:44:38+00                 833   \n",
       "61909       61909        55  2014-04-30 19:59:35+00                 833   \n",
       "61910       61910      -158  2014-04-30 20:14:32+00                 833   \n",
       "61911       61911         8  2014-04-30 20:29:56+00                 833   \n",
       "61912       61912        40  2014-04-30 20:44:56+00                 833   \n",
       "61913       61913         4  2014-04-30 20:59:52+00                 833   \n",
       "61914       61914       -10  2014-04-30 21:29:45+00                 833   \n",
       "61915       61915        11  2014-04-30 22:00:08+00                 833   \n",
       "61916       61916         6  2014-04-30 22:29:57+00                 833   \n",
       "61917       61917         5  2014-04-30 22:59:52+00                 833   \n",
       "61918       61918        16  2014-04-30 23:29:43+00                 833   \n",
       "61919       61919         9  2014-04-30 23:59:34+00                 833   \n",
       "\n",
       "        direction   latitude  longitude   speed_2d bird_name  \n",
       "0     -150.469753  49.419860   2.120733   0.150000      Eric  \n",
       "1     -136.151141  49.419880   2.120746   2.438360      Eric  \n",
       "2      160.797477  49.420310   2.120885   0.596657      Eric  \n",
       "3       32.769360  49.420359   2.120859   0.310161      Eric  \n",
       "4       45.191230  49.420331   2.120887   0.193132      Eric  \n",
       "5      -46.344478  49.420375   2.120840   2.904772      Eric  \n",
       "6      -56.369922  49.420352   2.120901   3.080584      Eric  \n",
       "7      -79.170227  49.420342   2.120809   2.199659      Eric  \n",
       "8      -57.682428  49.420319   2.120860   2.640076      Eric  \n",
       "9      119.604739  49.420287   2.121301   4.592211      Eric  \n",
       "10    -119.371360  49.420335   2.120850   0.230217      Eric  \n",
       "11    -130.033119  49.420857   2.121236   0.622415      Eric  \n",
       "12    -110.181448  49.420955   2.121362   1.897630      Eric  \n",
       "13    -105.550373  49.425733   2.152945   1.275343      Eric  \n",
       "14     -50.479822  49.425776   2.152989   1.634656      Eric  \n",
       "15     -75.137715  49.425749   2.153052   0.152315      Eric  \n",
       "16     132.097286  49.425742   2.153097   1.188486      Eric  \n",
       "17     -69.259095  49.425790   2.152993   1.006479      Eric  \n",
       "18      -7.478073  49.425818   2.153009   1.438506      Eric  \n",
       "19      71.026504  49.429422   2.162817   8.901079      Eric  \n",
       "20     156.082032  49.436667   2.193876   0.850059      Eric  \n",
       "21    -169.160500  49.436755   2.194880   0.022361      Eric  \n",
       "22    -141.851516  49.436714   2.194862   1.016710      Eric  \n",
       "23     -78.420344  49.436762   2.194836   3.209143      Eric  \n",
       "24    -154.117730  49.436705   2.194866   0.598164      Eric  \n",
       "25     111.239897  49.434398   2.234223  10.061138      Eric  \n",
       "26     177.889054  49.389027   2.247980   0.070711      Eric  \n",
       "27     179.614500  49.379882   2.224581   8.781031      Eric  \n",
       "28       9.674339  49.386906   2.252524   0.775242      Eric  \n",
       "29    -168.589728  49.387987   2.252950   1.538831      Eric  \n",
       "...           ...        ...        ...        ...       ...  \n",
       "61890  -10.336183  51.343772   3.183033   7.601401     Sanne  \n",
       "61891  119.136447  51.343873   3.183030   0.296985     Sanne  \n",
       "61892  166.332598  51.342312   3.178759   0.308869     Sanne  \n",
       "61893 -110.191511  51.342312   3.178689   0.350000     Sanne  \n",
       "61894  144.477706  51.343801   3.182933   0.050000     Sanne  \n",
       "61895   35.279073  51.344005   3.183084   4.059384     Sanne  \n",
       "61896   17.198506  51.343835   3.182812   0.060828     Sanne  \n",
       "61897   42.518147  51.343868   3.182818   1.240363     Sanne  \n",
       "61898   48.589419  51.343814   3.182877   1.336899     Sanne  \n",
       "61899  -33.801801  51.344039   3.182569   0.422019     Sanne  \n",
       "61900   13.243508  51.343973   3.182583   0.442832     Sanne  \n",
       "61901   97.421295  51.343910   3.182905   2.173315     Sanne  \n",
       "61902 -117.233036  51.343917   3.182878   0.220227     Sanne  \n",
       "61903   47.172794  51.344623   3.185341   6.186049     Sanne  \n",
       "61904   -1.308411  51.345220   3.187298   0.792275     Sanne  \n",
       "61905   26.097018  51.345219   3.187276   0.101980     Sanne  \n",
       "61906   -7.849275  51.346146   3.187874   1.017104     Sanne  \n",
       "61907  -80.511599  51.345710   3.186945   1.181524     Sanne  \n",
       "61908   10.097225  51.346572   3.186884   0.903549     Sanne  \n",
       "61909  120.336748  51.346780   3.187102   1.246315     Sanne  \n",
       "61910  -57.479803  51.353159   3.176386   3.403836     Sanne  \n",
       "61911   17.675638  51.352518   3.177163   0.419762     Sanne  \n",
       "61912  102.044737  51.352512   3.177327   9.026300     Sanne  \n",
       "61913   23.649017  51.352580   3.177224   1.478005     Sanne  \n",
       "61914  -10.057916  51.352661   3.177122   5.531148     Sanne  \n",
       "61915   45.448157  51.352572   3.177151   0.208087     Sanne  \n",
       "61916 -112.073055  51.352585   3.177144   1.522662     Sanne  \n",
       "61917   69.989037  51.352622   3.177257   3.120545     Sanne  \n",
       "61918   88.376373  51.354641   3.181509   0.592115     Sanne  \n",
       "61919  149.949008  51.354474   3.181057   0.485489     Sanne  \n",
       "\n",
       "[61920 rows x 9 columns]>"
      ]
     },
     "execution_count": 5,
     "metadata": {},
     "output_type": "execute_result"
    }
   ],
   "source": [
    "birddata.info"
   ]
  },
  {
   "cell_type": "code",
   "execution_count": 6,
   "metadata": {},
   "outputs": [
    {
     "data": {
      "text/html": [
       "<div>\n",
       "<style scoped>\n",
       "    .dataframe tbody tr th:only-of-type {\n",
       "        vertical-align: middle;\n",
       "    }\n",
       "\n",
       "    .dataframe tbody tr th {\n",
       "        vertical-align: top;\n",
       "    }\n",
       "\n",
       "    .dataframe thead th {\n",
       "        text-align: right;\n",
       "    }\n",
       "</style>\n",
       "<table border=\"1\" class=\"dataframe\">\n",
       "  <thead>\n",
       "    <tr style=\"text-align: right;\">\n",
       "      <th></th>\n",
       "      <th>Unnamed: 0</th>\n",
       "      <th>altitude</th>\n",
       "      <th>date_time</th>\n",
       "      <th>device_info_serial</th>\n",
       "      <th>direction</th>\n",
       "      <th>latitude</th>\n",
       "      <th>longitude</th>\n",
       "      <th>speed_2d</th>\n",
       "      <th>bird_name</th>\n",
       "    </tr>\n",
       "  </thead>\n",
       "  <tbody>\n",
       "    <tr>\n",
       "      <th>0</th>\n",
       "      <td>0</td>\n",
       "      <td>71</td>\n",
       "      <td>2013-08-15 00:18:08+00</td>\n",
       "      <td>851</td>\n",
       "      <td>-150.469753</td>\n",
       "      <td>49.419860</td>\n",
       "      <td>2.120733</td>\n",
       "      <td>0.150000</td>\n",
       "      <td>Eric</td>\n",
       "    </tr>\n",
       "    <tr>\n",
       "      <th>1</th>\n",
       "      <td>1</td>\n",
       "      <td>68</td>\n",
       "      <td>2013-08-15 00:48:07+00</td>\n",
       "      <td>851</td>\n",
       "      <td>-136.151141</td>\n",
       "      <td>49.419880</td>\n",
       "      <td>2.120746</td>\n",
       "      <td>2.438360</td>\n",
       "      <td>Eric</td>\n",
       "    </tr>\n",
       "    <tr>\n",
       "      <th>2</th>\n",
       "      <td>2</td>\n",
       "      <td>68</td>\n",
       "      <td>2013-08-15 01:17:58+00</td>\n",
       "      <td>851</td>\n",
       "      <td>160.797477</td>\n",
       "      <td>49.420310</td>\n",
       "      <td>2.120885</td>\n",
       "      <td>0.596657</td>\n",
       "      <td>Eric</td>\n",
       "    </tr>\n",
       "    <tr>\n",
       "      <th>3</th>\n",
       "      <td>3</td>\n",
       "      <td>73</td>\n",
       "      <td>2013-08-15 01:47:51+00</td>\n",
       "      <td>851</td>\n",
       "      <td>32.769360</td>\n",
       "      <td>49.420359</td>\n",
       "      <td>2.120859</td>\n",
       "      <td>0.310161</td>\n",
       "      <td>Eric</td>\n",
       "    </tr>\n",
       "    <tr>\n",
       "      <th>4</th>\n",
       "      <td>4</td>\n",
       "      <td>69</td>\n",
       "      <td>2013-08-15 02:17:42+00</td>\n",
       "      <td>851</td>\n",
       "      <td>45.191230</td>\n",
       "      <td>49.420331</td>\n",
       "      <td>2.120887</td>\n",
       "      <td>0.193132</td>\n",
       "      <td>Eric</td>\n",
       "    </tr>\n",
       "  </tbody>\n",
       "</table>\n",
       "</div>"
      ],
      "text/plain": [
       "   Unnamed: 0  altitude               date_time  device_info_serial  \\\n",
       "0           0        71  2013-08-15 00:18:08+00                 851   \n",
       "1           1        68  2013-08-15 00:48:07+00                 851   \n",
       "2           2        68  2013-08-15 01:17:58+00                 851   \n",
       "3           3        73  2013-08-15 01:47:51+00                 851   \n",
       "4           4        69  2013-08-15 02:17:42+00                 851   \n",
       "\n",
       "    direction   latitude  longitude  speed_2d bird_name  \n",
       "0 -150.469753  49.419860   2.120733  0.150000      Eric  \n",
       "1 -136.151141  49.419880   2.120746  2.438360      Eric  \n",
       "2  160.797477  49.420310   2.120885  0.596657      Eric  \n",
       "3   32.769360  49.420359   2.120859  0.310161      Eric  \n",
       "4   45.191230  49.420331   2.120887  0.193132      Eric  "
      ]
     },
     "execution_count": 6,
     "metadata": {},
     "output_type": "execute_result"
    }
   ],
   "source": [
    "birddata.head()"
   ]
  },
  {
   "cell_type": "code",
   "execution_count": null,
   "metadata": {},
   "outputs": [],
   "source": []
  },
  {
   "cell_type": "markdown",
   "metadata": {},
   "source": [
    "4.2.2. Simple data Visualizations"
   ]
  },
  {
   "cell_type": "code",
   "execution_count": 14,
   "metadata": {},
   "outputs": [],
   "source": [
    "import matplotlib.pyplot as plt\n",
    "import numpy as np"
   ]
  },
  {
   "cell_type": "code",
   "execution_count": 15,
   "metadata": {},
   "outputs": [],
   "source": [
    "ix = birddata.bird_name == 'Eric'"
   ]
  },
  {
   "cell_type": "code",
   "execution_count": 16,
   "metadata": {},
   "outputs": [],
   "source": [
    "x,y = birddata.longitude[ix],birddata.latitude[ix]"
   ]
  },
  {
   "cell_type": "code",
   "execution_count": 17,
   "metadata": {},
   "outputs": [
    {
     "data": {
      "text/plain": [
       "<matplotlib.figure.Figure at 0x9851f28>"
      ]
     },
     "execution_count": 17,
     "metadata": {},
     "output_type": "execute_result"
    },
    {
     "data": {
      "text/plain": [
       "<matplotlib.figure.Figure at 0x9851f28>"
      ]
     },
     "metadata": {},
     "output_type": "display_data"
    }
   ],
   "source": [
    "plt.figure(figsize=(7,7))"
   ]
  },
  {
   "cell_type": "code",
   "execution_count": 28,
   "metadata": {},
   "outputs": [
    {
     "data": {
      "image/png": "[encoded data removed]",
      "text/plain": [
       "<matplotlib.figure.Figure at 0xb0e1438>"
      ]
     },
     "metadata": {},
     "output_type": "display_data"
    }
   ],
   "source": [
    "plt.plot(x,y,\".\")\n",
    "plt.savefig(\"Trajectory_Eric.pdf\")"
   ]
  },
  {
   "cell_type": "code",
   "execution_count": null,
   "metadata": {},
   "outputs": [],
   "source": []
  },
  {
   "cell_type": "code",
   "execution_count": 29,
   "metadata": {},
   "outputs": [
    {
     "data": {
      "text/plain": [
       "array(['Eric', 'Nico', 'Sanne'], dtype=object)"
      ]
     },
     "execution_count": 29,
     "metadata": {},
     "output_type": "execute_result"
    }
   ],
   "source": [
    "bird_names = pd.unique(birddata.bird_name)\n",
    "bird_names"
   ]
  },
  {
   "cell_type": "code",
   "execution_count": 32,
   "metadata": {},
   "outputs": [
    {
     "data": {
      "image/png": "[encoded data removed]",
      "text/plain": [
       "<matplotlib.figure.Figure at 0xb363a90>"
      ]
     },
     "metadata": {},
     "output_type": "display_data"
    }
   ],
   "source": [
    "plt.figure(figsize=(7,7))\n",
    "for bird_name in bird_names:\n",
    "    ix = birddata.bird_name == bird_name\n",
    "    x,y = birddata.longitude[ix],birddata.latitude[ix]\n",
    "    plt.plot(x,y,\".\", label=bird_name)\n",
    "\n",
    "plt.xlabel(\"Longitude\")\n",
    "plt.ylabel(\"Latitude\")\n",
    "plt.legend(loc=\"lower right\")\n",
    "plt.savefig(\"Trajectory_Birds.pdf\")"
   ]
  },
  {
   "cell_type": "code",
   "execution_count": null,
   "metadata": {},
   "outputs": [],
   "source": []
  },
  {
   "cell_type": "markdown",
   "metadata": {},
   "source": [
    "4.2.3. Examining Flight Speed"
   ]
  },
  {
   "cell_type": "code",
   "execution_count": 33,
   "metadata": {},
   "outputs": [],
   "source": [
    "ix = birddata.bird_name == 'Eric'"
   ]
  },
  {
   "cell_type": "code",
   "execution_count": 34,
   "metadata": {},
   "outputs": [],
   "source": [
    "speed = birddata.speed_2d[ix]"
   ]
  },
  {
   "cell_type": "code",
   "execution_count": 35,
   "metadata": {},
   "outputs": [
    {
     "ename": "ValueError",
     "evalue": "max must be larger than min in range parameter.",
     "output_type": "error",
     "traceback": [
      "\u001b[1;31m---------------------------------------------------------------------------\u001b[0m",
      "\u001b[1;31mValueError\u001b[0m                                Traceback (most recent call last)",
      "\u001b[1;32m<ipython-input-35-5148c32c13be>\u001b[0m in \u001b[0;36m<module>\u001b[1;34m()\u001b[0m\n\u001b[1;32m----> 1\u001b[1;33m \u001b[0mplt\u001b[0m\u001b[1;33m.\u001b[0m\u001b[0mhist\u001b[0m\u001b[1;33m(\u001b[0m\u001b[0mspeed\u001b[0m\u001b[1;33m)\u001b[0m\u001b[1;33m\u001b[0m\u001b[0m\n\u001b[0m",
      "\u001b[1;32m~\\Anaconda3\\lib\\site-packages\\matplotlib\\pyplot.py\u001b[0m in \u001b[0;36mhist\u001b[1;34m(x, bins, range, density, weights, cumulative, bottom, histtype, align, orientation, rwidth, log, color, label, stacked, normed, hold, data, **kwargs)\u001b[0m\n\u001b[0;32m   3023\u001b[0m                       \u001b[0mhisttype\u001b[0m\u001b[1;33m=\u001b[0m\u001b[0mhisttype\u001b[0m\u001b[1;33m,\u001b[0m \u001b[0malign\u001b[0m\u001b[1;33m=\u001b[0m\u001b[0malign\u001b[0m\u001b[1;33m,\u001b[0m \u001b[0morientation\u001b[0m\u001b[1;33m=\u001b[0m\u001b[0morientation\u001b[0m\u001b[1;33m,\u001b[0m\u001b[1;33m\u001b[0m\u001b[0m\n\u001b[0;32m   3024\u001b[0m                       \u001b[0mrwidth\u001b[0m\u001b[1;33m=\u001b[0m\u001b[0mrwidth\u001b[0m\u001b[1;33m,\u001b[0m \u001b[0mlog\u001b[0m\u001b[1;33m=\u001b[0m\u001b[0mlog\u001b[0m\u001b[1;33m,\u001b[0m \u001b[0mcolor\u001b[0m\u001b[1;33m=\u001b[0m\u001b[0mcolor\u001b[0m\u001b[1;33m,\u001b[0m \u001b[0mlabel\u001b[0m\u001b[1;33m=\u001b[0m\u001b[0mlabel\u001b[0m\u001b[1;33m,\u001b[0m\u001b[1;33m\u001b[0m\u001b[0m\n\u001b[1;32m-> 3025\u001b[1;33m                       stacked=stacked, normed=normed, data=data, **kwargs)\n\u001b[0m\u001b[0;32m   3026\u001b[0m     \u001b[1;32mfinally\u001b[0m\u001b[1;33m:\u001b[0m\u001b[1;33m\u001b[0m\u001b[0m\n\u001b[0;32m   3027\u001b[0m         \u001b[0max\u001b[0m\u001b[1;33m.\u001b[0m\u001b[0m_hold\u001b[0m \u001b[1;33m=\u001b[0m \u001b[0mwashold\u001b[0m\u001b[1;33m\u001b[0m\u001b[0m\n",
      "\u001b[1;32m~\\Anaconda3\\lib\\site-packages\\matplotlib\\__init__.py\u001b[0m in \u001b[0;36minner\u001b[1;34m(ax, *args, **kwargs)\u001b[0m\n\u001b[0;32m   1715\u001b[0m                     warnings.warn(msg % (label_namer, func.__name__),\n\u001b[0;32m   1716\u001b[0m                                   RuntimeWarning, stacklevel=2)\n\u001b[1;32m-> 1717\u001b[1;33m             \u001b[1;32mreturn\u001b[0m \u001b[0mfunc\u001b[0m\u001b[1;33m(\u001b[0m\u001b[0max\u001b[0m\u001b[1;33m,\u001b[0m \u001b[1;33m*\u001b[0m\u001b[0margs\u001b[0m\u001b[1;33m,\u001b[0m \u001b[1;33m**\u001b[0m\u001b[0mkwargs\u001b[0m\u001b[1;33m)\u001b[0m\u001b[1;33m\u001b[0m\u001b[0m\n\u001b[0m\u001b[0;32m   1718\u001b[0m         \u001b[0mpre_doc\u001b[0m \u001b[1;33m=\u001b[0m \u001b[0minner\u001b[0m\u001b[1;33m.\u001b[0m\u001b[0m__doc__\u001b[0m\u001b[1;33m\u001b[0m\u001b[0m\n\u001b[0;32m   1719\u001b[0m         \u001b[1;32mif\u001b[0m \u001b[0mpre_doc\u001b[0m \u001b[1;32mis\u001b[0m \u001b[1;32mNone\u001b[0m\u001b[1;33m:\u001b[0m\u001b[1;33m\u001b[0m\u001b[0m\n",
      "\u001b[1;32m~\\Anaconda3\\lib\\site-packages\\matplotlib\\axes\\_axes.py\u001b[0m in \u001b[0;36mhist\u001b[1;34m(***failed resolving arguments***)\u001b[0m\n\u001b[0;32m   6163\u001b[0m             \u001b[1;31m# this will automatically overwrite bins,\u001b[0m\u001b[1;33m\u001b[0m\u001b[1;33m\u001b[0m\u001b[0m\n\u001b[0;32m   6164\u001b[0m             \u001b[1;31m# so that each histogram uses the same bins\u001b[0m\u001b[1;33m\u001b[0m\u001b[1;33m\u001b[0m\u001b[0m\n\u001b[1;32m-> 6165\u001b[1;33m             \u001b[0mm\u001b[0m\u001b[1;33m,\u001b[0m \u001b[0mbins\u001b[0m \u001b[1;33m=\u001b[0m \u001b[0mnp\u001b[0m\u001b[1;33m.\u001b[0m\u001b[0mhistogram\u001b[0m\u001b[1;33m(\u001b[0m\u001b[0mx\u001b[0m\u001b[1;33m[\u001b[0m\u001b[0mi\u001b[0m\u001b[1;33m]\u001b[0m\u001b[1;33m,\u001b[0m \u001b[0mbins\u001b[0m\u001b[1;33m,\u001b[0m \u001b[0mweights\u001b[0m\u001b[1;33m=\u001b[0m\u001b[0mw\u001b[0m\u001b[1;33m[\u001b[0m\u001b[0mi\u001b[0m\u001b[1;33m]\u001b[0m\u001b[1;33m,\u001b[0m \u001b[1;33m**\u001b[0m\u001b[0mhist_kwargs\u001b[0m\u001b[1;33m)\u001b[0m\u001b[1;33m\u001b[0m\u001b[0m\n\u001b[0m\u001b[0;32m   6166\u001b[0m             \u001b[0mm\u001b[0m \u001b[1;33m=\u001b[0m \u001b[0mm\u001b[0m\u001b[1;33m.\u001b[0m\u001b[0mastype\u001b[0m\u001b[1;33m(\u001b[0m\u001b[0mfloat\u001b[0m\u001b[1;33m)\u001b[0m  \u001b[1;31m# causes problems later if it's an int\u001b[0m\u001b[1;33m\u001b[0m\u001b[0m\n\u001b[0;32m   6167\u001b[0m             \u001b[1;32mif\u001b[0m \u001b[0mmlast\u001b[0m \u001b[1;32mis\u001b[0m \u001b[1;32mNone\u001b[0m\u001b[1;33m:\u001b[0m\u001b[1;33m\u001b[0m\u001b[0m\n",
      "\u001b[1;32m<__array_function__ internals>\u001b[0m in \u001b[0;36mhistogram\u001b[1;34m(*args, **kwargs)\u001b[0m\n",
      "\u001b[1;32m~\\Anaconda3\\lib\\site-packages\\numpy\\lib\\histograms.py\u001b[0m in \u001b[0;36mhistogram\u001b[1;34m(a, bins, range, normed, weights, density)\u001b[0m\n\u001b[0;32m    793\u001b[0m     \u001b[0ma\u001b[0m\u001b[1;33m,\u001b[0m \u001b[0mweights\u001b[0m \u001b[1;33m=\u001b[0m \u001b[0m_ravel_and_check_weights\u001b[0m\u001b[1;33m(\u001b[0m\u001b[0ma\u001b[0m\u001b[1;33m,\u001b[0m \u001b[0mweights\u001b[0m\u001b[1;33m)\u001b[0m\u001b[1;33m\u001b[0m\u001b[0m\n\u001b[0;32m    794\u001b[0m \u001b[1;33m\u001b[0m\u001b[0m\n\u001b[1;32m--> 795\u001b[1;33m     \u001b[0mbin_edges\u001b[0m\u001b[1;33m,\u001b[0m \u001b[0muniform_bins\u001b[0m \u001b[1;33m=\u001b[0m \u001b[0m_get_bin_edges\u001b[0m\u001b[1;33m(\u001b[0m\u001b[0ma\u001b[0m\u001b[1;33m,\u001b[0m \u001b[0mbins\u001b[0m\u001b[1;33m,\u001b[0m \u001b[0mrange\u001b[0m\u001b[1;33m,\u001b[0m \u001b[0mweights\u001b[0m\u001b[1;33m)\u001b[0m\u001b[1;33m\u001b[0m\u001b[0m\n\u001b[0m\u001b[0;32m    796\u001b[0m \u001b[1;33m\u001b[0m\u001b[0m\n\u001b[0;32m    797\u001b[0m     \u001b[1;31m# Histogram is an integer or a float array depending on the weights.\u001b[0m\u001b[1;33m\u001b[0m\u001b[1;33m\u001b[0m\u001b[0m\n",
      "\u001b[1;32m~\\Anaconda3\\lib\\site-packages\\numpy\\lib\\histograms.py\u001b[0m in \u001b[0;36m_get_bin_edges\u001b[1;34m(a, bins, range, weights)\u001b[0m\n\u001b[0;32m    427\u001b[0m             \u001b[1;32mraise\u001b[0m \u001b[0mValueError\u001b[0m\u001b[1;33m(\u001b[0m\u001b[1;34m'`bins` must be positive, when an integer'\u001b[0m\u001b[1;33m)\u001b[0m\u001b[1;33m\u001b[0m\u001b[0m\n\u001b[0;32m    428\u001b[0m \u001b[1;33m\u001b[0m\u001b[0m\n\u001b[1;32m--> 429\u001b[1;33m         \u001b[0mfirst_edge\u001b[0m\u001b[1;33m,\u001b[0m \u001b[0mlast_edge\u001b[0m \u001b[1;33m=\u001b[0m \u001b[0m_get_outer_edges\u001b[0m\u001b[1;33m(\u001b[0m\u001b[0ma\u001b[0m\u001b[1;33m,\u001b[0m \u001b[0mrange\u001b[0m\u001b[1;33m)\u001b[0m\u001b[1;33m\u001b[0m\u001b[0m\n\u001b[0m\u001b[0;32m    430\u001b[0m \u001b[1;33m\u001b[0m\u001b[0m\n\u001b[0;32m    431\u001b[0m     \u001b[1;32melif\u001b[0m \u001b[0mnp\u001b[0m\u001b[1;33m.\u001b[0m\u001b[0mndim\u001b[0m\u001b[1;33m(\u001b[0m\u001b[0mbins\u001b[0m\u001b[1;33m)\u001b[0m \u001b[1;33m==\u001b[0m \u001b[1;36m1\u001b[0m\u001b[1;33m:\u001b[0m\u001b[1;33m\u001b[0m\u001b[0m\n",
      "\u001b[1;32m~\\Anaconda3\\lib\\site-packages\\numpy\\lib\\histograms.py\u001b[0m in \u001b[0;36m_get_outer_edges\u001b[1;34m(a, range)\u001b[0m\n\u001b[0;32m    314\u001b[0m         \u001b[1;32mif\u001b[0m \u001b[0mfirst_edge\u001b[0m \u001b[1;33m>\u001b[0m \u001b[0mlast_edge\u001b[0m\u001b[1;33m:\u001b[0m\u001b[1;33m\u001b[0m\u001b[0m\n\u001b[0;32m    315\u001b[0m             raise ValueError(\n\u001b[1;32m--> 316\u001b[1;33m                 'max must be larger than min in range parameter.')\n\u001b[0m\u001b[0;32m    317\u001b[0m         \u001b[1;32mif\u001b[0m \u001b[1;32mnot\u001b[0m \u001b[1;33m(\u001b[0m\u001b[0mnp\u001b[0m\u001b[1;33m.\u001b[0m\u001b[0misfinite\u001b[0m\u001b[1;33m(\u001b[0m\u001b[0mfirst_edge\u001b[0m\u001b[1;33m)\u001b[0m \u001b[1;32mand\u001b[0m \u001b[0mnp\u001b[0m\u001b[1;33m.\u001b[0m\u001b[0misfinite\u001b[0m\u001b[1;33m(\u001b[0m\u001b[0mlast_edge\u001b[0m\u001b[1;33m)\u001b[0m\u001b[1;33m)\u001b[0m\u001b[1;33m:\u001b[0m\u001b[1;33m\u001b[0m\u001b[0m\n\u001b[0;32m    318\u001b[0m             raise ValueError(\n",
      "\u001b[1;31mValueError\u001b[0m: max must be larger than min in range parameter."
     ]
    },
    {
     "data": {
      "image/png": "[encoded data removed]",
      "text/plain": [
       "<matplotlib.figure.Figure at 0xb23ecf8>"
      ]
     },
     "metadata": {},
     "output_type": "display_data"
    }
   ],
   "source": [
    "plt.hist(speed)"
   ]
  },
  {
   "cell_type": "code",
   "execution_count": 36,
   "metadata": {},
   "outputs": [
    {
     "data": {
      "text/plain": [
       "0    0.150000\n",
       "1    2.438360\n",
       "2    0.596657\n",
       "3    0.310161\n",
       "4    0.193132\n",
       "5    2.904772\n",
       "6    3.080584\n",
       "7    2.199659\n",
       "8    2.640076\n",
       "9    4.592211\n",
       "Name: speed_2d, dtype: float64"
      ]
     },
     "execution_count": 36,
     "metadata": {},
     "output_type": "execute_result"
    }
   ],
   "source": [
    "speed[:10]"
   ]
  },
  {
   "cell_type": "code",
   "execution_count": 37,
   "metadata": {},
   "outputs": [
    {
     "data": {
      "text/plain": [
       "(array([3., 1., 0., 0., 1., 2., 2., 0., 0., 1.]),\n",
       " array([0.15      , 0.59422108, 1.03844216, 1.48266324, 1.92688432,\n",
       "        2.3711054 , 2.81532648, 3.25954756, 3.70376864, 4.14798972,\n",
       "        4.5922108 ]),\n",
       " <a list of 10 Patch objects>)"
      ]
     },
     "execution_count": 37,
     "metadata": {},
     "output_type": "execute_result"
    },
    {
     "data": {
      "image/png": "[encoded data removed]",
      "text/plain": [
       "<matplotlib.figure.Figure at 0xb64c630>"
      ]
     },
     "metadata": {},
     "output_type": "display_data"
    }
   ],
   "source": [
    "plt.hist(speed[:10])"
   ]
  },
  {
   "cell_type": "code",
   "execution_count": 38,
   "metadata": {},
   "outputs": [
    {
     "data": {
      "text/plain": [
       "0        False\n",
       "1        False\n",
       "2        False\n",
       "3        False\n",
       "4        False\n",
       "5        False\n",
       "6        False\n",
       "7        False\n",
       "8        False\n",
       "9        False\n",
       "10       False\n",
       "11       False\n",
       "12       False\n",
       "13       False\n",
       "14       False\n",
       "15       False\n",
       "16       False\n",
       "17       False\n",
       "18       False\n",
       "19       False\n",
       "20       False\n",
       "21       False\n",
       "22       False\n",
       "23       False\n",
       "24       False\n",
       "25       False\n",
       "26       False\n",
       "27       False\n",
       "28       False\n",
       "29       False\n",
       "         ...  \n",
       "19765    False\n",
       "19766    False\n",
       "19767    False\n",
       "19768    False\n",
       "19769    False\n",
       "19770    False\n",
       "19771     True\n",
       "19772    False\n",
       "19773    False\n",
       "19774    False\n",
       "19775    False\n",
       "19776    False\n",
       "19777    False\n",
       "19778     True\n",
       "19779    False\n",
       "19780    False\n",
       "19781    False\n",
       "19782    False\n",
       "19783    False\n",
       "19784    False\n",
       "19785    False\n",
       "19786    False\n",
       "19787    False\n",
       "19788    False\n",
       "19789    False\n",
       "19790    False\n",
       "19791    False\n",
       "19792    False\n",
       "19793    False\n",
       "19794    False\n",
       "Name: speed_2d, Length: 19795, dtype: bool"
      ]
     },
     "execution_count": 38,
     "metadata": {},
     "output_type": "execute_result"
    }
   ],
   "source": [
    "np.isnan(speed)"
   ]
  },
  {
   "cell_type": "code",
   "execution_count": 39,
   "metadata": {},
   "outputs": [
    {
     "data": {
      "text/plain": [
       "True"
      ]
     },
     "execution_count": 39,
     "metadata": {},
     "output_type": "execute_result"
    }
   ],
   "source": [
    "np.isnan(speed).any()"
   ]
  },
  {
   "cell_type": "code",
   "execution_count": 40,
   "metadata": {},
   "outputs": [
    {
     "data": {
      "text/plain": [
       "85"
      ]
     },
     "execution_count": 40,
     "metadata": {},
     "output_type": "execute_result"
    }
   ],
   "source": [
    "np.sum(np.isnan(speed)) #true=1, false=0 #here 85 non numeric entries"
   ]
  },
  {
   "cell_type": "code",
   "execution_count": 41,
   "metadata": {},
   "outputs": [
    {
     "data": {
      "text/plain": [
       "0        False\n",
       "1        False\n",
       "2        False\n",
       "3        False\n",
       "4        False\n",
       "5        False\n",
       "6        False\n",
       "7        False\n",
       "8        False\n",
       "9        False\n",
       "10       False\n",
       "11       False\n",
       "12       False\n",
       "13       False\n",
       "14       False\n",
       "15       False\n",
       "16       False\n",
       "17       False\n",
       "18       False\n",
       "19       False\n",
       "20       False\n",
       "21       False\n",
       "22       False\n",
       "23       False\n",
       "24       False\n",
       "25       False\n",
       "26       False\n",
       "27       False\n",
       "28       False\n",
       "29       False\n",
       "         ...  \n",
       "19765    False\n",
       "19766    False\n",
       "19767    False\n",
       "19768    False\n",
       "19769    False\n",
       "19770    False\n",
       "19771     True\n",
       "19772    False\n",
       "19773    False\n",
       "19774    False\n",
       "19775    False\n",
       "19776    False\n",
       "19777    False\n",
       "19778     True\n",
       "19779    False\n",
       "19780    False\n",
       "19781    False\n",
       "19782    False\n",
       "19783    False\n",
       "19784    False\n",
       "19785    False\n",
       "19786    False\n",
       "19787    False\n",
       "19788    False\n",
       "19789    False\n",
       "19790    False\n",
       "19791    False\n",
       "19792    False\n",
       "19793    False\n",
       "19794    False\n",
       "Name: speed_2d, Length: 19795, dtype: bool"
      ]
     },
     "execution_count": 41,
     "metadata": {},
     "output_type": "execute_result"
    }
   ],
   "source": [
    "ind = np.isnan(speed)\n",
    "ind"
   ]
  },
  {
   "cell_type": "code",
   "execution_count": 42,
   "metadata": {},
   "outputs": [
    {
     "data": {
      "text/plain": [
       "0         True\n",
       "1         True\n",
       "2         True\n",
       "3         True\n",
       "4         True\n",
       "5         True\n",
       "6         True\n",
       "7         True\n",
       "8         True\n",
       "9         True\n",
       "10        True\n",
       "11        True\n",
       "12        True\n",
       "13        True\n",
       "14        True\n",
       "15        True\n",
       "16        True\n",
       "17        True\n",
       "18        True\n",
       "19        True\n",
       "20        True\n",
       "21        True\n",
       "22        True\n",
       "23        True\n",
       "24        True\n",
       "25        True\n",
       "26        True\n",
       "27        True\n",
       "28        True\n",
       "29        True\n",
       "         ...  \n",
       "19765     True\n",
       "19766     True\n",
       "19767     True\n",
       "19768     True\n",
       "19769     True\n",
       "19770     True\n",
       "19771    False\n",
       "19772     True\n",
       "19773     True\n",
       "19774     True\n",
       "19775     True\n",
       "19776     True\n",
       "19777     True\n",
       "19778    False\n",
       "19779     True\n",
       "19780     True\n",
       "19781     True\n",
       "19782     True\n",
       "19783     True\n",
       "19784     True\n",
       "19785     True\n",
       "19786     True\n",
       "19787     True\n",
       "19788     True\n",
       "19789     True\n",
       "19790     True\n",
       "19791     True\n",
       "19792     True\n",
       "19793     True\n",
       "19794     True\n",
       "Name: speed_2d, Length: 19795, dtype: bool"
      ]
     },
     "execution_count": 42,
     "metadata": {},
     "output_type": "execute_result"
    }
   ],
   "source": [
    "#bitwise complement -  T to F, F to T\n",
    "~ind"
   ]
  },
  {
   "cell_type": "code",
   "execution_count": 44,
   "metadata": {},
   "outputs": [
    {
     "data": {
      "image/png": "[encoded data removed]",
      "text/plain": [
       "<matplotlib.figure.Figure at 0xb141160>"
      ]
     },
     "metadata": {},
     "output_type": "display_data"
    }
   ],
   "source": [
    "ix = birddata.bird_name == 'Eric'\n",
    "speed = birddata.speed_2d[ix]\n",
    "ind = np.isnan(speed)\n",
    "plt.hist(speed[~ind])\n",
    "plt.savefig(\"hist_speed_Eric.pdf\")"
   ]
  },
  {
   "cell_type": "code",
   "execution_count": 47,
   "metadata": {},
   "outputs": [
    {
     "data": {
      "text/plain": [
       "Text(29.375,0.5,'Frequency')"
      ]
     },
     "execution_count": 47,
     "metadata": {},
     "output_type": "execute_result"
    },
    {
     "data": {
      "image/png": "[encoded data removed]",
      "text/plain": [
       "<matplotlib.figure.Figure at 0xc680c18>"
      ]
     },
     "metadata": {},
     "output_type": "display_data"
    }
   ],
   "source": [
    "plt.figure(figsize = (8,4))\n",
    "speed = birddata.speed_2d[birddata.bird_name == 'Eric']\n",
    "ind = np.isnan(speed)\n",
    "plt.hist(speed[~ind])\n",
    "plt.savefig(\"hist_speed_Eric.pdf\", bins=np.linspace(0,30,20), normed = True)\n",
    "plt.xlabel(\"2D speed (m/s)\")\n",
    "plt.ylabel(\"Frequency\")"
   ]
  },
  {
   "cell_type": "code",
   "execution_count": 48,
   "metadata": {},
   "outputs": [
    {
     "data": {
      "image/png": "[encoded data removed]",
      "text/plain": [
       "<matplotlib.figure.Figure at 0xb581630>"
      ]
     },
     "metadata": {},
     "output_type": "display_data"
    }
   ],
   "source": [
    "birddata.speed_2d.plot(kind='hist', range=[0,30])\n",
    "plt.xlabel(\"2d Speed\")\n",
    "plt.savefig(\"pd_bird_hist.pdf\")\n",
    "#pandas deal nans implicitely "
   ]
  },
  {
   "cell_type": "code",
   "execution_count": null,
   "metadata": {},
   "outputs": [],
   "source": []
  },
  {
   "cell_type": "markdown",
   "metadata": {},
   "source": [
    "4.2.4. Using Datetime"
   ]
  },
  {
   "cell_type": "code",
   "execution_count": 49,
   "metadata": {},
   "outputs": [
    {
     "data": {
      "text/plain": [
       "Index(['Unnamed: 0', 'altitude', 'date_time', 'device_info_serial',\n",
       "       'direction', 'latitude', 'longitude', 'speed_2d', 'bird_name'],\n",
       "      dtype='object')"
      ]
     },
     "execution_count": 49,
     "metadata": {},
     "output_type": "execute_result"
    }
   ],
   "source": [
    "birddata.columns"
   ]
  },
  {
   "cell_type": "code",
   "execution_count": 50,
   "metadata": {},
   "outputs": [
    {
     "data": {
      "text/plain": [
       "0    2013-08-15 00:18:08+00\n",
       "1    2013-08-15 00:48:07+00\n",
       "2    2013-08-15 01:17:58+00\n",
       "Name: date_time, dtype: object"
      ]
     },
     "execution_count": 50,
     "metadata": {},
     "output_type": "execute_result"
    }
   ],
   "source": [
    "birddata.date_time[0:3]"
   ]
  },
  {
   "cell_type": "code",
   "execution_count": null,
   "metadata": {},
   "outputs": [],
   "source": []
  },
  {
   "cell_type": "code",
   "execution_count": 51,
   "metadata": {},
   "outputs": [],
   "source": [
    "import datetime"
   ]
  },
  {
   "cell_type": "code",
   "execution_count": 53,
   "metadata": {},
   "outputs": [
    {
     "data": {
      "text/plain": [
       "datetime.datetime(2020, 7, 4, 20, 35, 3, 898886)"
      ]
     },
     "execution_count": 53,
     "metadata": {},
     "output_type": "execute_result"
    }
   ],
   "source": [
    "datetime.datetime.today()"
   ]
  },
  {
   "cell_type": "code",
   "execution_count": 54,
   "metadata": {},
   "outputs": [],
   "source": [
    "time_1 = datetime.datetime.today()"
   ]
  },
  {
   "cell_type": "code",
   "execution_count": 55,
   "metadata": {},
   "outputs": [],
   "source": [
    "time_2 = datetime.datetime.today()"
   ]
  },
  {
   "cell_type": "code",
   "execution_count": 57,
   "metadata": {},
   "outputs": [
    {
     "data": {
      "text/plain": [
       "datetime.timedelta(0, 5, 470312)"
      ]
     },
     "execution_count": 57,
     "metadata": {},
     "output_type": "execute_result"
    }
   ],
   "source": [
    "time_2 - time_1"
   ]
  },
  {
   "cell_type": "code",
   "execution_count": 58,
   "metadata": {},
   "outputs": [],
   "source": [
    "time_2 = datetime.datetime.today()"
   ]
  },
  {
   "cell_type": "code",
   "execution_count": 59,
   "metadata": {},
   "outputs": [
    {
     "data": {
      "text/plain": [
       "datetime.timedelta(0, 26, 560519)"
      ]
     },
     "execution_count": 59,
     "metadata": {},
     "output_type": "execute_result"
    }
   ],
   "source": [
    "time_2 - time_1"
   ]
  },
  {
   "cell_type": "code",
   "execution_count": 60,
   "metadata": {},
   "outputs": [],
   "source": [
    "#compute how much time passed - convert timestamp from string to datetime object"
   ]
  },
  {
   "cell_type": "code",
   "execution_count": 62,
   "metadata": {},
   "outputs": [
    {
     "data": {
      "text/plain": [
       "str"
      ]
     },
     "execution_count": 62,
     "metadata": {},
     "output_type": "execute_result"
    }
   ],
   "source": [
    "date_str = birddata.date_time[0]\n",
    "type(date_str)"
   ]
  },
  {
   "cell_type": "code",
   "execution_count": 63,
   "metadata": {},
   "outputs": [
    {
     "data": {
      "text/plain": [
       "'2013-08-15 00:18:08+00'"
      ]
     },
     "execution_count": 63,
     "metadata": {},
     "output_type": "execute_result"
    }
   ],
   "source": [
    "date_str"
   ]
  },
  {
   "cell_type": "code",
   "execution_count": 64,
   "metadata": {},
   "outputs": [
    {
     "data": {
      "text/plain": [
       "'2013-08-15 00:18:08'"
      ]
     },
     "execution_count": 64,
     "metadata": {},
     "output_type": "execute_result"
    }
   ],
   "source": [
    "date_str[:-3] #offsets are hour difference which are always 0, So ignore"
   ]
  },
  {
   "cell_type": "code",
   "execution_count": 65,
   "metadata": {},
   "outputs": [
    {
     "data": {
      "text/plain": [
       "datetime.datetime(2013, 8, 15, 0, 18, 8)"
      ]
     },
     "execution_count": 65,
     "metadata": {},
     "output_type": "execute_result"
    }
   ],
   "source": [
    "datetime.datetime.strptime(date_str[:-3], \"%Y-%m-%d %H:%M:%S\") # string to datetime object"
   ]
  },
  {
   "cell_type": "code",
   "execution_count": null,
   "metadata": {},
   "outputs": [],
   "source": []
  },
  {
   "cell_type": "code",
   "execution_count": 66,
   "metadata": {},
   "outputs": [],
   "source": [
    "timestamps = []\n",
    "for k in range(len(birddata)):\n",
    "    timestamps.append(datetime.datetime.strptime(birddata.date_time.iloc[k][:-3], \"%Y-%m-%d %H:%M:%S\"))"
   ]
  },
  {
   "cell_type": "code",
   "execution_count": 68,
   "metadata": {},
   "outputs": [
    {
     "data": {
      "text/plain": [
       "[datetime.datetime(2013, 8, 15, 0, 18, 8),\n",
       " datetime.datetime(2013, 8, 15, 0, 48, 7),\n",
       " datetime.datetime(2013, 8, 15, 1, 17, 58)]"
      ]
     },
     "execution_count": 68,
     "metadata": {},
     "output_type": "execute_result"
    }
   ],
   "source": [
    "timestamps[0:3]"
   ]
  },
  {
   "cell_type": "code",
   "execution_count": null,
   "metadata": {},
   "outputs": [],
   "source": []
  },
  {
   "cell_type": "code",
   "execution_count": null,
   "metadata": {},
   "outputs": [],
   "source": [
    "birddata.head()"
   ]
  },
  {
   "cell_type": "code",
   "execution_count": 69,
   "metadata": {},
   "outputs": [],
   "source": [
    "#construct a pandas series object to insert timestamp from python list into object\n",
    "\n",
    "birddata['timestamp'] = pd.Series(timestamps, index = birddata.index) #specify index to match index of birddata"
   ]
  },
  {
   "cell_type": "code",
   "execution_count": 70,
   "metadata": {},
   "outputs": [
    {
     "data": {
      "text/html": [
       "<div>\n",
       "<style scoped>\n",
       "    .dataframe tbody tr th:only-of-type {\n",
       "        vertical-align: middle;\n",
       "    }\n",
       "\n",
       "    .dataframe tbody tr th {\n",
       "        vertical-align: top;\n",
       "    }\n",
       "\n",
       "    .dataframe thead th {\n",
       "        text-align: right;\n",
       "    }\n",
       "</style>\n",
       "<table border=\"1\" class=\"dataframe\">\n",
       "  <thead>\n",
       "    <tr style=\"text-align: right;\">\n",
       "      <th></th>\n",
       "      <th>Unnamed: 0</th>\n",
       "      <th>altitude</th>\n",
       "      <th>date_time</th>\n",
       "      <th>device_info_serial</th>\n",
       "      <th>direction</th>\n",
       "      <th>latitude</th>\n",
       "      <th>longitude</th>\n",
       "      <th>speed_2d</th>\n",
       "      <th>bird_name</th>\n",
       "      <th>timestamp</th>\n",
       "    </tr>\n",
       "  </thead>\n",
       "  <tbody>\n",
       "    <tr>\n",
       "      <th>0</th>\n",
       "      <td>0</td>\n",
       "      <td>71</td>\n",
       "      <td>2013-08-15 00:18:08+00</td>\n",
       "      <td>851</td>\n",
       "      <td>-150.469753</td>\n",
       "      <td>49.419860</td>\n",
       "      <td>2.120733</td>\n",
       "      <td>0.150000</td>\n",
       "      <td>Eric</td>\n",
       "      <td>2013-08-15 00:18:08</td>\n",
       "    </tr>\n",
       "    <tr>\n",
       "      <th>1</th>\n",
       "      <td>1</td>\n",
       "      <td>68</td>\n",
       "      <td>2013-08-15 00:48:07+00</td>\n",
       "      <td>851</td>\n",
       "      <td>-136.151141</td>\n",
       "      <td>49.419880</td>\n",
       "      <td>2.120746</td>\n",
       "      <td>2.438360</td>\n",
       "      <td>Eric</td>\n",
       "      <td>2013-08-15 00:48:07</td>\n",
       "    </tr>\n",
       "    <tr>\n",
       "      <th>2</th>\n",
       "      <td>2</td>\n",
       "      <td>68</td>\n",
       "      <td>2013-08-15 01:17:58+00</td>\n",
       "      <td>851</td>\n",
       "      <td>160.797477</td>\n",
       "      <td>49.420310</td>\n",
       "      <td>2.120885</td>\n",
       "      <td>0.596657</td>\n",
       "      <td>Eric</td>\n",
       "      <td>2013-08-15 01:17:58</td>\n",
       "    </tr>\n",
       "    <tr>\n",
       "      <th>3</th>\n",
       "      <td>3</td>\n",
       "      <td>73</td>\n",
       "      <td>2013-08-15 01:47:51+00</td>\n",
       "      <td>851</td>\n",
       "      <td>32.769360</td>\n",
       "      <td>49.420359</td>\n",
       "      <td>2.120859</td>\n",
       "      <td>0.310161</td>\n",
       "      <td>Eric</td>\n",
       "      <td>2013-08-15 01:47:51</td>\n",
       "    </tr>\n",
       "    <tr>\n",
       "      <th>4</th>\n",
       "      <td>4</td>\n",
       "      <td>69</td>\n",
       "      <td>2013-08-15 02:17:42+00</td>\n",
       "      <td>851</td>\n",
       "      <td>45.191230</td>\n",
       "      <td>49.420331</td>\n",
       "      <td>2.120887</td>\n",
       "      <td>0.193132</td>\n",
       "      <td>Eric</td>\n",
       "      <td>2013-08-15 02:17:42</td>\n",
       "    </tr>\n",
       "  </tbody>\n",
       "</table>\n",
       "</div>"
      ],
      "text/plain": [
       "   Unnamed: 0  altitude               date_time  device_info_serial  \\\n",
       "0           0        71  2013-08-15 00:18:08+00                 851   \n",
       "1           1        68  2013-08-15 00:48:07+00                 851   \n",
       "2           2        68  2013-08-15 01:17:58+00                 851   \n",
       "3           3        73  2013-08-15 01:47:51+00                 851   \n",
       "4           4        69  2013-08-15 02:17:42+00                 851   \n",
       "\n",
       "    direction   latitude  longitude  speed_2d bird_name           timestamp  \n",
       "0 -150.469753  49.419860   2.120733  0.150000      Eric 2013-08-15 00:18:08  \n",
       "1 -136.151141  49.419880   2.120746  2.438360      Eric 2013-08-15 00:48:07  \n",
       "2  160.797477  49.420310   2.120885  0.596657      Eric 2013-08-15 01:17:58  \n",
       "3   32.769360  49.420359   2.120859  0.310161      Eric 2013-08-15 01:47:51  \n",
       "4   45.191230  49.420331   2.120887  0.193132      Eric 2013-08-15 02:17:42  "
      ]
     },
     "execution_count": 70,
     "metadata": {},
     "output_type": "execute_result"
    }
   ],
   "source": [
    "birddata.head()"
   ]
  },
  {
   "cell_type": "code",
   "execution_count": 71,
   "metadata": {},
   "outputs": [
    {
     "data": {
      "text/plain": [
       "Timedelta('0 days 00:29:51')"
      ]
     },
     "execution_count": 71,
     "metadata": {},
     "output_type": "execute_result"
    }
   ],
   "source": [
    "birddata.timestamp[4] - birddata.timestamp[3]"
   ]
  },
  {
   "cell_type": "code",
   "execution_count": null,
   "metadata": {},
   "outputs": [],
   "source": []
  },
  {
   "cell_type": "code",
   "execution_count": 74,
   "metadata": {},
   "outputs": [
    {
     "data": {
      "text/plain": [
       "Timedelta('0 days 00:00:00')"
      ]
     },
     "execution_count": 74,
     "metadata": {},
     "output_type": "execute_result"
    }
   ],
   "source": [
    "#create a list that captures the amount of time that has elapsed since the beginning of data collections\n",
    "\n",
    "times = birddata.timestamp[birddata.bird_name == 'Eric']\n",
    "elapsed_time = [time - times[0] for time in times]\n",
    "elapsed_time [0]"
   ]
  },
  {
   "cell_type": "code",
   "execution_count": 75,
   "metadata": {},
   "outputs": [
    {
     "data": {
      "text/plain": [
       "Timedelta('12 days 02:02:00')"
      ]
     },
     "execution_count": 75,
     "metadata": {},
     "output_type": "execute_result"
    }
   ],
   "source": [
    "elapsed_time [1000]"
   ]
  },
  {
   "cell_type": "code",
   "execution_count": 82,
   "metadata": {},
   "outputs": [
    {
     "data": {
      "text/plain": [
       "12.084722222222222"
      ]
     },
     "execution_count": 82,
     "metadata": {},
     "output_type": "execute_result"
    }
   ],
   "source": [
    "elapsed_days = elapsed_time [1000]/datetime.timedelta(days=1)\n",
    "elapsed_days"
   ]
  },
  {
   "cell_type": "code",
   "execution_count": 81,
   "metadata": {},
   "outputs": [
    {
     "data": {
      "text/plain": [
       "290.03333333333336"
      ]
     },
     "execution_count": 81,
     "metadata": {},
     "output_type": "execute_result"
    }
   ],
   "source": [
    "elapsed_hours = elapsed_time [1000]/datetime.timedelta(hours=1)\n",
    "elapsed_hours"
   ]
  },
  {
   "cell_type": "code",
   "execution_count": null,
   "metadata": {},
   "outputs": [],
   "source": []
  },
  {
   "cell_type": "code",
   "execution_count": 79,
   "metadata": {},
   "outputs": [
    {
     "data": {
      "image/png": "[encoded data removed]",
      "text/plain": [
       "<matplotlib.figure.Figure at 0xc6cbb00>"
      ]
     },
     "metadata": {},
     "output_type": "display_data"
    }
   ],
   "source": [
    "plt.plot(np.array(elapsed_time)/datetime.timedelta(days = 1))\n",
    "plt.xlabel('Observations')\n",
    "plt.ylabel('Elapsed Time (day)')\n",
    "plt.savefig('birds_info by timeplot.pdf')\n",
    "plt.show() #time pass is same"
   ]
  },
  {
   "cell_type": "code",
   "execution_count": null,
   "metadata": {},
   "outputs": [],
   "source": []
  },
  {
   "cell_type": "markdown",
   "metadata": {},
   "source": [
    "4.2.5 Calculating Daily Mean Speed"
   ]
  },
  {
   "cell_type": "code",
   "execution_count": 87,
   "metadata": {},
   "outputs": [
    {
     "data": {
      "text/html": [
       "<div>\n",
       "<style scoped>\n",
       "    .dataframe tbody tr th:only-of-type {\n",
       "        vertical-align: middle;\n",
       "    }\n",
       "\n",
       "    .dataframe tbody tr th {\n",
       "        vertical-align: top;\n",
       "    }\n",
       "\n",
       "    .dataframe thead th {\n",
       "        text-align: right;\n",
       "    }\n",
       "</style>\n",
       "<table border=\"1\" class=\"dataframe\">\n",
       "  <thead>\n",
       "    <tr style=\"text-align: right;\">\n",
       "      <th></th>\n",
       "      <th>Unnamed: 0</th>\n",
       "      <th>altitude</th>\n",
       "      <th>date_time</th>\n",
       "      <th>device_info_serial</th>\n",
       "      <th>direction</th>\n",
       "      <th>latitude</th>\n",
       "      <th>longitude</th>\n",
       "      <th>speed_2d</th>\n",
       "      <th>bird_name</th>\n",
       "      <th>timestamp</th>\n",
       "    </tr>\n",
       "  </thead>\n",
       "  <tbody>\n",
       "    <tr>\n",
       "      <th>0</th>\n",
       "      <td>0</td>\n",
       "      <td>71</td>\n",
       "      <td>2013-08-15 00:18:08+00</td>\n",
       "      <td>851</td>\n",
       "      <td>-150.469753</td>\n",
       "      <td>49.419860</td>\n",
       "      <td>2.120733</td>\n",
       "      <td>0.150000</td>\n",
       "      <td>Eric</td>\n",
       "      <td>2013-08-15 00:18:08</td>\n",
       "    </tr>\n",
       "    <tr>\n",
       "      <th>1</th>\n",
       "      <td>1</td>\n",
       "      <td>68</td>\n",
       "      <td>2013-08-15 00:48:07+00</td>\n",
       "      <td>851</td>\n",
       "      <td>-136.151141</td>\n",
       "      <td>49.419880</td>\n",
       "      <td>2.120746</td>\n",
       "      <td>2.438360</td>\n",
       "      <td>Eric</td>\n",
       "      <td>2013-08-15 00:48:07</td>\n",
       "    </tr>\n",
       "    <tr>\n",
       "      <th>2</th>\n",
       "      <td>2</td>\n",
       "      <td>68</td>\n",
       "      <td>2013-08-15 01:17:58+00</td>\n",
       "      <td>851</td>\n",
       "      <td>160.797477</td>\n",
       "      <td>49.420310</td>\n",
       "      <td>2.120885</td>\n",
       "      <td>0.596657</td>\n",
       "      <td>Eric</td>\n",
       "      <td>2013-08-15 01:17:58</td>\n",
       "    </tr>\n",
       "    <tr>\n",
       "      <th>3</th>\n",
       "      <td>3</td>\n",
       "      <td>73</td>\n",
       "      <td>2013-08-15 01:47:51+00</td>\n",
       "      <td>851</td>\n",
       "      <td>32.769360</td>\n",
       "      <td>49.420359</td>\n",
       "      <td>2.120859</td>\n",
       "      <td>0.310161</td>\n",
       "      <td>Eric</td>\n",
       "      <td>2013-08-15 01:47:51</td>\n",
       "    </tr>\n",
       "    <tr>\n",
       "      <th>4</th>\n",
       "      <td>4</td>\n",
       "      <td>69</td>\n",
       "      <td>2013-08-15 02:17:42+00</td>\n",
       "      <td>851</td>\n",
       "      <td>45.191230</td>\n",
       "      <td>49.420331</td>\n",
       "      <td>2.120887</td>\n",
       "      <td>0.193132</td>\n",
       "      <td>Eric</td>\n",
       "      <td>2013-08-15 02:17:42</td>\n",
       "    </tr>\n",
       "  </tbody>\n",
       "</table>\n",
       "</div>"
      ],
      "text/plain": [
       "   Unnamed: 0  altitude               date_time  device_info_serial  \\\n",
       "0           0        71  2013-08-15 00:18:08+00                 851   \n",
       "1           1        68  2013-08-15 00:48:07+00                 851   \n",
       "2           2        68  2013-08-15 01:17:58+00                 851   \n",
       "3           3        73  2013-08-15 01:47:51+00                 851   \n",
       "4           4        69  2013-08-15 02:17:42+00                 851   \n",
       "\n",
       "    direction   latitude  longitude  speed_2d bird_name           timestamp  \n",
       "0 -150.469753  49.419860   2.120733  0.150000      Eric 2013-08-15 00:18:08  \n",
       "1 -136.151141  49.419880   2.120746  2.438360      Eric 2013-08-15 00:48:07  \n",
       "2  160.797477  49.420310   2.120885  0.596657      Eric 2013-08-15 01:17:58  \n",
       "3   32.769360  49.420359   2.120859  0.310161      Eric 2013-08-15 01:47:51  \n",
       "4   45.191230  49.420331   2.120887  0.193132      Eric 2013-08-15 02:17:42  "
      ]
     },
     "execution_count": 87,
     "metadata": {},
     "output_type": "execute_result"
    }
   ],
   "source": [
    "data = birddata[birddata.bird_name == 'Eric']\n",
    "data.head()"
   ]
  },
  {
   "cell_type": "code",
   "execution_count": 88,
   "metadata": {},
   "outputs": [
    {
     "data": {
      "text/plain": [
       "array([0.0, 0.02082175925925926, 0.04155092592592593, ...,\n",
       "       258.9399652777778, 258.9607175925926, 258.9814930555556],\n",
       "      dtype=object)"
      ]
     },
     "execution_count": 88,
     "metadata": {},
     "output_type": "execute_result"
    }
   ],
   "source": [
    "times = data.timestamp\n",
    "elapsed_time = [time - times[0] for time in times]\n",
    "elapsed_days = np.array(elapsed_time)/ datetime.timedelta (days = 1)\n",
    "elapsed_days"
   ]
  },
  {
   "cell_type": "code",
   "execution_count": 93,
   "metadata": {},
   "outputs": [],
   "source": [
    "#y axis - mean daily speed, x axis - time spent in days\n",
    "next_day = 1\n",
    "inds = [] #collect indices of the same day\n",
    "daily_mean_speed = []\n",
    "\n",
    "for (i, t) in enumerate(elapsed_days):\n",
    "    if t < next_day:\n",
    "        inds.append(i)\n",
    "    else:\n",
    "        daily_mean_speed.append(np.mean(data.speed_2d[inds])) #compute mean speed\n",
    "        next_day += 1 #increment next day by 1\n",
    "        inds = [] #empty list ind"
   ]
  },
  {
   "cell_type": "code",
   "execution_count": 94,
   "metadata": {},
   "outputs": [
    {
     "name": "stdout",
     "output_type": "stream",
     "text": [
      "the days are:  258\n",
      "the speed per day is: [2.121516513619244, 2.6191052366952796, 1.7863149983905395, 2.9454235893858662, 2.4762427460803886, 1.8477070902332324, 2.560404356375535, 1.482814303345286, 1.6162885950348576, 1.5220367121305791, 2.028393720085181, 1.7402841957023534, 1.5411246572674582, 2.1105160349071914, 2.0219116434979787, 2.6897713619857324, 2.351241357863497, 2.659076347659485, 2.9416171622419505, 1.898409764788526, 2.3327509804317934, 1.6072552805767766, 1.7682757593059097, 2.9943046312787565, 1.9085264007103804, 1.3634392809056228, 2.02224772742323, 2.72254039303825, 2.269189387498984, 2.0142790500748506, 2.822659710423693, 2.004075379375076, 1.7669075779904866, 1.9567174870023374, 1.6085815765274403, 2.1039007148615303, 2.0923230222020206, 2.0779645085088836, 1.7590805790548523, 2.5642674569001462, 2.0224097745761993, 2.524284916466437, 2.33621733355763, 2.1500196892882166, 1.6971102860729534, 3.175848894110063, 2.3345096275728086, 2.440327594446141, 1.8545408525983385, 2.613539217968263, 2.2974137472965532, 2.432453781105371, 2.962612905824155, 2.1222193592346805, 1.8136531068187747, 1.935469965874147, 2.6317902284489283, 2.5445527644765145, 1.456092643068699, 1.5659878373749356, 1.7894174040260635, 2.2603747705599693, 1.6281606490734568, 2.381668701114348, 1.6564022407476424, 2.627102162415734, 2.0305021151137885, 1.7058024046430342, 2.3570196404421577, 1.5179740149001573, 1.647260052465282, 1.5772124980269475, 1.313452512465595, nan, nan, nan, 1.5653342427111416, 2.1777359206684666, 1.7568607166317873, 1.983458896684267, 2.3302455908309603, 2.13664533115119, 2.6874926071601064, nan, nan, nan, nan, 3.439541784232876, 1.811769776243834, 3.150667991313341, 2.1690246470665513, 2.12135746112356, 9.048244023506927, 8.826903967305796, 5.9328477040556145, 3.918705583148009, 2.959060499593405, 2.064498161328598, 1.8721216756625956, 2.2383256649537477, 2.7131130811077475, 3.0052792471499203, 3.2832725621047647, 1.9478234092812268, 1.776920723211552, 1.3550108416109625, 1.959434397818557, 1.8930022635333175, 2.3633978365641752, 1.9762837847010732, 1.720389220690801, 2.203282466545707, 1.9015663464631933, 3.566979210671948, 2.071156405887064, 2.030401179250342, 2.27221035846362, 2.1172472473991193, 1.9054844300364757, 2.2919005333614644, 1.6221774061755945, 2.3533126455042397, 2.2313985988593426, 1.81509163843819, 2.4613269490881913, 2.1061139660580577, 2.196015777752809, 1.7742852703380778, 1.8400608477151976, 1.9243042514322295, 1.9482036118590647, 1.6840996292789274, 2.286917821116058, 1.80056015498024, 2.2767918644912966, 2.0345436072507903, 1.4650201471768203, 2.4717620697084284, 2.4407785835352414, 1.9696062058869956, 2.15827112350088, 1.3921167257424656, 2.1886531168560883, 2.5107922409768406, 2.1785277301862385, 2.470211010158352, 1.919086330212443, 1.8604651459760895, 2.142713546851198, 2.0596373626991613, 2.2202996638747003, 1.657208862635136, 3.0980776462360837, 2.635484069322585, 2.9805302740579025, 2.4369461963903483, 3.254920981324078, 3.398228505737883, 1.7022695745453236, 2.0338351221129964, 2.4152614430374304, 2.0783574963133526, 2.4311794525661283, 3.0633369701704125, 2.441169590086452, 2.2875564514115925, 2.1932281124008344, 1.9555717667925747, 1.3396665611179304, 2.1237882355254705, 1.8124389664808664, 1.7266930919475045, 1.6745014239139375, 1.7662419001193, 2.165883290469568, 1.9495195816674589, 2.046483781150859, 1.5967131032791022, 1.8861424937204592, 1.5524381669762244, 1.3226208689755397, 1.479028699905744, 2.6591814064088566, 1.5322903795908185, 2.100685876791113, 1.6922350623299252, 2.3726695411494063, 2.4418504678191106, 2.2793559294525862, 2.2804330242385538, 2.027041332442766, 2.529144264138359, 1.718318624490094, 1.8651079143858402, 1.7076479341418973, 1.9514306495374019, 1.5283748778923256, 1.6281146857464055, 1.6909251510078327, 3.061293104357373, 1.7161185001805965, 1.8436703466172442, 1.9643563441506584, 1.882344206432697, 2.637955390011485, 2.1224335492437683, 2.9047132975576524, 1.5542921111975516, 1.9812989042656752, 1.5879050057181932, 1.3906634455038063, 2.0314171102903162, 1.7510089941182139, 1.9094653332720863, 1.5754886717166088, 1.6124598010327702, 1.5263387635556809, 2.341874433720624, 1.8266252310144924, 1.6069739441251398, 1.6840916916995292, 1.6153448221831932, 1.8150030335697755, 1.9434609043663928, 1.4059186833786552, 1.800059249347373, 2.124896889013808, 6.627859778561027, 4.831253603859217, 9.093687210825962, 3.208169834426288, 4.568295689532004, 9.297642287291733, 6.705966291214969, 2.8926142659107574, 3.3643467137622918, 1.9296658101083508, 2.3749318711137475, 3.28743259195921, 1.7002107587874324, 3.2330693284520033, 2.6958022883652886, 1.8249677553335517, 2.060647485222335, 1.529203842644519, 1.7308482880255465, 3.1136731920864404, 1.3322140903252528, 2.969257281327789, 3.24219204129494, 2.0318439689482513, 1.976831137567437, 2.174344017224991, 2.6740131683897874, 2.1152364196479394, 2.7490039358771843, 2.14835126073764, 2.228820334981558]\n"
     ]
    }
   ],
   "source": [
    "print('the days are: ', len(daily_mean_speed))\n",
    "print('the speed per day is:', daily_mean_speed)"
   ]
  },
  {
   "cell_type": "code",
   "execution_count": 95,
   "metadata": {},
   "outputs": [
    {
     "data": {
      "image/png": "[encoded data removed]",
      "text/plain": [
       "<matplotlib.figure.Figure at 0xc6a1160>"
      ]
     },
     "metadata": {},
     "output_type": "display_data"
    }
   ],
   "source": [
    "plt.figure(figsize = (8,6))\n",
    "plt.plot(daily_mean_speed)\n",
    "plt.xlabel('Day')\n",
    "plt.ylabel('Mean speed (m by s)')\n",
    "plt.savefig('birds_info per dms.pdf')\n",
    "plt.show()"
   ]
  },
  {
   "cell_type": "code",
   "execution_count": null,
   "metadata": {},
   "outputs": [],
   "source": []
  },
  {
   "cell_type": "code",
   "execution_count": 96,
   "metadata": {},
   "outputs": [
    {
     "data": {
      "text/html": [
       "<div>\n",
       "<style scoped>\n",
       "    .dataframe tbody tr th:only-of-type {\n",
       "        vertical-align: middle;\n",
       "    }\n",
       "\n",
       "    .dataframe tbody tr th {\n",
       "        vertical-align: top;\n",
       "    }\n",
       "\n",
       "    .dataframe thead th {\n",
       "        text-align: right;\n",
       "    }\n",
       "</style>\n",
       "<table border=\"1\" class=\"dataframe\">\n",
       "  <thead>\n",
       "    <tr style=\"text-align: right;\">\n",
       "      <th></th>\n",
       "      <th>Unnamed: 0</th>\n",
       "      <th>altitude</th>\n",
       "      <th>date_time</th>\n",
       "      <th>device_info_serial</th>\n",
       "      <th>direction</th>\n",
       "      <th>latitude</th>\n",
       "      <th>longitude</th>\n",
       "      <th>speed_2d</th>\n",
       "      <th>bird_name</th>\n",
       "      <th>timestamp</th>\n",
       "    </tr>\n",
       "  </thead>\n",
       "  <tbody>\n",
       "    <tr>\n",
       "      <th>40916</th>\n",
       "      <td>40916</td>\n",
       "      <td>55</td>\n",
       "      <td>2013-08-15 00:01:08+00</td>\n",
       "      <td>833</td>\n",
       "      <td>-91.499509</td>\n",
       "      <td>49.931065</td>\n",
       "      <td>2.281893</td>\n",
       "      <td>0.372156</td>\n",
       "      <td>Sanne</td>\n",
       "      <td>2013-08-15 00:01:08</td>\n",
       "    </tr>\n",
       "    <tr>\n",
       "      <th>40917</th>\n",
       "      <td>40917</td>\n",
       "      <td>54</td>\n",
       "      <td>2013-08-15 00:31:00+00</td>\n",
       "      <td>833</td>\n",
       "      <td>-141.804053</td>\n",
       "      <td>49.931076</td>\n",
       "      <td>2.281900</td>\n",
       "      <td>1.318484</td>\n",
       "      <td>Sanne</td>\n",
       "      <td>2013-08-15 00:31:00</td>\n",
       "    </tr>\n",
       "    <tr>\n",
       "      <th>40918</th>\n",
       "      <td>40918</td>\n",
       "      <td>55</td>\n",
       "      <td>2013-08-15 01:01:19+00</td>\n",
       "      <td>833</td>\n",
       "      <td>-10.651840</td>\n",
       "      <td>49.931016</td>\n",
       "      <td>2.281933</td>\n",
       "      <td>0.076158</td>\n",
       "      <td>Sanne</td>\n",
       "      <td>2013-08-15 01:01:19</td>\n",
       "    </tr>\n",
       "    <tr>\n",
       "      <th>40919</th>\n",
       "      <td>40919</td>\n",
       "      <td>56</td>\n",
       "      <td>2013-08-15 01:31:38+00</td>\n",
       "      <td>833</td>\n",
       "      <td>14.727689</td>\n",
       "      <td>49.931053</td>\n",
       "      <td>2.281911</td>\n",
       "      <td>0.014142</td>\n",
       "      <td>Sanne</td>\n",
       "      <td>2013-08-15 01:31:38</td>\n",
       "    </tr>\n",
       "    <tr>\n",
       "      <th>40920</th>\n",
       "      <td>40920</td>\n",
       "      <td>55</td>\n",
       "      <td>2013-08-15 02:01:24+00</td>\n",
       "      <td>833</td>\n",
       "      <td>-169.882200</td>\n",
       "      <td>49.931042</td>\n",
       "      <td>2.281893</td>\n",
       "      <td>0.094340</td>\n",
       "      <td>Sanne</td>\n",
       "      <td>2013-08-15 02:01:24</td>\n",
       "    </tr>\n",
       "    <tr>\n",
       "      <th>40921</th>\n",
       "      <td>40921</td>\n",
       "      <td>111</td>\n",
       "      <td>2013-08-15 02:31:18+00</td>\n",
       "      <td>833</td>\n",
       "      <td>39.900866</td>\n",
       "      <td>49.931053</td>\n",
       "      <td>2.281907</td>\n",
       "      <td>10.435138</td>\n",
       "      <td>Sanne</td>\n",
       "      <td>2013-08-15 02:31:18</td>\n",
       "    </tr>\n",
       "    <tr>\n",
       "      <th>40922</th>\n",
       "      <td>40922</td>\n",
       "      <td>38</td>\n",
       "      <td>2013-08-15 03:00:54+00</td>\n",
       "      <td>833</td>\n",
       "      <td>45.044640</td>\n",
       "      <td>49.931090</td>\n",
       "      <td>2.281943</td>\n",
       "      <td>5.748548</td>\n",
       "      <td>Sanne</td>\n",
       "      <td>2013-08-15 03:00:54</td>\n",
       "    </tr>\n",
       "    <tr>\n",
       "      <th>40923</th>\n",
       "      <td>40923</td>\n",
       "      <td>44</td>\n",
       "      <td>2013-08-15 03:15:57+00</td>\n",
       "      <td>833</td>\n",
       "      <td>-65.702927</td>\n",
       "      <td>49.931048</td>\n",
       "      <td>2.281869</td>\n",
       "      <td>1.296187</td>\n",
       "      <td>Sanne</td>\n",
       "      <td>2013-08-15 03:15:57</td>\n",
       "    </tr>\n",
       "    <tr>\n",
       "      <th>40924</th>\n",
       "      <td>40924</td>\n",
       "      <td>43</td>\n",
       "      <td>2013-08-15 03:31:13+00</td>\n",
       "      <td>833</td>\n",
       "      <td>-72.659883</td>\n",
       "      <td>49.931051</td>\n",
       "      <td>2.281812</td>\n",
       "      <td>1.909660</td>\n",
       "      <td>Sanne</td>\n",
       "      <td>2013-08-15 03:31:13</td>\n",
       "    </tr>\n",
       "    <tr>\n",
       "      <th>40925</th>\n",
       "      <td>40925</td>\n",
       "      <td>37</td>\n",
       "      <td>2013-08-15 03:46:28+00</td>\n",
       "      <td>833</td>\n",
       "      <td>-51.732691</td>\n",
       "      <td>49.931109</td>\n",
       "      <td>2.281697</td>\n",
       "      <td>0.788162</td>\n",
       "      <td>Sanne</td>\n",
       "      <td>2013-08-15 03:46:28</td>\n",
       "    </tr>\n",
       "    <tr>\n",
       "      <th>40926</th>\n",
       "      <td>40926</td>\n",
       "      <td>53</td>\n",
       "      <td>2013-08-15 04:01:56+00</td>\n",
       "      <td>833</td>\n",
       "      <td>-107.638246</td>\n",
       "      <td>49.931010</td>\n",
       "      <td>2.281904</td>\n",
       "      <td>0.089443</td>\n",
       "      <td>Sanne</td>\n",
       "      <td>2013-08-15 04:01:56</td>\n",
       "    </tr>\n",
       "    <tr>\n",
       "      <th>40927</th>\n",
       "      <td>40927</td>\n",
       "      <td>91</td>\n",
       "      <td>2013-08-15 04:16:55+00</td>\n",
       "      <td>833</td>\n",
       "      <td>84.039125</td>\n",
       "      <td>49.933080</td>\n",
       "      <td>2.297038</td>\n",
       "      <td>12.575190</td>\n",
       "      <td>Sanne</td>\n",
       "      <td>2013-08-15 04:16:55</td>\n",
       "    </tr>\n",
       "    <tr>\n",
       "      <th>40928</th>\n",
       "      <td>40928</td>\n",
       "      <td>143</td>\n",
       "      <td>2013-08-15 04:31:54+00</td>\n",
       "      <td>833</td>\n",
       "      <td>79.641224</td>\n",
       "      <td>49.964757</td>\n",
       "      <td>2.375732</td>\n",
       "      <td>12.353255</td>\n",
       "      <td>Sanne</td>\n",
       "      <td>2013-08-15 04:31:54</td>\n",
       "    </tr>\n",
       "    <tr>\n",
       "      <th>40929</th>\n",
       "      <td>40929</td>\n",
       "      <td>100</td>\n",
       "      <td>2013-08-15 04:47:08+00</td>\n",
       "      <td>833</td>\n",
       "      <td>158.471578</td>\n",
       "      <td>49.939944</td>\n",
       "      <td>2.461158</td>\n",
       "      <td>0.256125</td>\n",
       "      <td>Sanne</td>\n",
       "      <td>2013-08-15 04:47:08</td>\n",
       "    </tr>\n",
       "    <tr>\n",
       "      <th>40930</th>\n",
       "      <td>40930</td>\n",
       "      <td>105</td>\n",
       "      <td>2013-08-15 05:02:15+00</td>\n",
       "      <td>833</td>\n",
       "      <td>-177.236156</td>\n",
       "      <td>49.940141</td>\n",
       "      <td>2.463323</td>\n",
       "      <td>0.036056</td>\n",
       "      <td>Sanne</td>\n",
       "      <td>2013-08-15 05:02:15</td>\n",
       "    </tr>\n",
       "    <tr>\n",
       "      <th>40931</th>\n",
       "      <td>40931</td>\n",
       "      <td>107</td>\n",
       "      <td>2013-08-15 05:17:08+00</td>\n",
       "      <td>833</td>\n",
       "      <td>72.578628</td>\n",
       "      <td>49.944571</td>\n",
       "      <td>2.487092</td>\n",
       "      <td>1.220656</td>\n",
       "      <td>Sanne</td>\n",
       "      <td>2013-08-15 05:17:08</td>\n",
       "    </tr>\n",
       "    <tr>\n",
       "      <th>40932</th>\n",
       "      <td>40932</td>\n",
       "      <td>100</td>\n",
       "      <td>2013-08-15 05:32:04+00</td>\n",
       "      <td>833</td>\n",
       "      <td>-66.884421</td>\n",
       "      <td>49.951149</td>\n",
       "      <td>2.505440</td>\n",
       "      <td>9.138080</td>\n",
       "      <td>Sanne</td>\n",
       "      <td>2013-08-15 05:32:04</td>\n",
       "    </tr>\n",
       "    <tr>\n",
       "      <th>40933</th>\n",
       "      <td>40933</td>\n",
       "      <td>102</td>\n",
       "      <td>2013-08-15 05:46:58+00</td>\n",
       "      <td>833</td>\n",
       "      <td>-8.501170</td>\n",
       "      <td>49.952925</td>\n",
       "      <td>2.504865</td>\n",
       "      <td>1.281601</td>\n",
       "      <td>Sanne</td>\n",
       "      <td>2013-08-15 05:46:58</td>\n",
       "    </tr>\n",
       "    <tr>\n",
       "      <th>40934</th>\n",
       "      <td>40934</td>\n",
       "      <td>99</td>\n",
       "      <td>2013-08-15 06:01:55+00</td>\n",
       "      <td>833</td>\n",
       "      <td>90.130706</td>\n",
       "      <td>49.953126</td>\n",
       "      <td>2.507684</td>\n",
       "      <td>1.120402</td>\n",
       "      <td>Sanne</td>\n",
       "      <td>2013-08-15 06:01:55</td>\n",
       "    </tr>\n",
       "    <tr>\n",
       "      <th>40935</th>\n",
       "      <td>40935</td>\n",
       "      <td>123</td>\n",
       "      <td>2013-08-15 06:16:50+00</td>\n",
       "      <td>833</td>\n",
       "      <td>42.069612</td>\n",
       "      <td>49.953528</td>\n",
       "      <td>2.511320</td>\n",
       "      <td>8.480106</td>\n",
       "      <td>Sanne</td>\n",
       "      <td>2013-08-15 06:16:50</td>\n",
       "    </tr>\n",
       "    <tr>\n",
       "      <th>40936</th>\n",
       "      <td>40936</td>\n",
       "      <td>158</td>\n",
       "      <td>2013-08-15 06:31:47+00</td>\n",
       "      <td>833</td>\n",
       "      <td>NaN</td>\n",
       "      <td>49.979911</td>\n",
       "      <td>2.518294</td>\n",
       "      <td>NaN</td>\n",
       "      <td>Sanne</td>\n",
       "      <td>2013-08-15 06:31:47</td>\n",
       "    </tr>\n",
       "    <tr>\n",
       "      <th>40937</th>\n",
       "      <td>40937</td>\n",
       "      <td>179</td>\n",
       "      <td>2013-08-15 06:46:43+00</td>\n",
       "      <td>833</td>\n",
       "      <td>-20.352372</td>\n",
       "      <td>50.079309</td>\n",
       "      <td>2.506878</td>\n",
       "      <td>11.364858</td>\n",
       "      <td>Sanne</td>\n",
       "      <td>2013-08-15 06:46:43</td>\n",
       "    </tr>\n",
       "    <tr>\n",
       "      <th>40938</th>\n",
       "      <td>40938</td>\n",
       "      <td>123</td>\n",
       "      <td>2013-08-15 07:01:42+00</td>\n",
       "      <td>833</td>\n",
       "      <td>-133.050882</td>\n",
       "      <td>50.081821</td>\n",
       "      <td>2.489283</td>\n",
       "      <td>1.882817</td>\n",
       "      <td>Sanne</td>\n",
       "      <td>2013-08-15 07:01:42</td>\n",
       "    </tr>\n",
       "    <tr>\n",
       "      <th>40939</th>\n",
       "      <td>40939</td>\n",
       "      <td>149</td>\n",
       "      <td>2013-08-15 07:16:44+00</td>\n",
       "      <td>833</td>\n",
       "      <td>-19.403888</td>\n",
       "      <td>50.089549</td>\n",
       "      <td>2.471434</td>\n",
       "      <td>9.678698</td>\n",
       "      <td>Sanne</td>\n",
       "      <td>2013-08-15 07:16:44</td>\n",
       "    </tr>\n",
       "    <tr>\n",
       "      <th>40940</th>\n",
       "      <td>40940</td>\n",
       "      <td>144</td>\n",
       "      <td>2013-08-15 07:31:59+00</td>\n",
       "      <td>833</td>\n",
       "      <td>28.030074</td>\n",
       "      <td>50.105254</td>\n",
       "      <td>2.407814</td>\n",
       "      <td>1.586190</td>\n",
       "      <td>Sanne</td>\n",
       "      <td>2013-08-15 07:31:59</td>\n",
       "    </tr>\n",
       "    <tr>\n",
       "      <th>40941</th>\n",
       "      <td>40941</td>\n",
       "      <td>146</td>\n",
       "      <td>2013-08-15 07:47:01+00</td>\n",
       "      <td>833</td>\n",
       "      <td>128.073614</td>\n",
       "      <td>50.092947</td>\n",
       "      <td>2.371988</td>\n",
       "      <td>10.437969</td>\n",
       "      <td>Sanne</td>\n",
       "      <td>2013-08-15 07:47:01</td>\n",
       "    </tr>\n",
       "    <tr>\n",
       "      <th>40942</th>\n",
       "      <td>40942</td>\n",
       "      <td>190</td>\n",
       "      <td>2013-08-15 08:02:53+00</td>\n",
       "      <td>833</td>\n",
       "      <td>1.238050</td>\n",
       "      <td>50.052657</td>\n",
       "      <td>2.398884</td>\n",
       "      <td>8.350725</td>\n",
       "      <td>Sanne</td>\n",
       "      <td>2013-08-15 08:02:53</td>\n",
       "    </tr>\n",
       "    <tr>\n",
       "      <th>40943</th>\n",
       "      <td>40943</td>\n",
       "      <td>153</td>\n",
       "      <td>2013-08-15 08:17:56+00</td>\n",
       "      <td>833</td>\n",
       "      <td>-118.038565</td>\n",
       "      <td>50.029220</td>\n",
       "      <td>2.390370</td>\n",
       "      <td>8.456648</td>\n",
       "      <td>Sanne</td>\n",
       "      <td>2013-08-15 08:17:56</td>\n",
       "    </tr>\n",
       "    <tr>\n",
       "      <th>40944</th>\n",
       "      <td>40944</td>\n",
       "      <td>131</td>\n",
       "      <td>2013-08-15 08:32:50+00</td>\n",
       "      <td>833</td>\n",
       "      <td>152.923795</td>\n",
       "      <td>50.025036</td>\n",
       "      <td>2.372868</td>\n",
       "      <td>0.782624</td>\n",
       "      <td>Sanne</td>\n",
       "      <td>2013-08-15 08:32:50</td>\n",
       "    </tr>\n",
       "    <tr>\n",
       "      <th>40945</th>\n",
       "      <td>40945</td>\n",
       "      <td>126</td>\n",
       "      <td>2013-08-15 08:48:01+00</td>\n",
       "      <td>833</td>\n",
       "      <td>156.680845</td>\n",
       "      <td>50.025966</td>\n",
       "      <td>2.371984</td>\n",
       "      <td>1.373062</td>\n",
       "      <td>Sanne</td>\n",
       "      <td>2013-08-15 08:48:01</td>\n",
       "    </tr>\n",
       "    <tr>\n",
       "      <th>...</th>\n",
       "      <td>...</td>\n",
       "      <td>...</td>\n",
       "      <td>...</td>\n",
       "      <td>...</td>\n",
       "      <td>...</td>\n",
       "      <td>...</td>\n",
       "      <td>...</td>\n",
       "      <td>...</td>\n",
       "      <td>...</td>\n",
       "      <td>...</td>\n",
       "    </tr>\n",
       "    <tr>\n",
       "      <th>61890</th>\n",
       "      <td>61890</td>\n",
       "      <td>-14</td>\n",
       "      <td>2014-04-30 13:55:30+00</td>\n",
       "      <td>833</td>\n",
       "      <td>-10.336183</td>\n",
       "      <td>51.343772</td>\n",
       "      <td>3.183033</td>\n",
       "      <td>7.601401</td>\n",
       "      <td>Sanne</td>\n",
       "      <td>2014-04-30 13:55:30</td>\n",
       "    </tr>\n",
       "    <tr>\n",
       "      <th>61891</th>\n",
       "      <td>61891</td>\n",
       "      <td>7</td>\n",
       "      <td>2014-04-30 14:26:08+00</td>\n",
       "      <td>833</td>\n",
       "      <td>119.136447</td>\n",
       "      <td>51.343873</td>\n",
       "      <td>3.183030</td>\n",
       "      <td>0.296985</td>\n",
       "      <td>Sanne</td>\n",
       "      <td>2014-04-30 14:26:08</td>\n",
       "    </tr>\n",
       "    <tr>\n",
       "      <th>61892</th>\n",
       "      <td>61892</td>\n",
       "      <td>2</td>\n",
       "      <td>2014-04-30 14:41:56+00</td>\n",
       "      <td>833</td>\n",
       "      <td>166.332598</td>\n",
       "      <td>51.342312</td>\n",
       "      <td>3.178759</td>\n",
       "      <td>0.308869</td>\n",
       "      <td>Sanne</td>\n",
       "      <td>2014-04-30 14:41:56</td>\n",
       "    </tr>\n",
       "    <tr>\n",
       "      <th>61893</th>\n",
       "      <td>61893</td>\n",
       "      <td>4</td>\n",
       "      <td>2014-04-30 15:12:33+00</td>\n",
       "      <td>833</td>\n",
       "      <td>-110.191511</td>\n",
       "      <td>51.342312</td>\n",
       "      <td>3.178689</td>\n",
       "      <td>0.350000</td>\n",
       "      <td>Sanne</td>\n",
       "      <td>2014-04-30 15:12:33</td>\n",
       "    </tr>\n",
       "    <tr>\n",
       "      <th>61894</th>\n",
       "      <td>61894</td>\n",
       "      <td>6</td>\n",
       "      <td>2014-04-30 15:43:02+00</td>\n",
       "      <td>833</td>\n",
       "      <td>144.477706</td>\n",
       "      <td>51.343801</td>\n",
       "      <td>3.182933</td>\n",
       "      <td>0.050000</td>\n",
       "      <td>Sanne</td>\n",
       "      <td>2014-04-30 15:43:02</td>\n",
       "    </tr>\n",
       "    <tr>\n",
       "      <th>61895</th>\n",
       "      <td>61895</td>\n",
       "      <td>7</td>\n",
       "      <td>2014-04-30 16:13:16+00</td>\n",
       "      <td>833</td>\n",
       "      <td>35.279073</td>\n",
       "      <td>51.344005</td>\n",
       "      <td>3.183084</td>\n",
       "      <td>4.059384</td>\n",
       "      <td>Sanne</td>\n",
       "      <td>2014-04-30 16:13:16</td>\n",
       "    </tr>\n",
       "    <tr>\n",
       "      <th>61896</th>\n",
       "      <td>61896</td>\n",
       "      <td>4</td>\n",
       "      <td>2014-04-30 16:28:04+00</td>\n",
       "      <td>833</td>\n",
       "      <td>17.198506</td>\n",
       "      <td>51.343835</td>\n",
       "      <td>3.182812</td>\n",
       "      <td>0.060828</td>\n",
       "      <td>Sanne</td>\n",
       "      <td>2014-04-30 16:28:04</td>\n",
       "    </tr>\n",
       "    <tr>\n",
       "      <th>61897</th>\n",
       "      <td>61897</td>\n",
       "      <td>15</td>\n",
       "      <td>2014-04-30 16:43:05+00</td>\n",
       "      <td>833</td>\n",
       "      <td>42.518147</td>\n",
       "      <td>51.343868</td>\n",
       "      <td>3.182818</td>\n",
       "      <td>1.240363</td>\n",
       "      <td>Sanne</td>\n",
       "      <td>2014-04-30 16:43:05</td>\n",
       "    </tr>\n",
       "    <tr>\n",
       "      <th>61898</th>\n",
       "      <td>61898</td>\n",
       "      <td>19</td>\n",
       "      <td>2014-04-30 16:58:01+00</td>\n",
       "      <td>833</td>\n",
       "      <td>48.589419</td>\n",
       "      <td>51.343814</td>\n",
       "      <td>3.182877</td>\n",
       "      <td>1.336899</td>\n",
       "      <td>Sanne</td>\n",
       "      <td>2014-04-30 16:58:01</td>\n",
       "    </tr>\n",
       "    <tr>\n",
       "      <th>61899</th>\n",
       "      <td>61899</td>\n",
       "      <td>2</td>\n",
       "      <td>2014-04-30 17:28:02+00</td>\n",
       "      <td>833</td>\n",
       "      <td>-33.801801</td>\n",
       "      <td>51.344039</td>\n",
       "      <td>3.182569</td>\n",
       "      <td>0.422019</td>\n",
       "      <td>Sanne</td>\n",
       "      <td>2014-04-30 17:28:02</td>\n",
       "    </tr>\n",
       "    <tr>\n",
       "      <th>61900</th>\n",
       "      <td>61900</td>\n",
       "      <td>5</td>\n",
       "      <td>2014-04-30 17:43:39+00</td>\n",
       "      <td>833</td>\n",
       "      <td>13.243508</td>\n",
       "      <td>51.343973</td>\n",
       "      <td>3.182583</td>\n",
       "      <td>0.442832</td>\n",
       "      <td>Sanne</td>\n",
       "      <td>2014-04-30 17:43:39</td>\n",
       "    </tr>\n",
       "    <tr>\n",
       "      <th>61901</th>\n",
       "      <td>61901</td>\n",
       "      <td>7</td>\n",
       "      <td>2014-04-30 17:58:29+00</td>\n",
       "      <td>833</td>\n",
       "      <td>97.421295</td>\n",
       "      <td>51.343910</td>\n",
       "      <td>3.182905</td>\n",
       "      <td>2.173315</td>\n",
       "      <td>Sanne</td>\n",
       "      <td>2014-04-30 17:58:29</td>\n",
       "    </tr>\n",
       "    <tr>\n",
       "      <th>61902</th>\n",
       "      <td>61902</td>\n",
       "      <td>5</td>\n",
       "      <td>2014-04-30 18:15:05+00</td>\n",
       "      <td>833</td>\n",
       "      <td>-117.233036</td>\n",
       "      <td>51.343917</td>\n",
       "      <td>3.182878</td>\n",
       "      <td>0.220227</td>\n",
       "      <td>Sanne</td>\n",
       "      <td>2014-04-30 18:15:05</td>\n",
       "    </tr>\n",
       "    <tr>\n",
       "      <th>61903</th>\n",
       "      <td>61903</td>\n",
       "      <td>25</td>\n",
       "      <td>2014-04-30 18:29:57+00</td>\n",
       "      <td>833</td>\n",
       "      <td>47.172794</td>\n",
       "      <td>51.344623</td>\n",
       "      <td>3.185341</td>\n",
       "      <td>6.186049</td>\n",
       "      <td>Sanne</td>\n",
       "      <td>2014-04-30 18:29:57</td>\n",
       "    </tr>\n",
       "    <tr>\n",
       "      <th>61904</th>\n",
       "      <td>61904</td>\n",
       "      <td>5</td>\n",
       "      <td>2014-04-30 18:44:53+00</td>\n",
       "      <td>833</td>\n",
       "      <td>-1.308411</td>\n",
       "      <td>51.345220</td>\n",
       "      <td>3.187298</td>\n",
       "      <td>0.792275</td>\n",
       "      <td>Sanne</td>\n",
       "      <td>2014-04-30 18:44:53</td>\n",
       "    </tr>\n",
       "    <tr>\n",
       "      <th>61905</th>\n",
       "      <td>61905</td>\n",
       "      <td>5</td>\n",
       "      <td>2014-04-30 18:59:49+00</td>\n",
       "      <td>833</td>\n",
       "      <td>26.097018</td>\n",
       "      <td>51.345219</td>\n",
       "      <td>3.187276</td>\n",
       "      <td>0.101980</td>\n",
       "      <td>Sanne</td>\n",
       "      <td>2014-04-30 18:59:49</td>\n",
       "    </tr>\n",
       "    <tr>\n",
       "      <th>61906</th>\n",
       "      <td>61906</td>\n",
       "      <td>18</td>\n",
       "      <td>2014-04-30 19:14:51+00</td>\n",
       "      <td>833</td>\n",
       "      <td>-7.849275</td>\n",
       "      <td>51.346146</td>\n",
       "      <td>3.187874</td>\n",
       "      <td>1.017104</td>\n",
       "      <td>Sanne</td>\n",
       "      <td>2014-04-30 19:14:51</td>\n",
       "    </tr>\n",
       "    <tr>\n",
       "      <th>61907</th>\n",
       "      <td>61907</td>\n",
       "      <td>18</td>\n",
       "      <td>2014-04-30 19:29:44+00</td>\n",
       "      <td>833</td>\n",
       "      <td>-80.511599</td>\n",
       "      <td>51.345710</td>\n",
       "      <td>3.186945</td>\n",
       "      <td>1.181524</td>\n",
       "      <td>Sanne</td>\n",
       "      <td>2014-04-30 19:29:44</td>\n",
       "    </tr>\n",
       "    <tr>\n",
       "      <th>61908</th>\n",
       "      <td>61908</td>\n",
       "      <td>110</td>\n",
       "      <td>2014-04-30 19:44:38+00</td>\n",
       "      <td>833</td>\n",
       "      <td>10.097225</td>\n",
       "      <td>51.346572</td>\n",
       "      <td>3.186884</td>\n",
       "      <td>0.903549</td>\n",
       "      <td>Sanne</td>\n",
       "      <td>2014-04-30 19:44:38</td>\n",
       "    </tr>\n",
       "    <tr>\n",
       "      <th>61909</th>\n",
       "      <td>61909</td>\n",
       "      <td>55</td>\n",
       "      <td>2014-04-30 19:59:35+00</td>\n",
       "      <td>833</td>\n",
       "      <td>120.336748</td>\n",
       "      <td>51.346780</td>\n",
       "      <td>3.187102</td>\n",
       "      <td>1.246315</td>\n",
       "      <td>Sanne</td>\n",
       "      <td>2014-04-30 19:59:35</td>\n",
       "    </tr>\n",
       "    <tr>\n",
       "      <th>61910</th>\n",
       "      <td>61910</td>\n",
       "      <td>-158</td>\n",
       "      <td>2014-04-30 20:14:32+00</td>\n",
       "      <td>833</td>\n",
       "      <td>-57.479803</td>\n",
       "      <td>51.353159</td>\n",
       "      <td>3.176386</td>\n",
       "      <td>3.403836</td>\n",
       "      <td>Sanne</td>\n",
       "      <td>2014-04-30 20:14:32</td>\n",
       "    </tr>\n",
       "    <tr>\n",
       "      <th>61911</th>\n",
       "      <td>61911</td>\n",
       "      <td>8</td>\n",
       "      <td>2014-04-30 20:29:56+00</td>\n",
       "      <td>833</td>\n",
       "      <td>17.675638</td>\n",
       "      <td>51.352518</td>\n",
       "      <td>3.177163</td>\n",
       "      <td>0.419762</td>\n",
       "      <td>Sanne</td>\n",
       "      <td>2014-04-30 20:29:56</td>\n",
       "    </tr>\n",
       "    <tr>\n",
       "      <th>61912</th>\n",
       "      <td>61912</td>\n",
       "      <td>40</td>\n",
       "      <td>2014-04-30 20:44:56+00</td>\n",
       "      <td>833</td>\n",
       "      <td>102.044737</td>\n",
       "      <td>51.352512</td>\n",
       "      <td>3.177327</td>\n",
       "      <td>9.026300</td>\n",
       "      <td>Sanne</td>\n",
       "      <td>2014-04-30 20:44:56</td>\n",
       "    </tr>\n",
       "    <tr>\n",
       "      <th>61913</th>\n",
       "      <td>61913</td>\n",
       "      <td>4</td>\n",
       "      <td>2014-04-30 20:59:52+00</td>\n",
       "      <td>833</td>\n",
       "      <td>23.649017</td>\n",
       "      <td>51.352580</td>\n",
       "      <td>3.177224</td>\n",
       "      <td>1.478005</td>\n",
       "      <td>Sanne</td>\n",
       "      <td>2014-04-30 20:59:52</td>\n",
       "    </tr>\n",
       "    <tr>\n",
       "      <th>61914</th>\n",
       "      <td>61914</td>\n",
       "      <td>-10</td>\n",
       "      <td>2014-04-30 21:29:45+00</td>\n",
       "      <td>833</td>\n",
       "      <td>-10.057916</td>\n",
       "      <td>51.352661</td>\n",
       "      <td>3.177122</td>\n",
       "      <td>5.531148</td>\n",
       "      <td>Sanne</td>\n",
       "      <td>2014-04-30 21:29:45</td>\n",
       "    </tr>\n",
       "    <tr>\n",
       "      <th>61915</th>\n",
       "      <td>61915</td>\n",
       "      <td>11</td>\n",
       "      <td>2014-04-30 22:00:08+00</td>\n",
       "      <td>833</td>\n",
       "      <td>45.448157</td>\n",
       "      <td>51.352572</td>\n",
       "      <td>3.177151</td>\n",
       "      <td>0.208087</td>\n",
       "      <td>Sanne</td>\n",
       "      <td>2014-04-30 22:00:08</td>\n",
       "    </tr>\n",
       "    <tr>\n",
       "      <th>61916</th>\n",
       "      <td>61916</td>\n",
       "      <td>6</td>\n",
       "      <td>2014-04-30 22:29:57+00</td>\n",
       "      <td>833</td>\n",
       "      <td>-112.073055</td>\n",
       "      <td>51.352585</td>\n",
       "      <td>3.177144</td>\n",
       "      <td>1.522662</td>\n",
       "      <td>Sanne</td>\n",
       "      <td>2014-04-30 22:29:57</td>\n",
       "    </tr>\n",
       "    <tr>\n",
       "      <th>61917</th>\n",
       "      <td>61917</td>\n",
       "      <td>5</td>\n",
       "      <td>2014-04-30 22:59:52+00</td>\n",
       "      <td>833</td>\n",
       "      <td>69.989037</td>\n",
       "      <td>51.352622</td>\n",
       "      <td>3.177257</td>\n",
       "      <td>3.120545</td>\n",
       "      <td>Sanne</td>\n",
       "      <td>2014-04-30 22:59:52</td>\n",
       "    </tr>\n",
       "    <tr>\n",
       "      <th>61918</th>\n",
       "      <td>61918</td>\n",
       "      <td>16</td>\n",
       "      <td>2014-04-30 23:29:43+00</td>\n",
       "      <td>833</td>\n",
       "      <td>88.376373</td>\n",
       "      <td>51.354641</td>\n",
       "      <td>3.181509</td>\n",
       "      <td>0.592115</td>\n",
       "      <td>Sanne</td>\n",
       "      <td>2014-04-30 23:29:43</td>\n",
       "    </tr>\n",
       "    <tr>\n",
       "      <th>61919</th>\n",
       "      <td>61919</td>\n",
       "      <td>9</td>\n",
       "      <td>2014-04-30 23:59:34+00</td>\n",
       "      <td>833</td>\n",
       "      <td>149.949008</td>\n",
       "      <td>51.354474</td>\n",
       "      <td>3.181057</td>\n",
       "      <td>0.485489</td>\n",
       "      <td>Sanne</td>\n",
       "      <td>2014-04-30 23:59:34</td>\n",
       "    </tr>\n",
       "  </tbody>\n",
       "</table>\n",
       "<p>21004 rows × 10 columns</p>\n",
       "</div>"
      ],
      "text/plain": [
       "       Unnamed: 0  altitude               date_time  device_info_serial  \\\n",
       "40916       40916        55  2013-08-15 00:01:08+00                 833   \n",
       "40917       40917        54  2013-08-15 00:31:00+00                 833   \n",
       "40918       40918        55  2013-08-15 01:01:19+00                 833   \n",
       "40919       40919        56  2013-08-15 01:31:38+00                 833   \n",
       "40920       40920        55  2013-08-15 02:01:24+00                 833   \n",
       "40921       40921       111  2013-08-15 02:31:18+00                 833   \n",
       "40922       40922        38  2013-08-15 03:00:54+00                 833   \n",
       "40923       40923        44  2013-08-15 03:15:57+00                 833   \n",
       "40924       40924        43  2013-08-15 03:31:13+00                 833   \n",
       "40925       40925        37  2013-08-15 03:46:28+00                 833   \n",
       "40926       40926        53  2013-08-15 04:01:56+00                 833   \n",
       "40927       40927        91  2013-08-15 04:16:55+00                 833   \n",
       "40928       40928       143  2013-08-15 04:31:54+00                 833   \n",
       "40929       40929       100  2013-08-15 04:47:08+00                 833   \n",
       "40930       40930       105  2013-08-15 05:02:15+00                 833   \n",
       "40931       40931       107  2013-08-15 05:17:08+00                 833   \n",
       "40932       40932       100  2013-08-15 05:32:04+00                 833   \n",
       "40933       40933       102  2013-08-15 05:46:58+00                 833   \n",
       "40934       40934        99  2013-08-15 06:01:55+00                 833   \n",
       "40935       40935       123  2013-08-15 06:16:50+00                 833   \n",
       "40936       40936       158  2013-08-15 06:31:47+00                 833   \n",
       "40937       40937       179  2013-08-15 06:46:43+00                 833   \n",
       "40938       40938       123  2013-08-15 07:01:42+00                 833   \n",
       "40939       40939       149  2013-08-15 07:16:44+00                 833   \n",
       "40940       40940       144  2013-08-15 07:31:59+00                 833   \n",
       "40941       40941       146  2013-08-15 07:47:01+00                 833   \n",
       "40942       40942       190  2013-08-15 08:02:53+00                 833   \n",
       "40943       40943       153  2013-08-15 08:17:56+00                 833   \n",
       "40944       40944       131  2013-08-15 08:32:50+00                 833   \n",
       "40945       40945       126  2013-08-15 08:48:01+00                 833   \n",
       "...           ...       ...                     ...                 ...   \n",
       "61890       61890       -14  2014-04-30 13:55:30+00                 833   \n",
       "61891       61891         7  2014-04-30 14:26:08+00                 833   \n",
       "61892       61892         2  2014-04-30 14:41:56+00                 833   \n",
       "61893       61893         4  2014-04-30 15:12:33+00                 833   \n",
       "61894       61894         6  2014-04-30 15:43:02+00                 833   \n",
       "61895       61895         7  2014-04-30 16:13:16+00                 833   \n",
       "61896       61896         4  2014-04-30 16:28:04+00                 833   \n",
       "61897       61897        15  2014-04-30 16:43:05+00                 833   \n",
       "61898       61898        19  2014-04-30 16:58:01+00                 833   \n",
       "61899       61899         2  2014-04-30 17:28:02+00                 833   \n",
       "61900       61900         5  2014-04-30 17:43:39+00                 833   \n",
       "61901       61901         7  2014-04-30 17:58:29+00                 833   \n",
       "61902       61902         5  2014-04-30 18:15:05+00                 833   \n",
       "61903       61903        25  2014-04-30 18:29:57+00                 833   \n",
       "61904       61904         5  2014-04-30 18:44:53+00                 833   \n",
       "61905       61905         5  2014-04-30 18:59:49+00                 833   \n",
       "61906       61906        18  2014-04-30 19:14:51+00                 833   \n",
       "61907       61907        18  2014-04-30 19:29:44+00                 833   \n",
       "61908       61908       110  2014-04-30 19:44:38+00                 833   \n",
       "61909       61909        55  2014-04-30 19:59:35+00                 833   \n",
       "61910       61910      -158  2014-04-30 20:14:32+00                 833   \n",
       "61911       61911         8  2014-04-30 20:29:56+00                 833   \n",
       "61912       61912        40  2014-04-30 20:44:56+00                 833   \n",
       "61913       61913         4  2014-04-30 20:59:52+00                 833   \n",
       "61914       61914       -10  2014-04-30 21:29:45+00                 833   \n",
       "61915       61915        11  2014-04-30 22:00:08+00                 833   \n",
       "61916       61916         6  2014-04-30 22:29:57+00                 833   \n",
       "61917       61917         5  2014-04-30 22:59:52+00                 833   \n",
       "61918       61918        16  2014-04-30 23:29:43+00                 833   \n",
       "61919       61919         9  2014-04-30 23:59:34+00                 833   \n",
       "\n",
       "        direction   latitude  longitude   speed_2d bird_name  \\\n",
       "40916  -91.499509  49.931065   2.281893   0.372156     Sanne   \n",
       "40917 -141.804053  49.931076   2.281900   1.318484     Sanne   \n",
       "40918  -10.651840  49.931016   2.281933   0.076158     Sanne   \n",
       "40919   14.727689  49.931053   2.281911   0.014142     Sanne   \n",
       "40920 -169.882200  49.931042   2.281893   0.094340     Sanne   \n",
       "40921   39.900866  49.931053   2.281907  10.435138     Sanne   \n",
       "40922   45.044640  49.931090   2.281943   5.748548     Sanne   \n",
       "40923  -65.702927  49.931048   2.281869   1.296187     Sanne   \n",
       "40924  -72.659883  49.931051   2.281812   1.909660     Sanne   \n",
       "40925  -51.732691  49.931109   2.281697   0.788162     Sanne   \n",
       "40926 -107.638246  49.931010   2.281904   0.089443     Sanne   \n",
       "40927   84.039125  49.933080   2.297038  12.575190     Sanne   \n",
       "40928   79.641224  49.964757   2.375732  12.353255     Sanne   \n",
       "40929  158.471578  49.939944   2.461158   0.256125     Sanne   \n",
       "40930 -177.236156  49.940141   2.463323   0.036056     Sanne   \n",
       "40931   72.578628  49.944571   2.487092   1.220656     Sanne   \n",
       "40932  -66.884421  49.951149   2.505440   9.138080     Sanne   \n",
       "40933   -8.501170  49.952925   2.504865   1.281601     Sanne   \n",
       "40934   90.130706  49.953126   2.507684   1.120402     Sanne   \n",
       "40935   42.069612  49.953528   2.511320   8.480106     Sanne   \n",
       "40936         NaN  49.979911   2.518294        NaN     Sanne   \n",
       "40937  -20.352372  50.079309   2.506878  11.364858     Sanne   \n",
       "40938 -133.050882  50.081821   2.489283   1.882817     Sanne   \n",
       "40939  -19.403888  50.089549   2.471434   9.678698     Sanne   \n",
       "40940   28.030074  50.105254   2.407814   1.586190     Sanne   \n",
       "40941  128.073614  50.092947   2.371988  10.437969     Sanne   \n",
       "40942    1.238050  50.052657   2.398884   8.350725     Sanne   \n",
       "40943 -118.038565  50.029220   2.390370   8.456648     Sanne   \n",
       "40944  152.923795  50.025036   2.372868   0.782624     Sanne   \n",
       "40945  156.680845  50.025966   2.371984   1.373062     Sanne   \n",
       "...           ...        ...        ...        ...       ...   \n",
       "61890  -10.336183  51.343772   3.183033   7.601401     Sanne   \n",
       "61891  119.136447  51.343873   3.183030   0.296985     Sanne   \n",
       "61892  166.332598  51.342312   3.178759   0.308869     Sanne   \n",
       "61893 -110.191511  51.342312   3.178689   0.350000     Sanne   \n",
       "61894  144.477706  51.343801   3.182933   0.050000     Sanne   \n",
       "61895   35.279073  51.344005   3.183084   4.059384     Sanne   \n",
       "61896   17.198506  51.343835   3.182812   0.060828     Sanne   \n",
       "61897   42.518147  51.343868   3.182818   1.240363     Sanne   \n",
       "61898   48.589419  51.343814   3.182877   1.336899     Sanne   \n",
       "61899  -33.801801  51.344039   3.182569   0.422019     Sanne   \n",
       "61900   13.243508  51.343973   3.182583   0.442832     Sanne   \n",
       "61901   97.421295  51.343910   3.182905   2.173315     Sanne   \n",
       "61902 -117.233036  51.343917   3.182878   0.220227     Sanne   \n",
       "61903   47.172794  51.344623   3.185341   6.186049     Sanne   \n",
       "61904   -1.308411  51.345220   3.187298   0.792275     Sanne   \n",
       "61905   26.097018  51.345219   3.187276   0.101980     Sanne   \n",
       "61906   -7.849275  51.346146   3.187874   1.017104     Sanne   \n",
       "61907  -80.511599  51.345710   3.186945   1.181524     Sanne   \n",
       "61908   10.097225  51.346572   3.186884   0.903549     Sanne   \n",
       "61909  120.336748  51.346780   3.187102   1.246315     Sanne   \n",
       "61910  -57.479803  51.353159   3.176386   3.403836     Sanne   \n",
       "61911   17.675638  51.352518   3.177163   0.419762     Sanne   \n",
       "61912  102.044737  51.352512   3.177327   9.026300     Sanne   \n",
       "61913   23.649017  51.352580   3.177224   1.478005     Sanne   \n",
       "61914  -10.057916  51.352661   3.177122   5.531148     Sanne   \n",
       "61915   45.448157  51.352572   3.177151   0.208087     Sanne   \n",
       "61916 -112.073055  51.352585   3.177144   1.522662     Sanne   \n",
       "61917   69.989037  51.352622   3.177257   3.120545     Sanne   \n",
       "61918   88.376373  51.354641   3.181509   0.592115     Sanne   \n",
       "61919  149.949008  51.354474   3.181057   0.485489     Sanne   \n",
       "\n",
       "                timestamp  \n",
       "40916 2013-08-15 00:01:08  \n",
       "40917 2013-08-15 00:31:00  \n",
       "40918 2013-08-15 01:01:19  \n",
       "40919 2013-08-15 01:31:38  \n",
       "40920 2013-08-15 02:01:24  \n",
       "40921 2013-08-15 02:31:18  \n",
       "40922 2013-08-15 03:00:54  \n",
       "40923 2013-08-15 03:15:57  \n",
       "40924 2013-08-15 03:31:13  \n",
       "40925 2013-08-15 03:46:28  \n",
       "40926 2013-08-15 04:01:56  \n",
       "40927 2013-08-15 04:16:55  \n",
       "40928 2013-08-15 04:31:54  \n",
       "40929 2013-08-15 04:47:08  \n",
       "40930 2013-08-15 05:02:15  \n",
       "40931 2013-08-15 05:17:08  \n",
       "40932 2013-08-15 05:32:04  \n",
       "40933 2013-08-15 05:46:58  \n",
       "40934 2013-08-15 06:01:55  \n",
       "40935 2013-08-15 06:16:50  \n",
       "40936 2013-08-15 06:31:47  \n",
       "40937 2013-08-15 06:46:43  \n",
       "40938 2013-08-15 07:01:42  \n",
       "40939 2013-08-15 07:16:44  \n",
       "40940 2013-08-15 07:31:59  \n",
       "40941 2013-08-15 07:47:01  \n",
       "40942 2013-08-15 08:02:53  \n",
       "40943 2013-08-15 08:17:56  \n",
       "40944 2013-08-15 08:32:50  \n",
       "40945 2013-08-15 08:48:01  \n",
       "...                   ...  \n",
       "61890 2014-04-30 13:55:30  \n",
       "61891 2014-04-30 14:26:08  \n",
       "61892 2014-04-30 14:41:56  \n",
       "61893 2014-04-30 15:12:33  \n",
       "61894 2014-04-30 15:43:02  \n",
       "61895 2014-04-30 16:13:16  \n",
       "61896 2014-04-30 16:28:04  \n",
       "61897 2014-04-30 16:43:05  \n",
       "61898 2014-04-30 16:58:01  \n",
       "61899 2014-04-30 17:28:02  \n",
       "61900 2014-04-30 17:43:39  \n",
       "61901 2014-04-30 17:58:29  \n",
       "61902 2014-04-30 18:15:05  \n",
       "61903 2014-04-30 18:29:57  \n",
       "61904 2014-04-30 18:44:53  \n",
       "61905 2014-04-30 18:59:49  \n",
       "61906 2014-04-30 19:14:51  \n",
       "61907 2014-04-30 19:29:44  \n",
       "61908 2014-04-30 19:44:38  \n",
       "61909 2014-04-30 19:59:35  \n",
       "61910 2014-04-30 20:14:32  \n",
       "61911 2014-04-30 20:29:56  \n",
       "61912 2014-04-30 20:44:56  \n",
       "61913 2014-04-30 20:59:52  \n",
       "61914 2014-04-30 21:29:45  \n",
       "61915 2014-04-30 22:00:08  \n",
       "61916 2014-04-30 22:29:57  \n",
       "61917 2014-04-30 22:59:52  \n",
       "61918 2014-04-30 23:29:43  \n",
       "61919 2014-04-30 23:59:34  \n",
       "\n",
       "[21004 rows x 10 columns]"
      ]
     },
     "execution_count": 96,
     "metadata": {},
     "output_type": "execute_result"
    }
   ],
   "source": [
    "data_Sanne = birddata[birddata.bird_name == 'Sanne']\n",
    "data_Sanne"
   ]
  },
  {
   "cell_type": "code",
   "execution_count": null,
   "metadata": {},
   "outputs": [],
   "source": []
  }
 ],
 "metadata": {
  "kernelspec": {
   "display_name": "Python 3",
   "language": "python",
   "name": "python3"
  },
  "language_info": {
   "codemirror_mode": {
    "name": "ipython",
    "version": 3
   },
   "file_extension": ".py",
   "mimetype": "text/x-python",
   "name": "python",
   "nbconvert_exporter": "python",
   "pygments_lexer": "ipython3",
   "version": "3.6.4"
  }
 },
 "nbformat": 4,
 "nbformat_minor": 2
}
