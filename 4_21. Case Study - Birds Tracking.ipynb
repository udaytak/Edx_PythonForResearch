{
 "cells": [
  {
   "cell_type": "markdown",
   "metadata": {},
   "source": [
    "4.2.1 Intorduction to GPS Tracking of Birds"
   ]
  },
  {
   "cell_type": "code",
   "execution_count": 1,
   "metadata": {},
   "outputs": [
    {
     "data": {
      "text/plain": [
       "'\\n    GPS - Global Positioning Systems\\n    LifeWatch INBO Project data set\\n        data of 3 gulls, 8 columns\\n'"
      ]
     },
     "execution_count": 1,
     "metadata": {},
     "output_type": "execute_result"
    }
   ],
   "source": [
    "'''\n",
    "    GPS - Global Positioning Systems\n",
    "    LifeWatch INBO Project data set\n",
    "        data of 3 gulls, 8 columns\n",
    "'''"
   ]
  },
  {
   "cell_type": "code",
   "execution_count": 2,
   "metadata": {},
   "outputs": [],
   "source": [
    "import pandas as pd"
   ]
  },
  {
   "cell_type": "code",
   "execution_count": 4,
   "metadata": {},
   "outputs": [],
   "source": [
    "birddata = pd.read_csv(\"./python_case_studies/Bird Tracking/bird_tracking.csv\")"
   ]
  },
  {
   "cell_type": "code",
   "execution_count": 5,
   "metadata": {},
   "outputs": [
    {
     "data": {
      "text/plain": [
       "<bound method DataFrame.info of        Unnamed: 0  altitude               date_time  device_info_serial  \\\n",
       "0               0        71  2013-08-15 00:18:08+00                 851   \n",
       "1               1        68  2013-08-15 00:48:07+00                 851   \n",
       "2               2        68  2013-08-15 01:17:58+00                 851   \n",
       "3               3        73  2013-08-15 01:47:51+00                 851   \n",
       "4               4        69  2013-08-15 02:17:42+00                 851   \n",
       "5               5        54  2013-08-15 02:47:38+00                 851   \n",
       "6               6        57  2013-08-15 03:02:33+00                 851   \n",
       "7               7        65  2013-08-15 03:17:27+00                 851   \n",
       "8               8        59  2013-08-15 03:32:35+00                 851   \n",
       "9               9       107  2013-08-15 03:47:48+00                 851   \n",
       "10             10        61  2013-08-15 04:03:39+00                 851   \n",
       "11             11        56  2013-08-15 04:18:40+00                 851   \n",
       "12             12        57  2013-08-15 04:33:53+00                 851   \n",
       "13             13        68  2013-08-15 04:49:06+00                 851   \n",
       "14             14        74  2013-08-15 05:04:45+00                 851   \n",
       "15             15        78  2013-08-15 05:20:09+00                 851   \n",
       "16             16        77  2013-08-15 05:35:04+00                 851   \n",
       "17             17        72  2013-08-15 05:49:58+00                 851   \n",
       "18             18        74  2013-08-15 06:04:56+00                 851   \n",
       "19             19        93  2013-08-15 06:19:54+00                 851   \n",
       "20             20        84  2013-08-15 06:34:50+00                 851   \n",
       "21             21        90  2013-08-15 06:49:43+00                 851   \n",
       "22             22        84  2013-08-15 07:04:40+00                 851   \n",
       "23             23        85  2013-08-15 07:19:35+00                 851   \n",
       "24             24        87  2013-08-15 07:34:31+00                 851   \n",
       "25             25       149  2013-08-15 07:49:29+00                 851   \n",
       "26             26        90  2013-08-15 08:04:56+00                 851   \n",
       "27             27        56  2013-08-15 08:19:52+00                 851   \n",
       "28             28        66  2013-08-15 08:34:47+00                 851   \n",
       "29             29        17  2013-08-15 08:49:51+00                 851   \n",
       "...           ...       ...                     ...                 ...   \n",
       "61890       61890       -14  2014-04-30 13:55:30+00                 833   \n",
       "61891       61891         7  2014-04-30 14:26:08+00                 833   \n",
       "61892       61892         2  2014-04-30 14:41:56+00                 833   \n",
       "61893       61893         4  2014-04-30 15:12:33+00                 833   \n",
       "61894       61894         6  2014-04-30 15:43:02+00                 833   \n",
       "61895       61895         7  2014-04-30 16:13:16+00                 833   \n",
       "61896       61896         4  2014-04-30 16:28:04+00                 833   \n",
       "61897       61897        15  2014-04-30 16:43:05+00                 833   \n",
       "61898       61898        19  2014-04-30 16:58:01+00                 833   \n",
       "61899       61899         2  2014-04-30 17:28:02+00                 833   \n",
       "61900       61900         5  2014-04-30 17:43:39+00                 833   \n",
       "61901       61901         7  2014-04-30 17:58:29+00                 833   \n",
       "61902       61902         5  2014-04-30 18:15:05+00                 833   \n",
       "61903       61903        25  2014-04-30 18:29:57+00                 833   \n",
       "61904       61904         5  2014-04-30 18:44:53+00                 833   \n",
       "61905       61905         5  2014-04-30 18:59:49+00                 833   \n",
       "61906       61906        18  2014-04-30 19:14:51+00                 833   \n",
       "61907       61907        18  2014-04-30 19:29:44+00                 833   \n",
       "61908       61908       110  2014-04-30 19:44:38+00                 833   \n",
       "61909       61909        55  2014-04-30 19:59:35+00                 833   \n",
       "61910       61910      -158  2014-04-30 20:14:32+00                 833   \n",
       "61911       61911         8  2014-04-30 20:29:56+00                 833   \n",
       "61912       61912        40  2014-04-30 20:44:56+00                 833   \n",
       "61913       61913         4  2014-04-30 20:59:52+00                 833   \n",
       "61914       61914       -10  2014-04-30 21:29:45+00                 833   \n",
       "61915       61915        11  2014-04-30 22:00:08+00                 833   \n",
       "61916       61916         6  2014-04-30 22:29:57+00                 833   \n",
       "61917       61917         5  2014-04-30 22:59:52+00                 833   \n",
       "61918       61918        16  2014-04-30 23:29:43+00                 833   \n",
       "61919       61919         9  2014-04-30 23:59:34+00                 833   \n",
       "\n",
       "        direction   latitude  longitude   speed_2d bird_name  \n",
       "0     -150.469753  49.419860   2.120733   0.150000      Eric  \n",
       "1     -136.151141  49.419880   2.120746   2.438360      Eric  \n",
       "2      160.797477  49.420310   2.120885   0.596657      Eric  \n",
       "3       32.769360  49.420359   2.120859   0.310161      Eric  \n",
       "4       45.191230  49.420331   2.120887   0.193132      Eric  \n",
       "5      -46.344478  49.420375   2.120840   2.904772      Eric  \n",
       "6      -56.369922  49.420352   2.120901   3.080584      Eric  \n",
       "7      -79.170227  49.420342   2.120809   2.199659      Eric  \n",
       "8      -57.682428  49.420319   2.120860   2.640076      Eric  \n",
       "9      119.604739  49.420287   2.121301   4.592211      Eric  \n",
       "10    -119.371360  49.420335   2.120850   0.230217      Eric  \n",
       "11    -130.033119  49.420857   2.121236   0.622415      Eric  \n",
       "12    -110.181448  49.420955   2.121362   1.897630      Eric  \n",
       "13    -105.550373  49.425733   2.152945   1.275343      Eric  \n",
       "14     -50.479822  49.425776   2.152989   1.634656      Eric  \n",
       "15     -75.137715  49.425749   2.153052   0.152315      Eric  \n",
       "16     132.097286  49.425742   2.153097   1.188486      Eric  \n",
       "17     -69.259095  49.425790   2.152993   1.006479      Eric  \n",
       "18      -7.478073  49.425818   2.153009   1.438506      Eric  \n",
       "19      71.026504  49.429422   2.162817   8.901079      Eric  \n",
       "20     156.082032  49.436667   2.193876   0.850059      Eric  \n",
       "21    -169.160500  49.436755   2.194880   0.022361      Eric  \n",
       "22    -141.851516  49.436714   2.194862   1.016710      Eric  \n",
       "23     -78.420344  49.436762   2.194836   3.209143      Eric  \n",
       "24    -154.117730  49.436705   2.194866   0.598164      Eric  \n",
       "25     111.239897  49.434398   2.234223  10.061138      Eric  \n",
       "26     177.889054  49.389027   2.247980   0.070711      Eric  \n",
       "27     179.614500  49.379882   2.224581   8.781031      Eric  \n",
       "28       9.674339  49.386906   2.252524   0.775242      Eric  \n",
       "29    -168.589728  49.387987   2.252950   1.538831      Eric  \n",
       "...           ...        ...        ...        ...       ...  \n",
       "61890  -10.336183  51.343772   3.183033   7.601401     Sanne  \n",
       "61891  119.136447  51.343873   3.183030   0.296985     Sanne  \n",
       "61892  166.332598  51.342312   3.178759   0.308869     Sanne  \n",
       "61893 -110.191511  51.342312   3.178689   0.350000     Sanne  \n",
       "61894  144.477706  51.343801   3.182933   0.050000     Sanne  \n",
       "61895   35.279073  51.344005   3.183084   4.059384     Sanne  \n",
       "61896   17.198506  51.343835   3.182812   0.060828     Sanne  \n",
       "61897   42.518147  51.343868   3.182818   1.240363     Sanne  \n",
       "61898   48.589419  51.343814   3.182877   1.336899     Sanne  \n",
       "61899  -33.801801  51.344039   3.182569   0.422019     Sanne  \n",
       "61900   13.243508  51.343973   3.182583   0.442832     Sanne  \n",
       "61901   97.421295  51.343910   3.182905   2.173315     Sanne  \n",
       "61902 -117.233036  51.343917   3.182878   0.220227     Sanne  \n",
       "61903   47.172794  51.344623   3.185341   6.186049     Sanne  \n",
       "61904   -1.308411  51.345220   3.187298   0.792275     Sanne  \n",
       "61905   26.097018  51.345219   3.187276   0.101980     Sanne  \n",
       "61906   -7.849275  51.346146   3.187874   1.017104     Sanne  \n",
       "61907  -80.511599  51.345710   3.186945   1.181524     Sanne  \n",
       "61908   10.097225  51.346572   3.186884   0.903549     Sanne  \n",
       "61909  120.336748  51.346780   3.187102   1.246315     Sanne  \n",
       "61910  -57.479803  51.353159   3.176386   3.403836     Sanne  \n",
       "61911   17.675638  51.352518   3.177163   0.419762     Sanne  \n",
       "61912  102.044737  51.352512   3.177327   9.026300     Sanne  \n",
       "61913   23.649017  51.352580   3.177224   1.478005     Sanne  \n",
       "61914  -10.057916  51.352661   3.177122   5.531148     Sanne  \n",
       "61915   45.448157  51.352572   3.177151   0.208087     Sanne  \n",
       "61916 -112.073055  51.352585   3.177144   1.522662     Sanne  \n",
       "61917   69.989037  51.352622   3.177257   3.120545     Sanne  \n",
       "61918   88.376373  51.354641   3.181509   0.592115     Sanne  \n",
       "61919  149.949008  51.354474   3.181057   0.485489     Sanne  \n",
       "\n",
       "[61920 rows x 9 columns]>"
      ]
     },
     "execution_count": 5,
     "metadata": {},
     "output_type": "execute_result"
    }
   ],
   "source": [
    "birddata.info"
   ]
  },
  {
   "cell_type": "code",
   "execution_count": 6,
   "metadata": {},
   "outputs": [
    {
     "data": {
      "text/html": [
       "<div>\n",
       "<style scoped>\n",
       "    .dataframe tbody tr th:only-of-type {\n",
       "        vertical-align: middle;\n",
       "    }\n",
       "\n",
       "    .dataframe tbody tr th {\n",
       "        vertical-align: top;\n",
       "    }\n",
       "\n",
       "    .dataframe thead th {\n",
       "        text-align: right;\n",
       "    }\n",
       "</style>\n",
       "<table border=\"1\" class=\"dataframe\">\n",
       "  <thead>\n",
       "    <tr style=\"text-align: right;\">\n",
       "      <th></th>\n",
       "      <th>Unnamed: 0</th>\n",
       "      <th>altitude</th>\n",
       "      <th>date_time</th>\n",
       "      <th>device_info_serial</th>\n",
       "      <th>direction</th>\n",
       "      <th>latitude</th>\n",
       "      <th>longitude</th>\n",
       "      <th>speed_2d</th>\n",
       "      <th>bird_name</th>\n",
       "    </tr>\n",
       "  </thead>\n",
       "  <tbody>\n",
       "    <tr>\n",
       "      <th>0</th>\n",
       "      <td>0</td>\n",
       "      <td>71</td>\n",
       "      <td>2013-08-15 00:18:08+00</td>\n",
       "      <td>851</td>\n",
       "      <td>-150.469753</td>\n",
       "      <td>49.419860</td>\n",
       "      <td>2.120733</td>\n",
       "      <td>0.150000</td>\n",
       "      <td>Eric</td>\n",
       "    </tr>\n",
       "    <tr>\n",
       "      <th>1</th>\n",
       "      <td>1</td>\n",
       "      <td>68</td>\n",
       "      <td>2013-08-15 00:48:07+00</td>\n",
       "      <td>851</td>\n",
       "      <td>-136.151141</td>\n",
       "      <td>49.419880</td>\n",
       "      <td>2.120746</td>\n",
       "      <td>2.438360</td>\n",
       "      <td>Eric</td>\n",
       "    </tr>\n",
       "    <tr>\n",
       "      <th>2</th>\n",
       "      <td>2</td>\n",
       "      <td>68</td>\n",
       "      <td>2013-08-15 01:17:58+00</td>\n",
       "      <td>851</td>\n",
       "      <td>160.797477</td>\n",
       "      <td>49.420310</td>\n",
       "      <td>2.120885</td>\n",
       "      <td>0.596657</td>\n",
       "      <td>Eric</td>\n",
       "    </tr>\n",
       "    <tr>\n",
       "      <th>3</th>\n",
       "      <td>3</td>\n",
       "      <td>73</td>\n",
       "      <td>2013-08-15 01:47:51+00</td>\n",
       "      <td>851</td>\n",
       "      <td>32.769360</td>\n",
       "      <td>49.420359</td>\n",
       "      <td>2.120859</td>\n",
       "      <td>0.310161</td>\n",
       "      <td>Eric</td>\n",
       "    </tr>\n",
       "    <tr>\n",
       "      <th>4</th>\n",
       "      <td>4</td>\n",
       "      <td>69</td>\n",
       "      <td>2013-08-15 02:17:42+00</td>\n",
       "      <td>851</td>\n",
       "      <td>45.191230</td>\n",
       "      <td>49.420331</td>\n",
       "      <td>2.120887</td>\n",
       "      <td>0.193132</td>\n",
       "      <td>Eric</td>\n",
       "    </tr>\n",
       "  </tbody>\n",
       "</table>\n",
       "</div>"
      ],
      "text/plain": [
       "   Unnamed: 0  altitude               date_time  device_info_serial  \\\n",
       "0           0        71  2013-08-15 00:18:08+00                 851   \n",
       "1           1        68  2013-08-15 00:48:07+00                 851   \n",
       "2           2        68  2013-08-15 01:17:58+00                 851   \n",
       "3           3        73  2013-08-15 01:47:51+00                 851   \n",
       "4           4        69  2013-08-15 02:17:42+00                 851   \n",
       "\n",
       "    direction   latitude  longitude  speed_2d bird_name  \n",
       "0 -150.469753  49.419860   2.120733  0.150000      Eric  \n",
       "1 -136.151141  49.419880   2.120746  2.438360      Eric  \n",
       "2  160.797477  49.420310   2.120885  0.596657      Eric  \n",
       "3   32.769360  49.420359   2.120859  0.310161      Eric  \n",
       "4   45.191230  49.420331   2.120887  0.193132      Eric  "
      ]
     },
     "execution_count": 6,
     "metadata": {},
     "output_type": "execute_result"
    }
   ],
   "source": [
    "birddata.head()"
   ]
  },
  {
   "cell_type": "code",
   "execution_count": null,
   "metadata": {},
   "outputs": [],
   "source": []
  },
  {
   "cell_type": "markdown",
   "metadata": {},
   "source": [
    "4.2.2. Simple data Visualizations"
   ]
  },
  {
   "cell_type": "code",
   "execution_count": 14,
   "metadata": {},
   "outputs": [],
   "source": [
    "import matplotlib.pyplot as plt\n",
    "import numpy as np"
   ]
  },
  {
   "cell_type": "code",
   "execution_count": 15,
   "metadata": {},
   "outputs": [],
   "source": [
    "ix = birddata.bird_name == 'Eric'"
   ]
  },
  {
   "cell_type": "code",
   "execution_count": 16,
   "metadata": {},
   "outputs": [],
   "source": [
    "x,y = birddata.longitude[ix],birddata.latitude[ix]"
   ]
  },
  {
   "cell_type": "code",
   "execution_count": 17,
   "metadata": {},
   "outputs": [
    {
     "data": {
      "text/plain": [
       "<matplotlib.figure.Figure at 0x9851f28>"
      ]
     },
     "execution_count": 17,
     "metadata": {},
     "output_type": "execute_result"
    },
    {
     "data": {
      "text/plain": [
       "<matplotlib.figure.Figure at 0x9851f28>"
      ]
     },
     "metadata": {},
     "output_type": "display_data"
    }
   ],
   "source": [
    "plt.figure(figsize=(7,7))"
   ]
  },
  {
   "cell_type": "code",
   "execution_count": 28,
   "metadata": {},
   "outputs": [
    {
     "data": {
      "image/png": "[encoded data removed]",
      "text/plain": [
       "<matplotlib.figure.Figure at 0xb0e1438>"
      ]
     },
     "metadata": {},
     "output_type": "display_data"
    }
   ],
   "source": [
    "plt.plot(x,y,\".\")\n",
    "plt.savefig(\"Trajectory_Eric.pdf\")"
   ]
  },
  {
   "cell_type": "code",
   "execution_count": null,
   "metadata": {},
   "outputs": [],
   "source": []
  },
  {
   "cell_type": "code",
   "execution_count": 29,
   "metadata": {},
   "outputs": [
    {
     "data": {
      "text/plain": [
       "array(['Eric', 'Nico', 'Sanne'], dtype=object)"
      ]
     },
     "execution_count": 29,
     "metadata": {},
     "output_type": "execute_result"
    }
   ],
   "source": [
    "bird_names = pd.unique(birddata.bird_name)\n",
    "bird_names"
   ]
  },
  {
   "cell_type": "code",
   "execution_count": 30,
   "metadata": {},
   "outputs": [
    {
     "data": {
      "text/plain": [
       "<matplotlib.legend.Legend at 0xb0c2ac8>"
      ]
     },
     "execution_count": 30,
     "metadata": {},
     "output_type": "execute_result"
    },
    {
     "data": {
      "image/png": "[encoded data removed]",
      "text/plain": [
       "<matplotlib.figure.Figure at 0xb660ef0>"
      ]
     },
     "metadata": {},
     "output_type": "display_data"
    }
   ],
   "source": [
    "plt.figure(figsize=(7,7))\n",
    "for bird_name in bird_names:\n",
    "    ix = birddata.bird_name == bird_name\n",
    "    x,y = birddata.longitude[ix],birddata.latitude[ix]\n",
    "    plt.plot(x,y,\".\")\n",
    "\n",
    "plt.xlabel(\"Longitude\")\n",
    "plt.ylabel(\"Latitude\")\n",
    "plt.legend(loc=\"lower right\")\n",
    "plt.savefig(\"Trajectory_Birds.pdf\")"
   ]
  },
  {
   "cell_type": "code",
   "execution_count": null,
   "metadata": {},
   "outputs": [],
   "source": []
  }
 ],
 "metadata": {
  "kernelspec": {
   "display_name": "Python 3",
   "language": "python",
   "name": "python3"
  },
  "language_info": {
   "codemirror_mode": {
    "name": "ipython",
    "version": 3
   },
   "file_extension": ".py",
   "mimetype": "text/x-python",
   "name": "python",
   "nbconvert_exporter": "python",
   "pygments_lexer": "ipython3",
   "version": "3.6.4"
  }
 },
 "nbformat": 4,
 "nbformat_minor": 2
}
