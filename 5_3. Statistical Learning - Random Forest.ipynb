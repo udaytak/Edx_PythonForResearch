{
 "cells": [
  {
   "cell_type": "markdown",
   "metadata": {},
   "source": [
    "5.3.1: Tree-Based Methods for Regression and Classification"
   ]
  },
  {
   "cell_type": "code",
   "execution_count": 2,
   "metadata": {},
   "outputs": [
    {
     "data": {
      "text/plain": [
       "'\\nRandom forest\\n    regression / classification\\n    \\n1. tree based method \\n    - several tress making decision\\n    - graph theory - collection of trees is called forest\\n    - not identical to have all similar tree as it will give same prediction\\n    - forest are randomised\\n    - dividing predictor space using simple regions using straight line\\n    - again divide in sub-region so on continue till we hit some criteria - recursive\\n    - to predict for unseen test observation \\n        - find region of predictor space where test observation falls\\n        - regression : mean of the outcome observation\\n        - classification : mode of the outcome of training observation\\n        - slice to divide predictors space into regions \\n            - slice must be align with direction of axis of prediction space\\n            - higher dimensions - line becomes plane , so high dimension rectangles or boxes\\n            - how to decide where to cut - \\n                - carve out regions that are homogeneous\\n                predicted outcome - mean/mode for unseen observations\\n            - split : we consider all -  x1 to xp and their possible cut points\\n                - select cu point such a way that it has lowest criterian \\n                - loss function - try to minimize\\n                - regression : RSS\\n                - classification : Gini index, Cross entropy\\n    \\n    x1 , x2\\n        x1 = 0 to 10, x1=6 0,1\\n        \\n        x1<6  x1>=6\\n              /              x<8  x>=8   subdivision\\n            \\n            regions - based on mode\\n    \\n\\n'"
      ]
     },
     "execution_count": 2,
     "metadata": {},
     "output_type": "execute_result"
    }
   ],
   "source": [
    "'''\n",
    "Random forest\n",
    "    regression / classification\n",
    "    \n",
    "1. tree based method \n",
    "    - several tress making decision\n",
    "    - graph theory - collection of trees is called forest\n",
    "    - not identical to have all similar tree as it will give same prediction\n",
    "    - forest are randomised\n",
    "    - dividing predictor space using simple regions using straight line\n",
    "    - again divide in sub-region so on continue till we hit some criteria - recursive\n",
    "    - to predict for unseen test observation \n",
    "        - find region of predictor space where test observation falls\n",
    "        - regression : mean of the outcome observation\n",
    "        - classification : mode of the outcome of training observation\n",
    "        - slice to divide predictors space into regions \n",
    "            - slice must be align with direction of axis of prediction space\n",
    "            - higher dimensions - line becomes plane , so high dimension rectangles or boxes\n",
    "            - how to decide where to cut - \n",
    "                - carve out regions that are homogeneous\n",
    "                predicted outcome - mean/mode for unseen observations\n",
    "            - split : we consider all -  x1 to xp and their possible cut points\n",
    "                - select cu point such a way that it has lowest criterian \n",
    "                - loss function - try to minimize\n",
    "                - regression : RSS\n",
    "                - classification : Gini index, Cross entropy\n",
    "    \n",
    "    x1 , x2\n",
    "        x1 = 0 to 10, x1=6 0,1\n",
    "        \n",
    "        x1<6  x1>=6\n",
    "              /  \\\n",
    "            x<8  x>=8   subdivision\n",
    "            \n",
    "            regions - based on mode\n",
    "    \n",
    "\n",
    "'''"
   ]
  },
  {
   "cell_type": "code",
   "execution_count": null,
   "metadata": {},
   "outputs": [],
   "source": []
  }
 ],
 "metadata": {
  "kernelspec": {
   "display_name": "Python 3",
   "language": "python",
   "name": "python3"
  },
  "language_info": {
   "codemirror_mode": {
    "name": "ipython",
    "version": 3
   },
   "file_extension": ".py",
   "mimetype": "text/x-python",
   "name": "python",
   "nbconvert_exporter": "python",
   "pygments_lexer": "ipython3",
   "version": "3.6.4"
  }
 },
 "nbformat": 4,
 "nbformat_minor": 2
}
