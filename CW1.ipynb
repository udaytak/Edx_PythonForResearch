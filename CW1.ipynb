{
 "cells": [
  {
   "cell_type": "markdown",
   "metadata": {},
   "source": [
    "# 1.1.2 Objects and Relation"
   ]
  },
  {
   "cell_type": "code",
   "execution_count": 1,
   "metadata": {},
   "outputs": [],
   "source": [
    "'''\n",
    "Object Types- \n",
    "    mutable objects - immutable objects\n",
    "\n",
    "object characteristics - operation it supports, diff functionality based on object type\n",
    "\tType - number, string etc\n",
    "\tvalue - \n",
    "\tidentity - id #\n",
    "\n",
    "Object Attributes-\n",
    "    dot separator\n",
    "    data\n",
    "    methods\n",
    "\n",
    "instance- \n",
    "    occurance of object, \n",
    "    both support same method but might have different values\n",
    "\n",
    "Modules-\n",
    "    python power in libraries\n",
    "    built in functions - \n",
    "    import modules first import statement- then call methods \n",
    "'''"
   ]
  },
  {
   "cell_type": "code",
   "execution_count": 4,
   "metadata": {},
   "outputs": [],
   "source": [
    "import numpy as np"
   ]
  },
  {
   "cell_type": "code",
   "execution_count": 5,
   "metadata": {},
   "outputs": [],
   "source": [
    "x = np.array([1,3,5])"
   ]
  },
  {
   "cell_type": "code",
   "execution_count": 6,
   "metadata": {},
   "outputs": [],
   "source": [
    "y = np.array([1,5,9])"
   ]
  },
  {
   "cell_type": "code",
   "execution_count": 7,
   "metadata": {},
   "outputs": [
    {
     "data": {
      "text/plain": [
       "3.0"
      ]
     },
     "execution_count": 7,
     "metadata": {},
     "output_type": "execute_result"
    }
   ],
   "source": [
    "x.mean() #method attribute"
   ]
  },
  {
   "cell_type": "code",
   "execution_count": 8,
   "metadata": {},
   "outputs": [
    {
     "data": {
      "text/plain": [
       "5.0"
      ]
     },
     "execution_count": 8,
     "metadata": {},
     "output_type": "execute_result"
    }
   ],
   "source": [
    "y.mean()"
   ]
  },
  {
   "cell_type": "code",
   "execution_count": 9,
   "metadata": {},
   "outputs": [
    {
     "data": {
      "text/plain": [
       "(3,)"
      ]
     },
     "execution_count": 9,
     "metadata": {},
     "output_type": "execute_result"
    }
   ],
   "source": [
    "x.shape #data attribute"
   ]
  },
  {
   "cell_type": "code",
   "execution_count": 10,
   "metadata": {},
   "outputs": [
    {
     "data": {
      "text/plain": [
       "(3,)"
      ]
     },
     "execution_count": 10,
     "metadata": {},
     "output_type": "execute_result"
    }
   ],
   "source": [
    "y.shape"
   ]
  },
  {
   "cell_type": "code",
   "execution_count": 26,
   "metadata": {},
   "outputs": [
    {
     "data": {
      "text/plain": [
       "124841136"
      ]
     },
     "execution_count": 26,
     "metadata": {},
     "output_type": "execute_result"
    }
   ],
   "source": [
    "id(x) #id attribute"
   ]
  },
  {
   "cell_type": "code",
   "execution_count": 27,
   "metadata": {},
   "outputs": [
    {
     "data": {
      "text/plain": [
       "124841616"
      ]
     },
     "execution_count": 27,
     "metadata": {},
     "output_type": "execute_result"
    }
   ],
   "source": [
    "id(y)"
   ]
  },
  {
   "cell_type": "code",
   "execution_count": null,
   "metadata": {},
   "outputs": [],
   "source": []
  },
  {
   "cell_type": "markdown",
   "metadata": {},
   "source": [
    "# 1.1.2 Modules and Methods"
   ]
  },
  {
   "cell_type": "code",
   "execution_count": 11,
   "metadata": {},
   "outputs": [
    {
     "data": {
      "text/plain": [
       "'\\nmodules-\\n    libraries of codes\\n    use import statement\\n'"
      ]
     },
     "execution_count": 11,
     "metadata": {},
     "output_type": "execute_result"
    }
   ],
   "source": [
    "'''\n",
    "modules-\n",
    "    libraries of codes\n",
    "    use import statement\n",
    "'''"
   ]
  },
  {
   "cell_type": "code",
   "execution_count": 12,
   "metadata": {},
   "outputs": [],
   "source": [
    "import math"
   ]
  },
  {
   "cell_type": "code",
   "execution_count": 13,
   "metadata": {},
   "outputs": [
    {
     "data": {
      "text/plain": [
       "3.141592653589793"
      ]
     },
     "execution_count": 13,
     "metadata": {},
     "output_type": "execute_result"
    }
   ],
   "source": [
    "math.pi"
   ]
  },
  {
   "cell_type": "code",
   "execution_count": 14,
   "metadata": {},
   "outputs": [
    {
     "data": {
      "text/plain": [
       "3.1622776601683795"
      ]
     },
     "execution_count": 14,
     "metadata": {},
     "output_type": "execute_result"
    }
   ],
   "source": [
    "math.sqrt(10)"
   ]
  },
  {
   "cell_type": "code",
   "execution_count": 15,
   "metadata": {},
   "outputs": [
    {
     "data": {
      "text/plain": [
       "1.5707963267948966"
      ]
     },
     "execution_count": 15,
     "metadata": {},
     "output_type": "execute_result"
    }
   ],
   "source": [
    "math.pi/2"
   ]
  },
  {
   "cell_type": "code",
   "execution_count": 16,
   "metadata": {},
   "outputs": [
    {
     "data": {
      "text/plain": [
       "1.0"
      ]
     },
     "execution_count": 16,
     "metadata": {},
     "output_type": "execute_result"
    }
   ],
   "source": [
    "math.sin(math.pi/2)"
   ]
  },
  {
   "cell_type": "code",
   "execution_count": null,
   "metadata": {},
   "outputs": [],
   "source": []
  },
  {
   "cell_type": "code",
   "execution_count": 17,
   "metadata": {},
   "outputs": [],
   "source": [
    "from math import pi #import specific value rather than the entire library"
   ]
  },
  {
   "cell_type": "code",
   "execution_count": null,
   "metadata": {},
   "outputs": [],
   "source": []
  },
  {
   "cell_type": "code",
   "execution_count": 18,
   "metadata": {},
   "outputs": [
    {
     "data": {
      "text/plain": [
       "'\\nnamespace - \\n    Container of names shared by object that typically go together\\n'"
      ]
     },
     "execution_count": 18,
     "metadata": {},
     "output_type": "execute_result"
    }
   ],
   "source": [
    "'''\n",
    "namespace - \n",
    "    Container of names shared by object that typically go together\n",
    "'''"
   ]
  },
  {
   "cell_type": "code",
   "execution_count": 19,
   "metadata": {},
   "outputs": [],
   "source": [
    "import math"
   ]
  },
  {
   "cell_type": "code",
   "execution_count": 20,
   "metadata": {},
   "outputs": [],
   "source": [
    "import numpy as np"
   ]
  },
  {
   "cell_type": "code",
   "execution_count": 21,
   "metadata": {},
   "outputs": [
    {
     "data": {
      "text/plain": [
       "1.4142135623730951"
      ]
     },
     "execution_count": 21,
     "metadata": {},
     "output_type": "execute_result"
    }
   ],
   "source": [
    "math.sqrt(2)"
   ]
  },
  {
   "cell_type": "code",
   "execution_count": 22,
   "metadata": {},
   "outputs": [
    {
     "data": {
      "text/plain": [
       "1.4142135623730951"
      ]
     },
     "execution_count": 22,
     "metadata": {},
     "output_type": "execute_result"
    }
   ],
   "source": [
    "np.sqrt(2)"
   ]
  },
  {
   "cell_type": "code",
   "execution_count": 23,
   "metadata": {},
   "outputs": [
    {
     "data": {
      "text/plain": [
       "array([1.41421356, 1.73205081, 2.        ])"
      ]
     },
     "execution_count": 23,
     "metadata": {},
     "output_type": "execute_result"
    }
   ],
   "source": [
    "np.sqrt([2,3,4])"
   ]
  },
  {
   "cell_type": "code",
   "execution_count": 24,
   "metadata": {},
   "outputs": [
    {
     "ename": "TypeError",
     "evalue": "must be real number, not list",
     "output_type": "error",
     "traceback": [
      "\u001b[1;31m---------------------------------------------------------------------------\u001b[0m",
      "\u001b[1;31mTypeError\u001b[0m                                 Traceback (most recent call last)",
      "\u001b[1;32m<ipython-input-24-6d0ccf18090e>\u001b[0m in \u001b[0;36m<module>\u001b[1;34m()\u001b[0m\n\u001b[1;32m----> 1\u001b[1;33m \u001b[0mmath\u001b[0m\u001b[1;33m.\u001b[0m\u001b[0msqrt\u001b[0m\u001b[1;33m(\u001b[0m\u001b[1;33m[\u001b[0m\u001b[1;36m2\u001b[0m\u001b[1;33m,\u001b[0m\u001b[1;36m3\u001b[0m\u001b[1;33m,\u001b[0m\u001b[1;36m4\u001b[0m\u001b[1;33m]\u001b[0m\u001b[1;33m)\u001b[0m\u001b[1;33m\u001b[0m\u001b[0m\n\u001b[0m",
      "\u001b[1;31mTypeError\u001b[0m: must be real number, not list"
     ]
    }
   ],
   "source": [
    "math.sqrt([2,3,4])"
   ]
  },
  {
   "cell_type": "code",
   "execution_count": null,
   "metadata": {},
   "outputs": [],
   "source": []
  },
  {
   "cell_type": "code",
   "execution_count": 24,
   "metadata": {},
   "outputs": [],
   "source": [
    "name = \"Uday\""
   ]
  },
  {
   "cell_type": "code",
   "execution_count": 25,
   "metadata": {},
   "outputs": [
    {
     "data": {
      "text/plain": [
       "str"
      ]
     },
     "execution_count": 25,
     "metadata": {},
     "output_type": "execute_result"
    }
   ],
   "source": [
    "type(name)"
   ]
  },
  {
   "cell_type": "code",
   "execution_count": 26,
   "metadata": {},
   "outputs": [
    {
     "data": {
      "text/plain": [
       "['__add__',\n",
       " '__class__',\n",
       " '__contains__',\n",
       " '__delattr__',\n",
       " '__dir__',\n",
       " '__doc__',\n",
       " '__eq__',\n",
       " '__format__',\n",
       " '__ge__',\n",
       " '__getattribute__',\n",
       " '__getitem__',\n",
       " '__getnewargs__',\n",
       " '__gt__',\n",
       " '__hash__',\n",
       " '__init__',\n",
       " '__init_subclass__',\n",
       " '__iter__',\n",
       " '__le__',\n",
       " '__len__',\n",
       " '__lt__',\n",
       " '__mod__',\n",
       " '__mul__',\n",
       " '__ne__',\n",
       " '__new__',\n",
       " '__reduce__',\n",
       " '__reduce_ex__',\n",
       " '__repr__',\n",
       " '__rmod__',\n",
       " '__rmul__',\n",
       " '__setattr__',\n",
       " '__sizeof__',\n",
       " '__str__',\n",
       " '__subclasshook__',\n",
       " 'capitalize',\n",
       " 'casefold',\n",
       " 'center',\n",
       " 'count',\n",
       " 'encode',\n",
       " 'endswith',\n",
       " 'expandtabs',\n",
       " 'find',\n",
       " 'format',\n",
       " 'format_map',\n",
       " 'index',\n",
       " 'isalnum',\n",
       " 'isalpha',\n",
       " 'isdecimal',\n",
       " 'isdigit',\n",
       " 'isidentifier',\n",
       " 'islower',\n",
       " 'isnumeric',\n",
       " 'isprintable',\n",
       " 'isspace',\n",
       " 'istitle',\n",
       " 'isupper',\n",
       " 'join',\n",
       " 'ljust',\n",
       " 'lower',\n",
       " 'lstrip',\n",
       " 'maketrans',\n",
       " 'partition',\n",
       " 'replace',\n",
       " 'rfind',\n",
       " 'rindex',\n",
       " 'rjust',\n",
       " 'rpartition',\n",
       " 'rsplit',\n",
       " 'rstrip',\n",
       " 'split',\n",
       " 'splitlines',\n",
       " 'startswith',\n",
       " 'strip',\n",
       " 'swapcase',\n",
       " 'title',\n",
       " 'translate',\n",
       " 'upper',\n",
       " 'zfill']"
      ]
     },
     "execution_count": 26,
     "metadata": {},
     "output_type": "execute_result"
    }
   ],
   "source": [
    "dir(name) #functions available with the name - String"
   ]
  },
  {
   "cell_type": "code",
   "execution_count": 27,
   "metadata": {},
   "outputs": [
    {
     "data": {
      "text/plain": [
       "['__add__',\n",
       " '__class__',\n",
       " '__contains__',\n",
       " '__delattr__',\n",
       " '__dir__',\n",
       " '__doc__',\n",
       " '__eq__',\n",
       " '__format__',\n",
       " '__ge__',\n",
       " '__getattribute__',\n",
       " '__getitem__',\n",
       " '__getnewargs__',\n",
       " '__gt__',\n",
       " '__hash__',\n",
       " '__init__',\n",
       " '__init_subclass__',\n",
       " '__iter__',\n",
       " '__le__',\n",
       " '__len__',\n",
       " '__lt__',\n",
       " '__mod__',\n",
       " '__mul__',\n",
       " '__ne__',\n",
       " '__new__',\n",
       " '__reduce__',\n",
       " '__reduce_ex__',\n",
       " '__repr__',\n",
       " '__rmod__',\n",
       " '__rmul__',\n",
       " '__setattr__',\n",
       " '__sizeof__',\n",
       " '__str__',\n",
       " '__subclasshook__',\n",
       " 'capitalize',\n",
       " 'casefold',\n",
       " 'center',\n",
       " 'count',\n",
       " 'encode',\n",
       " 'endswith',\n",
       " 'expandtabs',\n",
       " 'find',\n",
       " 'format',\n",
       " 'format_map',\n",
       " 'index',\n",
       " 'isalnum',\n",
       " 'isalpha',\n",
       " 'isdecimal',\n",
       " 'isdigit',\n",
       " 'isidentifier',\n",
       " 'islower',\n",
       " 'isnumeric',\n",
       " 'isprintable',\n",
       " 'isspace',\n",
       " 'istitle',\n",
       " 'isupper',\n",
       " 'join',\n",
       " 'ljust',\n",
       " 'lower',\n",
       " 'lstrip',\n",
       " 'maketrans',\n",
       " 'partition',\n",
       " 'replace',\n",
       " 'rfind',\n",
       " 'rindex',\n",
       " 'rjust',\n",
       " 'rpartition',\n",
       " 'rsplit',\n",
       " 'rstrip',\n",
       " 'split',\n",
       " 'splitlines',\n",
       " 'startswith',\n",
       " 'strip',\n",
       " 'swapcase',\n",
       " 'title',\n",
       " 'translate',\n",
       " 'upper',\n",
       " 'zfill']"
      ]
     },
     "execution_count": 27,
     "metadata": {},
     "output_type": "execute_result"
    }
   ],
   "source": [
    "dir(str) #alternative method to find methods of String"
   ]
  },
  {
   "cell_type": "code",
   "execution_count": null,
   "metadata": {},
   "outputs": [],
   "source": []
  },
  {
   "cell_type": "code",
   "execution_count": 28,
   "metadata": {},
   "outputs": [
    {
     "name": "stdout",
     "output_type": "stream",
     "text": [
      "Help on built-in function upper:\n",
      "\n",
      "upper(...) method of builtins.str instance\n",
      "    S.upper() -> str\n",
      "    \n",
      "    Return a copy of S converted to uppercase.\n",
      "\n"
     ]
    }
   ],
   "source": [
    "#help with spectific function\n",
    "help(name.upper)"
   ]
  },
  {
   "cell_type": "code",
   "execution_count": 29,
   "metadata": {},
   "outputs": [
    {
     "data": {
      "text/plain": [
       "'UDAY'"
      ]
     },
     "execution_count": 29,
     "metadata": {},
     "output_type": "execute_result"
    }
   ],
   "source": [
    "name.upper()"
   ]
  },
  {
   "cell_type": "code",
   "execution_count": 32,
   "metadata": {},
   "outputs": [
    {
     "name": "stdout",
     "output_type": "stream",
     "text": [
      "No Python documentation found for 'UDAY'.\n",
      "Use help() to get the interactive help utility.\n",
      "Use help(str) for help on the str class.\n",
      "\n"
     ]
    }
   ],
   "source": [
    "help(name.upper())"
   ]
  },
  {
   "cell_type": "code",
   "execution_count": null,
   "metadata": {},
   "outputs": [],
   "source": []
  },
  {
   "cell_type": "markdown",
   "metadata": {},
   "source": [
    "# 1.1.4 Numbers and Basic Calculations"
   ]
  },
  {
   "cell_type": "code",
   "execution_count": null,
   "metadata": {},
   "outputs": [],
   "source": [
    "'''\n",
    "Numbers- \n",
    "    3 type of object. \n",
    "    - int, \n",
    "    - float, \n",
    "    - complex\n",
    "'''"
   ]
  },
  {
   "cell_type": "code",
   "execution_count": 33,
   "metadata": {},
   "outputs": [
    {
     "data": {
      "text/plain": [
       "157"
      ]
     },
     "execution_count": 33,
     "metadata": {},
     "output_type": "execute_result"
    }
   ],
   "source": [
    "123 +34"
   ]
  },
  {
   "cell_type": "code",
   "execution_count": 34,
   "metadata": {},
   "outputs": [
    {
     "data": {
      "text/plain": [
       "4182"
      ]
     },
     "execution_count": 34,
     "metadata": {},
     "output_type": "execute_result"
    }
   ],
   "source": [
    "123*34"
   ]
  },
  {
   "cell_type": "code",
   "execution_count": 35,
   "metadata": {},
   "outputs": [
    {
     "data": {
      "text/plain": [
       "113965602005968684136628000184496763088921243891670079405854808234118809"
      ]
     },
     "execution_count": 35,
     "metadata": {},
     "output_type": "execute_result"
    }
   ],
   "source": [
    "123**34"
   ]
  },
  {
   "cell_type": "code",
   "execution_count": 37,
   "metadata": {},
   "outputs": [
    {
     "data": {
      "text/plain": [
       "1279877952993183051986973539604845164416502513636346705337170803726411025470749464897274458094310027641538403518886772068488210006918966065002745378030506752815208386095764374685642192590355701456767512307455831844488073669576026147705432794539033341622755897229329028952926324944572455578003530422162490192737668724135468477263743083781375703499001749442753140695971740546882894076188576764094165156251094543104669302266425775912388758194755702455716165725687931375468343083606167626986374976052558604362620944429374122151363071848651455023789260278600817905457022206926013298176238393676651051826250474676095298384047395387036298078336490772683893323215883862175177614072650597066235050748159816567023166274121731646191289"
      ]
     },
     "execution_count": 37,
     "metadata": {},
     "output_type": "execute_result"
    }
   ],
   "source": [
    "'''\n",
    "python int -unlimited precision\n",
    "'''\n",
    "123**346"
   ]
  },
  {
   "cell_type": "code",
   "execution_count": 40,
   "metadata": {},
   "outputs": [
    {
     "data": {
      "text/plain": [
       "2.142857142857143"
      ]
     },
     "execution_count": 40,
     "metadata": {},
     "output_type": "execute_result"
    }
   ],
   "source": [
    "15/7"
   ]
  },
  {
   "cell_type": "code",
   "execution_count": 39,
   "metadata": {},
   "outputs": [
    {
     "data": {
      "text/plain": [
       "2"
      ]
     },
     "execution_count": 39,
     "metadata": {},
     "output_type": "execute_result"
    }
   ],
   "source": [
    "#integer division\n",
    "15//7"
   ]
  },
  {
   "cell_type": "code",
   "execution_count": 44,
   "metadata": {},
   "outputs": [
    {
     "data": {
      "text/plain": [
       "6.521739130434783"
      ]
     },
     "execution_count": 44,
     "metadata": {},
     "output_type": "execute_result"
    }
   ],
   "source": [
    "15 / 2.3"
   ]
  },
  {
   "cell_type": "code",
   "execution_count": 45,
   "metadata": {},
   "outputs": [
    {
     "data": {
      "text/plain": [
       "6.521739130434783"
      ]
     },
     "execution_count": 45,
     "metadata": {},
     "output_type": "execute_result"
    }
   ],
   "source": [
    "_"
   ]
  },
  {
   "cell_type": "code",
   "execution_count": 46,
   "metadata": {},
   "outputs": [
    {
     "data": {
      "text/plain": [
       "15.0"
      ]
     },
     "execution_count": 46,
     "metadata": {},
     "output_type": "execute_result"
    }
   ],
   "source": [
    "_ * 2.3"
   ]
  },
  {
   "cell_type": "code",
   "execution_count": 47,
   "metadata": {},
   "outputs": [
    {
     "data": {
      "text/plain": [
       "20"
      ]
     },
     "execution_count": 47,
     "metadata": {},
     "output_type": "execute_result"
    }
   ],
   "source": [
    "10 * 2"
   ]
  },
  {
   "cell_type": "code",
   "execution_count": 48,
   "metadata": {},
   "outputs": [
    {
     "data": {
      "text/plain": [
       "25"
      ]
     },
     "execution_count": 48,
     "metadata": {},
     "output_type": "execute_result"
    }
   ],
   "source": [
    "_ + 5"
   ]
  },
  {
   "cell_type": "code",
   "execution_count": 49,
   "metadata": {},
   "outputs": [
    {
     "data": {
      "text/plain": [
       "625"
      ]
     },
     "execution_count": 49,
     "metadata": {},
     "output_type": "execute_result"
    }
   ],
   "source": [
    "_ **2"
   ]
  },
  {
   "cell_type": "code",
   "execution_count": null,
   "metadata": {},
   "outputs": [],
   "source": []
  },
  {
   "cell_type": "code",
   "execution_count": 51,
   "metadata": {},
   "outputs": [],
   "source": [
    "import math"
   ]
  },
  {
   "cell_type": "code",
   "execution_count": 52,
   "metadata": {},
   "outputs": [
    {
     "data": {
      "text/plain": [
       "6"
      ]
     },
     "execution_count": 52,
     "metadata": {},
     "output_type": "execute_result"
    }
   ],
   "source": [
    "math.factorial(3)"
   ]
  },
  {
   "cell_type": "code",
   "execution_count": null,
   "metadata": {},
   "outputs": [],
   "source": []
  },
  {
   "cell_type": "markdown",
   "metadata": {},
   "source": [
    "# 1.1.5 Random Choice"
   ]
  },
  {
   "cell_type": "code",
   "execution_count": 53,
   "metadata": {},
   "outputs": [],
   "source": [
    "import random"
   ]
  },
  {
   "cell_type": "code",
   "execution_count": 54,
   "metadata": {},
   "outputs": [
    {
     "data": {
      "text/plain": [
       "66"
      ]
     },
     "execution_count": 54,
     "metadata": {},
     "output_type": "execute_result"
    }
   ],
   "source": [
    "random.choice([2,44,55,66])"
   ]
  },
  {
   "cell_type": "code",
   "execution_count": 55,
   "metadata": {},
   "outputs": [
    {
     "data": {
      "text/plain": [
       "55"
      ]
     },
     "execution_count": 55,
     "metadata": {},
     "output_type": "execute_result"
    }
   ],
   "source": [
    "random.choice([2,44,55,66])"
   ]
  },
  {
   "cell_type": "code",
   "execution_count": 56,
   "metadata": {},
   "outputs": [
    {
     "data": {
      "text/plain": [
       "'aa'"
      ]
     },
     "execution_count": 56,
     "metadata": {},
     "output_type": "execute_result"
    }
   ],
   "source": [
    "random.choice([\"aa\",\"bb\",\"cc\"])"
   ]
  },
  {
   "cell_type": "code",
   "execution_count": null,
   "metadata": {},
   "outputs": [],
   "source": []
  },
  {
   "cell_type": "markdown",
   "metadata": {},
   "source": [
    "# 1.1.6 Expressions & Booleans"
   ]
  },
  {
   "cell_type": "code",
   "execution_count": 57,
   "metadata": {},
   "outputs": [
    {
     "data": {
      "text/plain": [
       "bool"
      ]
     },
     "execution_count": 57,
     "metadata": {},
     "output_type": "execute_result"
    }
   ],
   "source": [
    "type(True)"
   ]
  },
  {
   "cell_type": "code",
   "execution_count": 58,
   "metadata": {},
   "outputs": [
    {
     "ename": "NameError",
     "evalue": "name 'true' is not defined",
     "output_type": "error",
     "traceback": [
      "\u001b[1;31m---------------------------------------------------------------------------\u001b[0m",
      "\u001b[1;31mNameError\u001b[0m                                 Traceback (most recent call last)",
      "\u001b[1;32m<ipython-input-58-6f4d8242c3d0>\u001b[0m in \u001b[0;36m<module>\u001b[1;34m()\u001b[0m\n\u001b[1;32m----> 1\u001b[1;33m \u001b[0mtype\u001b[0m\u001b[1;33m(\u001b[0m\u001b[0mtrue\u001b[0m\u001b[1;33m)\u001b[0m\u001b[1;33m\u001b[0m\u001b[0m\n\u001b[0m",
      "\u001b[1;31mNameError\u001b[0m: name 'true' is not defined"
     ]
    }
   ],
   "source": [
    "type(true)"
   ]
  },
  {
   "cell_type": "code",
   "execution_count": 59,
   "metadata": {},
   "outputs": [
    {
     "data": {
      "text/plain": [
       "True"
      ]
     },
     "execution_count": 59,
     "metadata": {},
     "output_type": "execute_result"
    }
   ],
   "source": [
    "True or False"
   ]
  },
  {
   "cell_type": "code",
   "execution_count": 60,
   "metadata": {},
   "outputs": [
    {
     "data": {
      "text/plain": [
       "False"
      ]
     },
     "execution_count": 60,
     "metadata": {},
     "output_type": "execute_result"
    }
   ],
   "source": [
    "True and False"
   ]
  },
  {
   "cell_type": "code",
   "execution_count": 62,
   "metadata": {},
   "outputs": [
    {
     "data": {
      "text/plain": [
       "False"
      ]
     },
     "execution_count": 62,
     "metadata": {},
     "output_type": "execute_result"
    }
   ],
   "source": [
    "not True"
   ]
  },
  {
   "cell_type": "code",
   "execution_count": null,
   "metadata": {},
   "outputs": [],
   "source": []
  },
  {
   "cell_type": "code",
   "execution_count": 63,
   "metadata": {},
   "outputs": [
    {
     "data": {
      "text/plain": [
       "True"
      ]
     },
     "execution_count": 63,
     "metadata": {},
     "output_type": "execute_result"
    }
   ],
   "source": [
    "2 < 4"
   ]
  },
  {
   "cell_type": "code",
   "execution_count": 64,
   "metadata": {},
   "outputs": [
    {
     "data": {
      "text/plain": [
       "True"
      ]
     },
     "execution_count": 64,
     "metadata": {},
     "output_type": "execute_result"
    }
   ],
   "source": [
    "2  <= 2"
   ]
  },
  {
   "cell_type": "code",
   "execution_count": 65,
   "metadata": {},
   "outputs": [
    {
     "data": {
      "text/plain": [
       "True"
      ]
     },
     "execution_count": 65,
     "metadata": {},
     "output_type": "execute_result"
    }
   ],
   "source": [
    "2 == 2"
   ]
  },
  {
   "cell_type": "code",
   "execution_count": 66,
   "metadata": {},
   "outputs": [
    {
     "data": {
      "text/plain": [
       "False"
      ]
     },
     "execution_count": 66,
     "metadata": {},
     "output_type": "execute_result"
    }
   ],
   "source": [
    "2 != 2"
   ]
  },
  {
   "cell_type": "code",
   "execution_count": 67,
   "metadata": {},
   "outputs": [
    {
     "data": {
      "text/plain": [
       "False"
      ]
     },
     "execution_count": 67,
     "metadata": {},
     "output_type": "execute_result"
    }
   ],
   "source": [
    "[2,3] == [3,3]"
   ]
  },
  {
   "cell_type": "code",
   "execution_count": 68,
   "metadata": {},
   "outputs": [
    {
     "data": {
      "text/plain": [
       "True"
      ]
     },
     "execution_count": 68,
     "metadata": {},
     "output_type": "execute_result"
    }
   ],
   "source": [
    "[2,3] == [2,3] #contents comparison"
   ]
  },
  {
   "cell_type": "code",
   "execution_count": 25,
   "metadata": {},
   "outputs": [
    {
     "data": {
      "text/plain": [
       "False"
      ]
     },
     "execution_count": 25,
     "metadata": {},
     "output_type": "execute_result"
    }
   ],
   "source": [
    "[2,3] == [3,2] "
   ]
  },
  {
   "cell_type": "code",
   "execution_count": 69,
   "metadata": {},
   "outputs": [
    {
     "data": {
      "text/plain": [
       "False"
      ]
     },
     "execution_count": 69,
     "metadata": {},
     "output_type": "execute_result"
    }
   ],
   "source": [
    "[2,3] is [2,3] #object comparison - check same identity"
   ]
  },
  {
   "cell_type": "code",
   "execution_count": 71,
   "metadata": {},
   "outputs": [
    {
     "data": {
      "text/plain": [
       "True"
      ]
     },
     "execution_count": 71,
     "metadata": {},
     "output_type": "execute_result"
    }
   ],
   "source": [
    "2 == 2.0 #typecast 2 from int to float"
   ]
  },
  {
   "cell_type": "code",
   "execution_count": 79,
   "metadata": {},
   "outputs": [
    {
     "data": {
      "text/plain": [
       "True"
      ]
     },
     "execution_count": 79,
     "metadata": {},
     "output_type": "execute_result"
    }
   ],
   "source": [
    "True is True"
   ]
  },
  {
   "cell_type": "code",
   "execution_count": 72,
   "metadata": {},
   "outputs": [
    {
     "data": {
      "text/plain": [
       "True"
      ]
     },
     "execution_count": 72,
     "metadata": {},
     "output_type": "execute_result"
    }
   ],
   "source": [
    "True and not False is True"
   ]
  },
  {
   "cell_type": "code",
   "execution_count": 73,
   "metadata": {},
   "outputs": [
    {
     "data": {
      "text/plain": [
       "True"
      ]
     },
     "execution_count": 73,
     "metadata": {},
     "output_type": "execute_result"
    }
   ],
   "source": [
    "not False is True"
   ]
  },
  {
   "cell_type": "code",
   "execution_count": 74,
   "metadata": {},
   "outputs": [],
   "source": [
    "a=1\n",
    "b=1"
   ]
  },
  {
   "cell_type": "code",
   "execution_count": 75,
   "metadata": {},
   "outputs": [
    {
     "data": {
      "text/plain": [
       "True"
      ]
     },
     "execution_count": 75,
     "metadata": {},
     "output_type": "execute_result"
    }
   ],
   "source": [
    "a==b"
   ]
  },
  {
   "cell_type": "code",
   "execution_count": 76,
   "metadata": {},
   "outputs": [
    {
     "data": {
      "text/plain": [
       "True"
      ]
     },
     "execution_count": 76,
     "metadata": {},
     "output_type": "execute_result"
    }
   ],
   "source": [
    "a is b"
   ]
  },
  {
   "cell_type": "code",
   "execution_count": 77,
   "metadata": {},
   "outputs": [
    {
     "data": {
      "text/plain": [
       "1902603744"
      ]
     },
     "execution_count": 77,
     "metadata": {},
     "output_type": "execute_result"
    }
   ],
   "source": [
    "id(a)"
   ]
  },
  {
   "cell_type": "code",
   "execution_count": 78,
   "metadata": {},
   "outputs": [
    {
     "data": {
      "text/plain": [
       "1902603744"
      ]
     },
     "execution_count": 78,
     "metadata": {},
     "output_type": "execute_result"
    }
   ],
   "source": [
    "id(b)"
   ]
  },
  {
   "cell_type": "code",
   "execution_count": null,
   "metadata": {},
   "outputs": [],
   "source": []
  },
  {
   "cell_type": "code",
   "execution_count": null,
   "metadata": {},
   "outputs": [],
   "source": []
  },
  {
   "cell_type": "markdown",
   "metadata": {},
   "source": [
    "# 1.2.1 Sequence"
   ]
  },
  {
   "cell_type": "code",
   "execution_count": 83,
   "metadata": {},
   "outputs": [
    {
     "data": {
      "text/plain": [
       "'\\nSequence - tuple, Lists, range object\\n'"
      ]
     },
     "execution_count": 83,
     "metadata": {},
     "output_type": "execute_result"
    }
   ],
   "source": [
    "'''\n",
    "Sequence - \n",
    "    tuple, \n",
    "    Lists, \n",
    "    range\n",
    "'''"
   ]
  },
  {
   "cell_type": "code",
   "execution_count": 84,
   "metadata": {},
   "outputs": [
    {
     "data": {
      "text/plain": [
       "(1, 2, 3)"
      ]
     },
     "execution_count": 84,
     "metadata": {},
     "output_type": "execute_result"
    }
   ],
   "source": [
    "(1,2,3)"
   ]
  },
  {
   "cell_type": "code",
   "execution_count": 85,
   "metadata": {},
   "outputs": [
    {
     "data": {
      "text/plain": [
       "1"
      ]
     },
     "execution_count": 85,
     "metadata": {},
     "output_type": "execute_result"
    }
   ],
   "source": [
    "(1,2,3)[0]"
   ]
  },
  {
   "cell_type": "code",
   "execution_count": 1,
   "metadata": {},
   "outputs": [
    {
     "data": {
      "text/plain": [
       "2"
      ]
     },
     "execution_count": 1,
     "metadata": {},
     "output_type": "execute_result"
    }
   ],
   "source": [
    "(1,2,3)[1]"
   ]
  },
  {
   "cell_type": "code",
   "execution_count": 86,
   "metadata": {},
   "outputs": [
    {
     "data": {
      "text/plain": [
       "1"
      ]
     },
     "execution_count": 86,
     "metadata": {},
     "output_type": "execute_result"
    }
   ],
   "source": [
    "(1,2,3)[-0]"
   ]
  },
  {
   "cell_type": "code",
   "execution_count": 87,
   "metadata": {},
   "outputs": [
    {
     "data": {
      "text/plain": [
       "3"
      ]
     },
     "execution_count": 87,
     "metadata": {},
     "output_type": "execute_result"
    }
   ],
   "source": [
    "(1,2,3)[-1]"
   ]
  },
  {
   "cell_type": "code",
   "execution_count": 2,
   "metadata": {},
   "outputs": [
    {
     "data": {
      "text/plain": [
       "(1, 2)"
      ]
     },
     "execution_count": 2,
     "metadata": {},
     "output_type": "execute_result"
    }
   ],
   "source": [
    "(1,2,3)[0:2]"
   ]
  },
  {
   "cell_type": "code",
   "execution_count": 88,
   "metadata": {},
   "outputs": [
    {
     "data": {
      "text/plain": [
       "()"
      ]
     },
     "execution_count": 88,
     "metadata": {},
     "output_type": "execute_result"
    }
   ],
   "source": [
    "(1,2,3)[-0:0]"
   ]
  },
  {
   "cell_type": "code",
   "execution_count": null,
   "metadata": {},
   "outputs": [],
   "source": []
  },
  {
   "cell_type": "code",
   "execution_count": 89,
   "metadata": {},
   "outputs": [],
   "source": [
    "#list"
   ]
  },
  {
   "cell_type": "code",
   "execution_count": 90,
   "metadata": {},
   "outputs": [],
   "source": [
    "numbers = [2,4,6,8]"
   ]
  },
  {
   "cell_type": "code",
   "execution_count": 92,
   "metadata": {},
   "outputs": [
    {
     "data": {
      "text/plain": [
       "2"
      ]
     },
     "execution_count": 92,
     "metadata": {},
     "output_type": "execute_result"
    }
   ],
   "source": [
    "numbers[0]"
   ]
  },
  {
   "cell_type": "code",
   "execution_count": 93,
   "metadata": {},
   "outputs": [
    {
     "data": {
      "text/plain": [
       "8"
      ]
     },
     "execution_count": 93,
     "metadata": {},
     "output_type": "execute_result"
    }
   ],
   "source": [
    "numbers[-1]"
   ]
  },
  {
   "cell_type": "code",
   "execution_count": 94,
   "metadata": {},
   "outputs": [],
   "source": [
    "numbers.append(10)"
   ]
  },
  {
   "cell_type": "code",
   "execution_count": 95,
   "metadata": {},
   "outputs": [
    {
     "data": {
      "text/plain": [
       "[2, 4, 6, 8, 10]"
      ]
     },
     "execution_count": 95,
     "metadata": {},
     "output_type": "execute_result"
    }
   ],
   "source": [
    "numbers"
   ]
  },
  {
   "cell_type": "code",
   "execution_count": 96,
   "metadata": {},
   "outputs": [],
   "source": [
    "x = [12,14,16]"
   ]
  },
  {
   "cell_type": "code",
   "execution_count": 97,
   "metadata": {},
   "outputs": [
    {
     "data": {
      "text/plain": [
       "[2, 4, 6, 8, 10, 12, 14, 16]"
      ]
     },
     "execution_count": 97,
     "metadata": {},
     "output_type": "execute_result"
    }
   ],
   "source": [
    "numbers + x"
   ]
  },
  {
   "cell_type": "code",
   "execution_count": 98,
   "metadata": {},
   "outputs": [
    {
     "data": {
      "text/plain": [
       "list"
      ]
     },
     "execution_count": 98,
     "metadata": {},
     "output_type": "execute_result"
    }
   ],
   "source": [
    "type(_)"
   ]
  },
  {
   "cell_type": "code",
   "execution_count": 99,
   "metadata": {},
   "outputs": [],
   "source": [
    "n1 = [1,3,5,7,11,13,17,19,23]"
   ]
  },
  {
   "cell_type": "code",
   "execution_count": 100,
   "metadata": {},
   "outputs": [],
   "source": [
    "n1.reverse()"
   ]
  },
  {
   "cell_type": "code",
   "execution_count": 101,
   "metadata": {},
   "outputs": [
    {
     "data": {
      "text/plain": [
       "[23, 19, 17, 13, 11, 7, 5, 3, 1]"
      ]
     },
     "execution_count": 101,
     "metadata": {},
     "output_type": "execute_result"
    }
   ],
   "source": [
    "n1"
   ]
  },
  {
   "cell_type": "code",
   "execution_count": 102,
   "metadata": {},
   "outputs": [],
   "source": [
    "n2= [\"Zoya\", \"Alex\", \"Morgan\"]"
   ]
  },
  {
   "cell_type": "code",
   "execution_count": 103,
   "metadata": {},
   "outputs": [],
   "source": [
    "n2.sort()"
   ]
  },
  {
   "cell_type": "code",
   "execution_count": 104,
   "metadata": {},
   "outputs": [
    {
     "data": {
      "text/plain": [
       "['Alex', 'Morgan', 'Zoya']"
      ]
     },
     "execution_count": 104,
     "metadata": {},
     "output_type": "execute_result"
    }
   ],
   "source": [
    "n2"
   ]
  },
  {
   "cell_type": "code",
   "execution_count": 105,
   "metadata": {},
   "outputs": [],
   "source": [
    "n2.reverse()"
   ]
  },
  {
   "cell_type": "code",
   "execution_count": 106,
   "metadata": {},
   "outputs": [
    {
     "data": {
      "text/plain": [
       "['Zoya', 'Morgan', 'Alex']"
      ]
     },
     "execution_count": 106,
     "metadata": {},
     "output_type": "execute_result"
    }
   ],
   "source": [
    "n2"
   ]
  },
  {
   "cell_type": "code",
   "execution_count": 107,
   "metadata": {},
   "outputs": [],
   "source": [
    "sorted_names = sorted(n2)"
   ]
  },
  {
   "cell_type": "code",
   "execution_count": 108,
   "metadata": {},
   "outputs": [
    {
     "data": {
      "text/plain": [
       "['Alex', 'Morgan', 'Zoya']"
      ]
     },
     "execution_count": 108,
     "metadata": {},
     "output_type": "execute_result"
    }
   ],
   "source": [
    "sorted_names"
   ]
  },
  {
   "cell_type": "code",
   "execution_count": 109,
   "metadata": {},
   "outputs": [
    {
     "data": {
      "text/plain": [
       "3"
      ]
     },
     "execution_count": 109,
     "metadata": {},
     "output_type": "execute_result"
    }
   ],
   "source": [
    "len(n2)"
   ]
  },
  {
   "cell_type": "code",
   "execution_count": null,
   "metadata": {},
   "outputs": [],
   "source": []
  },
  {
   "cell_type": "code",
   "execution_count": 110,
   "metadata": {},
   "outputs": [],
   "source": [
    "T=(1,3,5,7)"
   ]
  },
  {
   "cell_type": "code",
   "execution_count": 111,
   "metadata": {},
   "outputs": [
    {
     "data": {
      "text/plain": [
       "4"
      ]
     },
     "execution_count": 111,
     "metadata": {},
     "output_type": "execute_result"
    }
   ],
   "source": [
    "len(T)"
   ]
  },
  {
   "cell_type": "code",
   "execution_count": 112,
   "metadata": {},
   "outputs": [
    {
     "data": {
      "text/plain": [
       "(1, 3, 5, 7, 9, 11)"
      ]
     },
     "execution_count": 112,
     "metadata": {},
     "output_type": "execute_result"
    }
   ],
   "source": [
    "T + (9,11)"
   ]
  },
  {
   "cell_type": "code",
   "execution_count": 114,
   "metadata": {},
   "outputs": [
    {
     "data": {
      "text/plain": [
       "1"
      ]
     },
     "execution_count": 114,
     "metadata": {},
     "output_type": "execute_result"
    }
   ],
   "source": [
    "T[0]"
   ]
  },
  {
   "cell_type": "code",
   "execution_count": 115,
   "metadata": {},
   "outputs": [],
   "source": [
    "x = 12.23\n",
    "y = 23.34"
   ]
  },
  {
   "cell_type": "code",
   "execution_count": 118,
   "metadata": {},
   "outputs": [],
   "source": [
    "coordinates = (x,y) #packing"
   ]
  },
  {
   "cell_type": "code",
   "execution_count": 119,
   "metadata": {},
   "outputs": [
    {
     "data": {
      "text/plain": [
       "(12.23, 23.34)"
      ]
     },
     "execution_count": 119,
     "metadata": {},
     "output_type": "execute_result"
    }
   ],
   "source": [
    "coordinates"
   ]
  },
  {
   "cell_type": "code",
   "execution_count": 121,
   "metadata": {},
   "outputs": [],
   "source": [
    "(c1, c2) = coordinates #unpacking"
   ]
  },
  {
   "cell_type": "code",
   "execution_count": 122,
   "metadata": {},
   "outputs": [
    {
     "data": {
      "text/plain": [
       "12.23"
      ]
     },
     "execution_count": 122,
     "metadata": {},
     "output_type": "execute_result"
    }
   ],
   "source": [
    "c1"
   ]
  },
  {
   "cell_type": "code",
   "execution_count": 123,
   "metadata": {},
   "outputs": [
    {
     "data": {
      "text/plain": [
       "23.34"
      ]
     },
     "execution_count": 123,
     "metadata": {},
     "output_type": "execute_result"
    }
   ],
   "source": [
    "c2"
   ]
  },
  {
   "cell_type": "code",
   "execution_count": 124,
   "metadata": {},
   "outputs": [],
   "source": []
  },
  {
   "cell_type": "code",
   "execution_count": 125,
   "metadata": {},
   "outputs": [],
   "source": [
    "coordinates = [(x, x**2) for x in range(0,10)]"
   ]
  },
  {
   "cell_type": "code",
   "execution_count": 126,
   "metadata": {},
   "outputs": [
    {
     "data": {
      "text/plain": [
       "[(0, 0),\n",
       " (1, 1),\n",
       " (2, 4),\n",
       " (3, 9),\n",
       " (4, 16),\n",
       " (5, 25),\n",
       " (6, 36),\n",
       " (7, 49),\n",
       " (8, 64),\n",
       " (9, 81)]"
      ]
     },
     "execution_count": 126,
     "metadata": {},
     "output_type": "execute_result"
    }
   ],
   "source": [
    "coordinates"
   ]
  },
  {
   "cell_type": "code",
   "execution_count": 127,
   "metadata": {},
   "outputs": [
    {
     "name": "stdout",
     "output_type": "stream",
     "text": [
      "0 0\n",
      "1 1\n",
      "2 4\n",
      "3 9\n",
      "4 16\n",
      "5 25\n",
      "6 36\n",
      "7 49\n",
      "8 64\n",
      "9 81\n"
     ]
    }
   ],
   "source": [
    "for (x,y) in coordinates:\n",
    "    print(x,y) #unpacking"
   ]
  },
  {
   "cell_type": "code",
   "execution_count": 128,
   "metadata": {},
   "outputs": [
    {
     "name": "stdout",
     "output_type": "stream",
     "text": [
      "0 0\n",
      "1 1\n",
      "2 4\n",
      "3 9\n",
      "4 16\n",
      "5 25\n",
      "6 36\n",
      "7 49\n",
      "8 64\n",
      "9 81\n"
     ]
    }
   ],
   "source": [
    "for x,y in coordinates:\n",
    "    print(x,y) #unpacking"
   ]
  },
  {
   "cell_type": "code",
   "execution_count": 129,
   "metadata": {},
   "outputs": [],
   "source": [
    "c = (2,3)"
   ]
  },
  {
   "cell_type": "code",
   "execution_count": 130,
   "metadata": {},
   "outputs": [
    {
     "data": {
      "text/plain": [
       "tuple"
      ]
     },
     "execution_count": 130,
     "metadata": {},
     "output_type": "execute_result"
    }
   ],
   "source": [
    "type(c)"
   ]
  },
  {
   "cell_type": "code",
   "execution_count": 131,
   "metadata": {},
   "outputs": [],
   "source": [
    "c=(2)"
   ]
  },
  {
   "cell_type": "code",
   "execution_count": 132,
   "metadata": {},
   "outputs": [
    {
     "data": {
      "text/plain": [
       "int"
      ]
     },
     "execution_count": 132,
     "metadata": {},
     "output_type": "execute_result"
    }
   ],
   "source": [
    "type(c)"
   ]
  },
  {
   "cell_type": "code",
   "execution_count": 134,
   "metadata": {},
   "outputs": [],
   "source": [
    "c= (2,) #construct tuple of single object"
   ]
  },
  {
   "cell_type": "code",
   "execution_count": 135,
   "metadata": {},
   "outputs": [
    {
     "data": {
      "text/plain": [
       "tuple"
      ]
     },
     "execution_count": 135,
     "metadata": {},
     "output_type": "execute_result"
    }
   ],
   "source": [
    "type(c)"
   ]
  },
  {
   "cell_type": "code",
   "execution_count": 136,
   "metadata": {},
   "outputs": [],
   "source": [
    "c = 2,"
   ]
  },
  {
   "cell_type": "code",
   "execution_count": 137,
   "metadata": {},
   "outputs": [
    {
     "data": {
      "text/plain": [
       "tuple"
      ]
     },
     "execution_count": 137,
     "metadata": {},
     "output_type": "execute_result"
    }
   ],
   "source": [
    "type(c)"
   ]
  },
  {
   "cell_type": "code",
   "execution_count": 138,
   "metadata": {},
   "outputs": [],
   "source": [
    "c = 2,3"
   ]
  },
  {
   "cell_type": "code",
   "execution_count": 139,
   "metadata": {},
   "outputs": [
    {
     "data": {
      "text/plain": [
       "tuple"
      ]
     },
     "execution_count": 139,
     "metadata": {},
     "output_type": "execute_result"
    }
   ],
   "source": [
    "type(c)"
   ]
  },
  {
   "cell_type": "code",
   "execution_count": 140,
   "metadata": {},
   "outputs": [
    {
     "data": {
      "text/plain": [
       "1"
      ]
     },
     "execution_count": 140,
     "metadata": {},
     "output_type": "execute_result"
    }
   ],
   "source": [
    "x = (1,2,3)\n",
    "x.count(3)"
   ]
  },
  {
   "cell_type": "code",
   "execution_count": 143,
   "metadata": {},
   "outputs": [
    {
     "data": {
      "text/plain": [
       "6"
      ]
     },
     "execution_count": 143,
     "metadata": {},
     "output_type": "execute_result"
    }
   ],
   "source": [
    "sum(x)"
   ]
  },
  {
   "cell_type": "code",
   "execution_count": 144,
   "metadata": {},
   "outputs": [
    {
     "ename": "SyntaxError",
     "evalue": "invalid syntax (<ipython-input-144-ba03e3994fff>, line 1)",
     "output_type": "error",
     "traceback": [
      "\u001b[1;36m  File \u001b[1;32m\"<ipython-input-144-ba03e3994fff>\"\u001b[1;36m, line \u001b[1;32m1\u001b[0m\n\u001b[1;33m    sum x\u001b[0m\n\u001b[1;37m        ^\u001b[0m\n\u001b[1;31mSyntaxError\u001b[0m\u001b[1;31m:\u001b[0m invalid syntax\n"
     ]
    }
   ],
   "source": [
    "sum x"
   ]
  },
  {
   "cell_type": "code",
   "execution_count": 145,
   "metadata": {},
   "outputs": [
    {
     "data": {
      "text/plain": [
       "tuple"
      ]
     },
     "execution_count": 145,
     "metadata": {},
     "output_type": "execute_result"
    }
   ],
   "source": [
    "type((2,))"
   ]
  },
  {
   "cell_type": "code",
   "execution_count": 146,
   "metadata": {},
   "outputs": [
    {
     "data": {
      "text/plain": [
       "int"
      ]
     },
     "execution_count": 146,
     "metadata": {},
     "output_type": "execute_result"
    }
   ],
   "source": [
    "type(2,)"
   ]
  },
  {
   "cell_type": "code",
   "execution_count": null,
   "metadata": {},
   "outputs": [],
   "source": []
  },
  {
   "cell_type": "code",
   "execution_count": 148,
   "metadata": {},
   "outputs": [
    {
     "data": {
      "text/plain": [
       "range(0, 5)"
      ]
     },
     "execution_count": 148,
     "metadata": {},
     "output_type": "execute_result"
    }
   ],
   "source": [
    "range(5)"
   ]
  },
  {
   "cell_type": "code",
   "execution_count": 149,
   "metadata": {},
   "outputs": [
    {
     "data": {
      "text/plain": [
       "[0, 1, 2, 3, 4]"
      ]
     },
     "execution_count": 149,
     "metadata": {},
     "output_type": "execute_result"
    }
   ],
   "source": [
    "list(range(5))"
   ]
  },
  {
   "cell_type": "code",
   "execution_count": 150,
   "metadata": {},
   "outputs": [
    {
     "data": {
      "text/plain": [
       "[1, 2, 3, 4, 5]"
      ]
     },
     "execution_count": 150,
     "metadata": {},
     "output_type": "execute_result"
    }
   ],
   "source": [
    "list(range(1,6))"
   ]
  },
  {
   "cell_type": "code",
   "execution_count": 151,
   "metadata": {},
   "outputs": [
    {
     "data": {
      "text/plain": [
       "[1, 3, 5, 7, 9, 11]"
      ]
     },
     "execution_count": 151,
     "metadata": {},
     "output_type": "execute_result"
    }
   ],
   "source": [
    "list(range(1,13,2))"
   ]
  },
  {
   "cell_type": "code",
   "execution_count": null,
   "metadata": {},
   "outputs": [],
   "source": []
  },
  {
   "cell_type": "code",
   "execution_count": 152,
   "metadata": {},
   "outputs": [],
   "source": [
    "s =\"Python\""
   ]
  },
  {
   "cell_type": "code",
   "execution_count": 153,
   "metadata": {},
   "outputs": [
    {
     "data": {
      "text/plain": [
       "6"
      ]
     },
     "execution_count": 153,
     "metadata": {},
     "output_type": "execute_result"
    }
   ],
   "source": [
    "len(s)"
   ]
  },
  {
   "cell_type": "code",
   "execution_count": 154,
   "metadata": {},
   "outputs": [
    {
     "data": {
      "text/plain": [
       "'P'"
      ]
     },
     "execution_count": 154,
     "metadata": {},
     "output_type": "execute_result"
    }
   ],
   "source": [
    "s[0]"
   ]
  },
  {
   "cell_type": "code",
   "execution_count": 155,
   "metadata": {},
   "outputs": [
    {
     "data": {
      "text/plain": [
       "'n'"
      ]
     },
     "execution_count": 155,
     "metadata": {},
     "output_type": "execute_result"
    }
   ],
   "source": [
    "s[-1]"
   ]
  },
  {
   "cell_type": "code",
   "execution_count": 156,
   "metadata": {},
   "outputs": [
    {
     "data": {
      "text/plain": [
       "'Pyt'"
      ]
     },
     "execution_count": 156,
     "metadata": {},
     "output_type": "execute_result"
    }
   ],
   "source": [
    "s[0:3]"
   ]
  },
  {
   "cell_type": "code",
   "execution_count": 157,
   "metadata": {},
   "outputs": [
    {
     "data": {
      "text/plain": [
       "'hon'"
      ]
     },
     "execution_count": 157,
     "metadata": {},
     "output_type": "execute_result"
    }
   ],
   "source": [
    "s[-3:]"
   ]
  },
  {
   "cell_type": "code",
   "execution_count": 158,
   "metadata": {},
   "outputs": [
    {
     "data": {
      "text/plain": [
       "True"
      ]
     },
     "execution_count": 158,
     "metadata": {},
     "output_type": "execute_result"
    }
   ],
   "source": [
    "\"y\" in s"
   ]
  },
  {
   "cell_type": "code",
   "execution_count": 159,
   "metadata": {},
   "outputs": [
    {
     "data": {
      "text/plain": [
       "False"
      ]
     },
     "execution_count": 159,
     "metadata": {},
     "output_type": "execute_result"
    }
   ],
   "source": [
    "\"Y\" in s"
   ]
  },
  {
   "cell_type": "code",
   "execution_count": 160,
   "metadata": {},
   "outputs": [
    {
     "data": {
      "text/plain": [
       "24"
      ]
     },
     "execution_count": 160,
     "metadata": {},
     "output_type": "execute_result"
    }
   ],
   "source": [
    "12 + 12"
   ]
  },
  {
   "cell_type": "code",
   "execution_count": 161,
   "metadata": {},
   "outputs": [
    {
     "data": {
      "text/plain": [
       "'Hello Python'"
      ]
     },
     "execution_count": 161,
     "metadata": {},
     "output_type": "execute_result"
    }
   ],
   "source": [
    "\"Hello \" +s"
   ]
  },
  {
   "cell_type": "code",
   "execution_count": 162,
   "metadata": {},
   "outputs": [
    {
     "data": {
      "text/plain": [
       "'PythonPythonPython'"
      ]
     },
     "execution_count": 162,
     "metadata": {},
     "output_type": "execute_result"
    }
   ],
   "source": [
    "3*s"
   ]
  },
  {
   "cell_type": "code",
   "execution_count": 163,
   "metadata": {},
   "outputs": [
    {
     "ename": "TypeError",
     "evalue": "must be str, not int",
     "output_type": "error",
     "traceback": [
      "\u001b[1;31m---------------------------------------------------------------------------\u001b[0m",
      "\u001b[1;31mTypeError\u001b[0m                                 Traceback (most recent call last)",
      "\u001b[1;32m<ipython-input-163-fa7ddba25961>\u001b[0m in \u001b[0;36m<module>\u001b[1;34m()\u001b[0m\n\u001b[1;32m----> 1\u001b[1;33m \u001b[0ms\u001b[0m \u001b[1;33m+\u001b[0m \u001b[1;36m3\u001b[0m\u001b[1;33m\u001b[0m\u001b[0m\n\u001b[0m",
      "\u001b[1;31mTypeError\u001b[0m: must be str, not int"
     ]
    }
   ],
   "source": [
    "s + 3"
   ]
  },
  {
   "cell_type": "code",
   "execution_count": 165,
   "metadata": {},
   "outputs": [
    {
     "data": {
      "text/plain": [
       "'Python3'"
      ]
     },
     "execution_count": 165,
     "metadata": {},
     "output_type": "execute_result"
    }
   ],
   "source": [
    "s + str(3)"
   ]
  },
  {
   "cell_type": "code",
   "execution_count": 166,
   "metadata": {},
   "outputs": [
    {
     "data": {
      "text/plain": [
       "['__add__',\n",
       " '__class__',\n",
       " '__contains__',\n",
       " '__delattr__',\n",
       " '__dir__',\n",
       " '__doc__',\n",
       " '__eq__',\n",
       " '__format__',\n",
       " '__ge__',\n",
       " '__getattribute__',\n",
       " '__getitem__',\n",
       " '__getnewargs__',\n",
       " '__gt__',\n",
       " '__hash__',\n",
       " '__init__',\n",
       " '__init_subclass__',\n",
       " '__iter__',\n",
       " '__le__',\n",
       " '__len__',\n",
       " '__lt__',\n",
       " '__mod__',\n",
       " '__mul__',\n",
       " '__ne__',\n",
       " '__new__',\n",
       " '__reduce__',\n",
       " '__reduce_ex__',\n",
       " '__repr__',\n",
       " '__rmod__',\n",
       " '__rmul__',\n",
       " '__setattr__',\n",
       " '__sizeof__',\n",
       " '__str__',\n",
       " '__subclasshook__',\n",
       " 'capitalize',\n",
       " 'casefold',\n",
       " 'center',\n",
       " 'count',\n",
       " 'encode',\n",
       " 'endswith',\n",
       " 'expandtabs',\n",
       " 'find',\n",
       " 'format',\n",
       " 'format_map',\n",
       " 'index',\n",
       " 'isalnum',\n",
       " 'isalpha',\n",
       " 'isdecimal',\n",
       " 'isdigit',\n",
       " 'isidentifier',\n",
       " 'islower',\n",
       " 'isnumeric',\n",
       " 'isprintable',\n",
       " 'isspace',\n",
       " 'istitle',\n",
       " 'isupper',\n",
       " 'join',\n",
       " 'ljust',\n",
       " 'lower',\n",
       " 'lstrip',\n",
       " 'maketrans',\n",
       " 'partition',\n",
       " 'replace',\n",
       " 'rfind',\n",
       " 'rindex',\n",
       " 'rjust',\n",
       " 'rpartition',\n",
       " 'rsplit',\n",
       " 'rstrip',\n",
       " 'split',\n",
       " 'splitlines',\n",
       " 'startswith',\n",
       " 'strip',\n",
       " 'swapcase',\n",
       " 'title',\n",
       " 'translate',\n",
       " 'upper',\n",
       " 'zfill']"
      ]
     },
     "execution_count": 166,
     "metadata": {},
     "output_type": "execute_result"
    }
   ],
   "source": [
    "dir(str) #attributes of string"
   ]
  },
  {
   "cell_type": "code",
   "execution_count": 167,
   "metadata": {},
   "outputs": [],
   "source": [
    "str.replace?  #help"
   ]
  },
  {
   "cell_type": "code",
   "execution_count": 168,
   "metadata": {},
   "outputs": [],
   "source": [
    "name = \"Tina Fey\""
   ]
  },
  {
   "cell_type": "code",
   "execution_count": 169,
   "metadata": {},
   "outputs": [
    {
     "data": {
      "text/plain": [
       "'tina Fey'"
      ]
     },
     "execution_count": 169,
     "metadata": {},
     "output_type": "execute_result"
    }
   ],
   "source": [
    "name.replace(\"T\",\"t\")"
   ]
  },
  {
   "cell_type": "code",
   "execution_count": 170,
   "metadata": {},
   "outputs": [],
   "source": [
    "new_name = name.replace(\"T\",\"t\")"
   ]
  },
  {
   "cell_type": "code",
   "execution_count": 171,
   "metadata": {},
   "outputs": [
    {
     "data": {
      "text/plain": [
       "'tina Fey'"
      ]
     },
     "execution_count": 171,
     "metadata": {},
     "output_type": "execute_result"
    }
   ],
   "source": [
    "new_name"
   ]
  },
  {
   "cell_type": "code",
   "execution_count": 172,
   "metadata": {},
   "outputs": [
    {
     "data": {
      "text/plain": [
       "'Tina Fey'"
      ]
     },
     "execution_count": 172,
     "metadata": {},
     "output_type": "execute_result"
    }
   ],
   "source": [
    "name"
   ]
  },
  {
   "cell_type": "code",
   "execution_count": null,
   "metadata": {},
   "outputs": [],
   "source": []
  },
  {
   "cell_type": "code",
   "execution_count": 174,
   "metadata": {},
   "outputs": [],
   "source": [
    "names = name.split(\" \")"
   ]
  },
  {
   "cell_type": "code",
   "execution_count": 175,
   "metadata": {},
   "outputs": [
    {
     "data": {
      "text/plain": [
       "['Tina', 'Fey']"
      ]
     },
     "execution_count": 175,
     "metadata": {},
     "output_type": "execute_result"
    }
   ],
   "source": [
    "names"
   ]
  },
  {
   "cell_type": "code",
   "execution_count": 176,
   "metadata": {},
   "outputs": [
    {
     "data": {
      "text/plain": [
       "list"
      ]
     },
     "execution_count": 176,
     "metadata": {},
     "output_type": "execute_result"
    }
   ],
   "source": [
    "type(names)"
   ]
  },
  {
   "cell_type": "code",
   "execution_count": 177,
   "metadata": {},
   "outputs": [
    {
     "data": {
      "text/plain": [
       "2"
      ]
     },
     "execution_count": 177,
     "metadata": {},
     "output_type": "execute_result"
    }
   ],
   "source": [
    "len(names)"
   ]
  },
  {
   "cell_type": "code",
   "execution_count": 178,
   "metadata": {},
   "outputs": [
    {
     "data": {
      "text/plain": [
       "'Tina'"
      ]
     },
     "execution_count": 178,
     "metadata": {},
     "output_type": "execute_result"
    }
   ],
   "source": [
    "names[0]"
   ]
  },
  {
   "cell_type": "code",
   "execution_count": 179,
   "metadata": {},
   "outputs": [
    {
     "data": {
      "text/plain": [
       "'Fey'"
      ]
     },
     "execution_count": 179,
     "metadata": {},
     "output_type": "execute_result"
    }
   ],
   "source": [
    "names[1]"
   ]
  },
  {
   "cell_type": "code",
   "execution_count": 180,
   "metadata": {},
   "outputs": [
    {
     "data": {
      "text/plain": [
       "str"
      ]
     },
     "execution_count": 180,
     "metadata": {},
     "output_type": "execute_result"
    }
   ],
   "source": [
    "type(names[1])"
   ]
  },
  {
   "cell_type": "code",
   "execution_count": 181,
   "metadata": {},
   "outputs": [
    {
     "data": {
      "text/plain": [
       "'TINA'"
      ]
     },
     "execution_count": 181,
     "metadata": {},
     "output_type": "execute_result"
    }
   ],
   "source": [
    "names[0].upper()"
   ]
  },
  {
   "cell_type": "code",
   "execution_count": null,
   "metadata": {},
   "outputs": [],
   "source": []
  },
  {
   "cell_type": "code",
   "execution_count": 182,
   "metadata": {},
   "outputs": [
    {
     "ename": "TypeError",
     "evalue": "can't multiply sequence by non-int of type 'str'",
     "output_type": "error",
     "traceback": [
      "\u001b[1;31m---------------------------------------------------------------------------\u001b[0m",
      "\u001b[1;31mTypeError\u001b[0m                                 Traceback (most recent call last)",
      "\u001b[1;32m<ipython-input-182-b5a2f1584689>\u001b[0m in \u001b[0;36m<module>\u001b[1;34m()\u001b[0m\n\u001b[1;32m----> 1\u001b[1;33m \u001b[1;34m\"2\"\u001b[0m \u001b[1;33m*\u001b[0m \u001b[1;34m\"2\"\u001b[0m\u001b[1;33m\u001b[0m\u001b[0m\n\u001b[0m",
      "\u001b[1;31mTypeError\u001b[0m: can't multiply sequence by non-int of type 'str'"
     ]
    }
   ],
   "source": [
    "\"2\" * \"2\""
   ]
  },
  {
   "cell_type": "code",
   "execution_count": 183,
   "metadata": {},
   "outputs": [
    {
     "data": {
      "text/plain": [
       "'range(0, 10)'"
      ]
     },
     "execution_count": 183,
     "metadata": {},
     "output_type": "execute_result"
    }
   ],
   "source": [
    "str(range(10))"
   ]
  },
  {
   "cell_type": "code",
   "execution_count": 186,
   "metadata": {},
   "outputs": [
    {
     "name": "stdout",
     "output_type": "stream",
     "text": [
      "Object `x.digit` not found.\n"
     ]
    }
   ],
   "source": [
    "x = \"125,000\"\n"
   ]
  },
  {
   "cell_type": "code",
   "execution_count": 197,
   "metadata": {},
   "outputs": [
    {
     "data": {
      "text/plain": [
       "False"
      ]
     },
     "execution_count": 197,
     "metadata": {},
     "output_type": "execute_result"
    }
   ],
   "source": [
    "x.isdigit()"
   ]
  },
  {
   "cell_type": "code",
   "execution_count": 192,
   "metadata": {},
   "outputs": [],
   "source": [
    "import string"
   ]
  },
  {
   "cell_type": "code",
   "execution_count": 193,
   "metadata": {},
   "outputs": [
    {
     "data": {
      "text/plain": [
       "'0123456789'"
      ]
     },
     "execution_count": 193,
     "metadata": {},
     "output_type": "execute_result"
    }
   ],
   "source": [
    "string.digits"
   ]
  },
  {
   "cell_type": "code",
   "execution_count": 194,
   "metadata": {},
   "outputs": [],
   "source": [
    "for "
   ]
  },
  {
   "cell_type": "code",
   "execution_count": 195,
   "metadata": {},
   "outputs": [
    {
     "data": {
      "text/plain": [
       "'0123456789'"
      ]
     },
     "execution_count": 195,
     "metadata": {},
     "output_type": "execute_result"
    }
   ],
   "source": []
  },
  {
   "cell_type": "code",
   "execution_count": null,
   "metadata": {},
   "outputs": [],
   "source": []
  },
  {
   "cell_type": "code",
   "execution_count": 28,
   "metadata": {},
   "outputs": [
    {
     "data": {
      "text/plain": [
       "'\\nset - mutable\\nfrozen set - immutable\\nunordered- not indexed\\ncant be duplicated\\nset operation - unions insersections sets\\n'"
      ]
     },
     "execution_count": 28,
     "metadata": {},
     "output_type": "execute_result"
    }
   ],
   "source": [
    "'''\n",
    "set - mutable\n",
    "frozen set - immutable\n",
    "unordered- not indexed\n",
    "cant be duplicated\n",
    "set operation - unions insersections sets\n",
    "'''"
   ]
  },
  {
   "cell_type": "code",
   "execution_count": 199,
   "metadata": {},
   "outputs": [],
   "source": [
    "ids=set()"
   ]
  },
  {
   "cell_type": "code",
   "execution_count": 200,
   "metadata": {},
   "outputs": [],
   "source": [
    "ids = set([1,2,4,6,7,8,9])"
   ]
  },
  {
   "cell_type": "code",
   "execution_count": 201,
   "metadata": {},
   "outputs": [
    {
     "data": {
      "text/plain": [
       "7"
      ]
     },
     "execution_count": 201,
     "metadata": {},
     "output_type": "execute_result"
    }
   ],
   "source": [
    "len(ids)"
   ]
  },
  {
   "cell_type": "code",
   "execution_count": 202,
   "metadata": {},
   "outputs": [],
   "source": [
    "ids.add(10)"
   ]
  },
  {
   "cell_type": "code",
   "execution_count": 203,
   "metadata": {},
   "outputs": [
    {
     "data": {
      "text/plain": [
       "{1, 2, 4, 6, 7, 8, 9, 10}"
      ]
     },
     "execution_count": 203,
     "metadata": {},
     "output_type": "execute_result"
    }
   ],
   "source": [
    "ids"
   ]
  },
  {
   "cell_type": "code",
   "execution_count": 204,
   "metadata": {},
   "outputs": [],
   "source": [
    "ids.add(2)"
   ]
  },
  {
   "cell_type": "code",
   "execution_count": 205,
   "metadata": {},
   "outputs": [
    {
     "data": {
      "text/plain": [
       "{1, 2, 4, 6, 7, 8, 9, 10}"
      ]
     },
     "execution_count": 205,
     "metadata": {},
     "output_type": "execute_result"
    }
   ],
   "source": [
    "ids"
   ]
  },
  {
   "cell_type": "code",
   "execution_count": 206,
   "metadata": {},
   "outputs": [
    {
     "data": {
      "text/plain": [
       "1"
      ]
     },
     "execution_count": 206,
     "metadata": {},
     "output_type": "execute_result"
    }
   ],
   "source": [
    "ids.pop()"
   ]
  },
  {
   "cell_type": "code",
   "execution_count": 207,
   "metadata": {},
   "outputs": [
    {
     "data": {
      "text/plain": [
       "2"
      ]
     },
     "execution_count": 207,
     "metadata": {},
     "output_type": "execute_result"
    }
   ],
   "source": [
    "ids.pop()"
   ]
  },
  {
   "cell_type": "code",
   "execution_count": 208,
   "metadata": {},
   "outputs": [
    {
     "data": {
      "text/plain": [
       "{4, 6, 7, 8, 9, 10}"
      ]
     },
     "execution_count": 208,
     "metadata": {},
     "output_type": "execute_result"
    }
   ],
   "source": [
    "ids"
   ]
  },
  {
   "cell_type": "code",
   "execution_count": 209,
   "metadata": {},
   "outputs": [],
   "source": [
    "ids = set(range(10))"
   ]
  },
  {
   "cell_type": "code",
   "execution_count": 210,
   "metadata": {},
   "outputs": [
    {
     "data": {
      "text/plain": [
       "{0, 1, 2, 3, 4, 5, 6, 7, 8, 9}"
      ]
     },
     "execution_count": 210,
     "metadata": {},
     "output_type": "execute_result"
    }
   ],
   "source": [
    "ids"
   ]
  },
  {
   "cell_type": "code",
   "execution_count": 211,
   "metadata": {},
   "outputs": [],
   "source": [
    "males = set([1,3,5,6,7])"
   ]
  },
  {
   "cell_type": "code",
   "execution_count": 212,
   "metadata": {},
   "outputs": [],
   "source": [
    "females = ids - males"
   ]
  },
  {
   "cell_type": "code",
   "execution_count": 214,
   "metadata": {},
   "outputs": [
    {
     "data": {
      "text/plain": [
       "set"
      ]
     },
     "execution_count": 214,
     "metadata": {},
     "output_type": "execute_result"
    }
   ],
   "source": [
    "type(females)"
   ]
  },
  {
   "cell_type": "code",
   "execution_count": 213,
   "metadata": {},
   "outputs": [
    {
     "data": {
      "text/plain": [
       "{0, 2, 4, 8, 9}"
      ]
     },
     "execution_count": 213,
     "metadata": {},
     "output_type": "execute_result"
    }
   ],
   "source": [
    "females"
   ]
  },
  {
   "cell_type": "code",
   "execution_count": 215,
   "metadata": {},
   "outputs": [
    {
     "data": {
      "text/plain": [
       "{1, 3, 5, 6, 7}"
      ]
     },
     "execution_count": 215,
     "metadata": {},
     "output_type": "execute_result"
    }
   ],
   "source": [
    "males"
   ]
  },
  {
   "cell_type": "code",
   "execution_count": 216,
   "metadata": {},
   "outputs": [],
   "source": [
    "everyone = males | females #set union"
   ]
  },
  {
   "cell_type": "code",
   "execution_count": 217,
   "metadata": {},
   "outputs": [
    {
     "data": {
      "text/plain": [
       "{0, 1, 2, 3, 4, 5, 6, 7, 8, 9}"
      ]
     },
     "execution_count": 217,
     "metadata": {},
     "output_type": "execute_result"
    }
   ],
   "source": [
    "everyone"
   ]
  },
  {
   "cell_type": "code",
   "execution_count": 218,
   "metadata": {},
   "outputs": [
    {
     "data": {
      "text/plain": [
       "{1, 2, 3}"
      ]
     },
     "execution_count": 218,
     "metadata": {},
     "output_type": "execute_result"
    }
   ],
   "source": [
    "everyone & set([1,2,3]) #intersections"
   ]
  },
  {
   "cell_type": "code",
   "execution_count": 219,
   "metadata": {},
   "outputs": [],
   "source": [
    "word = \"antidisestablishmentarianism\""
   ]
  },
  {
   "cell_type": "code",
   "execution_count": 221,
   "metadata": {},
   "outputs": [],
   "source": [
    "unique_letters = set(word)"
   ]
  },
  {
   "cell_type": "code",
   "execution_count": 223,
   "metadata": {},
   "outputs": [
    {
     "data": {
      "text/plain": [
       "12"
      ]
     },
     "execution_count": 223,
     "metadata": {},
     "output_type": "execute_result"
    }
   ],
   "source": [
    "len(unique_letters)"
   ]
  },
  {
   "cell_type": "code",
   "execution_count": 224,
   "metadata": {},
   "outputs": [
    {
     "data": {
      "text/plain": [
       "28"
      ]
     },
     "execution_count": 224,
     "metadata": {},
     "output_type": "execute_result"
    }
   ],
   "source": [
    "len(word)"
   ]
  },
  {
   "cell_type": "code",
   "execution_count": null,
   "metadata": {},
   "outputs": [],
   "source": []
  },
  {
   "cell_type": "code",
   "execution_count": 225,
   "metadata": {},
   "outputs": [],
   "source": [
    "x = {1,2,3}\n",
    "y = {2,3,4}"
   ]
  },
  {
   "cell_type": "code",
   "execution_count": 226,
   "metadata": {},
   "outputs": [
    {
     "data": {
      "text/plain": [
       "{1, 2, 3, 4}"
      ]
     },
     "execution_count": 226,
     "metadata": {},
     "output_type": "execute_result"
    }
   ],
   "source": [
    "x|y "
   ]
  },
  {
   "cell_type": "code",
   "execution_count": 228,
   "metadata": {},
   "outputs": [
    {
     "data": {
      "text/plain": [
       "{2, 3}"
      ]
     },
     "execution_count": 228,
     "metadata": {},
     "output_type": "execute_result"
    }
   ],
   "source": [
    "x&y"
   ]
  },
  {
   "cell_type": "code",
   "execution_count": 229,
   "metadata": {},
   "outputs": [
    {
     "data": {
      "text/plain": [
       "{1, 4}"
      ]
     },
     "execution_count": 229,
     "metadata": {},
     "output_type": "execute_result"
    }
   ],
   "source": [
    "(x|y)-(x&y)"
   ]
  },
  {
   "cell_type": "code",
   "execution_count": 260,
   "metadata": {},
   "outputs": [
    {
     "data": {
      "text/plain": [
       "{1, 4}"
      ]
     },
     "execution_count": 260,
     "metadata": {},
     "output_type": "execute_result"
    }
   ],
   "source": [
    "x^y"
   ]
  },
  {
   "cell_type": "code",
   "execution_count": 262,
   "metadata": {},
   "outputs": [
    {
     "data": {
      "text/plain": [
       "{1, 4}"
      ]
     },
     "execution_count": 262,
     "metadata": {},
     "output_type": "execute_result"
    }
   ],
   "source": [
    "set.symmetric_difference(x,y)"
   ]
  },
  {
   "cell_type": "code",
   "execution_count": 263,
   "metadata": {},
   "outputs": [
    {
     "data": {
      "text/plain": [
       "{1, 4}"
      ]
     },
     "execution_count": 263,
     "metadata": {},
     "output_type": "execute_result"
    }
   ],
   "source": [
    "x.symmetric_difference(y)"
   ]
  },
  {
   "cell_type": "code",
   "execution_count": 230,
   "metadata": {},
   "outputs": [
    {
     "data": {
      "text/plain": [
       "False"
      ]
     },
     "execution_count": 230,
     "metadata": {},
     "output_type": "execute_result"
    }
   ],
   "source": [
    "x in y"
   ]
  },
  {
   "cell_type": "code",
   "execution_count": 231,
   "metadata": {},
   "outputs": [
    {
     "data": {
      "text/plain": [
       "False"
      ]
     },
     "execution_count": 231,
     "metadata": {},
     "output_type": "execute_result"
    }
   ],
   "source": [
    "x.issubset(y)"
   ]
  },
  {
   "cell_type": "code",
   "execution_count": null,
   "metadata": {},
   "outputs": [],
   "source": []
  },
  {
   "cell_type": "code",
   "execution_count": 232,
   "metadata": {},
   "outputs": [],
   "source": [
    "'''\n",
    "dictionary - key immutable\n",
    "'''\n",
    "age ={}"
   ]
  },
  {
   "cell_type": "code",
   "execution_count": 233,
   "metadata": {},
   "outputs": [
    {
     "data": {
      "text/plain": [
       "dict"
      ]
     },
     "execution_count": 233,
     "metadata": {},
     "output_type": "execute_result"
    }
   ],
   "source": [
    "type(age)"
   ]
  },
  {
   "cell_type": "code",
   "execution_count": 234,
   "metadata": {},
   "outputs": [],
   "source": [
    "age = dict()"
   ]
  },
  {
   "cell_type": "code",
   "execution_count": 235,
   "metadata": {},
   "outputs": [
    {
     "data": {
      "text/plain": [
       "dict"
      ]
     },
     "execution_count": 235,
     "metadata": {},
     "output_type": "execute_result"
    }
   ],
   "source": [
    "type(age)"
   ]
  },
  {
   "cell_type": "code",
   "execution_count": 236,
   "metadata": {},
   "outputs": [],
   "source": [
    "age = {\"Tim\": 29, \"Jim\":31, \"Pam\":27}"
   ]
  },
  {
   "cell_type": "code",
   "execution_count": 237,
   "metadata": {},
   "outputs": [
    {
     "data": {
      "text/plain": [
       "27"
      ]
     },
     "execution_count": 237,
     "metadata": {},
     "output_type": "execute_result"
    }
   ],
   "source": [
    "age[\"Pam\"]"
   ]
  },
  {
   "cell_type": "code",
   "execution_count": 238,
   "metadata": {},
   "outputs": [],
   "source": [
    "age[\"Tim\"] = age[\"Tim\"]+1"
   ]
  },
  {
   "cell_type": "code",
   "execution_count": 239,
   "metadata": {},
   "outputs": [
    {
     "data": {
      "text/plain": [
       "30"
      ]
     },
     "execution_count": 239,
     "metadata": {},
     "output_type": "execute_result"
    }
   ],
   "source": [
    "age[\"Tim\"]"
   ]
  },
  {
   "cell_type": "code",
   "execution_count": 240,
   "metadata": {},
   "outputs": [],
   "source": [
    "age[\"Tim\"] += 1"
   ]
  },
  {
   "cell_type": "code",
   "execution_count": 241,
   "metadata": {},
   "outputs": [
    {
     "data": {
      "text/plain": [
       "31"
      ]
     },
     "execution_count": 241,
     "metadata": {},
     "output_type": "execute_result"
    }
   ],
   "source": [
    "age[\"Tim\"]"
   ]
  },
  {
   "cell_type": "code",
   "execution_count": 246,
   "metadata": {},
   "outputs": [],
   "source": [
    "names = age.keys()"
   ]
  },
  {
   "cell_type": "code",
   "execution_count": 247,
   "metadata": {},
   "outputs": [
    {
     "data": {
      "text/plain": [
       "dict_keys"
      ]
     },
     "execution_count": 247,
     "metadata": {},
     "output_type": "execute_result"
    }
   ],
   "source": [
    "type(names) #view object"
   ]
  },
  {
   "cell_type": "code",
   "execution_count": 248,
   "metadata": {},
   "outputs": [],
   "source": [
    "age[\"Tom\"]= 50"
   ]
  },
  {
   "cell_type": "code",
   "execution_count": 249,
   "metadata": {},
   "outputs": [
    {
     "data": {
      "text/plain": [
       "dict_keys(['Tim', 'Jim', 'Pam', 'Tom'])"
      ]
     },
     "execution_count": 249,
     "metadata": {},
     "output_type": "execute_result"
    }
   ],
   "source": [
    "names"
   ]
  },
  {
   "cell_type": "code",
   "execution_count": 250,
   "metadata": {},
   "outputs": [],
   "source": [
    "ages = age.values()"
   ]
  },
  {
   "cell_type": "code",
   "execution_count": 251,
   "metadata": {},
   "outputs": [
    {
     "data": {
      "text/plain": [
       "dict_values([31, 31, 27, 50])"
      ]
     },
     "execution_count": 251,
     "metadata": {},
     "output_type": "execute_result"
    }
   ],
   "source": [
    "ages"
   ]
  },
  {
   "cell_type": "code",
   "execution_count": 252,
   "metadata": {},
   "outputs": [],
   "source": [
    "age[\"Nick\"] = 31"
   ]
  },
  {
   "cell_type": "code",
   "execution_count": 253,
   "metadata": {},
   "outputs": [
    {
     "data": {
      "text/plain": [
       "dict_keys(['Tim', 'Jim', 'Pam', 'Tom', 'Nick'])"
      ]
     },
     "execution_count": 253,
     "metadata": {},
     "output_type": "execute_result"
    }
   ],
   "source": [
    "names"
   ]
  },
  {
   "cell_type": "code",
   "execution_count": 254,
   "metadata": {},
   "outputs": [
    {
     "data": {
      "text/plain": [
       "True"
      ]
     },
     "execution_count": 254,
     "metadata": {},
     "output_type": "execute_result"
    }
   ],
   "source": [
    "\"Tom\" in age"
   ]
  },
  {
   "cell_type": "code",
   "execution_count": 255,
   "metadata": {},
   "outputs": [
    {
     "data": {
      "text/plain": [
       "False"
      ]
     },
     "execution_count": 255,
     "metadata": {},
     "output_type": "execute_result"
    }
   ],
   "source": [
    "\"Zoya\" in age"
   ]
  },
  {
   "cell_type": "code",
   "execution_count": 256,
   "metadata": {},
   "outputs": [
    {
     "ename": "KeyError",
     "evalue": "0",
     "output_type": "error",
     "traceback": [
      "\u001b[1;31m---------------------------------------------------------------------------\u001b[0m",
      "\u001b[1;31mKeyError\u001b[0m                                  Traceback (most recent call last)",
      "\u001b[1;32m<ipython-input-256-69422e1996b1>\u001b[0m in \u001b[0;36m<module>\u001b[1;34m()\u001b[0m\n\u001b[1;32m----> 1\u001b[1;33m \u001b[0mage\u001b[0m\u001b[1;33m[\u001b[0m\u001b[1;36m0\u001b[0m\u001b[1;33m]\u001b[0m\u001b[1;33m\u001b[0m\u001b[0m\n\u001b[0m",
      "\u001b[1;31mKeyError\u001b[0m: 0"
     ]
    }
   ],
   "source": [
    "age[0]"
   ]
  },
  {
   "cell_type": "code",
   "execution_count": 257,
   "metadata": {},
   "outputs": [],
   "source": [
    "age[(1,2,3)] = 40"
   ]
  },
  {
   "cell_type": "code",
   "execution_count": 258,
   "metadata": {},
   "outputs": [
    {
     "data": {
      "text/plain": [
       "{(1, 2, 3): 40, 'Jim': 31, 'Nick': 31, 'Pam': 27, 'Tim': 31, 'Tom': 50}"
      ]
     },
     "execution_count": 258,
     "metadata": {},
     "output_type": "execute_result"
    }
   ],
   "source": [
    "age"
   ]
  },
  {
   "cell_type": "code",
   "execution_count": 259,
   "metadata": {},
   "outputs": [
    {
     "ename": "TypeError",
     "evalue": "unhashable type: 'list'",
     "output_type": "error",
     "traceback": [
      "\u001b[1;31m---------------------------------------------------------------------------\u001b[0m",
      "\u001b[1;31mTypeError\u001b[0m                                 Traceback (most recent call last)",
      "\u001b[1;32m<ipython-input-259-905e662f60d4>\u001b[0m in \u001b[0;36m<module>\u001b[1;34m()\u001b[0m\n\u001b[1;32m----> 1\u001b[1;33m \u001b[0mage\u001b[0m\u001b[1;33m[\u001b[0m\u001b[1;33m[\u001b[0m\u001b[1;36m2\u001b[0m\u001b[1;33m,\u001b[0m\u001b[1;36m4\u001b[0m\u001b[1;33m]\u001b[0m\u001b[1;33m]\u001b[0m \u001b[1;33m=\u001b[0m \u001b[1;36m32\u001b[0m\u001b[1;33m\u001b[0m\u001b[0m\n\u001b[0m",
      "\u001b[1;31mTypeError\u001b[0m: unhashable type: 'list'"
     ]
    }
   ],
   "source": [
    "age[[2,4]] = 32"
   ]
  },
  {
   "cell_type": "code",
   "execution_count": null,
   "metadata": {},
   "outputs": [],
   "source": []
  },
  {
   "cell_type": "code",
   "execution_count": 264,
   "metadata": {},
   "outputs": [
    {
     "data": {
      "text/plain": [
       "array([4, 6])"
      ]
     },
     "execution_count": 264,
     "metadata": {},
     "output_type": "execute_result"
    }
   ],
   "source": [
    "# a=[1,2] b=[3,4] a+b = [4,6] ?\n",
    "import numpy as np\n",
    "a=np.array([1,2])\n",
    "b=np.array([3,4])\n",
    "a+b"
   ]
  },
  {
   "cell_type": "code",
   "execution_count": 266,
   "metadata": {},
   "outputs": [
    {
     "data": {
      "text/plain": [
       "[1, 2, 3, 4]"
      ]
     },
     "execution_count": 266,
     "metadata": {},
     "output_type": "execute_result"
    }
   ],
   "source": [
    "a=[1,2]\n",
    "b=[3,4]\n",
    "a+b"
   ]
  },
  {
   "cell_type": "code",
   "execution_count": null,
   "metadata": {},
   "outputs": [],
   "source": []
  },
  {
   "cell_type": "code",
   "execution_count": 267,
   "metadata": {},
   "outputs": [
    {
     "data": {
      "text/plain": [
       "'\\nStatic type - data type checked at coompile time\\ndynamic type - data type checked at run time\\n'"
      ]
     },
     "execution_count": 267,
     "metadata": {},
     "output_type": "execute_result"
    }
   ],
   "source": [
    "'''\n",
    "Static type - data type checked at coompile time\n",
    "dynamic type - data type checked at run time\n",
    "'''"
   ]
  },
  {
   "cell_type": "code",
   "execution_count": 295,
   "metadata": {},
   "outputs": [
    {
     "data": {
      "text/plain": [
       "10"
      ]
     },
     "execution_count": 295,
     "metadata": {},
     "output_type": "execute_result"
    }
   ],
   "source": [
    "x = 10\n",
    "y = x\n",
    "y"
   ]
  },
  {
   "cell_type": "code",
   "execution_count": 296,
   "metadata": {},
   "outputs": [
    {
     "data": {
      "text/plain": [
       "9"
      ]
     },
     "execution_count": 296,
     "metadata": {},
     "output_type": "execute_result"
    }
   ],
   "source": [
    "y = y-1\n",
    "y"
   ]
  },
  {
   "cell_type": "code",
   "execution_count": 297,
   "metadata": {},
   "outputs": [
    {
     "data": {
      "text/plain": [
       "10"
      ]
     },
     "execution_count": 297,
     "metadata": {},
     "output_type": "execute_result"
    }
   ],
   "source": [
    "x"
   ]
  },
  {
   "cell_type": "code",
   "execution_count": null,
   "metadata": {},
   "outputs": [],
   "source": []
  },
  {
   "cell_type": "code",
   "execution_count": 271,
   "metadata": {},
   "outputs": [
    {
     "data": {
      "text/plain": [
       "10"
      ]
     },
     "execution_count": 271,
     "metadata": {},
     "output_type": "execute_result"
    }
   ],
   "source": [
    "x = 10\n",
    "y = x\n",
    "y"
   ]
  },
  {
   "cell_type": "code",
   "execution_count": 282,
   "metadata": {},
   "outputs": [
    {
     "data": {
      "text/plain": [
       "9"
      ]
     },
     "execution_count": 282,
     "metadata": {},
     "output_type": "execute_result"
    }
   ],
   "source": [
    "x= x-1\n",
    "x"
   ]
  },
  {
   "cell_type": "code",
   "execution_count": 283,
   "metadata": {},
   "outputs": [
    {
     "data": {
      "text/plain": [
       "9"
      ]
     },
     "execution_count": 283,
     "metadata": {},
     "output_type": "execute_result"
    }
   ],
   "source": [
    "y"
   ]
  },
  {
   "cell_type": "code",
   "execution_count": null,
   "metadata": {},
   "outputs": [],
   "source": []
  },
  {
   "cell_type": "code",
   "execution_count": 274,
   "metadata": {},
   "outputs": [],
   "source": [
    "L1 = [2,3,4]"
   ]
  },
  {
   "cell_type": "code",
   "execution_count": 275,
   "metadata": {},
   "outputs": [],
   "source": [
    "L2 =L1"
   ]
  },
  {
   "cell_type": "code",
   "execution_count": 276,
   "metadata": {},
   "outputs": [
    {
     "data": {
      "text/plain": [
       "[2, 3, 4]"
      ]
     },
     "execution_count": 276,
     "metadata": {},
     "output_type": "execute_result"
    }
   ],
   "source": [
    "L2"
   ]
  },
  {
   "cell_type": "code",
   "execution_count": 277,
   "metadata": {},
   "outputs": [],
   "source": [
    "L1[0]=10"
   ]
  },
  {
   "cell_type": "code",
   "execution_count": 278,
   "metadata": {},
   "outputs": [
    {
     "data": {
      "text/plain": [
       "[10, 3, 4]"
      ]
     },
     "execution_count": 278,
     "metadata": {},
     "output_type": "execute_result"
    }
   ],
   "source": [
    "L1"
   ]
  },
  {
   "cell_type": "code",
   "execution_count": 279,
   "metadata": {},
   "outputs": [
    {
     "data": {
      "text/plain": [
       "[10, 3, 4]"
      ]
     },
     "execution_count": 279,
     "metadata": {},
     "output_type": "execute_result"
    }
   ],
   "source": [
    "L2"
   ]
  },
  {
   "cell_type": "code",
   "execution_count": null,
   "metadata": {},
   "outputs": [],
   "source": []
  },
  {
   "cell_type": "code",
   "execution_count": 284,
   "metadata": {},
   "outputs": [
    {
     "data": {
      "text/plain": [
       "True"
      ]
     },
     "execution_count": 284,
     "metadata": {},
     "output_type": "execute_result"
    }
   ],
   "source": [
    "L = [1,2,3]\n",
    "M = [1,2,3]\n",
    "L== M"
   ]
  },
  {
   "cell_type": "code",
   "execution_count": 285,
   "metadata": {},
   "outputs": [
    {
     "data": {
      "text/plain": [
       "False"
      ]
     },
     "execution_count": 285,
     "metadata": {},
     "output_type": "execute_result"
    }
   ],
   "source": [
    "L is M"
   ]
  },
  {
   "cell_type": "code",
   "execution_count": 286,
   "metadata": {},
   "outputs": [
    {
     "data": {
      "text/plain": [
       "155073608"
      ]
     },
     "execution_count": 286,
     "metadata": {},
     "output_type": "execute_result"
    }
   ],
   "source": [
    "id(L)"
   ]
  },
  {
   "cell_type": "code",
   "execution_count": 287,
   "metadata": {},
   "outputs": [
    {
     "data": {
      "text/plain": [
       "155072840"
      ]
     },
     "execution_count": 287,
     "metadata": {},
     "output_type": "execute_result"
    }
   ],
   "source": [
    "id(M)"
   ]
  },
  {
   "cell_type": "code",
   "execution_count": 288,
   "metadata": {},
   "outputs": [
    {
     "data": {
      "text/plain": [
       "False"
      ]
     },
     "execution_count": 288,
     "metadata": {},
     "output_type": "execute_result"
    }
   ],
   "source": [
    "id(L) == id(M)"
   ]
  },
  {
   "cell_type": "code",
   "execution_count": null,
   "metadata": {},
   "outputs": [],
   "source": []
  },
  {
   "cell_type": "code",
   "execution_count": 289,
   "metadata": {},
   "outputs": [
    {
     "data": {
      "text/plain": [
       "True"
      ]
     },
     "execution_count": 289,
     "metadata": {},
     "output_type": "execute_result"
    }
   ],
   "source": [
    "L = [1,2,3]\n",
    "M = L\n",
    "M is L"
   ]
  },
  {
   "cell_type": "code",
   "execution_count": 290,
   "metadata": {},
   "outputs": [
    {
     "data": {
      "text/plain": [
       "False"
      ]
     },
     "execution_count": 290,
     "metadata": {},
     "output_type": "execute_result"
    }
   ],
   "source": [
    "N = list(L)\n",
    "N is L"
   ]
  },
  {
   "cell_type": "code",
   "execution_count": 291,
   "metadata": {},
   "outputs": [
    {
     "data": {
      "text/plain": [
       "True"
      ]
     },
     "execution_count": 291,
     "metadata": {},
     "output_type": "execute_result"
    }
   ],
   "source": [
    "N == L"
   ]
  },
  {
   "cell_type": "code",
   "execution_count": null,
   "metadata": {},
   "outputs": [],
   "source": []
  },
  {
   "cell_type": "code",
   "execution_count": 292,
   "metadata": {},
   "outputs": [],
   "source": [
    "M = L[:] #copying every single element into New List"
   ]
  },
  {
   "cell_type": "code",
   "execution_count": 293,
   "metadata": {},
   "outputs": [
    {
     "data": {
      "text/plain": [
       "False"
      ]
     },
     "execution_count": 293,
     "metadata": {},
     "output_type": "execute_result"
    }
   ],
   "source": [
    "M is L"
   ]
  },
  {
   "cell_type": "code",
   "execution_count": 294,
   "metadata": {},
   "outputs": [
    {
     "data": {
      "text/plain": [
       "True"
      ]
     },
     "execution_count": 294,
     "metadata": {},
     "output_type": "execute_result"
    }
   ],
   "source": [
    "M == L"
   ]
  },
  {
   "cell_type": "code",
   "execution_count": null,
   "metadata": {},
   "outputs": [],
   "source": []
  },
  {
   "cell_type": "code",
   "execution_count": 298,
   "metadata": {},
   "outputs": [
    {
     "data": {
      "text/plain": [
       "'\\ncopy module - use for creating identical copies of object\\nShallow copy - new compound object - insert reference to original object\\ndeep copy - new compound object - recurrsively insert copies into it of object\\n'"
      ]
     },
     "execution_count": 298,
     "metadata": {},
     "output_type": "execute_result"
    }
   ],
   "source": [
    "'''\n",
    "copy module - use for creating identical copies of object\n",
    "Shallow copy - new compound object - insert reference to original object\n",
    "deep copy - new compound object - recurrsively insert copies into it of object\n",
    "'''"
   ]
  },
  {
   "cell_type": "code",
   "execution_count": 299,
   "metadata": {},
   "outputs": [
    {
     "data": {
      "text/plain": [
       "False"
      ]
     },
     "execution_count": 299,
     "metadata": {},
     "output_type": "execute_result"
    }
   ],
   "source": [
    "import copy\n",
    "x = [1,[2]]\n",
    "y = copy.copy(x)\n",
    "z = copy.deepcopy(x)\n",
    "y is z"
   ]
  },
  {
   "cell_type": "code",
   "execution_count": null,
   "metadata": {},
   "outputs": [],
   "source": []
  },
  {
   "cell_type": "code",
   "execution_count": 300,
   "metadata": {},
   "outputs": [
    {
     "data": {
      "text/plain": [
       "'\\nspecilist statement\\nReturn - return vallues from function\\nimport - import modules\\npass - do nothing or place holder\\n\\ncompound statements\\nclauses\\n'"
      ]
     },
     "execution_count": 300,
     "metadata": {},
     "output_type": "execute_result"
    }
   ],
   "source": [
    "'''\n",
    "specilist statement\n",
    "Return - return vallues from function\n",
    "import - import modules\n",
    "pass - do nothing or place holder\n",
    "\n",
    "compound statements\n",
    "clauses\n",
    "'''"
   ]
  },
  {
   "cell_type": "code",
   "execution_count": 301,
   "metadata": {},
   "outputs": [
    {
     "name": "stdout",
     "output_type": "stream",
     "text": [
      "True\n"
     ]
    }
   ],
   "source": [
    "if False:\n",
    "    print('False')\n",
    "elif True:\n",
    "    print('True')\n",
    "else:\n",
    "    print('Finally True')"
   ]
  },
  {
   "cell_type": "code",
   "execution_count": 302,
   "metadata": {},
   "outputs": [
    {
     "name": "stdout",
     "output_type": "stream",
     "text": [
      "0\n",
      "1\n",
      "2\n",
      "3\n",
      "4\n",
      "5\n",
      "6\n",
      "7\n",
      "8\n",
      "9\n"
     ]
    }
   ],
   "source": [
    "'''\n",
    "for - do while\n",
    "sequence of statement\n",
    "break - early termination\n",
    "'''\n",
    "for x in range(10):\n",
    "    print(x)"
   ]
  },
  {
   "cell_type": "code",
   "execution_count": 306,
   "metadata": {},
   "outputs": [],
   "source": [
    "names = ['Tim', 'Jim', 'Pam', 'Tom', 'Nick', 'Sam']"
   ]
  },
  {
   "cell_type": "code",
   "execution_count": 307,
   "metadata": {},
   "outputs": [
    {
     "name": "stdout",
     "output_type": "stream",
     "text": [
      "Tim\n",
      "Jim\n",
      "Pam\n",
      "Tom\n",
      "Nick\n",
      "Sam\n"
     ]
    }
   ],
   "source": [
    "for name in names:\n",
    "    print(name)"
   ]
  },
  {
   "cell_type": "code",
   "execution_count": 308,
   "metadata": {},
   "outputs": [
    {
     "name": "stdout",
     "output_type": "stream",
     "text": [
      "Tim\n",
      "Jim\n",
      "Pam\n",
      "Tom\n",
      "Nick\n",
      "Sam\n"
     ]
    }
   ],
   "source": [
    "for i in range(len(names)):\n",
    "    print(names[i])"
   ]
  },
  {
   "cell_type": "code",
   "execution_count": null,
   "metadata": {},
   "outputs": [],
   "source": []
  },
  {
   "cell_type": "code",
   "execution_count": null,
   "metadata": {},
   "outputs": [],
   "source": []
  },
  {
   "cell_type": "code",
   "execution_count": 309,
   "metadata": {},
   "outputs": [
    {
     "data": {
      "text/plain": [
       "{(1, 2, 3): 40, 'Jim': 31, 'Nick': 31, 'Pam': 27, 'Tim': 31, 'Tom': 50}"
      ]
     },
     "execution_count": 309,
     "metadata": {},
     "output_type": "execute_result"
    }
   ],
   "source": [
    "age"
   ]
  },
  {
   "cell_type": "code",
   "execution_count": 317,
   "metadata": {},
   "outputs": [
    {
     "data": {
      "text/plain": [
       "40"
      ]
     },
     "execution_count": 317,
     "metadata": {},
     "output_type": "execute_result"
    }
   ],
   "source": [
    "age.pop((1,2,3))"
   ]
  },
  {
   "cell_type": "code",
   "execution_count": 318,
   "metadata": {},
   "outputs": [
    {
     "data": {
      "text/plain": [
       "{'Jim': 31, 'Nick': 31, 'Pam': 27, 'Tim': 31, 'Tom': 50}"
      ]
     },
     "execution_count": 318,
     "metadata": {},
     "output_type": "execute_result"
    }
   ],
   "source": [
    "age"
   ]
  },
  {
   "cell_type": "code",
   "execution_count": 319,
   "metadata": {},
   "outputs": [
    {
     "name": "stdout",
     "output_type": "stream",
     "text": [
      "Tim 31\n",
      "Jim 31\n",
      "Pam 27\n",
      "Tom 50\n",
      "Nick 31\n"
     ]
    }
   ],
   "source": [
    "for name in age.keys():\n",
    "    print(name, age[name])"
   ]
  },
  {
   "cell_type": "code",
   "execution_count": 320,
   "metadata": {},
   "outputs": [
    {
     "name": "stdout",
     "output_type": "stream",
     "text": [
      "Tim 31\n",
      "Jim 31\n",
      "Pam 27\n",
      "Tom 50\n",
      "Nick 31\n"
     ]
    }
   ],
   "source": [
    "for name in age:\n",
    "    print(name, age[name])"
   ]
  },
  {
   "cell_type": "code",
   "execution_count": 321,
   "metadata": {},
   "outputs": [
    {
     "name": "stdout",
     "output_type": "stream",
     "text": [
      "Jim 31\n",
      "Nick 31\n",
      "Pam 27\n",
      "Tim 31\n",
      "Tom 50\n"
     ]
    }
   ],
   "source": [
    "for name in sorted(age.keys()):\n",
    "    print(name, age[name])"
   ]
  },
  {
   "cell_type": "code",
   "execution_count": 323,
   "metadata": {},
   "outputs": [
    {
     "name": "stdout",
     "output_type": "stream",
     "text": [
      "Tom 50\n",
      "Tim 31\n",
      "Pam 27\n",
      "Nick 31\n",
      "Jim 31\n"
     ]
    }
   ],
   "source": [
    "for name in sorted(age.keys(), reverse = True):\n",
    "    print(name, age[name])"
   ]
  },
  {
   "cell_type": "code",
   "execution_count": 324,
   "metadata": {},
   "outputs": [
    {
     "data": {
      "text/plain": [
       "{'Jim': 31, 'Nick': 31, 'Pam': 27, 'Tim': 31, 'Tom': 50}"
      ]
     },
     "execution_count": 324,
     "metadata": {},
     "output_type": "execute_result"
    }
   ],
   "source": [
    "age"
   ]
  },
  {
   "cell_type": "code",
   "execution_count": 325,
   "metadata": {},
   "outputs": [
    {
     "data": {
      "text/plain": [
       "dict_values([31, 31, 27, 50, 31])"
      ]
     },
     "execution_count": 325,
     "metadata": {},
     "output_type": "execute_result"
    }
   ],
   "source": [
    "age.values()"
   ]
  },
  {
   "cell_type": "code",
   "execution_count": 326,
   "metadata": {},
   "outputs": [
    {
     "data": {
      "text/plain": [
       "[27, 31, 31, 31, 50]"
      ]
     },
     "execution_count": 326,
     "metadata": {},
     "output_type": "execute_result"
    }
   ],
   "source": [
    "sorted(age.values())"
   ]
  },
  {
   "cell_type": "code",
   "execution_count": 327,
   "metadata": {},
   "outputs": [
    {
     "data": {
      "text/plain": [
       "{'Jim': 31, 'Nick': 31, 'Pam': 27, 'Tim': 31, 'Tom': 50}"
      ]
     },
     "execution_count": 327,
     "metadata": {},
     "output_type": "execute_result"
    }
   ],
   "source": [
    "age"
   ]
  },
  {
   "cell_type": "code",
   "execution_count": 328,
   "metadata": {},
   "outputs": [
    {
     "ename": "KeyError",
     "evalue": "27",
     "output_type": "error",
     "traceback": [
      "\u001b[1;31m---------------------------------------------------------------------------\u001b[0m",
      "\u001b[1;31mKeyError\u001b[0m                                  Traceback (most recent call last)",
      "\u001b[1;32m<ipython-input-328-efe5daea279f>\u001b[0m in \u001b[0;36m<module>\u001b[1;34m()\u001b[0m\n\u001b[0;32m      1\u001b[0m \u001b[1;32mfor\u001b[0m \u001b[0mname\u001b[0m \u001b[1;32min\u001b[0m \u001b[0msorted\u001b[0m\u001b[1;33m(\u001b[0m\u001b[0mage\u001b[0m\u001b[1;33m.\u001b[0m\u001b[0mvalues\u001b[0m\u001b[1;33m(\u001b[0m\u001b[1;33m)\u001b[0m\u001b[1;33m)\u001b[0m\u001b[1;33m:\u001b[0m\u001b[1;33m\u001b[0m\u001b[0m\n\u001b[1;32m----> 2\u001b[1;33m     \u001b[0mprint\u001b[0m\u001b[1;33m(\u001b[0m\u001b[0mname\u001b[0m\u001b[1;33m,\u001b[0m \u001b[0mage\u001b[0m\u001b[1;33m[\u001b[0m\u001b[0mname\u001b[0m\u001b[1;33m]\u001b[0m\u001b[1;33m)\u001b[0m\u001b[1;33m\u001b[0m\u001b[0m\n\u001b[0m",
      "\u001b[1;31mKeyError\u001b[0m: 27"
     ]
    }
   ],
   "source": [
    "for name in sorted(age.values()):\n",
    "    print(name, age[name])"
   ]
  },
  {
   "cell_type": "code",
   "execution_count": null,
   "metadata": {},
   "outputs": [],
   "source": []
  },
  {
   "cell_type": "code",
   "execution_count": 344,
   "metadata": {},
   "outputs": [
    {
     "name": "stdout",
     "output_type": "stream",
     "text": [
      "Hello, Brown bear!\n",
      "Hello, Polar bear!\n",
      "odd\n"
     ]
    }
   ],
   "source": [
    "'''\n",
    "while - testing cond\n",
    "if you dont know the exact number of count to iterate\n",
    "'''\n",
    "\n",
    "bears = {\"Grizzly\":\"angry\", \"Brown\":\"friendly\", \"Polar\":\"friendly\"}\n",
    "\n",
    "for bear in bears:\n",
    "    if bears[bear] == \"friendly\":\n",
    "        print(\"Hello, \"+bear+\" bear!\")\n",
    "else:\n",
    "    print(\"odd\")"
   ]
  },
  {
   "cell_type": "code",
   "execution_count": 350,
   "metadata": {},
   "outputs": [
    {
     "name": "stdout",
     "output_type": "stream",
     "text": [
      "True\n"
     ]
    }
   ],
   "source": [
    "n =19\n",
    "is_prime = True\n",
    "for i in range(2,n):\n",
    "    if n%i == 0:\n",
    "        is_prime = False\n",
    "print(is_prime)"
   ]
  },
  {
   "cell_type": "code",
   "execution_count": 351,
   "metadata": {},
   "outputs": [
    {
     "name": "stdout",
     "output_type": "stream",
     "text": [
      "7\n"
     ]
    }
   ],
   "source": [
    "n=100\n",
    "number_of_times = 0\n",
    "while n >= 1:\n",
    "    n //= 2\n",
    "    number_of_times += 1\n",
    "print(number_of_times)"
   ]
  },
  {
   "cell_type": "code",
   "execution_count": null,
   "metadata": {},
   "outputs": [],
   "source": []
  },
  {
   "cell_type": "code",
   "execution_count": 352,
   "metadata": {},
   "outputs": [
    {
     "data": {
      "text/plain": [
       "'\\nList comprehension\\nlist operation -> new list\\n'"
      ]
     },
     "execution_count": 352,
     "metadata": {},
     "output_type": "execute_result"
    }
   ],
   "source": [
    "'''\n",
    "List comprehension\n",
    "list operation -> new list\n",
    "'''"
   ]
  },
  {
   "cell_type": "code",
   "execution_count": 360,
   "metadata": {},
   "outputs": [],
   "source": [
    "numbers = range(10)"
   ]
  },
  {
   "cell_type": "code",
   "execution_count": 361,
   "metadata": {},
   "outputs": [],
   "source": [
    "squares = []"
   ]
  },
  {
   "cell_type": "code",
   "execution_count": 362,
   "metadata": {},
   "outputs": [],
   "source": [
    "for number in numbers:\n",
    "    square = number**2\n",
    "    squares.append(square)"
   ]
  },
  {
   "cell_type": "code",
   "execution_count": 363,
   "metadata": {},
   "outputs": [
    {
     "data": {
      "text/plain": [
       "[0, 1, 4, 9, 16, 25, 36, 49, 64, 81]"
      ]
     },
     "execution_count": 363,
     "metadata": {},
     "output_type": "execute_result"
    }
   ],
   "source": [
    "squares"
   ]
  },
  {
   "cell_type": "code",
   "execution_count": null,
   "metadata": {},
   "outputs": [],
   "source": []
  },
  {
   "cell_type": "code",
   "execution_count": 364,
   "metadata": {},
   "outputs": [],
   "source": [
    "squares2 = [number ** 2 for number in numbers]"
   ]
  },
  {
   "cell_type": "code",
   "execution_count": 365,
   "metadata": {},
   "outputs": [
    {
     "data": {
      "text/plain": [
       "[0, 1, 4, 9, 16, 25, 36, 49, 64, 81]"
      ]
     },
     "execution_count": 365,
     "metadata": {},
     "output_type": "execute_result"
    }
   ],
   "source": [
    "squares2"
   ]
  },
  {
   "cell_type": "code",
   "execution_count": null,
   "metadata": {},
   "outputs": [],
   "source": []
  },
  {
   "cell_type": "code",
   "execution_count": 366,
   "metadata": {},
   "outputs": [
    {
     "data": {
      "text/plain": [
       "5"
      ]
     },
     "execution_count": 366,
     "metadata": {},
     "output_type": "execute_result"
    }
   ],
   "source": [
    "sum([i**2 for i in range(3)])"
   ]
  },
  {
   "cell_type": "code",
   "execution_count": null,
   "metadata": {},
   "outputs": [],
   "source": []
  },
  {
   "cell_type": "code",
   "execution_count": 367,
   "metadata": {},
   "outputs": [
    {
     "data": {
      "text/plain": [
       "165"
      ]
     },
     "execution_count": 367,
     "metadata": {},
     "output_type": "execute_result"
    }
   ],
   "source": [
    "sum([i**2 for i in range(10) if i%2==1])"
   ]
  },
  {
   "cell_type": "code",
   "execution_count": null,
   "metadata": {},
   "outputs": [],
   "source": []
  },
  {
   "cell_type": "code",
   "execution_count": 369,
   "metadata": {},
   "outputs": [
    {
     "name": "stdout",
     "output_type": "stream",
     "text": [
      "first line\n",
      "\n",
      "second line\n",
      "\n",
      "third line\n"
     ]
    }
   ],
   "source": [
    "filename = \"input.txt\"\n",
    "\n",
    "for line in open(filename):\n",
    "    print(line)"
   ]
  },
  {
   "cell_type": "code",
   "execution_count": 370,
   "metadata": {},
   "outputs": [
    {
     "name": "stdout",
     "output_type": "stream",
     "text": [
      "['first', 'line']\n",
      "['second', 'line']\n",
      "['third', 'line']\n"
     ]
    }
   ],
   "source": [
    "for line in open(filename):\n",
    "    line = line.rstrip().split(' ')\n",
    "    print(line)"
   ]
  },
  {
   "cell_type": "code",
   "execution_count": 371,
   "metadata": {},
   "outputs": [
    {
     "name": "stdout",
     "output_type": "stream",
     "text": [
      "first line\n",
      "second line\n",
      "third line\n"
     ]
    }
   ],
   "source": [
    "for line in open(filename):\n",
    "    line = line.rstrip()\n",
    "    print(line)"
   ]
  },
  {
   "cell_type": "code",
   "execution_count": 372,
   "metadata": {},
   "outputs": [
    {
     "data": {
      "text/plain": [
       "7"
      ]
     },
     "execution_count": 372,
     "metadata": {},
     "output_type": "execute_result"
    }
   ],
   "source": [
    "f = open(\"output.txt\", \"w\")\n",
    "\n",
    "f.write(\"python\\n\")\n"
   ]
  },
  {
   "cell_type": "code",
   "execution_count": 373,
   "metadata": {},
   "outputs": [],
   "source": [
    "f.close()"
   ]
  },
  {
   "cell_type": "code",
   "execution_count": null,
   "metadata": {},
   "outputs": [],
   "source": []
  },
  {
   "cell_type": "code",
   "execution_count": 374,
   "metadata": {},
   "outputs": [
    {
     "name": "stdout",
     "output_type": "stream",
     "text": [
      "['Hello', 'World']\n"
     ]
    }
   ],
   "source": [
    "F = open(\"input1.txt\", \"w\")\n",
    "F.write(\"Hello\\nWorld\")\n",
    "F.close()\n",
    "lines = []\n",
    "for line in open(\"input1.txt\"):\n",
    "    lines.append(line.strip())\n",
    "print(lines)"
   ]
  },
  {
   "cell_type": "code",
   "execution_count": null,
   "metadata": {},
   "outputs": [],
   "source": []
  },
  {
   "cell_type": "code",
   "execution_count": 375,
   "metadata": {},
   "outputs": [],
   "source": [
    "'''\n",
    "Functions - procedural decomposition\n",
    "return\n",
    "'''\n",
    "def add(a,b):\n",
    "    mysum = a + b\n",
    "    return mysum"
   ]
  },
  {
   "cell_type": "code",
   "execution_count": 376,
   "metadata": {},
   "outputs": [
    {
     "data": {
      "text/plain": [
       "27"
      ]
     },
     "execution_count": 376,
     "metadata": {},
     "output_type": "execute_result"
    }
   ],
   "source": [
    "add(12,15)"
   ]
  },
  {
   "cell_type": "code",
   "execution_count": 377,
   "metadata": {},
   "outputs": [],
   "source": [
    "def add_and_sub(a,b):\n",
    "    mysum = a+b\n",
    "    mydiff = a-b\n",
    "    return (mysum, mydiff) #return tuple object"
   ]
  },
  {
   "cell_type": "code",
   "execution_count": 378,
   "metadata": {},
   "outputs": [
    {
     "data": {
      "text/plain": [
       "(27, 3)"
      ]
     },
     "execution_count": 378,
     "metadata": {},
     "output_type": "execute_result"
    }
   ],
   "source": [
    "add_and_sub(15,12)"
   ]
  },
  {
   "cell_type": "code",
   "execution_count": null,
   "metadata": {},
   "outputs": [],
   "source": []
  },
  {
   "cell_type": "code",
   "execution_count": 379,
   "metadata": {},
   "outputs": [
    {
     "data": {
      "text/plain": [
       "<function __main__.add>"
      ]
     },
     "execution_count": 379,
     "metadata": {},
     "output_type": "execute_result"
    }
   ],
   "source": [
    "add"
   ]
  },
  {
   "cell_type": "code",
   "execution_count": 380,
   "metadata": {},
   "outputs": [],
   "source": [
    "newadd = add"
   ]
  },
  {
   "cell_type": "code",
   "execution_count": 381,
   "metadata": {},
   "outputs": [
    {
     "data": {
      "text/plain": [
       "7"
      ]
     },
     "execution_count": 381,
     "metadata": {},
     "output_type": "execute_result"
    }
   ],
   "source": [
    "add(2,5)"
   ]
  },
  {
   "cell_type": "code",
   "execution_count": 382,
   "metadata": {},
   "outputs": [
    {
     "data": {
      "text/plain": [
       "7"
      ]
     },
     "execution_count": 382,
     "metadata": {},
     "output_type": "execute_result"
    }
   ],
   "source": [
    "newadd(2,5)"
   ]
  },
  {
   "cell_type": "code",
   "execution_count": null,
   "metadata": {},
   "outputs": [],
   "source": []
  },
  {
   "cell_type": "code",
   "execution_count": 383,
   "metadata": {},
   "outputs": [],
   "source": [
    "def modify(mylist):\n",
    "    mylist[0]*=10"
   ]
  },
  {
   "cell_type": "code",
   "execution_count": 385,
   "metadata": {},
   "outputs": [
    {
     "data": {
      "text/plain": [
       "[10, 3, 5, 7, 9]"
      ]
     },
     "execution_count": 385,
     "metadata": {},
     "output_type": "execute_result"
    }
   ],
   "source": [
    "L=[1,3,5,7,9]\n",
    "modify(L)\n",
    "L"
   ]
  },
  {
   "cell_type": "code",
   "execution_count": null,
   "metadata": {},
   "outputs": [],
   "source": []
  },
  {
   "cell_type": "code",
   "execution_count": 386,
   "metadata": {},
   "outputs": [
    {
     "data": {
      "text/plain": [
       "True"
      ]
     },
     "execution_count": 386,
     "metadata": {},
     "output_type": "execute_result"
    }
   ],
   "source": [
    "def modify(mylist):\n",
    "    mylist[0] *= 10\n",
    "    return(mylist)\n",
    "L = [1, 3, 5, 7, 9]\n",
    "M = modify(L)\n",
    "M is L"
   ]
  },
  {
   "cell_type": "code",
   "execution_count": null,
   "metadata": {},
   "outputs": [],
   "source": []
  },
  {
   "cell_type": "code",
   "execution_count": 387,
   "metadata": {},
   "outputs": [],
   "source": [
    "def intersect(s1,s2):\n",
    "    res = []\n",
    "    for x in s1:\n",
    "        if x in s2:\n",
    "            res.append(x)\n",
    "    return res"
   ]
  },
  {
   "cell_type": "code",
   "execution_count": 388,
   "metadata": {},
   "outputs": [
    {
     "data": {
      "text/plain": [
       "[3, 4]"
      ]
     },
     "execution_count": 388,
     "metadata": {},
     "output_type": "execute_result"
    }
   ],
   "source": [
    "intersect([1,2,3,4],[3,4,5,6])"
   ]
  },
  {
   "cell_type": "code",
   "execution_count": null,
   "metadata": {},
   "outputs": [],
   "source": []
  },
  {
   "cell_type": "code",
   "execution_count": null,
   "metadata": {},
   "outputs": [],
   "source": []
  },
  {
   "cell_type": "code",
   "execution_count": 390,
   "metadata": {},
   "outputs": [],
   "source": [
    "import random"
   ]
  },
  {
   "cell_type": "code",
   "execution_count": 391,
   "metadata": {},
   "outputs": [
    {
     "data": {
      "text/plain": [
       "3"
      ]
     },
     "execution_count": 391,
     "metadata": {},
     "output_type": "execute_result"
    }
   ],
   "source": [
    "random.choice([1,2,3,4])"
   ]
  },
  {
   "cell_type": "code",
   "execution_count": 392,
   "metadata": {},
   "outputs": [
    {
     "data": {
      "text/plain": [
       "4"
      ]
     },
     "execution_count": 392,
     "metadata": {},
     "output_type": "execute_result"
    }
   ],
   "source": [
    "random.choice([1,2,3,4])"
   ]
  },
  {
   "cell_type": "code",
   "execution_count": 394,
   "metadata": {},
   "outputs": [
    {
     "data": {
      "text/plain": [
       "'f'"
      ]
     },
     "execution_count": 394,
     "metadata": {},
     "output_type": "execute_result"
    }
   ],
   "source": [
    "random.choice(\"abcdef\")"
   ]
  },
  {
   "cell_type": "code",
   "execution_count": 395,
   "metadata": {},
   "outputs": [
    {
     "data": {
      "text/plain": [
       "'c'"
      ]
     },
     "execution_count": 395,
     "metadata": {},
     "output_type": "execute_result"
    }
   ],
   "source": [
    "random.choice(\"abcdef\")"
   ]
  },
  {
   "cell_type": "code",
   "execution_count": null,
   "metadata": {},
   "outputs": [],
   "source": []
  },
  {
   "cell_type": "code",
   "execution_count": 402,
   "metadata": {},
   "outputs": [],
   "source": [
    "def password(length):\n",
    "    pw = str() #create empty string\n",
    "    characters = \"abcdefghijklmnopqrstuvwxyz\"+\"0123456789\"\n",
    "    for i in range(length):\n",
    "        pw = pw + random.choice(characters)\n",
    "    return pw   "
   ]
  },
  {
   "cell_type": "code",
   "execution_count": 403,
   "metadata": {},
   "outputs": [
    {
     "data": {
      "text/plain": [
       "'08vst00lo2'"
      ]
     },
     "execution_count": 403,
     "metadata": {},
     "output_type": "execute_result"
    }
   ],
   "source": [
    "password(10)"
   ]
  },
  {
   "cell_type": "code",
   "execution_count": null,
   "metadata": {},
   "outputs": [],
   "source": []
  },
  {
   "cell_type": "code",
   "execution_count": 404,
   "metadata": {},
   "outputs": [
    {
     "data": {
      "text/plain": [
       "[3]"
      ]
     },
     "execution_count": 404,
     "metadata": {},
     "output_type": "execute_result"
    }
   ],
   "source": [
    "intersect([1,2,3],[3,4,5,6])"
   ]
  },
  {
   "cell_type": "code",
   "execution_count": 407,
   "metadata": {},
   "outputs": [],
   "source": [
    "def is_vowel(letter):\n",
    "    if letter in 'aeiouy':\n",
    "        return(True)\n",
    "    else:\n",
    "        return(False)"
   ]
  },
  {
   "cell_type": "code",
   "execution_count": 414,
   "metadata": {},
   "outputs": [
    {
     "data": {
      "text/plain": [
       "False"
      ]
     },
     "execution_count": 414,
     "metadata": {},
     "output_type": "execute_result"
    }
   ],
   "source": [
    "is_vowel('w')"
   ]
  },
  {
   "cell_type": "code",
   "execution_count": 415,
   "metadata": {},
   "outputs": [
    {
     "ename": "TypeError",
     "evalue": "'in <string>' requires string as left operand, not int",
     "output_type": "error",
     "traceback": [
      "\u001b[1;31m---------------------------------------------------------------------------\u001b[0m",
      "\u001b[1;31mTypeError\u001b[0m                                 Traceback (most recent call last)",
      "\u001b[1;32m<ipython-input-415-0509f8554a75>\u001b[0m in \u001b[0;36m<module>\u001b[1;34m()\u001b[0m\n\u001b[1;32m----> 1\u001b[1;33m \u001b[0mis_vowel\u001b[0m\u001b[1;33m(\u001b[0m\u001b[1;36m4\u001b[0m\u001b[1;33m)\u001b[0m\u001b[1;33m\u001b[0m\u001b[0m\n\u001b[0m",
      "\u001b[1;32m<ipython-input-407-a6d5d46d43d1>\u001b[0m in \u001b[0;36mis_vowel\u001b[1;34m(letter)\u001b[0m\n\u001b[0;32m      1\u001b[0m \u001b[1;32mdef\u001b[0m \u001b[0mis_vowel\u001b[0m\u001b[1;33m(\u001b[0m\u001b[0mletter\u001b[0m\u001b[1;33m)\u001b[0m\u001b[1;33m:\u001b[0m\u001b[1;33m\u001b[0m\u001b[0m\n\u001b[1;32m----> 2\u001b[1;33m     \u001b[1;32mif\u001b[0m \u001b[0mletter\u001b[0m \u001b[1;32min\u001b[0m \u001b[1;34m'aeiouy'\u001b[0m\u001b[1;33m:\u001b[0m\u001b[1;33m\u001b[0m\u001b[0m\n\u001b[0m\u001b[0;32m      3\u001b[0m         \u001b[1;32mreturn\u001b[0m\u001b[1;33m(\u001b[0m\u001b[1;32mTrue\u001b[0m\u001b[1;33m)\u001b[0m\u001b[1;33m\u001b[0m\u001b[0m\n\u001b[0;32m      4\u001b[0m     \u001b[1;32melse\u001b[0m\u001b[1;33m:\u001b[0m\u001b[1;33m\u001b[0m\u001b[0m\n\u001b[0;32m      5\u001b[0m         \u001b[1;32mreturn\u001b[0m\u001b[1;33m(\u001b[0m\u001b[1;32mFalse\u001b[0m\u001b[1;33m)\u001b[0m\u001b[1;33m\u001b[0m\u001b[0m\n",
      "\u001b[1;31mTypeError\u001b[0m: 'in <string>' requires string as left operand, not int"
     ]
    }
   ],
   "source": [
    "is_vowel(4)"
   ]
  },
  {
   "cell_type": "code",
   "execution_count": 416,
   "metadata": {},
   "outputs": [],
   "source": [
    "def is_vowel(letter):\n",
    "    if type(letter) == int:\n",
    "        letter = str(letter)\n",
    "    if letter in \"aeiouy\":\n",
    "        return(True)\n",
    "    else:\n",
    "        return(False)"
   ]
  },
  {
   "cell_type": "code",
   "execution_count": 417,
   "metadata": {},
   "outputs": [
    {
     "data": {
      "text/plain": [
       "False"
      ]
     },
     "execution_count": 417,
     "metadata": {},
     "output_type": "execute_result"
    }
   ],
   "source": [
    "is_vowel(4)"
   ]
  },
  {
   "cell_type": "code",
   "execution_count": 422,
   "metadata": {},
   "outputs": [],
   "source": [
    "def factorial(n):\n",
    "    if n == 0:\n",
    "        return 1\n",
    "    else:\n",
    "        N = 1\n",
    "        for i in range(1, n+1):\n",
    "            N = N*i\n",
    "        return(N)"
   ]
  },
  {
   "cell_type": "code",
   "execution_count": 425,
   "metadata": {},
   "outputs": [
    {
     "data": {
      "text/plain": [
       "40320"
      ]
     },
     "execution_count": 425,
     "metadata": {},
     "output_type": "execute_result"
    }
   ],
   "source": [
    "factorial(8)"
   ]
  },
  {
   "cell_type": "code",
   "execution_count": null,
   "metadata": {},
   "outputs": [],
   "source": []
  },
  {
   "cell_type": "code",
   "execution_count": 426,
   "metadata": {},
   "outputs": [
    {
     "data": {
      "text/plain": [
       "list"
      ]
     },
     "execution_count": 426,
     "metadata": {},
     "output_type": "execute_result"
    }
   ],
   "source": [
    "type(L)"
   ]
  },
  {
   "cell_type": "code",
   "execution_count": 427,
   "metadata": {},
   "outputs": [
    {
     "ename": "IndexError",
     "evalue": "list index out of range",
     "output_type": "error",
     "traceback": [
      "\u001b[1;31m---------------------------------------------------------------------------\u001b[0m",
      "\u001b[1;31mIndexError\u001b[0m                                Traceback (most recent call last)",
      "\u001b[1;32m<ipython-input-427-7d1d7a0424fb>\u001b[0m in \u001b[0;36m<module>\u001b[1;34m()\u001b[0m\n\u001b[1;32m----> 1\u001b[1;33m \u001b[0mL\u001b[0m\u001b[1;33m[\u001b[0m\u001b[1;36m5\u001b[0m\u001b[1;33m]\u001b[0m\u001b[1;33m\u001b[0m\u001b[0m\n\u001b[0m",
      "\u001b[1;31mIndexError\u001b[0m: list index out of range"
     ]
    }
   ],
   "source": [
    "L[5]"
   ]
  },
  {
   "cell_type": "code",
   "execution_count": 428,
   "metadata": {},
   "outputs": [
    {
     "data": {
      "text/plain": [
       "5"
      ]
     },
     "execution_count": 428,
     "metadata": {},
     "output_type": "execute_result"
    }
   ],
   "source": [
    "len(L)"
   ]
  },
  {
   "cell_type": "code",
   "execution_count": null,
   "metadata": {},
   "outputs": [],
   "source": []
  },
  {
   "cell_type": "code",
   "execution_count": 429,
   "metadata": {},
   "outputs": [
    {
     "ename": "AttributeError",
     "evalue": "'list' object has no attribute 'add'",
     "output_type": "error",
     "traceback": [
      "\u001b[1;31m---------------------------------------------------------------------------\u001b[0m",
      "\u001b[1;31mAttributeError\u001b[0m                            Traceback (most recent call last)",
      "\u001b[1;32m<ipython-input-429-c820b2ce15c2>\u001b[0m in \u001b[0;36m<module>\u001b[1;34m()\u001b[0m\n\u001b[1;32m----> 1\u001b[1;33m \u001b[0mL\u001b[0m\u001b[1;33m.\u001b[0m\u001b[0madd\u001b[0m\u001b[1;33m(\u001b[0m\u001b[1;36m8\u001b[0m\u001b[1;33m)\u001b[0m\u001b[1;33m\u001b[0m\u001b[0m\n\u001b[0m",
      "\u001b[1;31mAttributeError\u001b[0m: 'list' object has no attribute 'add'"
     ]
    }
   ],
   "source": [
    "L.add(8)"
   ]
  },
  {
   "cell_type": "code",
   "execution_count": 430,
   "metadata": {},
   "outputs": [],
   "source": [
    "L.append(8)"
   ]
  },
  {
   "cell_type": "code",
   "execution_count": 431,
   "metadata": {},
   "outputs": [
    {
     "data": {
      "text/plain": [
       "[10, 3, 5, 7, 9, 8]"
      ]
     },
     "execution_count": 431,
     "metadata": {},
     "output_type": "execute_result"
    }
   ],
   "source": [
    "L"
   ]
  },
  {
   "cell_type": "code",
   "execution_count": null,
   "metadata": {},
   "outputs": [],
   "source": []
  },
  {
   "cell_type": "code",
   "execution_count": 432,
   "metadata": {},
   "outputs": [],
   "source": [
    "D = {\"1\":\"aa\", \"2\":\"bb\", \"3\":\"cc\"}"
   ]
  },
  {
   "cell_type": "code",
   "execution_count": 433,
   "metadata": {},
   "outputs": [
    {
     "data": {
      "text/plain": [
       "dict_keys(['1', '2', '3'])"
      ]
     },
     "execution_count": 433,
     "metadata": {},
     "output_type": "execute_result"
    }
   ],
   "source": [
    "D.keys()"
   ]
  },
  {
   "cell_type": "code",
   "execution_count": 434,
   "metadata": {},
   "outputs": [
    {
     "data": {
      "text/plain": [
       "dict_values(['aa', 'bb', 'cc'])"
      ]
     },
     "execution_count": 434,
     "metadata": {},
     "output_type": "execute_result"
    }
   ],
   "source": [
    "D.values()"
   ]
  },
  {
   "cell_type": "code",
   "execution_count": 435,
   "metadata": {},
   "outputs": [
    {
     "ename": "KeyError",
     "evalue": "1",
     "output_type": "error",
     "traceback": [
      "\u001b[1;31m---------------------------------------------------------------------------\u001b[0m",
      "\u001b[1;31mKeyError\u001b[0m                                  Traceback (most recent call last)",
      "\u001b[1;32m<ipython-input-435-64f08845f4dd>\u001b[0m in \u001b[0;36m<module>\u001b[1;34m()\u001b[0m\n\u001b[1;32m----> 1\u001b[1;33m \u001b[0mD\u001b[0m\u001b[1;33m[\u001b[0m\u001b[1;36m1\u001b[0m\u001b[1;33m]\u001b[0m\u001b[1;33m\u001b[0m\u001b[0m\n\u001b[0m",
      "\u001b[1;31mKeyError\u001b[0m: 1"
     ]
    }
   ],
   "source": [
    "D[1]"
   ]
  },
  {
   "cell_type": "code",
   "execution_count": 436,
   "metadata": {},
   "outputs": [
    {
     "data": {
      "text/plain": [
       "'aa'"
      ]
     },
     "execution_count": 436,
     "metadata": {},
     "output_type": "execute_result"
    }
   ],
   "source": [
    "D[\"1\"]"
   ]
  },
  {
   "cell_type": "code",
   "execution_count": null,
   "metadata": {},
   "outputs": [],
   "source": []
  },
  {
   "cell_type": "code",
   "execution_count": 437,
   "metadata": {},
   "outputs": [
    {
     "ename": "TypeError",
     "evalue": "'str' object does not support item assignment",
     "output_type": "error",
     "traceback": [
      "\u001b[1;31m---------------------------------------------------------------------------\u001b[0m",
      "\u001b[1;31mTypeError\u001b[0m                                 Traceback (most recent call last)",
      "\u001b[1;32m<ipython-input-437-2c712692cb6f>\u001b[0m in \u001b[0;36m<module>\u001b[1;34m()\u001b[0m\n\u001b[1;32m----> 1\u001b[1;33m \u001b[1;34m\"Python\"\u001b[0m\u001b[1;33m[\u001b[0m\u001b[1;36m0\u001b[0m\u001b[1;33m]\u001b[0m\u001b[1;33m=\u001b[0m\u001b[1;34m\"p\"\u001b[0m\u001b[1;33m\u001b[0m\u001b[0m\n\u001b[0m",
      "\u001b[1;31mTypeError\u001b[0m: 'str' object does not support item assignment"
     ]
    }
   ],
   "source": [
    "\"Python\"[0]=\"p\""
   ]
  },
  {
   "cell_type": "code",
   "execution_count": null,
   "metadata": {},
   "outputs": [],
   "source": []
  },
  {
   "cell_type": "code",
   "execution_count": 438,
   "metadata": {},
   "outputs": [
    {
     "ename": "TypeError",
     "evalue": "must be str, not int",
     "output_type": "error",
     "traceback": [
      "\u001b[1;31m---------------------------------------------------------------------------\u001b[0m",
      "\u001b[1;31mTypeError\u001b[0m                                 Traceback (most recent call last)",
      "\u001b[1;32m<ipython-input-438-d09eee721e14>\u001b[0m in \u001b[0;36m<module>\u001b[1;34m()\u001b[0m\n\u001b[1;32m----> 1\u001b[1;33m \u001b[1;34m\"Python\"\u001b[0m \u001b[1;33m+\u001b[0m \u001b[1;36m3\u001b[0m\u001b[1;33m\u001b[0m\u001b[0m\n\u001b[0m",
      "\u001b[1;31mTypeError\u001b[0m: must be str, not int"
     ]
    }
   ],
   "source": [
    "\"Python\" + 3"
   ]
  },
  {
   "cell_type": "code",
   "execution_count": 439,
   "metadata": {},
   "outputs": [
    {
     "data": {
      "text/plain": [
       "'Python3'"
      ]
     },
     "execution_count": 439,
     "metadata": {},
     "output_type": "execute_result"
    }
   ],
   "source": [
    "\"Python\" + str(3)"
   ]
  },
  {
   "cell_type": "code",
   "execution_count": null,
   "metadata": {},
   "outputs": [],
   "source": []
  },
  {
   "cell_type": "code",
   "execution_count": 440,
   "metadata": {},
   "outputs": [],
   "source": [
    "import string"
   ]
  },
  {
   "cell_type": "code",
   "execution_count": 463,
   "metadata": {},
   "outputs": [
    {
     "data": {
      "text/plain": [
       "'abcdefghijklmnopqrstuvwxyzABCDEFGHIJKLMNOPQRSTUVWXYZ'"
      ]
     },
     "execution_count": 463,
     "metadata": {},
     "output_type": "execute_result"
    }
   ],
   "source": [
    "alphabet = string.ascii_letters\n",
    "alphabet"
   ]
  },
  {
   "cell_type": "code",
   "execution_count": 474,
   "metadata": {},
   "outputs": [
    {
     "name": "stdout",
     "output_type": "stream",
     "text": [
      "The original dictionary : {}\n",
      "Dictionary after the increment of key : {'best': 3}\n"
     ]
    }
   ],
   "source": [
    "from collections import defaultdict \n",
    "  \n",
    "test_dict = defaultdict(int) # Initialize dictionary \n",
    "  \n",
    "print(\"The original dictionary : \" +  str(dict(test_dict))) # printing original dictionary \n",
    "\n",
    "test_dict['best'] += 3\n",
    "\n",
    "print(\"Dictionary after the increment of key : \" + str(dict(test_dict))) # printing result "
   ]
  },
  {
   "cell_type": "code",
   "execution_count": 486,
   "metadata": {},
   "outputs": [
    {
     "data": {
      "text/plain": [
       "{'A': 0,\n",
       " 'B': 0,\n",
       " 'C': 0,\n",
       " 'D': 0,\n",
       " 'E': 0,\n",
       " 'F': 0,\n",
       " 'G': 0,\n",
       " 'H': 0,\n",
       " 'I': 0,\n",
       " 'J': 1,\n",
       " 'K': 0,\n",
       " 'L': 0,\n",
       " 'M': 0,\n",
       " 'N': 0,\n",
       " 'O': 0,\n",
       " 'P': 0,\n",
       " 'Q': 0,\n",
       " 'R': 0,\n",
       " 'S': 0,\n",
       " 'T': 0,\n",
       " 'U': 0,\n",
       " 'V': 0,\n",
       " 'W': 0,\n",
       " 'X': 0,\n",
       " 'Y': 0,\n",
       " 'Z': 0,\n",
       " 'a': 4,\n",
       " 'b': 1,\n",
       " 'c': 1,\n",
       " 'd': 1,\n",
       " 'e': 8,\n",
       " 'f': 1,\n",
       " 'g': 1,\n",
       " 'h': 2,\n",
       " 'i': 5,\n",
       " 'j': 0,\n",
       " 'k': 1,\n",
       " 'l': 3,\n",
       " 'm': 1,\n",
       " 'n': 2,\n",
       " 'o': 1,\n",
       " 'p': 1,\n",
       " 'q': 1,\n",
       " 'r': 2,\n",
       " 's': 2,\n",
       " 't': 4,\n",
       " 'u': 3,\n",
       " 'v': 1,\n",
       " 'w': 1,\n",
       " 'x': 1,\n",
       " 'y': 1,\n",
       " 'z': 1}"
      ]
     },
     "execution_count": 486,
     "metadata": {},
     "output_type": "execute_result"
    }
   ],
   "source": [
    "sentence = 'Jim quickly realized that the beautiful gowns are expensive'\n",
    "\n",
    "count_letters = {}\n",
    "\n",
    "alphabet = string.ascii_letters\n",
    "\n",
    "for alpha in alphabet:\n",
    "    count_letters[alpha]= 0\n",
    "\n",
    "count_letters\n",
    "    \n",
    "for i in sentence:\n",
    "    if i not in alphabet:\n",
    "        continue\n",
    "        \n",
    "    count_letters[i] += 1\n",
    "    \n",
    "count_letters"
   ]
  },
  {
   "cell_type": "code",
   "execution_count": null,
   "metadata": {},
   "outputs": [],
   "source": []
  },
  {
   "cell_type": "code",
   "execution_count": 488,
   "metadata": {},
   "outputs": [],
   "source": [
    "import string\n",
    "\n",
    "def counter(sentence):\n",
    "    count_letters = {}\n",
    "    \n",
    "    alphabet = string.ascii_letters\n",
    "\n",
    "    for alpha in alphabet:\n",
    "        count_letters[alpha]= 0\n",
    "\n",
    "    count_letters\n",
    "    \n",
    "    for i in sentence:\n",
    "        if i not in alphabet:\n",
    "            continue\n",
    "        \n",
    "        count_letters[i] += 1\n",
    "    \n",
    "    return count_letters"
   ]
  },
  {
   "cell_type": "code",
   "execution_count": 489,
   "metadata": {},
   "outputs": [
    {
     "data": {
      "text/plain": [
       "{'A': 0,\n",
       " 'B': 0,\n",
       " 'C': 0,\n",
       " 'D': 0,\n",
       " 'E': 0,\n",
       " 'F': 0,\n",
       " 'G': 0,\n",
       " 'H': 0,\n",
       " 'I': 0,\n",
       " 'J': 1,\n",
       " 'K': 0,\n",
       " 'L': 0,\n",
       " 'M': 0,\n",
       " 'N': 0,\n",
       " 'O': 0,\n",
       " 'P': 0,\n",
       " 'Q': 0,\n",
       " 'R': 0,\n",
       " 'S': 0,\n",
       " 'T': 0,\n",
       " 'U': 0,\n",
       " 'V': 0,\n",
       " 'W': 0,\n",
       " 'X': 0,\n",
       " 'Y': 0,\n",
       " 'Z': 0,\n",
       " 'a': 4,\n",
       " 'b': 1,\n",
       " 'c': 1,\n",
       " 'd': 1,\n",
       " 'e': 8,\n",
       " 'f': 1,\n",
       " 'g': 1,\n",
       " 'h': 2,\n",
       " 'i': 5,\n",
       " 'j': 0,\n",
       " 'k': 1,\n",
       " 'l': 3,\n",
       " 'm': 1,\n",
       " 'n': 2,\n",
       " 'o': 1,\n",
       " 'p': 1,\n",
       " 'q': 1,\n",
       " 'r': 2,\n",
       " 's': 2,\n",
       " 't': 4,\n",
       " 'u': 3,\n",
       " 'v': 1,\n",
       " 'w': 1,\n",
       " 'x': 1,\n",
       " 'y': 1,\n",
       " 'z': 1}"
      ]
     },
     "execution_count": 489,
     "metadata": {},
     "output_type": "execute_result"
    }
   ],
   "source": [
    "sentence = 'Jim quickly realized that the beautiful gowns are expensive'\n",
    "\n",
    "count_letters = counter(sentence)\n",
    "\n",
    "count_letters"
   ]
  },
  {
   "cell_type": "code",
   "execution_count": 490,
   "metadata": {},
   "outputs": [
    {
     "data": {
      "text/plain": [
       "{'A': 0,\n",
       " 'B': 1,\n",
       " 'C': 0,\n",
       " 'D': 0,\n",
       " 'E': 0,\n",
       " 'F': 1,\n",
       " 'G': 1,\n",
       " 'H': 0,\n",
       " 'I': 3,\n",
       " 'J': 0,\n",
       " 'K': 0,\n",
       " 'L': 1,\n",
       " 'M': 0,\n",
       " 'N': 1,\n",
       " 'O': 0,\n",
       " 'P': 0,\n",
       " 'Q': 0,\n",
       " 'R': 0,\n",
       " 'S': 0,\n",
       " 'T': 2,\n",
       " 'U': 0,\n",
       " 'V': 0,\n",
       " 'W': 2,\n",
       " 'X': 0,\n",
       " 'Y': 0,\n",
       " 'Z': 0,\n",
       " 'a': 102,\n",
       " 'b': 13,\n",
       " 'c': 31,\n",
       " 'd': 58,\n",
       " 'e': 165,\n",
       " 'f': 26,\n",
       " 'g': 27,\n",
       " 'h': 80,\n",
       " 'i': 65,\n",
       " 'j': 0,\n",
       " 'k': 3,\n",
       " 'l': 41,\n",
       " 'm': 13,\n",
       " 'n': 76,\n",
       " 'o': 93,\n",
       " 'p': 15,\n",
       " 'q': 1,\n",
       " 'r': 79,\n",
       " 's': 44,\n",
       " 't': 124,\n",
       " 'u': 21,\n",
       " 'v': 24,\n",
       " 'w': 26,\n",
       " 'x': 0,\n",
       " 'y': 10,\n",
       " 'z': 0}"
      ]
     },
     "execution_count": 490,
     "metadata": {},
     "output_type": "execute_result"
    }
   ],
   "source": [
    "address = \"\"\"Four score and seven years ago our fathers brought forth on this continent, a new nation, \n",
    "conceived in Liberty, and dedicated to the proposition that all men are created equal. Now we are engaged in a \n",
    "great civil war, testing whether that nation, or any nation so conceived and so dedicated, can long endure. \n",
    "We are met on a great battle-field of that war. We have come to dedicate a portion of that field, as a final \n",
    "resting place for those who here gave their lives that that nation might live. It is altogether fitting and proper \n",
    "that we should do this. But, in a larger sense, we can not dedicate -- we can not consecrate -- we can not hallow -- \n",
    "this ground. The brave men, living and dead, who struggled here, have consecrated it, far above our poor power to add \n",
    "or detract. The world will little note, nor long remember what we say here, but it can never forget what they did here. \n",
    "It is for us the living, rather, to be dedicated here to the unfinished work which they who fought here have thus far so \n",
    "nobly advanced. It is rather for us to be here dedicated to the great task remaining before us -- that from these honored \n",
    "dead we take increased devotion to that cause for which they gave the last full measure of devotion -- that we here \n",
    "highly resolve that these dead shall not have died in vain -- that this nation, under God, shall have a new birth of \n",
    "freedom -- and that government of the people, by the people, for the people, shall not perish from the earth.\"\"\"   \n",
    "\n",
    "# Write your code here!\n",
    "address_count = counter(address)\n",
    "\n",
    "address_count"
   ]
  },
  {
   "cell_type": "code",
   "execution_count": 494,
   "metadata": {},
   "outputs": [
    {
     "data": {
      "text/plain": [
       "['e']"
      ]
     },
     "execution_count": 494,
     "metadata": {},
     "output_type": "execute_result"
    }
   ],
   "source": [
    "max_val = max(address_count.values())\n",
    "\n",
    "max_key = [k for k, v in address_count.items() if v==max_val]\n",
    "\n",
    "max_key"
   ]
  },
  {
   "cell_type": "code",
   "execution_count": null,
   "metadata": {},
   "outputs": [],
   "source": []
  },
  {
   "cell_type": "code",
   "execution_count": 496,
   "metadata": {},
   "outputs": [
    {
     "data": {
      "text/plain": [
       "0.7853981633974483"
      ]
     },
     "execution_count": 496,
     "metadata": {},
     "output_type": "execute_result"
    }
   ],
   "source": [
    "import math\n",
    "math.pi/4"
   ]
  },
  {
   "cell_type": "code",
   "execution_count": 507,
   "metadata": {},
   "outputs": [
    {
     "data": {
      "text/plain": [
       "0.5275492379532281"
      ]
     },
     "execution_count": 507,
     "metadata": {},
     "output_type": "execute_result"
    }
   ],
   "source": [
    "import random\n",
    "random.uniform(-1,1)"
   ]
  },
  {
   "cell_type": "code",
   "execution_count": 504,
   "metadata": {},
   "outputs": [],
   "source": [
    "import random\n",
    "\n",
    "random.seed(1) # Fixes the see of the random number generator.\n",
    "\n",
    "def rand():\n",
    "   # define `rand` here!\n",
    "    return random.uniform(-1,1)\n",
    "    \n"
   ]
  },
  {
   "cell_type": "code",
   "execution_count": 505,
   "metadata": {},
   "outputs": [
    {
     "data": {
      "text/plain": [
       "-0.7312715117751976"
      ]
     },
     "execution_count": 505,
     "metadata": {},
     "output_type": "execute_result"
    }
   ],
   "source": [
    "rand()"
   ]
  },
  {
   "cell_type": "code",
   "execution_count": 508,
   "metadata": {},
   "outputs": [
    {
     "data": {
      "text/plain": [
       "1"
      ]
     },
     "execution_count": 508,
     "metadata": {},
     "output_type": "execute_result"
    }
   ],
   "source": []
  },
  {
   "cell_type": "code",
   "execution_count": 509,
   "metadata": {},
   "outputs": [],
   "source": [
    "def distance(x, y):\n",
    "   # define your function here!\n",
    "    return ((x[0]-y[0])**2 + (x[1]-y[1])**2)**0.5"
   ]
  },
  {
   "cell_type": "code",
   "execution_count": 510,
   "metadata": {},
   "outputs": [
    {
     "data": {
      "text/plain": [
       "1.4142135623730951"
      ]
     },
     "execution_count": 510,
     "metadata": {},
     "output_type": "execute_result"
    }
   ],
   "source": [
    "x=[0,0]\n",
    "y=[1,1]\n",
    "distance(x,y)"
   ]
  },
  {
   "cell_type": "code",
   "execution_count": 511,
   "metadata": {},
   "outputs": [],
   "source": [
    "def in_circle(x, origin = [0,0]):\n",
    "   # Define your function here!\n",
    "    return 1 > distance(x,origin)"
   ]
  },
  {
   "cell_type": "code",
   "execution_count": 513,
   "metadata": {},
   "outputs": [
    {
     "data": {
      "text/plain": [
       "True"
      ]
     },
     "execution_count": 513,
     "metadata": {},
     "output_type": "execute_result"
    }
   ],
   "source": [
    "in_circle([0.5,0.5], origin = [0,0])"
   ]
  },
  {
   "cell_type": "code",
   "execution_count": 514,
   "metadata": {},
   "outputs": [
    {
     "data": {
      "text/plain": [
       "False"
      ]
     },
     "execution_count": 514,
     "metadata": {},
     "output_type": "execute_result"
    }
   ],
   "source": [
    "in_circle([1,1], origin = [0,0])"
   ]
  },
  {
   "cell_type": "code",
   "execution_count": 515,
   "metadata": {},
   "outputs": [
    {
     "data": {
      "text/plain": [
       "False"
      ]
     },
     "execution_count": 515,
     "metadata": {},
     "output_type": "execute_result"
    }
   ],
   "source": [
    "in_circle([0,1], origin = [0,0])"
   ]
  },
  {
   "cell_type": "code",
   "execution_count": 535,
   "metadata": {},
   "outputs": [
    {
     "data": {
      "text/plain": [
       "0.7784"
      ]
     },
     "execution_count": 535,
     "metadata": {},
     "output_type": "execute_result"
    }
   ],
   "source": [
    "random.seed(1) \n",
    "R = 10000\n",
    "inside = []\n",
    "for i in range(R):\n",
    "    if(in_circle([rand(),rand()], origin = [0,0])):\n",
    "        inside.append(in_circle([rand(),rand()], origin = [0,0]))\n",
    "    \n",
    "len(inside)/R"
   ]
  },
  {
   "cell_type": "code",
   "execution_count": 595,
   "metadata": {},
   "outputs": [
    {
     "data": {
      "text/plain": [
       "0.006998163397448298"
      ]
     },
     "execution_count": 595,
     "metadata": {},
     "output_type": "execute_result"
    }
   ],
   "source": [
    "(math.pi / 4) - (len(inside)/R)"
   ]
  },
  {
   "cell_type": "code",
   "execution_count": null,
   "metadata": {},
   "outputs": [],
   "source": []
  },
  {
   "cell_type": "code",
   "execution_count": 541,
   "metadata": {},
   "outputs": [
    {
     "name": "stdout",
     "output_type": "stream",
     "text": [
      "[3.3333333333333335, 5.0, 6.0, 3.0, 3.0, 3.6666666666666665]\n"
     ]
    }
   ],
   "source": [
    "def moving_window_average(x, n_neighbors=1):\n",
    "    n = len(x)\n",
    "    width = n_neighbors*2 + 1\n",
    "    x = [x[0]]*n_neighbors + x + [x[-1]]*n_neighbors\n",
    "    # To complete the function,\n",
    "    # return a list of the mean of values from i to i+width for all values i from 0 to n-1.\n",
    "    return [sum(x[i:i+width])/width for i in range(n)]\n",
    "x = [0,10,5,3,1,5]\n",
    "print(moving_window_average(x, 1))"
   ]
  },
  {
   "cell_type": "code",
   "execution_count": 539,
   "metadata": {},
   "outputs": [
    {
     "name": "stdout",
     "output_type": "stream",
     "text": [
      "[3.0, 3.6, 3.8, 4.8, 3.8, 3.8]\n"
     ]
    }
   ],
   "source": [
    "def moving_window_average(x, n_neighbors=1):\n",
    "    n = len(x)\n",
    "    width = n_neighbors*2 + 1\n",
    "    x = [x[0]]*n_neighbors + x + [x[-1]]*n_neighbors\n",
    "    # To complete the function,\n",
    "    # return a list of the mean of values from i to i+width for all values i from 0 to n-1.\n",
    "    return [(sum(x[i:i+width]))/width for i in range(n)]\n",
    "x = [0,10,5,3,1,5]\n",
    "print(moving_window_average(x, 2))"
   ]
  },
  {
   "cell_type": "code",
   "execution_count": 551,
   "metadata": {},
   "outputs": [
    {
     "name": "stdout",
     "output_type": "stream",
     "text": [
      "[0, 0, 10, 5, 3, 1, 5, 5]\n",
      "[3.3333333333333335, 5.0, 6.0, 3.0, 3.0, 3.6666666666666665]\n"
     ]
    }
   ],
   "source": [
    "def moving_window_average(x, n_neighbors=1):\n",
    "    n = len(x)\n",
    "    width = n_neighbors*2 + 1\n",
    "    x = [x[0]]*n_neighbors + x + [x[-1]]*n_neighbors\n",
    "    # To complete the function,\n",
    "    # return a list of the mean of values from i to i+width for all values i from 0 to n-1.\n",
    "    print(x)\n",
    "    return [sum(x[i:i+width])/width for i in range(n)]\n",
    "    \n",
    "x = [0,10,5,3,1,5]\n",
    "print(moving_window_average(x, 1))"
   ]
  },
  {
   "cell_type": "code",
   "execution_count": 549,
   "metadata": {},
   "outputs": [
    {
     "data": {
      "text/plain": [
       "0"
      ]
     },
     "execution_count": 549,
     "metadata": {},
     "output_type": "execute_result"
    }
   ],
   "source": [
    "x = [0,10,5,3,1,5]\n",
    "x[0]"
   ]
  },
  {
   "cell_type": "code",
   "execution_count": 546,
   "metadata": {},
   "outputs": [
    {
     "data": {
      "text/plain": [
       "5"
      ]
     },
     "execution_count": 546,
     "metadata": {},
     "output_type": "execute_result"
    }
   ],
   "source": [
    "x[-1]"
   ]
  },
  {
   "cell_type": "code",
   "execution_count": 552,
   "metadata": {},
   "outputs": [
    {
     "data": {
      "text/plain": [
       "[1, [2]]"
      ]
     },
     "execution_count": 552,
     "metadata": {},
     "output_type": "execute_result"
    }
   ],
   "source": [
    "z[:]"
   ]
  },
  {
   "cell_type": "code",
   "execution_count": 555,
   "metadata": {},
   "outputs": [],
   "source": [
    "rf=[]"
   ]
  },
  {
   "cell_type": "code",
   "execution_count": 556,
   "metadata": {},
   "outputs": [
    {
     "data": {
      "text/plain": [
       "list"
      ]
     },
     "execution_count": 556,
     "metadata": {},
     "output_type": "execute_result"
    }
   ],
   "source": [
    "type(rf)"
   ]
  },
  {
   "cell_type": "code",
   "execution_count": 559,
   "metadata": {},
   "outputs": [
    {
     "data": {
      "text/plain": [
       "0.4462537213624832"
      ]
     },
     "execution_count": 559,
     "metadata": {},
     "output_type": "execute_result"
    }
   ],
   "source": [
    "random.uniform(0,1)"
   ]
  },
  {
   "cell_type": "code",
   "execution_count": 578,
   "metadata": {},
   "outputs": [
    {
     "name": "stdout",
     "output_type": "stream",
     "text": [
      "[0.13436424411240122, 0.13436424411240122, 0.8474337369372327, 0.763774618976614, 0.2550690257394217, 0.49543508709194095, 0.49543508709194095]\n",
      "[0.13436424411240122, 0.13436424411240122, 0.13436424411240122, 0.8474337369372327, 0.763774618976614, 0.2550690257394217, 0.49543508709194095, 0.49543508709194095, 0.49543508709194095]\n"
     ]
    },
    {
     "data": {
      "text/plain": [
       "[[0.3720540750540117,\n",
       "  0.5818575333420827,\n",
       "  0.6220924605510895,\n",
       "  0.5047595772693255,\n",
       "  0.4153130666411012],\n",
       " [0.40286021765021013,\n",
       "  0.4270011739756141,\n",
       "  0.49921534257152206,\n",
       "  0.5714295111674301,\n",
       "  0.5010297811983716]]"
      ]
     },
     "execution_count": 578,
     "metadata": {},
     "output_type": "execute_result"
    }
   ],
   "source": [
    "import random\n",
    "random.seed(1) # This line fixes the value called by your function,\n",
    "               # and is used for answer-checking.\n",
    "R = 5\n",
    "x = []\n",
    "type(x)\n",
    "# write your code here!\n",
    "for i in range(R):\n",
    "    x.append(random.uniform(0,1))\n",
    "\n",
    "y = []\n",
    "for i in range(1,3):\n",
    "    y.append(moving_window_average(x, i))\n",
    "    \n",
    "y"
   ]
  },
  {
   "cell_type": "code",
   "execution_count": 592,
   "metadata": {},
   "outputs": [],
   "source": [
    "z=[]\n",
    "\n",
    "for i in y:\n",
    "    z.append(max(i) - min(i))"
   ]
  },
  {
   "cell_type": "code",
   "execution_count": 593,
   "metadata": {},
   "outputs": [
    {
     "data": {
      "text/plain": [
       "[0.25003838549707774, 0.16856929351722]"
      ]
     },
     "execution_count": 593,
     "metadata": {},
     "output_type": "execute_result"
    }
   ],
   "source": [
    "z"
   ]
  },
  {
   "cell_type": "code",
   "execution_count": 586,
   "metadata": {},
   "outputs": [
    {
     "data": {
      "text/plain": [
       "2"
      ]
     },
     "execution_count": 586,
     "metadata": {},
     "output_type": "execute_result"
    }
   ],
   "source": [
    "min(a)"
   ]
  },
  {
   "cell_type": "code",
   "execution_count": 587,
   "metadata": {},
   "outputs": [
    {
     "data": {
      "text/plain": [
       "8"
      ]
     },
     "execution_count": 587,
     "metadata": {},
     "output_type": "execute_result"
    }
   ],
   "source": [
    "max(a)"
   ]
  },
  {
   "cell_type": "code",
   "execution_count": 588,
   "metadata": {},
   "outputs": [
    {
     "data": {
      "text/plain": [
       "6"
      ]
     },
     "execution_count": 588,
     "metadata": {},
     "output_type": "execute_result"
    }
   ],
   "source": [
    "max(a)-min(a)"
   ]
  },
  {
   "cell_type": "code",
   "execution_count": null,
   "metadata": {},
   "outputs": [],
   "source": []
  },
  {
   "cell_type": "code",
   "execution_count": 596,
   "metadata": {},
   "outputs": [
    {
     "data": {
      "text/plain": [
       "[3.3333333333333335, 5.0, 6.0, 3.0, 3.0, 3.6666666666666665]"
      ]
     },
     "execution_count": 596,
     "metadata": {},
     "output_type": "execute_result"
    }
   ],
   "source": [
    "def moving_window_average(x, n_neighbors=1):\n",
    "    n = len(x)\n",
    "    width = n_neighbors*2 + 1\n",
    "    x = [x[0]]*n_neighbors + x + [x[-1]]*n_neighbors\n",
    "    # To complete the function,\n",
    "    # return a list of the mean of values from i to i+width for all values i from 0 to n-1.\n",
    "\n",
    "    return [sum(x[i:i+width])/width for i in range(n)]\n",
    "\n",
    "x = [0,10,5,3,1,5]\n",
    "y =(moving_window_average(x, 1))\n",
    "y "
   ]
  },
  {
   "cell_type": "code",
   "execution_count": 597,
   "metadata": {},
   "outputs": [
    {
     "data": {
      "text/plain": [
       "[[0.3720540750540117,\n",
       "  0.5818575333420827,\n",
       "  0.6220924605510895,\n",
       "  0.5047595772693255,\n",
       "  0.3999983925400336,\n",
       "  0.5321730415344806,\n",
       "  0.6299357962156714,\n",
       "  0.511391970210837,\n",
       "  0.30364347147725146,\n",
       "  0.31932405573870365,\n",
       "  0.43229321611564314,\n",
       "  0.6769374180942883,\n",
       "  0.3990510679047021,\n",
       "  0.40325777662128476,\n",
       "  0.3896777599155649,\n",
       "  0.4652298158886789,\n",
       "  0.6318576497217192,\n",
       "  0.691820124811953,\n",
       "  0.6257627120663197,\n",
       "  0.3191544338794993,\n",
       "  0.19914943894017031,\n",
       "  0.502002498855156,\n",
       "  0.6205886244200732,\n",
       "  0.5123175991991121,\n",
       "  0.3399734034671811,\n",
       "  0.22258558676273288,\n",
       "  0.22428300981020677,\n",
       "  0.22954001583282502,\n",
       "  0.3851305004351526,\n",
       "  0.38892809509666515,\n",
       "  0.3199210777268025,\n",
       "  0.2275773430454152,\n",
       "  0.30308368153880216,\n",
       "  0.32272203922196924,\n",
       "  0.2569582618647093,\n",
       "  0.3829497651729891,\n",
       "  0.4718406678603051,\n",
       "  0.6787755537491506,\n",
       "  0.4615516504931989,\n",
       "  0.6069146803344094,\n",
       "  0.6794654022886908,\n",
       "  0.6577933002590538,\n",
       "  0.4378438913204084,\n",
       "  0.3916898509164013,\n",
       "  0.588457120879559,\n",
       "  0.7897055880260027,\n",
       "  0.6899131188187182,\n",
       "  0.7295277600117339,\n",
       "  0.6408160865499378,\n",
       "  0.6012365902071052,\n",
       "  0.5204182278301827,\n",
       "  0.5911427059694448,\n",
       "  0.7720856751345767,\n",
       "  0.7446534132799236,\n",
       "  0.646827832330155,\n",
       "  0.37627063623783125,\n",
       "  0.28875602055898697,\n",
       "  0.3582233504162374,\n",
       "  0.48481940679938157,\n",
       "  0.46157521614470937,\n",
       "  0.3787067207559927,\n",
       "  0.4749489750109451,\n",
       "  0.642108451318704,\n",
       "  0.5840765376898663,\n",
       "  0.4960501603495102,\n",
       "  0.440697046265395,\n",
       "  0.5752769110982302,\n",
       "  0.6026025069544243,\n",
       "  0.5642120425258391,\n",
       "  0.4679623443465431,\n",
       "  0.3041745264644638,\n",
       "  0.18758525826189756,\n",
       "  0.25881478097575683,\n",
       "  0.5766856987566791,\n",
       "  0.7599178454311891,\n",
       "  0.6566570446892152,\n",
       "  0.38571087120455094,\n",
       "  0.3553958138890261,\n",
       "  0.5515547976092329,\n",
       "  0.7516127786009393,\n",
       "  0.7640724086063712,\n",
       "  0.723476789067043,\n",
       "  0.5440277851444476,\n",
       "  0.5354125233904004,\n",
       "  0.5661383931729737,\n",
       "  0.6813446197523699,\n",
       "  0.6631313093267136,\n",
       "  0.43540200571776416,\n",
       "  0.42546917293944614,\n",
       "  0.591464022789299,\n",
       "  0.503607240125623,\n",
       "  0.5821602145086698,\n",
       "  0.5366167579970882,\n",
       "  0.8301069084556266,\n",
       "  0.8157229681948955,\n",
       "  0.8119409645105614,\n",
       "  0.689440532076226,\n",
       "  0.6297253497246202,\n",
       "  0.5020422759965104,\n",
       "  0.3478572806624232,\n",
       "  0.45074137746184345,\n",
       "  0.4987109288579202,\n",
       "  0.5466163030767212,\n",
       "  0.42485307382746224,\n",
       "  0.39649499994458015,\n",
       "  0.4488118480671844,\n",
       "  0.3959309985969483,\n",
       "  0.41378222643365165,\n",
       "  0.5026820558511681,\n",
       "  0.591473571106025,\n",
       "  0.5646962392266518,\n",
       "  0.36619141632209745,\n",
       "  0.23857560515353024,\n",
       "  0.144930424766483,\n",
       "  0.3304257203313493,\n",
       "  0.5408936635234496,\n",
       "  0.747969557403064,\n",
       "  0.818848454688749,\n",
       "  0.803991291257871,\n",
       "  0.6229429910944977,\n",
       "  0.6378254143073643,\n",
       "  0.590050799266703,\n",
       "  0.532697498505567,\n",
       "  0.2576794311193882,\n",
       "  0.03816158094808993,\n",
       "  0.26227912676419,\n",
       "  0.3399019919434778,\n",
       "  0.37154487606666015,\n",
       "  0.3279499790334195,\n",
       "  0.35957119184777686,\n",
       "  0.3462467755932728,\n",
       "  0.1911879224403966,\n",
       "  0.25217376742423586,\n",
       "  0.2850502899880962,\n",
       "  0.3228132606963737,\n",
       "  0.3842164367421271,\n",
       "  0.4797353313498723,\n",
       "  0.49609777453942083,\n",
       "  0.4168248035344229,\n",
       "  0.2731357860631973,\n",
       "  0.2946542321879119,\n",
       "  0.2770367872008443,\n",
       "  0.33183836290728624,\n",
       "  0.2392398921352674,\n",
       "  0.3988731658509155,\n",
       "  0.5062320579100367,\n",
       "  0.5396751579454889,\n",
       "  0.44161853783815436,\n",
       "  0.5439264336545578,\n",
       "  0.48116880564039693,\n",
       "  0.28524076590498987,\n",
       "  0.06171478991214289,\n",
       "  0.29438724466297705,\n",
       "  0.3418416019302802,\n",
       "  0.5278895644144991,\n",
       "  0.5143363385862182,\n",
       "  0.6424945289026182,\n",
       "  0.48115923562617624,\n",
       "  0.5802988098064882,\n",
       "  0.6646683745155704,\n",
       "  0.7633349641578091,\n",
       "  0.5125353849674049,\n",
       "  0.46276723843177336,\n",
       "  0.4222000694014089,\n",
       "  0.5397501302485375,\n",
       "  0.43066326066382715,\n",
       "  0.5093465444681763,\n",
       "  0.3369929289409878,\n",
       "  0.3294463090336172,\n",
       "  0.44176479199346463,\n",
       "  0.7140145013363539,\n",
       "  0.7166080582397648,\n",
       "  0.6801450903083216,\n",
       "  0.4917548846809798,\n",
       "  0.7027221552816586,\n",
       "  0.6644980593851793,\n",
       "  0.6997676045224764,\n",
       "  0.470790827903994,\n",
       "  0.2256702091695099,\n",
       "  0.3798520876507836,\n",
       "  0.308371563757032,\n",
       "  0.5786828464734081,\n",
       "  0.6065105887973986,\n",
       "  0.7839652686795985,\n",
       "  0.5679995968679057,\n",
       "  0.5365262432859641,\n",
       "  0.6710244652574678,\n",
       "  0.8485264809749188,\n",
       "  0.7288907081892179,\n",
       "  0.5302885742505233,\n",
       "  0.4112578216613734,\n",
       "  0.31022049206697816,\n",
       "  0.4089485520347302,\n",
       "  0.4376216308806284,\n",
       "  0.4337405934441234,\n",
       "  0.24383099630900706,\n",
       "  0.32150013203512917,\n",
       "  0.3554848080677832,\n",
       "  0.4872767078662119,\n",
       "  0.3737394167319832,\n",
       "  0.5655890281787843,\n",
       "  0.6988818106447775,\n",
       "  0.5964642535662693,\n",
       "  0.37287475490533745,\n",
       "  0.18222890005916623,\n",
       "  0.5052144781550177,\n",
       "  0.6991635995845563,\n",
       "  0.7029485805027784,\n",
       "  0.44494193998704096,\n",
       "  0.4088601713185036,\n",
       "  0.5750619787528471,\n",
       "  0.814781203923785,\n",
       "  0.7045794522794705,\n",
       "  0.7194768297169701,\n",
       "  0.6377843998036469,\n",
       "  0.6846673690775383,\n",
       "  0.7190390448639831,\n",
       "  0.5682157957697768,\n",
       "  0.6485379503127029,\n",
       "  0.34826195050959835,\n",
       "  0.3266131861507147,\n",
       "  0.38845405190631316,\n",
       "  0.4312167067646265,\n",
       "  0.6276907204053108,\n",
       "  0.5240977359467046,\n",
       "  0.7334857361848482,\n",
       "  0.6031496750812512,\n",
       "  0.5165084767044974,\n",
       "  0.33320284060625727,\n",
       "  0.49964011533334185,\n",
       "  0.5875392132965828,\n",
       "  0.8085699365502679,\n",
       "  0.815185030260288,\n",
       "  0.658972846428202,\n",
       "  0.5245938520605441,\n",
       "  0.2635971498264277,\n",
       "  0.2315277568935802,\n",
       "  0.07220207181462424,\n",
       "  0.3261665249319437,\n",
       "  0.5758260749747156,\n",
       "  0.8275969258536372,\n",
       "  0.652506628103641,\n",
       "  0.5948631560482445,\n",
       "  0.5793290327694582,\n",
       "  0.5917097543433929,\n",
       "  0.5769082520233885,\n",
       "  0.3908450757287267,\n",
       "  0.2920796202333954,\n",
       "  0.19072699269429974,\n",
       "  0.4130783443964785,\n",
       "  0.573979534692413,\n",
       "  0.7934273877346586,\n",
       "  0.6490944314633054,\n",
       "  0.553339742419139,\n",
       "  0.5073222295697575,\n",
       "  0.6306551954379188,\n",
       "  0.5423881882309084,\n",
       "  0.5035205133854425,\n",
       "  0.2581588353757051,\n",
       "  0.2923990866894587,\n",
       "  0.36394856380803536,\n",
       "  0.34672870189925104,\n",
       "  0.388238990712445,\n",
       "  0.4226051334545689,\n",
       "  0.5496018169679364,\n",
       "  0.5082434222095245,\n",
       "  0.2346517351612908,\n",
       "  0.1747873010504827,\n",
       "  0.38427004636539436,\n",
       "  0.3627536158737204,\n",
       "  0.5858683269342172,\n",
       "  0.4639586116032897,\n",
       "  0.75310190845059,\n",
       "  0.7525880117410493,\n",
       "  0.7245034498758232,\n",
       "  0.4855521497134619,\n",
       "  0.34148127232064746,\n",
       "  0.27684979198794885,\n",
       "  0.40972981313737905,\n",
       "  0.2639331856178579,\n",
       "  0.23405885480726465,\n",
       "  0.34423666382761337,\n",
       "  0.4295465460393511,\n",
       "  0.6249013765959409,\n",
       "  0.4473216792891523,\n",
       "  0.453232012962489,\n",
       "  0.27536339524889036,\n",
       "  0.4298792227608379,\n",
       "  0.6487233613505671,\n",
       "  0.9510005995001753,\n",
       "  0.6836573638204925,\n",
       "  0.4321173615531535,\n",
       "  0.3147874867248487,\n",
       "  0.6043176786459105,\n",
       "  0.7135576544621162,\n",
       "  0.7370186304741684,\n",
       "  0.6309791448025924,\n",
       "  0.5363700762589023,\n",
       "  0.4875075612139866,\n",
       "  0.3693364575263747,\n",
       "  0.36510152560352377,\n",
       "  0.2116903597604645,\n",
       "  0.20284556167785184,\n",
       "  0.4485107353892886,\n",
       "  0.5706885604391245,\n",
       "  0.6944298307551229,\n",
       "  0.5811262851052693,\n",
       "  0.7454037123438374,\n",
       "  0.6582263845525883,\n",
       "  0.545999122746479,\n",
       "  0.34150142022585667,\n",
       "  0.31692028547474965,\n",
       "  0.49703710913298343,\n",
       "  0.6857900527444727,\n",
       "  0.6811481136734442,\n",
       "  0.510214326948293,\n",
       "  0.3937893831684874,\n",
       "  0.48584808538334334,\n",
       "  0.5730577968334242,\n",
       "  0.47334866007111226,\n",
       "  0.2871448574475018,\n",
       "  0.1697437773898056,\n",
       "  0.11215362071519301,\n",
       "  0.28909719620494423,\n",
       "  0.23148288544215045,\n",
       "  0.2324169715698545,\n",
       "  0.2604760844523715,\n",
       "  0.3337778120789919,\n",
       "  0.572796133954915,\n",
       "  0.5254224503506086,\n",
       "  0.7160315928040465,\n",
       "  0.5033632055642304,\n",
       "  0.5060860532964155,\n",
       "  0.4835308919518537,\n",
       "  0.45784002198554435,\n",
       "  0.6071061429942921,\n",
       "  0.39985901453615197,\n",
       "  0.6328930134434918,\n",
       "  0.6447823208338705,\n",
       "  0.8608849996245075,\n",
       "  0.7087433395601975,\n",
       "  0.4160706273726933,\n",
       "  0.3136733294766049,\n",
       "  0.5135309749491657,\n",
       "  0.5757348948788682,\n",
       "  0.7022017437590485,\n",
       "  0.44297631303105084,\n",
       "  0.6486403730384063,\n",
       "  0.36130742243892183,\n",
       "  0.4194367660169845,\n",
       "  0.41697230245744404,\n",
       "  0.6743377474863225,\n",
       "  0.8713661105649605,\n",
       "  0.8505761900758356,\n",
       "  0.8313523915493524,\n",
       "  0.758832862317175,\n",
       "  0.5379783101163701,\n",
       "  0.43346268197360843,\n",
       "  0.25622993679090705,\n",
       "  0.4351197988990696,\n",
       "  0.5135000451355046,\n",
       "  0.545063199816079,\n",
       "  0.3282597802756956,\n",
       "  0.4267954948210401,\n",
       "  0.6120175683472112,\n",
       "  0.7736361476954973,\n",
       "  0.6329667372499654,\n",
       "  0.6473134165696265,\n",
       "  0.6153266653128595,\n",
       "  0.5667709295581217,\n",
       "  0.39589642241268136,\n",
       "  0.3307828940291993,\n",
       "  0.20701558006397824,\n",
       "  0.3096054797656576,\n",
       "  0.36251040970787035,\n",
       "  0.5445754526254097,\n",
       "  0.3498697148932178,\n",
       "  0.3292895686891798,\n",
       "  0.18518306281497157,\n",
       "  0.20611885764229468,\n",
       "  0.17417536605213876,\n",
       "  0.4043921217288255,\n",
       "  0.4952815543219529,\n",
       "  0.542604615323644,\n",
       "  0.47044146265957104,\n",
       "  0.41568557606989676,\n",
       "  0.28448391644364107,\n",
       "  0.25656952207489914,\n",
       "  0.34569284416202467,\n",
       "  0.5594803172615977,\n",
       "  0.5293520558465986,\n",
       "  0.5912232262135899,\n",
       "  0.618750678486996,\n",
       "  0.5521032516604322,\n",
       "  0.4882896250130355,\n",
       "  0.40409127115327603,\n",
       "  0.3996537411121904,\n",
       "  0.3720450351793004,\n",
       "  0.39923855081469894,\n",
       "  0.6265310239703927,\n",
       "  0.7950178409440198,\n",
       "  0.6999571506032899,\n",
       "  0.6131157076488699,\n",
       "  0.3232792941565971,\n",
       "  0.2553879690772965,\n",
       "  0.21048014692983583,\n",
       "  0.4868890587915302,\n",
       "  0.5161945063015082,\n",
       "  0.6009732228338768,\n",
       "  0.6028350529768965,\n",
       "  0.6536131533360536,\n",
       "  0.6291228552712211,\n",
       "  0.6177833729748973,\n",
       "  0.6377208059456515,\n",
       "  0.6406293720473162,\n",
       "  0.603105036743564,\n",
       "  0.6774261947746761,\n",
       "  0.7290910201097415,\n",
       "  0.782486438290085,\n",
       "  0.9043201089980709,\n",
       "  0.8093052940995844,\n",
       "  0.5691958021296266,\n",
       "  0.3327013327671334,\n",
       "  0.2148299975301459,\n",
       "  0.34591048232725224,\n",
       "  0.5149620509236047,\n",
       "  0.4598002284688058,\n",
       "  0.4971732638053638,\n",
       "  0.4836409800390551,\n",
       "  0.5822570756439288,\n",
       "  0.5267301918725534,\n",
       "  0.34261182142710817,\n",
       "  0.46991670227050514,\n",
       "  0.3118009966182408,\n",
       "  0.5839419653239021,\n",
       "  0.6099578263107928,\n",
       "  0.8058710978593234,\n",
       "  0.5679728266923076,\n",
       "  0.6029458789072281,\n",
       "  0.7132759908722051,\n",
       "  0.6704759623303248,\n",
       "  0.6247740824047527,\n",
       "  0.5856047559602368,\n",
       "  0.7591351550577407,\n",
       "  0.7340186604247455,\n",
       "  0.601727951615075,\n",
       "  0.6899247670520566,\n",
       "  0.7801913543119069,\n",
       "  0.7592895478804613,\n",
       "  0.7187574572722709,\n",
       "  0.5393288116670226,\n",
       "  0.46679578028805563,\n",
       "  0.3077143623070247,\n",
       "  0.20551719012512673,\n",
       "  0.45356070386493696,\n",
       "  0.6648796382605636,\n",
       "  0.6624985241175744,\n",
       "  0.5597632978790257,\n",
       "  0.37602997043383884,\n",
       "  0.3756644032991436,\n",
       "  0.2739298811740631,\n",
       "  0.22059397229808475,\n",
       "  0.4310895656940739,\n",
       "  0.33393404607481686,\n",
       "  0.31447482369229546,\n",
       "  0.21087357666902218,\n",
       "  0.21654881571296394,\n",
       "  0.36244477724776286,\n",
       "  0.4180629334006187,\n",
       "  0.6894954926662828,\n",
       "  0.5491885683821842,\n",
       "  0.4422399267098791,\n",
       "  0.34457561999984065,\n",
       "  0.36678224717575647,\n",
       "  0.46710107045621313,\n",
       "  0.3699486700219667,\n",
       "  0.5067158218129751,\n",
       "  0.5751667001346562,\n",
       "  0.7610908303725888,\n",
       "  0.857787149360552,\n",
       "  0.7758825778465077,\n",
       "  0.6699341310682434,\n",
       "  0.6306279944845089,\n",
       "  0.7051914551623457,\n",
       "  0.7317699050150194,\n",
       "  0.5742894666708928,\n",
       "  0.4126161532956194,\n",
       "  0.25848101307799703,\n",
       "  0.3999119146136692,\n",
       "  0.344586609546038,\n",
       "  0.5576286181973299,\n",
       "  0.470207951662285,\n",
       "  0.7524992177475059,\n",
       "  0.7570993594692208,\n",
       "  0.8998435910731901,\n",
       "  0.6237264857910166,\n",
       "  0.5368284237839159,\n",
       "  0.4031812579790495,\n",
       "  0.46140040610327154,\n",
       "  0.46228741089480857,\n",
       "  0.3903675697074391,\n",
       "  0.4627484077204291,\n",
       "  0.29535248430122635,\n",
       "  0.3238510071375873,\n",
       "  0.29757039793352574,\n",
       "  0.3988885546909664,\n",
       "  0.3845846931856703,\n",
       "  0.49576308232991423,\n",
       "  0.6219676475771114,\n",
       "  0.6529331093421678,\n",
       "  0.6077934195655653,\n",
       "  0.5058418621949686,\n",
       "  0.40971350137662527,\n",
       "  0.19511597338841616,\n",
       "  0.1618036533078858,\n",
       "  0.29322036940021284,\n",
       "  0.5858161277979264,\n",
       "  0.7697494605909624,\n",
       "  0.740681463643473,\n",
       "  0.7757998676363834,\n",
       "  0.6531864422634744,\n",
       "  0.7610642016953562,\n",
       "  0.5683799337725376,\n",
       "  0.6627298150621804,\n",
       "  0.7137292167474616,\n",
       "  0.6791863004431299,\n",
       "  0.48774703626798077,\n",
       "  0.36522770876964045,\n",
       "  0.44043423810499327,\n",
       "  0.5034706403622832,\n",
       "  0.29796581815207995,\n",
       "  0.25070130523066986,\n",
       "  0.27285045193683855,\n",
       "  0.40676139515059445,\n",
       "  0.5641222842731765,\n",
       "  0.6169751359326671,\n",
       "  0.7265013761709501,\n",
       "  0.7387226637241368,\n",
       "  0.7935044758884718,\n",
       "  0.7131282290390982,\n",
       "  0.6624146185890102,\n",
       "  0.6262752642290522,\n",
       "  0.6782897251484834,\n",
       "  0.639592064615753,\n",
       "  0.5618065894468294,\n",
       "  0.555312121654912,\n",
       "  0.5566645057405695,\n",
       "  0.7333708339240644,\n",
       "  0.7844413852851426,\n",
       "  0.8552865705036304,\n",
       "  0.7987471807048285,\n",
       "  0.8096979062448972,\n",
       "  0.729429348954604,\n",
       "  0.5900794483693078,\n",
       "  0.40649858047834364,\n",
       "  0.4406844579232165,\n",
       "  0.6155151200653853,\n",
       "  0.7087362865603,\n",
       "  0.5234195998578569,\n",
       "  0.5097640033192695,\n",
       "  0.489862777022132,\n",
       "  0.5948736641290268,\n",
       "  0.33234458901179037,\n",
       "  0.3409238703046665,\n",
       "  0.4334722160301774,\n",
       "  0.559208799796851,\n",
       "  0.5075075967296695,\n",
       "  0.47820622121104767,\n",
       "  0.343920746628496,\n",
       "  0.39458284109052594,\n",
       "  0.4910106933017819,\n",
       "  0.714579428148579,\n",
       "  0.6794994719094362,\n",
       "  0.5937598521630503,\n",
       "  0.5652752946222109,\n",
       "  0.5009305156973293,\n",
       "  0.3405305471761266,\n",
       "  0.4342076706371499,\n",
       "  0.45426761021150425,\n",
       "  0.40999309247159615,\n",
       "  0.391543859437329,\n",
       "  0.47625337856093974,\n",
       "  0.574027841381881,\n",
       "  0.4676416185606829,\n",
       "  0.5388175921522823,\n",
       "  0.4722660727904974,\n",
       "  0.5194487648251281,\n",
       "  0.5116858681746547,\n",
       "  0.7271691468549147,\n",
       "  0.599400358668119,\n",
       "  0.5648101360895702,\n",
       "  0.3705136142379433,\n",
       "  0.4676082942190758,\n",
       "  0.32184050797397584,\n",
       "  0.5077250901432372,\n",
       "  0.609616153820225,\n",
       "  0.6620430166174365,\n",
       "  0.47289332892800723,\n",
       "  0.5052501797297847,\n",
       "  0.6309324307067822,\n",
       "  0.8380904508506702,\n",
       "  0.5270058034778627,\n",
       "  0.5912401362782805,\n",
       "  0.5174599491626068,\n",
       "  0.6127915089304928,\n",
       "  0.45691561267703734,\n",
       "  0.5032959235448339,\n",
       "  0.6595901907748027,\n",
       "  0.5789686058711441,\n",
       "  0.5337331098167954,\n",
       "  0.32713896700719,\n",
       "  0.5881886213583828,\n",
       "  0.5274186383476676,\n",
       "  0.7765904642480429,\n",
       "  0.6949898020986373,\n",
       "  0.7492175847952286,\n",
       "  0.5321639268424296,\n",
       "  0.4649454195484595,\n",
       "  0.3090653652955853,\n",
       "  0.26777001926022076,\n",
       "  0.3308225003704796,\n",
       "  0.40497917593596733,\n",
       "  0.6094052820185801,\n",
       "  0.45098656124461395,\n",
       "  0.5700093525717211,\n",
       "  0.559042890875103,\n",
       "  0.5807103165880195,\n",
       "  0.3767860804429765,\n",
       "  0.2696297233730954,\n",
       "  0.3319182631313706,\n",
       "  0.3297811900707515,\n",
       "  0.25969899179763545,\n",
       "  0.11402617596035021,\n",
       "  0.2798726282461034,\n",
       "  0.5139109159141468,\n",
       "  0.5676491619621938,\n",
       "  0.38004911673611924,\n",
       "  0.3183982737518748,\n",
       "  0.517849196361896,\n",
       "  0.8276519133142525,\n",
       "  0.7974037007824256,\n",
       "  0.639914569736496,\n",
       "  0.597830246835418,\n",
       "  0.4327929629652247,\n",
       "  0.5495242204778016,\n",
       "  0.3019782975514618,\n",
       "  0.395857844819554,\n",
       "  0.3299864925570714,\n",
       "  0.4242076338173062,\n",
       "  0.34717157774633317,\n",
       "  0.25940305481301607,\n",
       "  0.4068216296355338,\n",
       "  0.5048143716315372,\n",
       "  0.6208861823386314,\n",
       "  0.41813852237738636,\n",
       "  0.5022582737087342,\n",
       "  0.4189864451833188,\n",
       "  0.5462236351399459,\n",
       "  0.61107430314304,\n",
       "  0.8324996863892816,\n",
       "  0.6500328066649831,\n",
       "  0.6126846897092749,\n",
       "  0.5670828285342396,\n",
       "  0.6582016581655931,\n",
       "  0.520103296183402,\n",
       "  0.4276586076218855,\n",
       "  0.6274138722097211,\n",
       "  0.6330075279950291,\n",
       "  0.7329329976940554,\n",
       "  0.6795064301052097,\n",
       "  0.5969545922279377,\n",
       "  0.6081711760914168,\n",
       "  0.36037801755334203,\n",
       "  0.3580130743335584,\n",
       "  0.27505683850783785,\n",
       "  0.2890363831908182,\n",
       "  0.3671402617332545,\n",
       "  0.18886281028000315,\n",
       "  0.3241193393514577,\n",
       "  0.47761615871159685,\n",
       "  0.7363179896523477,\n",
       "  0.593844778475224,\n",
       "  0.33413524944664524,\n",
       "  0.3123151441186907,\n",
       "  0.31476352509659955,\n",
       "  0.38567636123075966,\n",
       "  0.14461392200659764,\n",
       "  0.16068822990709175,\n",
       "  0.07869910479158877,\n",
       "  0.2520578697822608,\n",
       "  0.46991672344318175,\n",
       "  0.6896328857211285,\n",
       "  0.7590028054722531,\n",
       "  0.731803445658532,\n",
       "  0.6327802960307545,\n",
       "  0.5612603799633494,\n",
       "  0.6634532532533528,\n",
       "  0.7474203883693223,\n",
       "  0.618096625161362,\n",
       "  0.31495972094178,\n",
       "  0.41281394318072756,\n",
       "  0.5286151979147536,\n",
       "  0.6250920802149041,\n",
       "  0.5151543301885494,\n",
       "  0.5050750294449711,\n",
       "  0.5625940395036834,\n",
       "  0.381078003626492,\n",
       "  0.3120679890640457,\n",
       "  0.27556073911504747,\n",
       "  0.3217486386415079,\n",
       "  0.49737453159229866,\n",
       "  0.5011977830727249,\n",
       "  0.6555368913372605,\n",
       "  0.6000172974097234,\n",
       "  0.7064050583736154,\n",
       "  0.7259816002103666,\n",
       "  0.7388689509414345,\n",
       "  0.5749681622341875,\n",
       "  0.6600642908275868,\n",
       "  0.4596647082091736,\n",
       "  0.6820202751920191,\n",
       "  0.6414086413635746,\n",
       "  0.8751268204956105,\n",
       "  0.5865147737416881,\n",
       "  0.33206454315380035,\n",
       "  0.31902838017125174,\n",
       "  0.45781357071380313,\n",
       "  0.5508252732784785,\n",
       "  0.608035829944157,\n",
       "  0.46501953288564096,\n",
       "  0.518756820441534,\n",
       "  0.33831092174865063,\n",
       "  0.3676726509949965,\n",
       "  0.3222470539884574,\n",
       "  0.4103462635417223,\n",
       "  0.6617170922662993,\n",
       "  0.5381942418254178,\n",
       "  0.4771482930896136,\n",
       "  0.21316862170056364,\n",
       "  0.4717598702644608,\n",
       "  0.3255184438756659,\n",
       "  0.30679068586962593,\n",
       "  0.1680716008437105,\n",
       "  0.383678565866909,\n",
       "  0.4766830232103454,\n",
       "  0.39193925573559846,\n",
       "  0.4125946049285556,\n",
       "  0.5771655012111347,\n",
       "  0.8191171342509763,\n",
       "  0.655507884643938,\n",
       "  0.5281448776852008,\n",
       "  0.3246549428457613,\n",
       "  0.40913261609657764,\n",
       "  0.3775582180201691,\n",
       "  0.4086493319217574,\n",
       "  0.48413064038616754,\n",
       "  0.6928603048029923,\n",
       "  0.7746859658955724,\n",
       "  0.5483748031323129,\n",
       "  0.4471343940137755,\n",
       "  0.40195819355088275,\n",
       "  0.6964057358530011,\n",
       "  0.7186745900074599,\n",
       "  0.8473993862271696,\n",
       "  0.7518179539478026,\n",
       "  0.6905637908272709,\n",
       "  0.7112412192675764,\n",
       "  0.7546848207741753,\n",
       "  0.6732537813834879,\n",
       "  0.4266582825141418,\n",
       "  0.27290321720737043,\n",
       "  0.34948714552678933,\n",
       "  0.32960321039696977,\n",
       "  0.3212790162863583,\n",
       "  0.33922168016615634,\n",
       "  0.3212865230732305,\n",
       "  0.47780965309422024,\n",
       "  0.5032134469179863,\n",
       "  0.593238631263957,\n",
       "  0.4210293995094034,\n",
       "  0.32152909787758416,\n",
       "  0.32540860608271066,\n",
       "  0.47547287131723887,\n",
       "  0.5249531102117163,\n",
       "  0.5918996772432772,\n",
       "  0.39198058458066515,\n",
       "  0.5297676328961562,\n",
       "  0.4629158100203254,\n",
       "  0.5225184611594239,\n",
       "  0.24066117358612618,\n",
       "  0.45860739127928024,\n",
       "  0.5093185210862958,\n",
       "  0.7906647202817595,\n",
       "  0.773399940530322,\n",
       "  0.9367513743200163,\n",
       "  0.9043328911357792,\n",
       "  0.9036082187003891,\n",
       "  0.8877872788576279,\n",
       "  0.8830334090025187,\n",
       "  0.6194127392863088,\n",
       "  0.4865535388315698,\n",
       "  0.4112989837775578,\n",
       "  0.6972710877587159,\n",
       "  0.7840166969855199,\n",
       "  0.8264540982024554,\n",
       "  0.7445046011552156,\n",
       "  0.6037143391942904,\n",
       "  0.6835134529227108,\n",
       "  0.6491307371796408,\n",
       "  0.6627963519951541,\n",
       "  0.5035490251476181,\n",
       "  0.6156337043794525,\n",
       "  0.6588183006799597,\n",
       "  0.5598936202055863,\n",
       "  0.2827603091466921,\n",
       "  0.33446490888876196,\n",
       "  0.4661242405689387,\n",
       "  0.7189413295867567,\n",
       "  0.5513940453839646,\n",
       "  0.500838472987915,\n",
       "  0.4412231254707397,\n",
       "  0.39639135542171217,\n",
       "  0.2924292197079172,\n",
       "  0.23167844730526457,\n",
       "  0.30355317486964356,\n",
       "  0.306124904752571,\n",
       "  0.21145479377551815,\n",
       "  0.3335920841553168,\n",
       "  0.47340536435202196,\n",
       "  0.41233842836667817,\n",
       "  0.22589521430530846,\n",
       "  0.3339783993034147,\n",
       "  0.5222257992870026,\n",
       "  0.5557444035190358,\n",
       "  0.5594800953612468,\n",
       "  0.3523502363113691,\n",
       "  0.4172627476912294,\n",
       "  0.4125279709126683,\n",
       "  0.642004314050422,\n",
       "  0.6138868518522879,\n",
       "  0.6284374376827789,\n",
       "  0.5910373005120348,\n",
       "  0.7849509383064026,\n",
       "  0.7854548981480223,\n",
       "  0.7279102568484226,\n",
       "  0.6646125963692259,\n",
       "  0.5485069099366081,\n",
       "  0.721603963446141,\n",
       "  0.7624574318121032,\n",
       "  0.8229048270575124,\n",
       "  0.7793372059753868,\n",
       "  0.8460036091253107,\n",
       "  0.6895845041285332,\n",
       "  0.48536158947123315,\n",
       "  0.4015692098626955,\n",
       "  0.5728263182465848,\n",
       "  0.6771330405989705,\n",
       "  0.5905640406737759,\n",
       "  0.46836756062589435,\n",
       "  0.5911719381866999,\n",
       "  0.69422395950604,\n",
       "  0.7545088020810152,\n",
       "  0.4736495200686268,\n",
       "  0.4919527589413157,\n",
       "  0.44990478541977535,\n",
       "  0.4997852667043732,\n",
       "  0.3158561603797444,\n",
       "  0.3934830931290884,\n",
       "  0.33206527650069806,\n",
       "  0.2722954005120094,\n",
       "  0.1427351208406917,\n",
       "  0.4366298797932496,\n",
       "  0.6455684771686204,\n",
       "  0.8682811734230645,\n",
       "  0.753560301505448,\n",
       "  0.6952628975495901,\n",
       "  0.5554579246077596,\n",
       "  0.5496574160648763,\n",
       "  0.5396815305788557,\n",
       "  0.6287451120164299,\n",
       "  0.771325618983011,\n",
       "  0.7267456850593872,\n",
       "  0.6638782488845126,\n",
       "  0.44867513983535545,\n",
       "  0.41321167887381066,\n",
       "  0.37199571487220434,\n",
       "  0.46483179856204443,\n",
       "  0.5475264920716963,\n",
       "  0.7042806096061772,\n",
       "  0.5631818026299408,\n",
       "  0.5920717846276906,\n",
       "  0.5980555531544675,\n",
       "  0.7891102361066444,\n",
       "  0.7655249365219875,\n",
       "  0.556802317794825,\n",
       "  0.4454701834387402,\n",
       "  0.5690083761051671,\n",
       "  0.7446641417631517,\n",
       "  0.8338432769684397,\n",
       "  0.8212515435115023,\n",
       "  0.8311959435513588,\n",
       "  0.8900850370161894,\n",
       "  0.7183078039778393,\n",
       "  0.5647081348937034,\n",
       "  0.547896112805537,\n",
       "  0.5443017251524679,\n",
       "  0.6393014472465508,\n",
       "  0.5344724065480806,\n",
       "  0.5224418317510418,\n",
       "  0.4247033247367146,\n",
       "  0.30306634971428165,\n",
       "  0.30905149984347174,\n",
       "  0.2954002141373348,\n",
       "  0.2626182543435697,\n",
       "  0.2018106603555818,\n",
       "  0.15015686595644354,\n",
       "  0.4300636830651195,\n",
       "  0.5692314040686727,\n",
       "  0.5782020237617324,\n",
       "  0.6248162467000328,\n",
       "  0.514264067763078,\n",
       "  0.5898118780037823,\n",
       "  0.5037429075615734,\n",
       "  0.6482095544082568,\n",
       "  0.621447670038373,\n",
       "  0.633940305619312,\n",
       "  0.5654314941797114,\n",
       "  0.6594189553436037,\n",
       "  0.5642119049887648,\n",
       "  0.7261120979509551,\n",
       "  0.7263503888656039,\n",
       "  0.5930172872828154,\n",
       "  0.31234243436580744,\n",
       "  0.3957873866463307,\n",
       "  0.44173776628054284,\n",
       "  0.40729307379085267,\n",
       "  0.16952939080482543,\n",
       "  0.25304895151079093,\n",
       "  0.5617264559600973,\n",
       "  0.6103618406338405,\n",
       "  0.6916013507446838,\n",
       "  0.6523326705895148,\n",
       "  0.5490100423944916,\n",
       "  0.5118054980672854,\n",
       "  0.5656127766603597,\n",
       "  0.7190907603104061,\n",
       "  0.693288834619097,\n",
       "  0.47692822835641896,\n",
       "  0.6090980373832182,\n",
       "  0.7541357244667006,\n",
       "  0.6729581612153597,\n",
       "  0.5418676494052704,\n",
       "  0.358544313034659,\n",
       "  0.5480364170052066,\n",
       "  0.40330734245766203,\n",
       "  0.35187569613456976,\n",
       "  0.2209114354320412,\n",
       "  0.3412668696759062,\n",
       "  0.5172497175343965,\n",
       "  0.7102810952985257,\n",
       "  0.8125179955513727,\n",
       "  0.7736926622841924,\n",
       "  0.5168077442171394,\n",
       "  0.38457222192102986,\n",
       "  0.38187048444519034,\n",
       "  0.45088882558802906,\n",
       "  0.49025593357089575,\n",
       "  0.5690481801157281,\n",
       "  0.5096845986871802,\n",
       "  0.6250373509486138,\n",
       "  0.35862112103510785,\n",
       "  0.44869025360037956,\n",
       "  0.46586117015569833,\n",
       "  0.49765130004075075,\n",
       "  0.5424440307595363,\n",
       "  0.37951557379938655,\n",
       "  0.6084313142695422,\n",
       "  0.7655386706566857,\n",
       "  0.7228681801279282,\n",
       "  0.5910445999088607,\n",
       "  0.558691417954355,\n",
       "  0.644092456392708,\n",
       "  0.5514752554693678,\n",
       "  0.506360976212493,\n",
       "  0.4371255171132991,\n",
       "  0.5275753279215697,\n",
       "  0.27720852623801323,\n",
       "  0.4945011079060982,\n",
       "  0.5516037713337372,\n",
       "  0.8573540845546151,\n",
       "  0.8505934972088515,\n",
       "  0.720677270617086,\n",
       "  0.5922516469922943,\n",
       "  0.4161069641057522,\n",
       "  0.5802141423759576,\n",
       "  0.680830705426175,\n",
       "  0.6102670145853485,\n",
       "  0.4485034964459887,\n",
       "  0.40312879042004734,\n",
       "  0.5623625858700184],\n",
       " [0.40286021765021013,\n",
       "  0.4270011739756141,\n",
       "  0.49921534257152206,\n",
       "  0.5622407067067895,\n",
       "  0.5230725538638955,\n",
       "  0.5280623002956754,\n",
       "  0.4958204125026381,\n",
       "  0.40240289038865107,\n",
       "  0.47965769821487747,\n",
       "  0.4358925172513355,\n",
       "  0.43060386351582125,\n",
       "  0.4122531568311964,\n",
       "  0.4956611003377554,\n",
       "  0.47281608602193803,\n",
       "  0.4320151166950179,\n",
       "  0.4686132393142139,\n",
       "  0.6484775201662885,\n",
       "  0.565518077962039,\n",
       "  0.42629924369257466,\n",
       "  0.48882929399718333,\n",
       "  0.487604987442101,\n",
       "  0.3835603434574468,\n",
       "  0.4207622262768587,\n",
       "  0.5000963691947101,\n",
       "  0.39762203215098435,\n",
       "  0.25413053284988923,\n",
       "  0.2654672040423612,\n",
       "  0.3213097728926086,\n",
       "  0.28350334782757963,\n",
       "  0.32386849862080297,\n",
       "  0.3232863728337337,\n",
       "  0.32762954725116594,\n",
       "  0.286423421892893,\n",
       "  0.2441044728945602,\n",
       "  0.36544675971887786,\n",
       "  0.43298141678182683,\n",
       "  0.46951959622076933,\n",
       "  0.4487445264816158,\n",
       "  0.6429552678636469,\n",
       "  0.6474289784901904,\n",
       "  0.5603161059208649,\n",
       "  0.4983962704064016,\n",
       "  0.6055118987441117,\n",
       "  0.5492415702479546,\n",
       "  0.5645403818487886,\n",
       "  0.6247837898799105,\n",
       "  0.72425189146275,\n",
       "  0.7140161232289105,\n",
       "  0.6324514714764381,\n",
       "  0.5626794753452581,\n",
       "  0.6547538755193465,\n",
       "  0.6579862205501437,\n",
       "  0.6249818713832495,\n",
       "  0.6821086207931764,\n",
       "  0.5714976655947328,\n",
       "  0.4435498601369748,\n",
       "  0.4337912259621728,\n",
       "  0.41559726170640765,\n",
       "  0.33239829042570745,\n",
       "  0.4352528766730697,\n",
       "  0.5273130343775826,\n",
       "  0.5027293509671874,\n",
       "  0.4948071552073605,\n",
       "  0.547998000900463,\n",
       "  0.5399235462728288,\n",
       "  0.5550039168597316,\n",
       "  0.5242944342818951,\n",
       "  0.5280048491744125,\n",
       "  0.5381512272579514,\n",
       "  0.4423809224013365,\n",
       "  0.29538985747261276,\n",
       "  0.33187859167075096,\n",
       "  0.44986511613984054,\n",
       "  0.4705631581234003,\n",
       "  0.5433681026056018,\n",
       "  0.5687404839054325,\n",
       "  0.528511777871362,\n",
       "  0.5282895619171339,\n",
       "  0.5637574438072825,\n",
       "  0.5929609962216557,\n",
       "  0.7309491126346292,\n",
       "  0.6769366265605357,\n",
       "  0.5832756316903562,\n",
       "  0.6196644813778499,\n",
       "  0.6272999532481347,\n",
       "  0.5470683438461584,\n",
       "  0.5544890137218398,\n",
       "  0.5613339429775622,\n",
       "  0.5622637216159536,\n",
       "  0.44784658594579163,\n",
       "  0.5127512860867359,\n",
       "  0.6229925729835482,\n",
       "  0.6906292272554999,\n",
       "  0.6473066533300939,\n",
       "  0.8079928076145112,\n",
       "  0.7549974177960337,\n",
       "  0.703171808366613,\n",
       "  0.6111540281390414,\n",
       "  0.4742780052765503,\n",
       "  0.4864520561373823,\n",
       "  0.49671626620805787,\n",
       "  0.4244125772878108,\n",
       "  0.44013853483595344,\n",
       "  0.5258988977773522,\n",
       "  0.4232548596510153,\n",
       "  0.37847057667937023,\n",
       "  0.44619845179151046,\n",
       "  0.4699522488652389,\n",
       "  0.49545771937623717,\n",
       "  0.5157290864871908,\n",
       "  0.45210849950032833,\n",
       "  0.39033374660816433,\n",
       "  0.3010781078363798,\n",
       "  0.29547978903552297,\n",
       "  0.37605220118624305,\n",
       "  0.5301449924849597,\n",
       "  0.6436434987566543,\n",
       "  0.7714887210810758,\n",
       "  0.7056553549428488,\n",
       "  0.701802549227003,\n",
       "  0.6767374661992592,\n",
       "  0.5339647812329396,\n",
       "  0.3740154331439133,\n",
       "  0.3258686201114146,\n",
       "  0.30863700870703503,\n",
       "  0.22392614874997818,\n",
       "  0.22917704664807043,\n",
       "  0.35079933745545383,\n",
       "  0.4167719152897903,\n",
       "  0.2795576359455202,\n",
       "  0.2615708957536051,\n",
       "  0.3451492501043358,\n",
       "  0.2538178225183262,\n",
       "  0.2395161370627632,\n",
       "  0.36793104679364835,\n",
       "  0.4269462678640116,\n",
       "  0.38587054133187426,\n",
       "  0.4469957549214444,\n",
       "  0.3971397830841057,\n",
       "  0.3321332185993452,\n",
       "  0.3253766284320275,\n",
       "  0.2985841361048249,\n",
       "  0.22558227175985182,\n",
       "  0.4008190563046584,\n",
       "  0.42553083153809973,\n",
       "  0.3831652942066386,\n",
       "  0.4666871612631793,\n",
       "  0.608342756449674,\n",
       "  0.4325426780803275,\n",
       "  0.3340923860601512,\n",
       "  0.3215665356296664,\n",
       "  0.34420390217522107,\n",
       "  0.21284148702558464,\n",
       "  0.34959899089412766,\n",
       "  0.48166124578395814,\n",
       "  0.5613093304198697,\n",
       "  0.4616621854720472,\n",
       "  0.6247355705096829,\n",
       "  0.6433766164805126,\n",
       "  0.6110613608150016,\n",
       "  0.5467600841485549,\n",
       "  0.6323414181638709,\n",
       "  0.5162021165719541,\n",
       "  0.4718091375883352,\n",
       "  0.4327383960674817,\n",
       "  0.514288812272417,\n",
       "  0.39634455189386397,\n",
       "  0.3770861398468067,\n",
       "  0.45549760931937316,\n",
       "  0.5663552962973799,\n",
       "  0.5014430481097598,\n",
       "  0.6613889061397733,\n",
       "  0.6637404416857975,\n",
       "  0.6580174660826763,\n",
       "  0.6316790409690686,\n",
       "  0.6536361694554245,\n",
       "  0.5324049086400797,\n",
       "  0.4720282356621867,\n",
       "  0.4599141288768995,\n",
       "  0.31872901126319136,\n",
       "  0.39937738083274577,\n",
       "  0.5413459854129423,\n",
       "  0.6537060469692445,\n",
       "  0.512265886363019,\n",
       "  0.6782387931303016,\n",
       "  0.7091110182396804,\n",
       "  0.6574754216695311,\n",
       "  0.6451940568360731,\n",
       "  0.686484404669251,\n",
       "  0.5823143686947767,\n",
       "  0.4287116729217792,\n",
       "  0.4227376473051378,\n",
       "  0.407552922309623,\n",
       "  0.37078288443793933,\n",
       "  0.322281552093718,\n",
       "  0.41432070629051365,\n",
       "  0.33870463805777107,\n",
       "  0.35207459828506815,\n",
       "  0.3783200002632295,\n",
       "  0.5317594571796375,\n",
       "  0.5785036054508572,\n",
       "  0.5229076675623212,\n",
       "  0.4631182854031127,\n",
       "  0.46359729544716705,\n",
       "  0.4866829375480612,\n",
       "  0.4632873587669801,\n",
       "  0.5274878916090725,\n",
       "  0.5299232485970833,\n",
       "  0.5992661215225825,\n",
       "  0.5693963919677701,\n",
       "  0.5992938112006205,\n",
       "  0.6002446445885977,\n",
       "  0.7341173258057276,\n",
       "  0.7366483482917066,\n",
       "  0.6660078787834125,\n",
       "  0.6766720303698465,\n",
       "  0.6548301543858902,\n",
       "  0.623444551140852,\n",
       "  0.5029585607934174,\n",
       "  0.43999764462979607,\n",
       "  0.4250935553662501,\n",
       "  0.4207591073903272,\n",
       "  0.4274893066853608,\n",
       "  0.5305950266285138,\n",
       "  0.6648826374108074,\n",
       "  0.5563066805903236,\n",
       "  0.5817700885924364,\n",
       "  0.4881899095313753,\n",
       "  0.5416321082223059,\n",
       "  0.49420217485947715,\n",
       "  0.6114420664127853,\n",
       "  0.7208380403557803,\n",
       "  0.6896641783526439,\n",
       "  0.6264143084491067,\n",
       "  0.5264728022736872,\n",
       "  0.34343887055863126,\n",
       "  0.18062453338170842,\n",
       "  0.32678900937593225,\n",
       "  0.3741782043071342,\n",
       "  0.5190243989980342,\n",
       "  0.5793763321019687,\n",
       "  0.6877748548473063,\n",
       "  0.6709219037005429,\n",
       "  0.5889065397231751,\n",
       "  0.5373616505491571,\n",
       "  0.5139249722755942,\n",
       "  0.4072364182342657,\n",
       "  0.304200426504062,\n",
       "  0.4067461263074456,\n",
       "  0.4054791878356804,\n",
       "  0.5457498137076213,\n",
       "  0.6209550130453916,\n",
       "  0.6230468376705839,\n",
       "  0.6022961448115887,\n",
       "  0.6549604094926951,\n",
       "  0.47242331796833376,\n",
       "  0.5149517939648709,\n",
       "  0.47785186526663476,\n",
       "  0.34346943224015447,\n",
       "  0.35492781498694076,\n",
       "  0.36045617346764036,\n",
       "  0.274300518636356,\n",
       "  0.45359559383425896,\n",
       "  0.514777811634727,\n",
       "  0.36087743367724945,\n",
       "  0.3863494137914828,\n",
       "  0.38670679783754963,\n",
       "  0.33787638142374476,\n",
       "  0.27424049313495324,\n",
       "  0.43328174067236525,\n",
       "  0.4754605072889442,\n",
       "  0.6212292575750176,\n",
       "  0.6542725198977581,\n",
       "  0.6925104076902058,\n",
       "  0.5610395512425643,\n",
       "  0.5807861163281728,\n",
       "  0.40675913781262113,\n",
       "  0.3553246320803623,\n",
       "  0.3044439577733936,\n",
       "  0.2558631608689028,\n",
       "  0.35697786698454187,\n",
       "  0.39606201020423504,\n",
       "  0.3849660989440399,\n",
       "  0.4670109631873185,\n",
       "  0.5275659050973697,\n",
       "  0.343642137796806,\n",
       "  0.46721056922021054,\n",
       "  0.5418590959501455,\n",
       "  0.6458494899234198,\n",
       "  0.6054657797350126,\n",
       "  0.6359114757327033,\n",
       "  0.5767944483018264,\n",
       "  0.5788223701122186,\n",
       "  0.49344570870986776,\n",
       "  0.6088112082940319,\n",
       "  0.6981394400618821,\n",
       "  0.6263952624302999,\n",
       "  0.5387251378348775,\n",
       "  0.4916067219004372,\n",
       "  0.4032449995079131,\n",
       "  0.2871518668096008,\n",
       "  0.29149201315180695,\n",
       "  0.3798469040130943,\n",
       "  0.4079631285572507,\n",
       "  0.4890889962427664,\n",
       "  0.6015084592199772,\n",
       "  0.7334980189568421,\n",
       "  0.6149183857407462,\n",
       "  0.5866947966043898,\n",
       "  0.5217409726392823,\n",
       "  0.4563947859624344,\n",
       "  0.4376748346778775,\n",
       "  0.538279173554413,\n",
       "  0.5374841805186136,\n",
       "  0.5389025787113393,\n",
       "  0.5844006321706556,\n",
       "  0.5307707662688295,\n",
       "  0.4712632251647101,\n",
       "  0.4597209600092566,\n",
       "  0.39692908456835474,\n",
       "  0.33683586169750096,\n",
       "  0.2355042812083664,\n",
       "  0.22655272419126674,\n",
       "  0.1917163969201239,\n",
       "  0.20266754968177803,\n",
       "  0.2809921084288063,\n",
       "  0.32469091173840325,\n",
       "  0.3728869123317605,\n",
       "  0.4573558473738812,\n",
       "  0.6148596844789185,\n",
       "  0.5186191849988758,\n",
       "  0.5607407921043354,\n",
       "  0.5613005392770817,\n",
       "  0.47806972797983727,\n",
       "  0.4953855222184827,\n",
       "  0.49919802466023455,\n",
       "  0.5541539040680832,\n",
       "  0.5921363795476928,\n",
       "  0.7410250112436124,\n",
       "  0.6151362220076264,\n",
       "  0.6018633472496175,\n",
       "  0.5494932008634803,\n",
       "  0.5363854144768034,\n",
       "  0.43077328440223406,\n",
       "  0.5455682433827909,\n",
       "  0.552528825871818,\n",
       "  0.6317535105393148,\n",
       "  0.4542341118766446,\n",
       "  0.45874994855468765,\n",
       "  0.4606158457583522,\n",
       "  0.5930509725498075,\n",
       "  0.5923853910706203,\n",
       "  0.7541771063405005,\n",
       "  0.8402003478692283,\n",
       "  0.7975017269864587,\n",
       "  0.672361443918529,\n",
       "  0.577458290714417,\n",
       "  0.4408939750155015,\n",
       "  0.4346218883283594,\n",
       "  0.43025860040541486,\n",
       "  0.44514490883532687,\n",
       "  0.3715001473096117,\n",
       "  0.5325979352234947,\n",
       "  0.5512835705042118,\n",
       "  0.5275818088456072,\n",
       "  0.5853400576838267,\n",
       "  0.7427157522805705,\n",
       "  0.6407005111406988,\n",
       "  0.558192074410373,\n",
       "  0.516071917110881,\n",
       "  0.45939020520823914,\n",
       "  0.294013372506984,\n",
       "  0.3326392057825598,\n",
       "  0.3368338932980883,\n",
       "  0.38322079063462106,\n",
       "  0.3440912983009709,\n",
       "  0.4101982864732093,\n",
       "  0.3085673404642094,\n",
       "  0.2502563670616255,\n",
       "  0.18795823452924662,\n",
       "  0.34128078456557404,\n",
       "  0.34985155844128946,\n",
       "  0.40241116603445015,\n",
       "  0.49987434757593985,\n",
       "  0.49475768445194424,\n",
       "  0.3304662428633395,\n",
       "  0.35664712822770755,\n",
       "  0.3766106217549726,\n",
       "  0.38388955562455546,\n",
       "  0.42484701609372866,\n",
       "  0.5606542076169421,\n",
       "  0.6011982494718137,\n",
       "  0.5486932605927731,\n",
       "  0.5179397922678046,\n",
       "  0.5260417786558202,\n",
       "  0.43375156953193345,\n",
       "  0.36991640628318717,\n",
       "  0.43432295814838023,\n",
       "  0.5166964089063477,\n",
       "  0.6044723481576335,\n",
       "  0.6145050038430399,\n",
       "  0.6613388123880894,\n",
       "  0.5588967941627725,\n",
       "  0.39181917090718216,\n",
       "  0.31061619597957896,\n",
       "  0.4310559390757166,\n",
       "  0.3336664500987651,\n",
       "  0.4772325531859468,\n",
       "  0.6395241894154766,\n",
       "  0.5995462539424958,\n",
       "  0.5625728310737613,\n",
       "  0.7004775094195101,\n",
       "  0.6215948038095607,\n",
       "  0.5852494225160131,\n",
       "  0.6701726394640163,\n",
       "  0.6505768075116337,\n",
       "  0.6520340107969196,\n",
       "  0.7570320188706764,\n",
       "  0.8087912496820865,\n",
       "  0.7757541652105319,\n",
       "  0.6920937832836467,\n",
       "  0.5709574372765215,\n",
       "  0.43516030075456846,\n",
       "  0.35704800728115554,\n",
       "  0.3943514913709337,\n",
       "  0.36952295655807593,\n",
       "  0.4557311659040938,\n",
       "  0.5556380808762793,\n",
       "  0.5113309125480819,\n",
       "  0.46279205047346295,\n",
       "  0.4853250366512607,\n",
       "  0.49497697562716675,\n",
       "  0.3596880604209744,\n",
       "  0.48633597045924465,\n",
       "  0.5449135562901104,\n",
       "  0.6376436262803036,\n",
       "  0.5451696451123261,\n",
       "  0.7196004856635028,\n",
       "  0.7152440416092853,\n",
       "  0.5814805267240454,\n",
       "  0.6109422763907604,\n",
       "  0.7258231991700428,\n",
       "  0.6751940924143529,\n",
       "  0.6233878781222847,\n",
       "  0.6845743927408929,\n",
       "  0.7142845032027353,\n",
       "  0.7401398371332869,\n",
       "  0.6846670284345251,\n",
       "  0.7051277813112504,\n",
       "  0.7027003531644554,\n",
       "  0.5507896363761245,\n",
       "  0.42164158610832114,\n",
       "  0.3704369385112547,\n",
       "  0.3916715843317242,\n",
       "  0.49697208206444576,\n",
       "  0.4878585848089658,\n",
       "  0.5429009456749248,\n",
       "  0.599279750249673,\n",
       "  0.44112080446948987,\n",
       "  0.3083310914230245,\n",
       "  0.33413701915797916,\n",
       "  0.36391656515851883,\n",
       "  0.2830735368076114,\n",
       "  0.29742327139387026,\n",
       "  0.32608278245549427,\n",
       "  0.2806464428565389,\n",
       "  0.2562363983260837,\n",
       "  0.3765601148509753,\n",
       "  0.5056588442409313,\n",
       "  0.4592253933539808,\n",
       "  0.5119747814491244,\n",
       "  0.49493734989217797,\n",
       "  0.42845698161906354,\n",
       "  0.3785381281230825,\n",
       "  0.38739341087604745,\n",
       "  0.46714251868092116,\n",
       "  0.5168927762039719,\n",
       "  0.6239785607941469,\n",
       "  0.7015541660235246,\n",
       "  0.7604531208986964,\n",
       "  0.7219095463473078,\n",
       "  0.7348309426334362,\n",
       "  0.7269134957725506,\n",
       "  0.6462991997399883,\n",
       "  0.6138750759280672,\n",
       "  0.5725227091089763,\n",
       "  0.4230110108960812,\n",
       "  0.43070735159886125,\n",
       "  0.34021273182758743,\n",
       "  0.4130145018119434,\n",
       "  0.46526243061886075,\n",
       "  0.6366236546292926,\n",
       "  0.6273269687252743,\n",
       "  0.798416619535152,\n",
       "  0.6762823751855047,\n",
       "  0.6672992519982529,\n",
       "  0.5888258436740782,\n",
       "  0.49886300316593524,\n",
       "  0.404765543891224,\n",
       "  0.44881049402393164,\n",
       "  0.4544149935278431,\n",
       "  0.3400682796845301,\n",
       "  0.3662808546445211,\n",
       "  0.35558478575107333,\n",
       "  0.3451808706746464,\n",
       "  0.31938262592366584,\n",
       "  0.4758311445682861,\n",
       "  0.5240508549383609,\n",
       "  0.532600252768851,\n",
       "  0.6011740634930455,\n",
       "  0.5968051563439399,\n",
       "  0.4809705041968778,\n",
       "  0.34506305897982825,\n",
       "  0.3021274827233707,\n",
       "  0.2922266740976663,\n",
       "  0.39304761834160284,\n",
       "  0.518149058251973,\n",
       "  0.6195659682507004,\n",
       "  0.7614453469387015,\n",
       "  0.73412870196993,\n",
       "  0.7247148125891585,\n",
       "  0.6406236308476466,\n",
       "  0.6873577128211543,\n",
       "  0.6874724220558053,\n",
       "  0.6562235457554398,\n",
       "  0.523367413564729,\n",
       "  0.565581087054067,\n",
       "  0.5228461995811275,\n",
       "  0.39721226773362195,\n",
       "  0.336848797679437,\n",
       "  0.3806187609587409,\n",
       "  0.34178591363394084,\n",
       "  0.3166450919067977,\n",
       "  0.41700974730527707,\n",
       "  0.5331915043022931,\n",
       "  0.6021251344709658,\n",
       "  0.6965330743776559,\n",
       "  0.7652373527450196,\n",
       "  0.6915287013305189,\n",
       "  0.7237967639714618,\n",
       "  0.705101685579881,\n",
       "  0.655268938185127,\n",
       "  0.6314493172078304,\n",
       "  0.6143087018245196,\n",
       "  0.591007440024668,\n",
       "  0.5896828621147406,\n",
       "  0.6473573670898682,\n",
       "  0.6779170324263019,\n",
       "  0.7657708507488213,\n",
       "  0.7934184025198181,\n",
       "  0.8297370727288985,\n",
       "  0.7634059597671451,\n",
       "  0.6768012403703173,\n",
       "  0.5604642787137264,\n",
       "  0.5485683260981778,\n",
       "  0.5602915686626101,\n",
       "  0.548048441277144,\n",
       "  0.5085724169913073,\n",
       "  0.6222508223671657,\n",
       "  0.5775554327364933,\n",
       "  0.4961875434294921,\n",
       "  0.3964158038380599,\n",
       "  0.468057995004579,\n",
       "  0.4504124710560369,\n",
       "  0.4380234175028913,\n",
       "  0.41563835456496473,\n",
       "  0.5379294503755914,\n",
       "  0.4398215432971889,\n",
       "  0.3923047296011738,\n",
       "  0.49701058647854984,\n",
       "  0.5640646421485348,\n",
       "  0.513080680020207,\n",
       "  0.6469140497992824,\n",
       "  0.6664801142675458,\n",
       "  0.5190325734575354,\n",
       "  0.4224847212158108,\n",
       "  0.519305033504174,\n",
       "  0.43533722828660776,\n",
       "  0.3293153999254419,\n",
       "  0.45367303974817386,\n",
       "  0.5167709271174957,\n",
       "  0.41320750237228054,\n",
       "  0.46169744475768104,\n",
       "  0.5940656269259075,\n",
       "  0.46164083038418163,\n",
       "  0.48761467651619406,\n",
       "  0.5566604430015717,\n",
       "  0.6173573473607207,\n",
       "  0.5239643364256961,\n",
       "  0.6121868809810154,\n",
       "  0.5279962570084098,\n",
       "  0.4975177920523487,\n",
       "  0.3689896976524521,\n",
       "  0.47299109589348065,\n",
       "  0.5244014026907416,\n",
       "  0.5439073390801479,\n",
       "  0.47616211671883946,\n",
       "  0.634447205744227,\n",
       "  0.617831743418275,\n",
       "  0.6132466949371065,\n",
       "  0.5534248778604828,\n",
       "  0.6888398278284389,\n",
       "  0.6205725565967998,\n",
       "  0.5425403247947092,\n",
       "  0.4601349249242593,\n",
       "  0.6063466286369825,\n",
       "  0.5835503574926225,\n",
       "  0.4970401189493815,\n",
       "  0.558911589168764,\n",
       "  0.5056843700907139,\n",
       "  0.547975737637511,\n",
       "  0.47960865771248296,\n",
       "  0.6242574851168533,\n",
       "  0.6447297530066161,\n",
       "  0.7328558283853062,\n",
       "  0.5906426684072814,\n",
       "  0.6072458217270913,\n",
       "  0.4523407690138316,\n",
       "  0.3343107987042316,\n",
       "  0.3562087710722418,\n",
       "  0.3760299184699542,\n",
       "  0.42098671618630384,\n",
       "  0.44136148864165897,\n",
       "  0.5573735184568545,\n",
       "  0.5579189504890779,\n",
       "  0.5468001730328902,\n",
       "  0.4178019975114922,\n",
       "  0.44910484776616677,\n",
       "  0.40394551936867995,\n",
       "  0.28024497702888135,\n",
       "  0.2564980528919364,\n",
       "  0.24628957667910417,\n",
       "  0.28639071995268617,\n",
       "  0.36569364456160214,\n",
       "  0.3890103598139696,\n",
       "  0.3586007949157764,\n",
       "  0.4883169032365169,\n",
       "  0.5317963006834451,\n",
       "  0.5468453933558399,\n",
       "  0.6261696265286558,\n",
       "  0.6877155724836712,\n",
       "  0.7145045772059658,\n",
       "  0.5751358864906531,\n",
       "  0.5208389567818006,\n",
       "  0.41724933526738744,\n",
       "  0.42870185154048795,\n",
       "  0.36013270421479265,\n",
       "  0.41209813777863635,\n",
       "  0.3072902659016069,\n",
       "  0.3345875585717251,\n",
       "  0.4186764086682243,\n",
       "  0.41218699334628645,\n",
       "  0.4525946876845202,\n",
       "  0.4612565754468562,\n",
       "  0.5579001246837174,\n",
       "  0.4598935770131912,\n",
       "  0.48610213355190146,\n",
       "  0.5520129971663625,\n",
       "  0.7085102754203283,\n",
       "  0.5747668533256508,\n",
       "  0.6682319438819362,\n",
       "  0.7210257914569046,\n",
       "  0.6030432663391826,\n",
       "  0.4807941097584084,\n",
       "  0.587601272031046,\n",
       "  0.6118807758394504,\n",
       "  0.5203489294348822,\n",
       "  0.6324400757481234,\n",
       "  0.707522656192535,\n",
       "  0.6219265201985135,\n",
       "  0.6208944580771408,\n",
       "  0.5439449499275227,\n",
       "  0.3969745661822153,\n",
       "  0.3782247031187177,\n",
       "  0.359194024505251,\n",
       "  0.2523560175673179,\n",
       "  0.27531557875471435,\n",
       "  0.3388577835159906,\n",
       "  0.3738916096895733,\n",
       "  0.5436845426316321,\n",
       "  0.4748804935611723,\n",
       "  0.4610550731895585,\n",
       "  0.5366020254919719,\n",
       "  0.37716891339217395,\n",
       "  0.25067009613660574,\n",
       "  0.26706351161079606,\n",
       "  0.2731007016684418,\n",
       "  0.11050047254034456,\n",
       "  0.22944011842219275,\n",
       "  0.3236449189958951,\n",
       "  0.43751185076906307,\n",
       "  0.5884288637612896,\n",
       "  0.7155075235160611,\n",
       "  0.6659453065181593,\n",
       "  0.6432350576733901,\n",
       "  0.6997997440353956,\n",
       "  0.6589958562564008,\n",
       "  0.5750109653750883,\n",
       "  0.509107398982011,\n",
       "  0.5699279941868276,\n",
       "  0.4941081321719287,\n",
       "  0.43571041408936007,\n",
       "  0.50816261720314,\n",
       "  0.6081773172738434,\n",
       "  0.5255784718831336,\n",
       "  0.4196403006301831,\n",
       "  0.4203628625833284,\n",
       "  0.38182231723903237,\n",
       "  0.3096444661481052,\n",
       "  0.38123115783649747,\n",
       "  0.453894184906772,\n",
       "  0.5157258075120341,\n",
       "  0.575905092813303,\n",
       "  0.6846880367460365,\n",
       "  0.6528900486828748,\n",
       "  0.7185077935345289,\n",
       "  0.6363467992841927,\n",
       "  0.6889182447335929,\n",
       "  0.5704635834358638,\n",
       "  0.6099700042731843,\n",
       "  0.6304420589868769,\n",
       "  0.7505587783927176,\n",
       "  0.565840294021645,\n",
       "  0.553881959953653,\n",
       "  0.5327636413802571,\n",
       "  0.45568325163178214,\n",
       "  0.3593010316233738,\n",
       "  0.5456762751017384,\n",
       "  0.5354562454708865,\n",
       "  0.47913809578554317,\n",
       "  0.47397468572264695,\n",
       "  0.4255646721007974,\n",
       "  0.3076648302121233,\n",
       "  0.44117072411629576,\n",
       "  0.5113408351956565,\n",
       "  0.4275948222581837,\n",
       "  0.506856109373066,\n",
       "  0.44589377582292017,\n",
       "  0.4644429862918268,\n",
       "  0.30513692033868606,\n",
       "  0.30705164224944503,\n",
       "  0.27899697094428494,\n",
       "  0.4074428868384933,\n",
       "  0.31000553401697584,\n",
       "  0.3188494580602444,\n",
       "  0.470925238273851,\n",
       "  0.5554618742374304,\n",
       "  0.5801125990906848,\n",
       "  0.5782201551340067,\n",
       "  0.6371852474071918,\n",
       "  0.5273488018410082,\n",
       "  0.4774004240652724,\n",
       "  0.37224989766870753,\n",
       "  0.3792336702076998,\n",
       "  0.45099188168585247,\n",
       "  0.5931731148430462,\n",
       "  0.5985656800870967,\n",
       "  0.5534818327531387,\n",
       "  0.616264152098257,\n",
       "  0.5492622119859258,\n",
       "  0.555609091383144,\n",
       "  0.5826573265653897,\n",
       "  0.7286769618428399,\n",
       "  0.7384192273435601,\n",
       "  0.7558206849312226,\n",
       "  0.737578251891585,\n",
       "  0.7600253658035895,\n",
       "  0.6513333220250136,\n",
       "  0.5424824490313884,\n",
       "  0.5094290216316492,\n",
       "  0.4342808777805412,\n",
       "  0.2874334828050652,\n",
       "  0.29824416257337144,\n",
       "  0.3818189163717499,\n",
       "  0.3164634663245812,\n",
       "  0.37523766711382994,\n",
       "  0.4859850582843599,\n",
       "  0.4796392353111405,\n",
       "  0.4243222987197782,\n",
       "  0.486130603166972,\n",
       "  0.38819860710423465,\n",
       "  0.40767795335932977,\n",
       "  0.4451592905356275,\n",
       "  0.490720773744559,\n",
       "  0.4499488453811783,\n",
       "  0.5677747066236949,\n",
       "  0.48318653696641106,\n",
       "  0.4484880559498029,\n",
       "  0.35703160442940424,\n",
       "  0.5231626209855801,\n",
       "  0.43621858886388665,\n",
       "  0.5536809505862645,\n",
       "  0.6736915086081189,\n",
       "  0.8538727093042207,\n",
       "  0.8211162505001642,\n",
       "  0.9102653271765749,\n",
       "  0.9121462444497416,\n",
       "  0.886896331583482,\n",
       "  0.7198621461563505,\n",
       "  0.661478633067216,\n",
       "  0.5915107906297832,\n",
       "  0.6055524314970032,\n",
       "  0.6020686058570168,\n",
       "  0.7157356059794712,\n",
       "  0.7603230688911908,\n",
       "  0.7175178191070564,\n",
       "  0.707481025077868,\n",
       "  0.6793914930076633,\n",
       "  0.6193231713826756,\n",
       "  0.5629076794733096,\n",
       "  0.6865431121187606,\n",
       "  0.604506080037025,\n",
       "  0.5093654092888767,\n",
       "  0.45852148640968354,\n",
       "  0.5030556102817113,\n",
       "  0.4196597310025685,\n",
       "  0.4945953037537617,\n",
       "  0.49795586538873826,\n",
       "  0.5505066293073022,\n",
       "  0.5586502337029484,\n",
       "  0.45611613430040227,\n",
       "  0.2945993633799985,\n",
       "  0.36682087485572845,\n",
       "  0.3377449554294394,\n",
       "  0.2135404309490972,\n",
       "  0.25585893786801206,\n",
       "  0.36244267409787917,\n",
       "  0.35857658117715163,\n",
       "  0.3211300899662328,\n",
       "  0.3143048598295217,\n",
       "  0.43209074449388957,\n",
       "  0.4343103190452443,\n",
       "  0.36370828332973,\n",
       "  0.5203757446906307,\n",
       "  0.5101833322488807,\n",
       "  0.4136788923624188,\n",
       "  0.4545570476660301,\n",
       "  0.5619392785677124,\n",
       "  0.4463229462570434,\n",
       "  0.6202093684888761,\n",
       "  0.6662040102601957,\n",
       "  0.669776726693284,\n",
       "  0.7062797189474361,\n",
       "  0.7346180532578767,\n",
       "  0.6914818219051522,\n",
       "  0.6807614846021801,\n",
       "  0.6966098683417196,\n",
       "  0.6776833421036008,\n",
       "  0.737758226727634,\n",
       "  0.7654446341054162,\n",
       "  0.8561813616168221,\n",
       "  0.7185465511370694,\n",
       "  0.5991871287008942,\n",
       "  0.603379991299932,\n",
       "  0.5946400184997883,\n",
       "  0.4978647875850902,\n",
       "  0.5439677132270775,\n",
       "  0.5844436011925851,\n",
       "  0.6116264245794927,\n",
       "  0.6168062979827507,\n",
       "  0.6308690580818118,\n",
       "  0.5414777122164033,\n",
       "  0.6309574169720034,\n",
       "  0.5461087664216572,\n",
       "  0.42481449653540315,\n",
       "  0.36776583195124096,\n",
       "  0.4980089102579342,\n",
       "  0.3288820070710326,\n",
       "  0.26120020100658137,\n",
       "  0.2837788227397252,\n",
       "  0.40134623871913566,\n",
       "  0.41245143143030055,\n",
       "  0.6055083608931452,\n",
       "  0.6901051793151989,\n",
       "  0.7439680974556395,\n",
       "  0.6768051877818511,\n",
       "  0.6325585426529523,\n",
       "  0.5468083117491143,\n",
       "  0.6019160740884404,\n",
       "  0.6781961755130048,\n",
       "  0.6495809680200908,\n",
       "  0.6704485737802223,\n",
       "  0.6235923410669046,\n",
       "  0.5202609081345192,\n",
       "  0.4308506313137383,\n",
       "  0.46644400916849893,\n",
       "  0.4504498540468293,\n",
       "  0.5842139131762314,\n",
       "  0.556426083422177,\n",
       "  0.5824954959001211,\n",
       "  0.6641481659316854,\n",
       "  0.7013763298431459,\n",
       "  0.6192420920496071,\n",
       "  0.6603204750306159,\n",
       "  0.6134153691297757,\n",
       "  0.601813785820027,\n",
       "  0.6336528184245203,\n",
       "  0.6544063733976471,\n",
       "  0.7604833212500333,\n",
       "  0.8650882744920914,\n",
       "  0.8470523699442605,\n",
       "  0.7446695185788459,\n",
       "  0.7036071892472495,\n",
       "  0.6830391115206813,\n",
       "  0.5725329875395114,\n",
       "  0.5531370353854663,\n",
       "  0.5727378730628259,\n",
       "  0.5471732056539145,\n",
       "  0.47922136254417297,\n",
       "  0.42799664779991425,\n",
       "  0.349023237212067,\n",
       "  0.33577804709772546,\n",
       "  0.27210250135543107,\n",
       "  0.21528763858338734,\n",
       "  0.24403235684302263,\n",
       "  0.34470981128841965,\n",
       "  0.37958635254219014,\n",
       "  0.4333826184939202,\n",
       "  0.5985131630950902,\n",
       "  0.5980506736261708,\n",
       "  0.5292315354571179,\n",
       "  0.5592200651908306,\n",
       "  0.6400551920140855,\n",
       "  0.5272103894601221,\n",
       "  0.631025807904571,\n",
       "  0.6254269617196428,\n",
       "  0.6206160181293402,\n",
       "  0.5806272182528758,\n",
       "  0.6882256184671921,\n",
       "  0.6760620680771154,\n",
       "  0.5971786941147383,\n",
       "  0.47997970588051436,\n",
       "  0.575007357071655,\n",
       "  0.4265540951124909,\n",
       "  0.28854531683566365,\n",
       "  0.3209146191848609,\n",
       "  0.390978005399481,\n",
       "  0.38810875842392356,\n",
       "  0.4220890637968395,\n",
       "  0.5615629715717796,\n",
       "  0.6777907262947371,\n",
       "  0.5996657183270598,\n",
       "  0.5316103968360925,\n",
       "  0.6509412879106489,\n",
       "  0.6161593640664933,\n",
       "  0.5561840952538417,\n",
       "  0.6076921994878052,\n",
       "  0.6745348876560531,\n",
       "  0.6692978639376463,\n",
       "  0.5800126400307773,\n",
       "  0.5836821765277571,\n",
       "  0.5982675147445904,\n",
       "  0.5433756678039703,\n",
       "  0.373185147322334,\n",
       "  0.4056180356961165,\n",
       "  0.3508019394200327,\n",
       "  0.3628186813070823,\n",
       "  0.38714601601363047,\n",
       "  0.5349861911245509,\n",
       "  0.6392040609571641,\n",
       "  0.7188147521249212,\n",
       "  0.6403107158492908,\n",
       "  0.5595975635891441,\n",
       "  0.5217683856129198,\n",
       "  0.42333321387128464,\n",
       "  0.38953552636116606,\n",
       "  0.5531126471520731,\n",
       "  0.4984006399309749,\n",
       "  0.5354356462632202,\n",
       "  0.49775202442032046,\n",
       "  0.4734612319486652,\n",
       "  0.4735234402872022,\n",
       "  0.4905320452324628,\n",
       "  0.4239052398352186,\n",
       "  0.48606011194576954,\n",
       "  0.5863766816339605,\n",
       "  0.6037117401358111,\n",
       "  0.621190239998076,\n",
       "  0.6155370231235551,\n",
       "  0.7112172466287919,\n",
       "  0.6425869252719754,\n",
       "  0.48709897401116437,\n",
       "  0.581312924279531,\n",
       "  0.5502354755946384,\n",
       "  0.4684293199914932,\n",
       "  0.3611825661867141,\n",
       "  0.5160509870566766,\n",
       "  0.49557499706423974,\n",
       "  0.6133197066515036,\n",
       "  0.7098618886290458,\n",
       "  0.7616562436916835,\n",
       "  0.6719700301032213,\n",
       "  0.6285638042922547,\n",
       "  0.5953722783844889,\n",
       "  0.5701123550336152,\n",
       "  0.5623176506732122,\n",
       "  0.5091233880567057,\n",
       "  0.5623254508221924,\n",
       "  0.5516067167696487,\n",
       "  0.5243818931540838],\n",
       " [0.3433906225861248,\n",
       "  0.3949721715832019,\n",
       "  0.4399902888226785,\n",
       "  0.5138801071955873,\n",
       "  0.6073599796274605,\n",
       "  0.4997065296041751,\n",
       "  0.3946455092535168,\n",
       "  0.47760209185072383,\n",
       "  0.46864951768116836,\n",
       "  0.5133336630624832,\n",
       "  0.42054981743796144,\n",
       "  0.37150179499785974,\n",
       "  0.46117043007879516,\n",
       "  0.48980110790000175,\n",
       "  0.5054447638477236,\n",
       "  0.5723962480914994,\n",
       "  0.4678690910308724,\n",
       "  0.47120334926549384,\n",
       "  0.4849212462281646,\n",
       "  0.5160082648621258,\n",
       "  0.5377856957789485,\n",
       "  0.43368979600419016,\n",
       "  0.3652168128572235,\n",
       "  0.36499549922026847,\n",
       "  0.3930306142602076,\n",
       "  0.37824134581121843,\n",
       "  0.3149074998974099,\n",
       "  0.2937475302644613,\n",
       "  0.29578569375165714,\n",
       "  0.26673775971665303,\n",
       "  0.3282467137399196,\n",
       "  0.33797384921384105,\n",
       "  0.2784884365874606,\n",
       "  0.32731211291327805,\n",
       "  0.3735078089696867,\n",
       "  0.43228321202560976,\n",
       "  0.4275868161051854,\n",
       "  0.5037210941678042,\n",
       "  0.5851732247684905,\n",
       "  0.599373261131333,\n",
       "  0.527247148230984,\n",
       "  0.5508228746496745,\n",
       "  0.5606653613300795,\n",
       "  0.6678845500307569,\n",
       "  0.5863936340000926,\n",
       "  0.582120657497098,\n",
       "  0.6606086012982786,\n",
       "  0.6564190763801054,\n",
       "  0.6372899618887186,\n",
       "  0.6617595663368011,\n",
       "  0.648867685140923,\n",
       "  0.660750088086378,\n",
       "  0.6263167401875529,\n",
       "  0.5354910635785916,\n",
       "  0.5268298439514701,\n",
       "  0.5568046498672906,\n",
       "  0.4899239353628501,\n",
       "  0.3937539329558128,\n",
       "  0.39997035307132034,\n",
       "  0.4162615679403317,\n",
       "  0.5076844251333296,\n",
       "  0.5265362889845543,\n",
       "  0.47533020076887716,\n",
       "  0.48877484204733535,\n",
       "  0.5752655868217775,\n",
       "  0.571285537711062,\n",
       "  0.5270304424108614,\n",
       "  0.5006315409765657,\n",
       "  0.4513275329001753,\n",
       "  0.3948311986590274,\n",
       "  0.422681998709578,\n",
       "  0.45193129903951057,\n",
       "  0.46225205800621233,\n",
       "  0.46230128535102494,\n",
       "  0.4166806676929425,\n",
       "  0.48420403833102477,\n",
       "  0.6182882307855972,\n",
       "  0.6278798095323064,\n",
       "  0.5645126282666071,\n",
       "  0.602670635200963,\n",
       "  0.5796101268702633,\n",
       "  0.6286704792033996,\n",
       "  0.692988883465512,\n",
       "  0.6352343363601791,\n",
       "  0.5907498495144459,\n",
       "  0.5521301393703947,\n",
       "  0.5075167865912089,\n",
       "  0.6110796656479536,\n",
       "  0.5384993036854901,\n",
       "  0.5143832814493645,\n",
       "  0.5490534391814043,\n",
       "  0.6100602747407385,\n",
       "  0.6773779796538494,\n",
       "  0.7146842069975966,\n",
       "  0.6520502072922787,\n",
       "  0.7314285980534195,\n",
       "  0.6803479476352425,\n",
       "  0.571153288434565,\n",
       "  0.5688433704846553,\n",
       "  0.544485645062253,\n",
       "  0.4574427192486335,\n",
       "  0.4554487455208994,\n",
       "  0.44452978087080736,\n",
       "  0.4346296787074939,\n",
       "  0.4760517674928388,\n",
       "  0.4286901447158679,\n",
       "  0.43633159027602864,\n",
       "  0.49527631093396896,\n",
       "  0.4886229298869492,\n",
       "  0.42334434015210753,\n",
       "  0.4051750639709744,\n",
       "  0.38105125538817836,\n",
       "  0.38762012325112083,\n",
       "  0.42155146725909504,\n",
       "  0.44812096380119515,\n",
       "  0.49654250130630534,\n",
       "  0.6091799850887123,\n",
       "  0.6128498434901812,\n",
       "  0.7077832111095402,\n",
       "  0.7204478760610067,\n",
       "  0.60933720133966,\n",
       "  0.4976588712736791,\n",
       "  0.3858677873150099,\n",
       "  0.3771748451280824,\n",
       "  0.376355585923242,\n",
       "  0.2717475566404225,\n",
       "  0.264845922170961,\n",
       "  0.3021585973556177,\n",
       "  0.30970498998637314,\n",
       "  0.33042863995337807,\n",
       "  0.29782772906706584,\n",
       "  0.28619711771978096,\n",
       "  0.309543661937541,\n",
       "  0.3219419252279406,\n",
       "  0.3376960346492504,\n",
       "  0.3737655186287473,\n",
       "  0.41864344569680895,\n",
       "  0.346679756923091,\n",
       "  0.37788149385723985,\n",
       "  0.39902495705586777,\n",
       "  0.32423201099387355,\n",
       "  0.27481201990812343,\n",
       "  0.3573572676179369,\n",
       "  0.36254940572627936,\n",
       "  0.3890431792862484,\n",
       "  0.4203419700394693,\n",
       "  0.4769306827778709,\n",
       "  0.45304194045758145,\n",
       "  0.44005663022649316,\n",
       "  0.33243423594696836,\n",
       "  0.36225130620884166,\n",
       "  0.35527082050568953,\n",
       "  0.36940753305111607,\n",
       "  0.349569836893839,\n",
       "  0.42441041618949854,\n",
       "  0.45337259150305315,\n",
       "  0.5718201311342728,\n",
       "  0.5831023289834671,\n",
       "  0.6340126038862798,\n",
       "  0.5652397685140895,\n",
       "  0.5610012860601337,\n",
       "  0.5396006926714758,\n",
       "  0.5903501519236729,\n",
       "  0.4968717649989932,\n",
       "  0.4730341940797355,\n",
       "  0.40763213683074956,\n",
       "  0.41840501817022707,\n",
       "  0.46403314560617465,\n",
       "  0.5326954648028689,\n",
       "  0.49420127302361017,\n",
       "  0.5709539297395293,\n",
       "  0.5251561820369275,\n",
       "  0.6509423700267547,\n",
       "  0.7145475370330558,\n",
       "  0.6357288159779325,\n",
       "  0.5467036528414576,\n",
       "  0.5041456017172324,\n",
       "  0.5070318148389877,\n",
       "  0.4681108010169087,\n",
       "  0.4509858979422679,\n",
       "  0.48218004172993884,\n",
       "  0.5041955142271038,\n",
       "  0.49264679892680147,\n",
       "  0.6154040563512764,\n",
       "  0.62898367605854,\n",
       "  0.7241417634487529,\n",
       "  0.6797788542294806,\n",
       "  0.5963170983955935,\n",
       "  0.5644100004409422,\n",
       "  0.569302095029083,\n",
       "  0.5416409450022075,\n",
       "  0.4643802142794395,\n",
       "  0.3915367146587422,\n",
       "  0.33375821133926,\n",
       "  0.3748994533299849,\n",
       "  0.36763399454720347,\n",
       "  0.40963944668178875,\n",
       "  0.3598098239145219,\n",
       "  0.4224771648178417,\n",
       "  0.5232713969106405,\n",
       "  0.5109383627390629,\n",
       "  0.44449486033364527,\n",
       "  0.44901886490694753,\n",
       "  0.5186259785771224,\n",
       "  0.5839623672704625,\n",
       "  0.5078872444743736,\n",
       "  0.4097946054380926,\n",
       "  0.5035606177357057,\n",
       "  0.594538911837592,\n",
       "  0.6808884499515006,\n",
       "  0.5890027495033282,\n",
       "  0.6032445818943408,\n",
       "  0.6529609439375871,\n",
       "  0.6917422191135413,\n",
       "  0.7361783848424034,\n",
       "  0.6500268655162713,\n",
       "  0.6204951104230777,\n",
       "  0.5834708840838869,\n",
       "  0.4816567325593045,\n",
       "  0.513639247038506,\n",
       "  0.4748491716640674,\n",
       "  0.44250745064844493,\n",
       "  0.4947315071143322,\n",
       "  0.5112553656092726,\n",
       "  0.5517450468934391,\n",
       "  0.5761152030659534,\n",
       "  0.4875762750521059,\n",
       "  0.5810693648514599,\n",
       "  0.5589074143050701,\n",
       "  0.609492932453633,\n",
       "  0.6160833480266483,\n",
       "  0.5828316305966202,\n",
       "  0.6129580933205101,\n",
       "  0.5862523376924357,\n",
       "  0.4679263341224368,\n",
       "  0.3920993183996707,\n",
       "  0.37950801842743953,\n",
       "  0.36534392471433436,\n",
       "  0.46436678101057155,\n",
       "  0.4343277795887669,\n",
       "  0.5073150702379702,\n",
       "  0.6134244706716622,\n",
       "  0.6569739292439534,\n",
       "  0.6147758104200179,\n",
       "  0.5341468995662383,\n",
       "  0.42746651254956397,\n",
       "  0.4168702523874429,\n",
       "  0.45623912314405285,\n",
       "  0.4251738705165447,\n",
       "  0.5033206666979856,\n",
       "  0.4871760571897315,\n",
       "  0.49481444195529284,\n",
       "  0.5955674992707121,\n",
       "  0.6757167155084255,\n",
       "  0.5502329464557627,\n",
       "  0.565370775853439,\n",
       "  0.44631590735458815,\n",
       "  0.397363512981257,\n",
       "  0.4842031278772517,\n",
       "  0.37749010978151404,\n",
       "  0.2934708538131968,\n",
       "  0.43286753297310626,\n",
       "  0.3972392398882972,\n",
       "  0.4006499624562622,\n",
       "  0.40811866803246283,\n",
       "  0.3161701272779175,\n",
       "  0.41673911008460934,\n",
       "  0.39719636453015233,\n",
       "  0.38614006734062384,\n",
       "  0.38003487921404655,\n",
       "  0.5021357157763232,\n",
       "  0.6081127573033775,\n",
       "  0.6156275144249067,\n",
       "  0.5455423314969235,\n",
       "  0.5989960386377747,\n",
       "  0.48319099944793453,\n",
       "  0.5223014178686761,\n",
       "  0.38935230028088963,\n",
       "  0.260964217904884,\n",
       "  0.35932993813372915,\n",
       "  0.36534989870627077,\n",
       "  0.3824299768800098,\n",
       "  0.43238931840567346,\n",
       "  0.3839936986313179,\n",
       "  0.3873286381504522,\n",
       "  0.5163123332429193,\n",
       "  0.5144879975697265,\n",
       "  0.6108089467765198,\n",
       "  0.5414934706248699,\n",
       "  0.5079718613971557,\n",
       "  0.5514755783889597,\n",
       "  0.6824738777950213,\n",
       "  0.6295483321262748,\n",
       "  0.5893164080133602,\n",
       "  0.5453218257817716,\n",
       "  0.5664252088855933,\n",
       "  0.61305506501086,\n",
       "  0.5686999561252826,\n",
       "  0.4639040004388562,\n",
       "  0.3979690815672951,\n",
       "  0.3397686409268612,\n",
       "  0.3857032535474403,\n",
       "  0.41267700335881896,\n",
       "  0.4284496135873482,\n",
       "  0.47647032250982363,\n",
       "  0.5756636548189533,\n",
       "  0.6198221956411156,\n",
       "  0.6235361343963781,\n",
       "  0.5298025197489112,\n",
       "  0.5110643635135264,\n",
       "  0.5389392537011755,\n",
       "  0.5746584201657126,\n",
       "  0.4835262497976435,\n",
       "  0.47550551472790614,\n",
       "  0.5094256746322877,\n",
       "  0.5453891062937092,\n",
       "  0.5852787338816238,\n",
       "  0.4992734821772,\n",
       "  0.37454116545215016,\n",
       "  0.36610544690292157,\n",
       "  0.32867603664872863,\n",
       "  0.3296730853249174,\n",
       "  0.2570917897852675,\n",
       "  0.18268711153577014,\n",
       "  0.23844198148831425,\n",
       "  0.27707734177019183,\n",
       "  0.3554238357779599,\n",
       "  0.41555719418920667,\n",
       "  0.46004922602695003,\n",
       "  0.47194397297313706,\n",
       "  0.53284394350059,\n",
       "  0.5556441435267281,\n",
       "  0.5251134915045167,\n",
       "  0.5475482330888944,\n",
       "  0.5018312424633894,\n",
       "  0.4894826717785647,\n",
       "  0.6081564253473115,\n",
       "  0.6538879337468575,\n",
       "  0.5860022921821406,\n",
       "  0.5902552562275182,\n",
       "  0.5281310136678486,\n",
       "  0.6347188466448607,\n",
       "  0.5657589196998225,\n",
       "  0.5527393377786393,\n",
       "  0.4556151238190936,\n",
       "  0.5400005054761976,\n",
       "  0.5292693928070229,\n",
       "  0.5009423109078277,\n",
       "  0.4986182172654598,\n",
       "  0.5715277582102176,\n",
       "  0.5734413252532187,\n",
       "  0.6733038788560819,\n",
       "  0.6498329090006231,\n",
       "  0.743809370915327,\n",
       "  0.7241073977558184,\n",
       "  0.6569002145075505,\n",
       "  0.5646203091887203,\n",
       "  0.537144692756151,\n",
       "  0.5124390095331229,\n",
       "  0.4419249413030318,\n",
       "  0.3526133718812313,\n",
       "  0.46478923154941015,\n",
       "  0.5184484640345758,\n",
       "  0.5743588908403413,\n",
       "  0.5495807765569369,\n",
       "  0.5757970517920566,\n",
       "  0.6044718046246759,\n",
       "  0.6517998405351196,\n",
       "  0.5625545921884744,\n",
       "  0.4839426584883851,\n",
       "  0.4089624544073258,\n",
       "  0.423971196123771,\n",
       "  0.3618842269762038,\n",
       "  0.3786405061127045,\n",
       "  0.33101353269595507,\n",
       "  0.33333843252327455,\n",
       "  0.316240578449464,\n",
       "  0.3306292230866621,\n",
       "  0.27529695521748077,\n",
       "  0.33418988360130203,\n",
       "  0.3095032666708949,\n",
       "  0.3578976268305206,\n",
       "  0.39468355244575537,\n",
       "  0.40829005806586277,\n",
       "  0.39148265203109756,\n",
       "  0.42999533359836695,\n",
       "  0.38313322482294815,\n",
       "  0.41899640757665974,\n",
       "  0.42431566525106174,\n",
       "  0.43489683777467053,\n",
       "  0.5060243086125594,\n",
       "  0.539009666058258,\n",
       "  0.5342054533195861,\n",
       "  0.5310522058945243,\n",
       "  0.4705125619942262,\n",
       "  0.466788158747887,\n",
       "  0.4487730592949996,\n",
       "  0.4738469957728247,\n",
       "  0.5708944112979959,\n",
       "  0.5394877131193943,\n",
       "  0.5634288971280793,\n",
       "  0.5381625054598845,\n",
       "  0.4894918276471069,\n",
       "  0.4825324383202808,\n",
       "  0.4783159489546578,\n",
       "  0.36999611280031613,\n",
       "  0.44011075499053226,\n",
       "  0.47390995409524056,\n",
       "  0.511567766734369,\n",
       "  0.6002828490736428,\n",
       "  0.648468479543124,\n",
       "  0.5762099440861351,\n",
       "  0.6536120772504178,\n",
       "  0.6493821140758472,\n",
       "  0.6081775762851835,\n",
       "  0.6859597344391412,\n",
       "  0.7151093639410746,\n",
       "  0.7309790345808295,\n",
       "  0.7594959436479696,\n",
       "  0.6844949768334934,\n",
       "  0.615091732876645,\n",
       "  0.5612404305431709,\n",
       "  0.5202747463552836,\n",
       "  0.5004384240052963,\n",
       "  0.37073191031634295,\n",
       "  0.3865038762291891,\n",
       "  0.4637720716807655,\n",
       "  0.4776843715492553,\n",
       "  0.5201753880902208,\n",
       "  0.4623583598664181,\n",
       "  0.45837922212649834,\n",
       "  0.45674714586855014,\n",
       "  0.4995449462315059,\n",
       "  0.5125150133858145,\n",
       "  0.552581726818005,\n",
       "  0.5172203611542577,\n",
       "  0.6240867523058659,\n",
       "  0.656878564790162,\n",
       "  0.6709382036022937,\n",
       "  0.6415862310548018,\n",
       "  0.6464415346399237,\n",
       "  0.6509085138301869,\n",
       "  0.7127487312258467,\n",
       "  0.6459195658004295,\n",
       "  0.6409008464786947,\n",
       "  0.7597696135036677,\n",
       "  0.7035690510043046,\n",
       "  0.6979662898981379,\n",
       "  0.6655668949076455,\n",
       "  0.5890449595171517,\n",
       "  0.5719604659089735,\n",
       "  0.45796364765324704,\n",
       "  0.449060395039879,\n",
       "  0.5314990760718745,\n",
       "  0.4338526763012342,\n",
       "  0.4578180319878803,\n",
       "  0.4925994432772101,\n",
       "  0.46297412244071373,\n",
       "  0.4871377567231387,\n",
       "  0.3927565583199878,\n",
       "  0.3627783770550754,\n",
       "  0.3463244089905283,\n",
       "  0.2876329265256748,\n",
       "  0.2919970654415825,\n",
       "  0.27813201431073703,\n",
       "  0.32556788198583186,\n",
       "  0.3766266201998113,\n",
       "  0.3888774115845409,\n",
       "  0.41781982011756075,\n",
       "  0.43138309292163285,\n",
       "  0.44617828729774883,\n",
       "  0.48220557645875756,\n",
       "  0.47623579001096866,\n",
       "  0.4255578887068979,\n",
       "  0.40387143180733986,\n",
       "  0.4873692750477424,\n",
       "  0.5622082759909165,\n",
       "  0.6238192301047877,\n",
       "  0.66269798819235,\n",
       "  0.6491367305389295,\n",
       "  0.7355389405887343,\n",
       "  0.7477589739135089,\n",
       "  0.7162523897733707,\n",
       "  0.6554812132880075,\n",
       "  0.556971404171395,\n",
       "  0.4945088620154376,\n",
       "  0.5397574062360472,\n",
       "  0.43438223919776453,\n",
       "  0.4312676461732879,\n",
       "  0.42765942622773234,\n",
       "  0.5107578468020273,\n",
       "  0.5789033059619743,\n",
       "  0.7025291025113864,\n",
       "  0.6066783773066048,\n",
       "  0.661292654921065,\n",
       "  0.6363373767035522,\n",
       "  0.6029037149241703,\n",
       "  0.5369161662699089,\n",
       "  0.4791666096627885,\n",
       "  0.41557720777298707,\n",
       "  0.39618445134571306,\n",
       "  0.3878905739572191,\n",
       "  0.37031541061061973,\n",
       "  0.36939365788329653,\n",
       "  0.35458940922473126,\n",
       "  0.41548491602025195,\n",
       "  0.43763047496473184,\n",
       "  0.5078382485279919,\n",
       "  0.5371745213465282,\n",
       "  0.5268896739339216,\n",
       "  0.5124775113932742,\n",
       "  0.45597364143341934,\n",
       "  0.3837642043530524,\n",
       "  0.371585820746032,\n",
       "  0.4272092207716015,\n",
       "  0.4531739362210797,\n",
       "  0.47223136422396245,\n",
       "  0.5841033777400693,\n",
       "  0.6494898514532474,\n",
       "  0.7290573135328785,\n",
       "  0.7020289053282084,\n",
       "  0.6824528602807849,\n",
       "  0.7050486375999495,\n",
       "  0.6756738353852042,\n",
       "  0.5590016468371838,\n",
       "  0.5816377518168778,\n",
       "  0.5382609938464772,\n",
       "  0.531183378232789,\n",
       "  0.4253103245696918,\n",
       "  0.33982046033928076,\n",
       "  0.3570394431586642,\n",
       "  0.39060219266224055,\n",
       "  0.42506099269793907,\n",
       "  0.432699827941953,\n",
       "  0.48618679372309787,\n",
       "  0.613956783657392,\n",
       "  0.6653297582238682,\n",
       "  0.6748772696240662,\n",
       "  0.7235224508452845,\n",
       "  0.6919667496335292,\n",
       "  0.701154950716559,\n",
       "  0.6862756030359142,\n",
       "  0.6161455749432546,\n",
       "  0.5990725131878903,\n",
       "  0.619219721622259,\n",
       "  0.6465553815154207,\n",
       "  0.6668579936405006,\n",
       "  0.6950755124887505,\n",
       "  0.7147647169821675,\n",
       "  0.7730971294111012,\n",
       "  0.7696971813314758,\n",
       "  0.7290854066801982,\n",
       "  0.6330090207915066,\n",
       "  0.6223727838906503,\n",
       "  0.626326213635236,\n",
       "  0.5944329233009942,\n",
       "  0.4996820811533473,\n",
       "  0.5321839226486641,\n",
       "  0.5514829212950617,\n",
       "  0.5804142598607829,\n",
       "  0.4857525502580528,\n",
       "  0.43380095711189653,\n",
       "  0.4624439439193018,\n",
       "  0.501090778803336,\n",
       "  0.4328339257163537,\n",
       "  0.45744827714312286,\n",
       "  0.3935395284459657,\n",
       "  0.4595074623215261,\n",
       "  0.5217712012847436,\n",
       "  0.5140140479252808,\n",
       "  0.5110606075126342,\n",
       "  0.5587364536133356,\n",
       "  0.5513293651014937,\n",
       "  0.578350508542134,\n",
       "  0.5355711847928786,\n",
       "  0.526985212530937,\n",
       "  0.4667883008548162,\n",
       "  0.42006845074808996,\n",
       "  0.440321215648485,\n",
       "  0.4286360511142714,\n",
       "  0.4513958760414693,\n",
       "  0.4947973890990092,\n",
       "  0.4734688746207567,\n",
       "  0.45910950286103774,\n",
       "  0.5417069629648086,\n",
       "  0.5249583069367535,\n",
       "  0.5666448321298841,\n",
       "  0.552580898944625,\n",
       "  0.5666019573062766,\n",
       "  0.4945145558808817,\n",
       "  0.5505847081283014,\n",
       "  0.4819127043700684,\n",
       "  0.49281707958170273,\n",
       "  0.5002048539705773,\n",
       "  0.5087595577769187,\n",
       "  0.4534241622267472,\n",
       "  0.5579490963242236,\n",
       "  0.5787556162716501,\n",
       "  0.6746741377453305,\n",
       "  0.5662122591819203,\n",
       "  0.5708801801822452,\n",
       "  0.6127099659789749,\n",
       "  0.6261686220401284,\n",
       "  0.5501653657310678,\n",
       "  0.5580086057667114,\n",
       "  0.5496685105790424,\n",
       "  0.5724351381853313,\n",
       "  0.5333627372832178,\n",
       "  0.46810237536957783,\n",
       "  0.5618910435115698,\n",
       "  0.5635783197134877,\n",
       "  0.5852286070995246,\n",
       "  0.5770623055074989,\n",
       "  0.6365421678238098,\n",
       "  0.5845561001105108,\n",
       "  0.6361222137394716,\n",
       "  0.516917915225468,\n",
       "  0.47327812050160506,\n",
       "  0.4450788006490872,\n",
       "  0.3926276468700381,\n",
       "  0.41335856216875566,\n",
       "  0.41028850110716636,\n",
       "  0.4376550467371501,\n",
       "  0.5204917874171204,\n",
       "  0.5444057713905086,\n",
       "  0.45735372391107737,\n",
       "  0.4624848791758896,\n",
       "  0.4254827632959902,\n",
       "  0.40540856483656496,\n",
       "  0.32949472455842427,\n",
       "  0.23476131404681042,\n",
       "  0.27647812697574375,\n",
       "  0.38826251118892585,\n",
       "  0.3624839305849955,\n",
       "  0.2971056356634932,\n",
       "  0.3833841184808358,\n",
       "  0.4731197325411071,\n",
       "  0.6029452373865941,\n",
       "  0.605183149567831,\n",
       "  0.5271212984649711,\n",
       "  0.6158799880465473,\n",
       "  0.6277876550945906,\n",
       "  0.6261752756332254,\n",
       "  0.5233638885563613,\n",
       "  0.44273305431114834,\n",
       "  0.4258536149652164,\n",
       "  0.43091805887670853,\n",
       "  0.33530791041582625,\n",
       "  0.35154365432855555,\n",
       "  0.3697598056585938,\n",
       "  0.42223765645014427,\n",
       "  0.44798437040816014,\n",
       "  0.40753924701015737,\n",
       "  0.4556879306893276,\n",
       "  0.47876217073829685,\n",
       "  0.5304623528645559,\n",
       "  0.5432247907639732,\n",
       "  0.6191987342059015,\n",
       "  0.5429537632901352,\n",
       "  0.6266017196204968,\n",
       "  0.6469806862739754,\n",
       "  0.645474568853967,\n",
       "  0.6154072886391209,\n",
       "  0.5683739596220521,\n",
       "  0.5575806484912983,\n",
       "  0.6081107406377121,\n",
       "  0.6199089487583864,\n",
       "  0.6057621920217141,\n",
       "  0.5818619980930027,\n",
       "  0.6576523258618214,\n",
       "  0.5769276534209097,\n",
       "  0.4664045132889329,\n",
       "  0.504244887510168,\n",
       "  0.3866862472052367,\n",
       "  0.33253329827238065,\n",
       "  0.32934840953248173,\n",
       "  0.26494974574525415,\n",
       "  0.3827782159116327,\n",
       "  0.4914790875262486,\n",
       "  0.40157314858841964,\n",
       "  0.40210630144984433,\n",
       "  0.46798260854857837,\n",
       "  0.45553059779553234,\n",
       "  0.4284878822552594,\n",
       "  0.3252673642464359,\n",
       "  0.20883212933327983,\n",
       "  0.20771116496227288,\n",
       "  0.2900913443902711,\n",
       "  0.2763756633294903,\n",
       "  0.3683694623727853,\n",
       "  0.4500883919223398,\n",
       "  0.5280283163231764,\n",
       "  0.5706946335686407,\n",
       "  0.6569003669959514,\n",
       "  0.704340623525073,\n",
       "  0.6896247756798438,\n",
       "  0.6262419696131943,\n",
       "  0.5140364444405845,\n",
       "  0.552914988903642,\n",
       "  0.5815997847063369,\n",
       "  0.5413928874055365,\n",
       "  0.4893583075901548,\n",
       "  0.4777374880244721,\n",
       "  0.5176060649808171,\n",
       "  0.5176947144550313,\n",
       "  0.43456065054589416,\n",
       "  0.40915415406665734,\n",
       "  0.38769038235214726,\n",
       "  0.4269407368617867,\n",
       "  0.4074924770499804,\n",
       "  0.4275230331379659,\n",
       "  0.5207718627688858,\n",
       "  0.576494078182653,\n",
       "  0.6205605450359598,\n",
       "  0.6995377108974258,\n",
       "  0.6097484913148911,\n",
       "  0.6886461912166151,\n",
       "  0.6155924895568171,\n",
       "  0.6448926246501607,\n",
       "  0.6607905839265975,\n",
       "  0.6795118696790645,\n",
       "  0.5795979772788409,\n",
       "  0.5566890328921459,\n",
       "  0.5333536222549209,\n",
       "  0.5788046326379678,\n",
       "  0.5004626035006284,\n",
       "  0.5190509887894562,\n",
       "  0.40304436651940945,\n",
       "  0.4714234806577053,\n",
       "  0.5217280081872493,\n",
       "  0.4238919111581572,\n",
       "  0.4133235449182714,\n",
       "  0.46152271830006797,\n",
       "  0.4468981664390753,\n",
       "  0.44468413446389005,\n",
       "  0.44369049229210217,\n",
       "  0.39326575213275233,\n",
       "  0.48929294272223195,\n",
       "  0.4450925165294772,\n",
       "  0.3488847902732824,\n",
       "  0.27773058925540817,\n",
       "  0.37887151254725915,\n",
       "  0.34868538889645323,\n",
       "  0.35434657527042307,\n",
       "  0.35351497026044265,\n",
       "  0.45653412775451124,\n",
       "  0.5739150531481446,\n",
       "  0.5624162347462545,\n",
       "  0.518448261390922,\n",
       "  0.5087601615633229,\n",
       "  0.5697848177581026,\n",
       "  0.5034326670016135,\n",
       "  0.43653894615358974,\n",
       "  0.4262191775303275,\n",
       "  0.5194408470697797,\n",
       "  0.5421994125294634,\n",
       "  0.5220991176531353,\n",
       "  0.5357273233200074,\n",
       "  0.5526565448997691,\n",
       "  0.6454232907665255,\n",
       "  0.6362461588719899,\n",
       "  0.6188875797958451,\n",
       "  0.6356227142174814,\n",
       "  0.6971842964555434,\n",
       "  0.7320762191903311,\n",
       "  0.7867912687417496,\n",
       "  0.6872620302543233,\n",
       "  0.6069263731217662,\n",
       "  0.5405786248761214,\n",
       "  0.5148345409310319,\n",
       "  0.45222898150878,\n",
       "  0.3734519664555993,\n",
       "  0.33677890924188086,\n",
       "  0.30138587080438406,\n",
       "  0.39537398241849003,\n",
       "  0.43548329340357333,\n",
       "  0.40585079326317025,\n",
       "  0.4345566348952474,\n",
       "  0.4355904712283845,\n",
       "  0.3999309043702649,\n",
       "  0.5006364984283938,\n",
       "  0.4557948099930256,\n",
       "  0.43793928879538957,\n",
       "  0.41438304984984003,\n",
       "  0.5023969100159197,\n",
       "  0.49853359399942165,\n",
       "  0.49885870202557425,\n",
       "  0.4017633252740143,\n",
       "  0.470099714456949,\n",
       "  0.46346677795829655,\n",
       "  0.5726279548601976,\n",
       "  0.5745135605858771,\n",
       "  0.6665391626581639,\n",
       "  0.7362627105643498,\n",
       "  0.8586337227777042,\n",
       "  0.8504734001917417,\n",
       "  0.8964262339570169,\n",
       "  0.7852400166367967,\n",
       "  0.7275392280351334,\n",
       "  0.6712323522959631,\n",
       "  0.6964992437609124,\n",
       "  0.676285718728761,\n",
       "  0.6449467034437463,\n",
       "  0.6371297546834969,\n",
       "  0.6695578329750387,\n",
       "  0.7293580951970925,\n",
       "  0.7390576489986753,\n",
       "  0.6547829462192266,\n",
       "  0.6091576644094203,\n",
       "  0.64870605164596,\n",
       "  0.6180602460155455,\n",
       "  0.5903773562714043,\n",
       "  0.47695470431338044,\n",
       "  0.48320346246231166,\n",
       "  0.506089308517312,\n",
       "  0.5692656919301541,\n",
       "  0.45567218003567395,\n",
       "  0.43838366807786416,\n",
       "  0.5184069084723628,\n",
       "  0.5043711998678254,\n",
       "  0.42036837271464506,\n",
       "  0.4179301399307881,\n",
       "  0.32634770498906246,\n",
       "  0.31525302672976213,\n",
       "  0.29390856312547525,\n",
       "  0.28022011585388135,\n",
       "  0.3482590305570377,\n",
       "  0.3452982239792299,\n",
       "  0.2777415874253287,\n",
       "  0.3612984124572253,\n",
       "  0.437912893065415,\n",
       "  0.4252942773154076,\n",
       "  0.4581075601169096,\n",
       "  0.3860321239051352,\n",
       "  0.42740469988307245,\n",
       "  0.5380930272343496,\n",
       "  0.5180432302252812,\n",
       "  0.46668800812533756,\n",
       "  0.5692471847330965,\n",
       "  0.531567746718476,\n",
       "  0.6520883089803519,\n",
       "  0.7270438206431508,\n",
       "  0.6667315835480849,\n",
       "  0.6617775728312678,\n",
       "  0.6990238455364308,\n",
       "  0.7066600945895259,\n",
       "  0.73524334338844,\n",
       "  0.715289797858335,\n",
       "  0.7040382265155394,\n",
       "  0.7858547800785348,\n",
       "  0.7259920440408953,\n",
       "  0.6769759463160927,\n",
       "  0.6486970285427726,\n",
       "  0.6447215667985304,\n",
       "  0.6145023235481464,\n",
       "  0.5677942434135107,\n",
       "  0.48287754601306637,\n",
       "  0.5723255095730748,\n",
       "  0.6573066877141421,\n",
       "  0.634137371249489,\n",
       "  0.5298211674968071,\n",
       "  0.5779437098608614,\n",
       "  0.5738548332834889,\n",
       "  0.5432858986732979,\n",
       "  0.45995123365788065,\n",
       "  0.4449658905505095,\n",
       "  0.36223867342459065,\n",
       "  0.3736566109907589,\n",
       "  0.295301188507385,\n",
       "  0.3565494281560796,\n",
       "  0.43613512976115054,\n",
       "  0.5320547655259508,\n",
       "  0.510868231745948,\n",
       "  0.5917912530678187,\n",
       "  0.653410132995558,\n",
       "  0.6852635011277413,\n",
       "  0.6359562462616497,\n",
       "  0.646200119358905,\n",
       "  0.6437111206534326,\n",
       "  0.6244642677847666,\n",
       "  0.6327495556453003,\n",
       "  0.597947070036688,\n",
       "  0.5659875232743099,\n",
       "  0.5608842060567355,\n",
       "  0.5276985071276655,\n",
       "  0.47007361174088924,\n",
       "  0.5512563165767883,\n",
       "  0.4845428873042776,\n",
       "  0.5315293166518902,\n",
       "  0.6304751198399271,\n",
       "  0.6633062535476091,\n",
       "  0.6603978043490085,\n",
       "  0.634450473721268,\n",
       "  0.5523874994758502,\n",
       "  0.6628949072669627,\n",
       "  0.6998471982078941,\n",
       "  0.6534393811104098,\n",
       "  0.676669753297616,\n",
       "  0.7279919155061962,\n",
       "  0.7962748322052802,\n",
       "  0.7936001621000871,\n",
       "  0.7261489549869975,\n",
       "  0.711945676937731,\n",
       "  0.6695109256075279,\n",
       "  0.6481703423020182,\n",
       "  0.584778446793469,\n",
       "  0.5119495519224645,\n",
       "  0.5223398511986789,\n",
       "  0.4726462531451454,\n",
       "  0.4095875749387223,\n",
       "  0.4156677750493362,\n",
       "  0.31121059904386783,\n",
       "  0.2670182551419371,\n",
       "  0.2561170754230799,\n",
       "  0.3135078954703271,\n",
       "  0.38108899272239044,\n",
       "  0.37146729995947725,\n",
       "  0.4546861951400548,\n",
       "  0.4889371984736082,\n",
       "  0.5377535360944203,\n",
       "  0.6062230701136818,\n",
       "  0.5824282861920956,\n",
       "  0.5601319357957204,\n",
       "  0.6301109051955017,\n",
       "  0.5569776779691008,\n",
       "  0.6223411733302314,\n",
       "  0.6191394881890656,\n",
       "  0.6522787595645501,\n",
       "  0.6558301023833802,\n",
       "  0.6069550384366839,\n",
       "  0.5144511004559054,\n",
       "  0.5831254848690743,\n",
       "  0.5136631002668006,\n",
       "  0.4472001727996573,\n",
       "  0.3445900389493044,\n",
       "  0.3108196271147379,\n",
       "  0.4337898165184923,\n",
       "  0.4723126416356042,\n",
       "  0.43759704029974633,\n",
       "  0.5240447755080517,\n",
       "  0.5330484853228781,\n",
       "  0.5842868005550862,\n",
       "  0.6580007005721527,\n",
       "  0.600490330044439,\n",
       "  0.619826940834482,\n",
       "  0.565997933834325,\n",
       "  0.5819612015274548,\n",
       "  0.7077379474368571,\n",
       "  0.6350633608977853,\n",
       "  0.5717847184181307,\n",
       "  0.5532180414615371,\n",
       "  0.5728123247775464,\n",
       "  0.5402329101758064,\n",
       "  0.4429798952121163,\n",
       "  0.34428762947697816,\n",
       "  0.3980794995160406,\n",
       "  0.43242935298174173,\n",
       "  0.49503196473292105,\n",
       "  0.5114287474643976,\n",
       "  0.5911659186216832,\n",
       "  0.5657171281968795,\n",
       "  0.5815690845311071,\n",
       "  0.6085674678085192,\n",
       "  0.5372767459341505,\n",
       "  0.487272586647837,\n",
       "  0.5042232611932431,\n",
       "  0.42413043296400244,\n",
       "  0.5336567038184689,\n",
       "  0.4931013608135623,\n",
       "  0.45276747688765495,\n",
       "  0.5400734229188985,\n",
       "  0.49627080358635733,\n",
       "  0.4413656985921442,\n",
       "  0.48428669796698703,\n",
       "  0.48915393072389807,\n",
       "  0.615758934144249,\n",
       "  0.6017915236216508,\n",
       "  0.5428039720466821,\n",
       "  0.6419189846786508,\n",
       "  0.6453551346072957,\n",
       "  0.6165009784766738,\n",
       "  0.5981745540827725,\n",
       "  0.5046066402315587,\n",
       "  0.532804041816806,\n",
       "  0.46367337965240935,\n",
       "  0.47709650735373427,\n",
       "  0.4931660339343899,\n",
       "  0.5947643064032295,\n",
       "  0.6246247306378879,\n",
       "  0.6146882140074414,\n",
       "  0.6224827288621115,\n",
       "  0.6841526325812047,\n",
       "  0.6514223716373813,\n",
       "  0.6778657006160133,\n",
       "  0.5782581740229477,\n",
       "  0.47909808559615424,\n",
       "  0.5417734948172825,\n",
       "  0.565448576399115,\n",
       "  0.6034500498030342,\n",
       "  0.5957938111940744],\n",
       " [0.3370592988119128,\n",
       "  0.3720733899981725,\n",
       "  0.42954324873265715,\n",
       "  0.5022498161796695,\n",
       "  0.497749298697651,\n",
       "  0.48596965785427376,\n",
       "  0.48467314307456694,\n",
       "  0.44789452628883786,\n",
       "  0.5042513103686735,\n",
       "  0.44943697328635906,\n",
       "  0.4489809876492549,\n",
       "  0.4567528831623682,\n",
       "  0.39453497984402813,\n",
       "  0.48913621415288233,\n",
       "  0.5861451009406021,\n",
       "  0.4966811986199002,\n",
       "  0.4514232867408344,\n",
       "  0.4268824412225627,\n",
       "  0.5309983422700515,\n",
       "  0.5238669026737639,\n",
       "  0.4677623876504119,\n",
       "  0.48924620479621894,\n",
       "  0.3874428816874351,\n",
       "  0.3119166826498297,\n",
       "  0.35717197271838735,\n",
       "  0.40943490387265286,\n",
       "  0.3751762347019947,\n",
       "  0.29647816567560287,\n",
       "  0.27843114341443354,\n",
       "  0.30543159548189136,\n",
       "  0.29072771092719896,\n",
       "  0.2898887017817591,\n",
       "  0.3583205139361521,\n",
       "  0.37149459493635895,\n",
       "  0.3877703862197584,\n",
       "  0.3825283657349967,\n",
       "  0.46715912913889457,\n",
       "  0.5383997393008504,\n",
       "  0.500764905308414,\n",
       "  0.5055330798383744,\n",
       "  0.5833102689847477,\n",
       "  0.569267357210604,\n",
       "  0.6114880532269402,\n",
       "  0.5870227906746035,\n",
       "  0.6585927270501156,\n",
       "  0.6227885219654496,\n",
       "  0.5609465199807416,\n",
       "  0.612801036240492,\n",
       "  0.6738881268484617,\n",
       "  0.6877451280534667,\n",
       "  0.6648664670406134,\n",
       "  0.6262622082831792,\n",
       "  0.5831976338598377,\n",
       "  0.5179425538896978,\n",
       "  0.5320646295719457,\n",
       "  0.5443919060572632,\n",
       "  0.4983282166612067,\n",
       "  0.461252634500795,\n",
       "  0.445346339349386,\n",
       "  0.46414656267413346,\n",
       "  0.4403355362873655,\n",
       "  0.4852728473866123,\n",
       "  0.5147935712429361,\n",
       "  0.5126867231813631,\n",
       "  0.5245338807716265,\n",
       "  0.5490058467033125,\n",
       "  0.5424385977115465,\n",
       "  0.4676090645894661,\n",
       "  0.39749811568437715,\n",
       "  0.43401801214017677,\n",
       "  0.4944875773918558,\n",
       "  0.5039050487396419,\n",
       "  0.4611447233371717,\n",
       "  0.4221903654752313,\n",
       "  0.4342996391940377,\n",
       "  0.489008874424735,\n",
       "  0.5713364495207232,\n",
       "  0.6264620226421955,\n",
       "  0.6438962104551637,\n",
       "  0.5604504783166459,\n",
       "  0.5516269152952658,\n",
       "  0.6137233266164165,\n",
       "  0.6589950611659189,\n",
       "  0.654205413774495,\n",
       "  0.5750057293192604,\n",
       "  0.5502805259454212,\n",
       "  0.5966692851688042,\n",
       "  0.5017158796721203,\n",
       "  0.5629913357334952,\n",
       "  0.597070696704367,\n",
       "  0.5897053847663378,\n",
       "  0.6077841185476704,\n",
       "  0.6466739150989829,\n",
       "  0.6743848935524919,\n",
       "  0.6758695108093952,\n",
       "  0.6168666661680534,\n",
       "  0.6224682403980919,\n",
       "  0.6320632317937864,\n",
       "  0.6042313897883306,\n",
       "  0.5279713719384567,\n",
       "  0.501773267004642,\n",
       "  0.4657494015996702,\n",
       "  0.4477618106021095,\n",
       "  0.42384181662875137,\n",
       "  0.4363293850787174,\n",
       "  0.4993700689983579,\n",
       "  0.4707525478434785,\n",
       "  0.4583244885349612,\n",
       "  0.43922844008014994,\n",
       "  0.4086600582855012,\n",
       "  0.37446963014226214,\n",
       "  0.3997663975015383,\n",
       "  0.45698094659433497,\n",
       "  0.4858654071320663,\n",
       "  0.5051551971140653,\n",
       "  0.5278201866449503,\n",
       "  0.5052809910880149,\n",
       "  0.5956998631091542,\n",
       "  0.6449785846826747,\n",
       "  0.6345366823343762,\n",
       "  0.5714511000385004,\n",
       "  0.4774012238242213,\n",
       "  0.4726398721214183,\n",
       "  0.41180227912341005,\n",
       "  0.33325241876048434,\n",
       "  0.37430886810105884,\n",
       "  0.31905087163688095,\n",
       "  0.25198441086934104,\n",
       "  0.26047234274600206,\n",
       "  0.3172156504051636,\n",
       "  0.3342806472160097,\n",
       "  0.28065038739006326,\n",
       "  0.3319871320047133,\n",
       "  0.3703441323104138,\n",
       "  0.33669965255873036,\n",
       "  0.3510716692335953,\n",
       "  0.3459738024670552,\n",
       "  0.37118842247456885,\n",
       "  0.3593593424924648,\n",
       "  0.36156982677345195,\n",
       "  0.3433306329542001,\n",
       "  0.36424491886206095,\n",
       "  0.37040206896017336,\n",
       "  0.3578564274228894,\n",
       "  0.37250949696330465,\n",
       "  0.4606656181572935,\n",
       "  0.420027951907051,\n",
       "  0.3752441565313532,\n",
       "  0.37062442715891236,\n",
       "  0.4384104027496209,\n",
       "  0.3562336352244748,\n",
       "  0.37784359599373324,\n",
       "  0.429964129629864,\n",
       "  0.4231922989126294,\n",
       "  0.3569211966509394,\n",
       "  0.4630074643518945,\n",
       "  0.5496681684494896,\n",
       "  0.5907945880661614,\n",
       "  0.535723511120037,\n",
       "  0.5899767139499872,\n",
       "  0.5555647563951314,\n",
       "  0.5441947750074768,\n",
       "  0.5193662912037236,\n",
       "  0.5649605260091314,\n",
       "  0.46309281471897673,\n",
       "  0.40762560270973924,\n",
       "  0.45777046862101656,\n",
       "  0.5302525201752931,\n",
       "  0.4922392093124031,\n",
       "  0.5437521422566541,\n",
       "  0.5142541049861072,\n",
       "  0.5829255075183469,\n",
       "  0.5954693138956552,\n",
       "  0.6351789968466033,\n",
       "  0.6300403471418057,\n",
       "  0.5234377862876702,\n",
       "  0.52379152561808,\n",
       "  0.4939615156475615,\n",
       "  0.48961703834269915,\n",
       "  0.5620434269902197,\n",
       "  0.5210425534468749,\n",
       "  0.4574508841702746,\n",
       "  0.5076296399113821,\n",
       "  0.5877870992313662,\n",
       "  0.6650696414387443,\n",
       "  0.6239758467575269,\n",
       "  0.6617594360625298,\n",
       "  0.6092612998347327,\n",
       "  0.5252124811807202,\n",
       "  0.5367538638475737,\n",
       "  0.5658019778389736,\n",
       "  0.49095059790010637,\n",
       "  0.3943560408647535,\n",
       "  0.39012652819237703,\n",
       "  0.3664819645262949,\n",
       "  0.3800187520699831,\n",
       "  0.37762039321591356,\n",
       "  0.451604809896897,\n",
       "  0.47666317160666544,\n",
       "  0.43056793411112715,\n",
       "  0.43131619705063495,\n",
       "  0.45612913952338524,\n",
       "  0.4918060494844234,\n",
       "  0.5458757942228928,\n",
       "  0.528019763735574,\n",
       "  0.515540223902776,\n",
       "  0.4936328419361325,\n",
       "  0.4867464864382639,\n",
       "  0.5883125406886145,\n",
       "  0.6042010743941767,\n",
       "  0.6658291296575319,\n",
       "  0.6325025145714909,\n",
       "  0.599368997558504,\n",
       "  0.6711926177779335,\n",
       "  0.6735937998324029,\n",
       "  0.6792615905565705,\n",
       "  0.5955926083635172,\n",
       "  0.5108711272413795,\n",
       "  0.5738864570988516,\n",
       "  0.499505900712736,\n",
       "  0.5075065674419341,\n",
       "  0.5203632460552402,\n",
       "  0.5043214644863576,\n",
       "  0.5191511938790923,\n",
       "  0.47635342151917176,\n",
       "  0.49930176118524394,\n",
       "  0.5768268369399681,\n",
       "  0.5427151419825951,\n",
       "  0.6250861711137912,\n",
       "  0.6393249402249603,\n",
       "  0.587673512143094,\n",
       "  0.5554555430723565,\n",
       "  0.5261407651400192,\n",
       "  0.49267993887278827,\n",
       "  0.4684552868084787,\n",
       "  0.4683162350062198,\n",
       "  0.488775559432166,\n",
       "  0.47479761657626857,\n",
       "  0.41409010095400417,\n",
       "  0.4674056626388468,\n",
       "  0.4930426768125733,\n",
       "  0.5234609691263259,\n",
       "  0.582532494348783,\n",
       "  0.5992570114506073,\n",
       "  0.5120986675601431,\n",
       "  0.4541661335886442,\n",
       "  0.4610841509648877,\n",
       "  0.4859229697564003,\n",
       "  0.5203542108174489,\n",
       "  0.48433928386283687,\n",
       "  0.4731329657816492,\n",
       "  0.497158869999572,\n",
       "  0.5642759904325677,\n",
       "  0.5565691551141535,\n",
       "  0.6014233768966196,\n",
       "  0.5126361540923097,\n",
       "  0.4627090057798353,\n",
       "  0.45826376892107834,\n",
       "  0.4118475775709583,\n",
       "  0.40767542187760397,\n",
       "  0.4300247368826822,\n",
       "  0.3848297847476309,\n",
       "  0.39629383320380934,\n",
       "  0.340401810807965,\n",
       "  0.35703927330589,\n",
       "  0.4269174864291212,\n",
       "  0.34000349482986003,\n",
       "  0.43675248165087877,\n",
       "  0.4521573600594028,\n",
       "  0.45016908649520043,\n",
       "  0.5044145465752498,\n",
       "  0.524244035948169,\n",
       "  0.5338025580125908,\n",
       "  0.5599792036653045,\n",
       "  0.4884372844890205,\n",
       "  0.5494612904338103,\n",
       "  0.45266748989318484,\n",
       "  0.41180403222367884,\n",
       "  0.4131728755594848,\n",
       "  0.34498700132595217,\n",
       "  0.3786033411303848,\n",
       "  0.4004293854180483,\n",
       "  0.382237248206566,\n",
       "  0.3781078755506986,\n",
       "  0.40714585529253455,\n",
       "  0.5105006401174691,\n",
       "  0.6170884571150022,\n",
       "  0.5202860886234942,\n",
       "  0.5113575786220699,\n",
       "  0.5137171604913049,\n",
       "  0.5726180884090802,\n",
       "  0.5981327924552788,\n",
       "  0.6676022388997308,\n",
       "  0.6396513957563318,\n",
       "  0.560681697424724,\n",
       "  0.5131045594710012,\n",
       "  0.5348777603249592,\n",
       "  0.5383430854415141,\n",
       "  0.4787388504828731,\n",
       "  0.40105372133560624,\n",
       "  0.4499941124172382,\n",
       "  0.42329549380452514,\n",
       "  0.4222039499864498,\n",
       "  0.46491284869936056,\n",
       "  0.5092608775144755,\n",
       "  0.518500592328521,\n",
       "  0.5252120477470121,\n",
       "  0.5525312310029395,\n",
       "  0.5565255002608203,\n",
       "  0.5413875056615773,\n",
       "  0.5908983951047223,\n",
       "  0.5520982612335941,\n",
       "  0.5177501862759184,\n",
       "  0.47369361871293897,\n",
       "  0.494638828177179,\n",
       "  0.5267697443049002,\n",
       "  0.5176426986613575,\n",
       "  0.48471368550142974,\n",
       "  0.41767196705717424,\n",
       "  0.32643055465159754,\n",
       "  0.35403004634526314,\n",
       "  0.3247614865551267,\n",
       "  0.27263975078538655,\n",
       "  0.2789060460349392,\n",
       "  0.24500149163698262,\n",
       "  0.3057889087466542,\n",
       "  0.35833191033597483,\n",
       "  0.4270974301083963,\n",
       "  0.4361921036963333,\n",
       "  0.4306615293664653,\n",
       "  0.5111134322782974,\n",
       "  0.5113331205015634,\n",
       "  0.5462048822137722,\n",
       "  0.5331404997640173,\n",
       "  0.5313654136644222,\n",
       "  0.5859915057081927,\n",
       "  0.581424968704171,\n",
       "  0.5998254583297444,\n",
       "  0.5559863637336186,\n",
       "  0.5248057812124215,\n",
       "  0.6183891093176181,\n",
       "  0.5455292810284775,\n",
       "  0.6255866909533869,\n",
       "  0.5550835425134714,\n",
       "  0.5468152984299893,\n",
       "  0.4590608318915251,\n",
       "  0.458648017999067,\n",
       "  0.5471158567915728,\n",
       "  0.5792823045614308,\n",
       "  0.5779263965376652,\n",
       "  0.6387296218572288,\n",
       "  0.6223325204915323,\n",
       "  0.6832119129663733,\n",
       "  0.6018422675498832,\n",
       "  0.646384273669761,\n",
       "  0.6288096365576807,\n",
       "  0.607891433030425,\n",
       "  0.5927717062194885,\n",
       "  0.520041999641387,\n",
       "  0.43378596309704504,\n",
       "  0.4579194073100511,\n",
       "  0.47110356831806566,\n",
       "  0.5123385756234208,\n",
       "  0.5244207590688368,\n",
       "  0.6014647282443055,\n",
       "  0.5724075310946841,\n",
       "  0.5421777205430424,\n",
       "  0.5517424691098397,\n",
       "  0.5732485690125187,\n",
       "  0.4689177489573553,\n",
       "  0.4509384395826552,\n",
       "  0.43620665634997635,\n",
       "  0.43945398741583663,\n",
       "  0.35179053902385227,\n",
       "  0.3408609574754165,\n",
       "  0.31225803183478656,\n",
       "  0.2885313507670567,\n",
       "  0.28865844814972963,\n",
       "  0.37805021238973563,\n",
       "  0.35042337561915515,\n",
       "  0.34868985002165426,\n",
       "  0.3533388824011227,\n",
       "  0.3723619960113814,\n",
       "  0.33375463260647464,\n",
       "  0.3771343688210985,\n",
       "  0.4188866581846248,\n",
       "  0.46218961634296096,\n",
       "  0.4187876801936896,\n",
       "  0.45086721548183717,\n",
       "  0.48757163739741155,\n",
       "  0.44600827652730984,\n",
       "  0.47506856512955004,\n",
       "  0.5274407556339566,\n",
       "  0.4937030162064071,\n",
       "  0.48385262880197527,\n",
       "  0.47402683348499036,\n",
       "  0.5260960055810051,\n",
       "  0.551784167045452,\n",
       "  0.501095657523755,\n",
       "  0.5464334909104843,\n",
       "  0.49678072342663904,\n",
       "  0.4515278901650951,\n",
       "  0.48337562618303287,\n",
       "  0.5350620646307157,\n",
       "  0.4905132086606982,\n",
       "  0.47485635913752744,\n",
       "  0.47100113530834126,\n",
       "  0.47506520957161946,\n",
       "  0.4801920750116445,\n",
       "  0.5691691615811081,\n",
       "  0.6025094885277378,\n",
       "  0.6235751500508047,\n",
       "  0.6079078208984525,\n",
       "  0.6562533846854605,\n",
       "  0.666281082476093,\n",
       "  0.6677916160028488,\n",
       "  0.739822369906133,\n",
       "  0.7263418954188808,\n",
       "  0.6515957590544253,\n",
       "  0.6381492121799602,\n",
       "  0.5844087705798241,\n",
       "  0.5658642409156547,\n",
       "  0.5839944975629363,\n",
       "  0.49464517336617875,\n",
       "  0.4707598494207475,\n",
       "  0.4437681212432644,\n",
       "  0.4189624338809602,\n",
       "  0.45660464600172307,\n",
       "  0.44707161746325597,\n",
       "  0.5039913354610799,\n",
       "  0.4452348174320526,\n",
       "  0.47006492226335517,\n",
       "  0.5540438680750756,\n",
       "  0.5481340954500392,\n",
       "  0.4981755378144393,\n",
       "  0.5609401358295087,\n",
       "  0.610316028449923,\n",
       "  0.6074635847821781,\n",
       "  0.6125592625409245,\n",
       "  0.7015839482305883,\n",
       "  0.6658613146934577,\n",
       "  0.6539128739122421,\n",
       "  0.6335362328158389,\n",
       "  0.7065119614800408,\n",
       "  0.7129946990471351,\n",
       "  0.6488740851519244,\n",
       "  0.7226057931273561,\n",
       "  0.6845129421345583,\n",
       "  0.6092710932611972,\n",
       "  0.572132195543784,\n",
       "  0.5083457853680188,\n",
       "  0.5598820106778181,\n",
       "  0.5637838192799531,\n",
       "  0.469114841969908,\n",
       "  0.49337326067733944,\n",
       "  0.44954132366714233,\n",
       "  0.4145600391806149,\n",
       "  0.42908462763934185,\n",
       "  0.4205011936641624,\n",
       "  0.4897508310369306,\n",
       "  0.3892090750426352,\n",
       "  0.3036995888080731,\n",
       "  0.3392091818874132,\n",
       "  0.27480424765394795,\n",
       "  0.299171191079381,\n",
       "  0.3533420252545716,\n",
       "  0.41332611815135456,\n",
       "  0.4087027231074141,\n",
       "  0.35705881225983993,\n",
       "  0.41687330945969586,\n",
       "  0.4261385309352345,\n",
       "  0.44246797685557027,\n",
       "  0.4680065942293634,\n",
       "  0.4742288791236386,\n",
       "  0.4948358991002494,\n",
       "  0.491871706798132,\n",
       "  0.5770950727830946,\n",
       "  0.6060501161457924,\n",
       "  0.600324543820933,\n",
       "  0.6650436552193454,\n",
       "  0.6854135777145033,\n",
       "  0.7209316221519505,\n",
       "  0.6875682035053178,\n",
       "  0.6312300621014909,\n",
       "  0.5533950163870867,\n",
       "  0.534943125256357,\n",
       "  0.48746473933466766,\n",
       "  0.5159598454301154,\n",
       "  0.481469777648949,\n",
       "  0.503233993529721,\n",
       "  0.5244029969148492,\n",
       "  0.5899878191163814,\n",
       "  0.5736041043615201,\n",
       "  0.6171854671501555,\n",
       "  0.591077600238175,\n",
       "  0.6125420365472648,\n",
       "  0.5854050647159819,\n",
       "  0.5644641395865596,\n",
       "  0.5159584332049056,\n",
       "  0.43148943965998365,\n",
       "  0.3724666116080253,\n",
       "  0.4072397372524088,\n",
       "  0.3855094832956671,\n",
       "  0.36626775667689887,\n",
       "  0.4186939626612897,\n",
       "  0.4387362288564347,\n",
       "  0.45378960322180856,\n",
       "  0.46704229994300167,\n",
       "  0.5088993548210154,\n",
       "  0.48241043463482114,\n",
       "  0.4328908250946319,\n",
       "  0.4298710543599886,\n",
       "  0.45195566003966875,\n",
       "  0.4629085069173027,\n",
       "  0.4791316586979389,\n",
       "  0.4812051114734371,\n",
       "  0.5189106562742419,\n",
       "  0.5282465187207741,\n",
       "  0.5983220115796807,\n",
       "  0.6433319764022823,\n",
       "  0.6952219059722058,\n",
       "  0.738491627362097,\n",
       "  0.674455367284017,\n",
       "  0.6012210978645453,\n",
       "  0.613340375737486,\n",
       "  0.5626668241068868,\n",
       "  0.5513158305641481,\n",
       "  0.45897424788972735,\n",
       "  0.4567739479262643,\n",
       "  0.42135604285570083,\n",
       "  0.3566516406907716,\n",
       "  0.4184192758696132,\n",
       "  0.4644320760772629,\n",
       "  0.4770761964912082,\n",
       "  0.5178487510759944,\n",
       "  0.5611100212526592,\n",
       "  0.6154636667868809,\n",
       "  0.6550865221954412,\n",
       "  0.6789182920167304,\n",
       "  0.7059731101195107,\n",
       "  0.6802431156429667,\n",
       "  0.6605287765214511,\n",
       "  0.6489100252808312,\n",
       "  0.6195570629817776,\n",
       "  0.6404842291999819,\n",
       "  0.672681077362846,\n",
       "  0.6838477136199843,\n",
       "  0.6979748680252408,\n",
       "  0.716483804394984,\n",
       "  0.713793475066268,\n",
       "  0.7073991543327336,\n",
       "  0.6668792906694612,\n",
       "  0.6751334591271504,\n",
       "  0.6681139163798407,\n",
       "  0.6416442577611803,\n",
       "  0.564511135578559,\n",
       "  0.5717861905846542,\n",
       "  0.5350325480202586,\n",
       "  0.5196592406367001,\n",
       "  0.48587457079881513,\n",
       "  0.5131743112956995,\n",
       "  0.5172551600056869,\n",
       "  0.4671057973759703,\n",
       "  0.446098081352156,\n",
       "  0.5021840337900839,\n",
       "  0.4118247118123792,\n",
       "  0.4143381027082873,\n",
       "  0.46756304351433564,\n",
       "  0.5392363248579755,\n",
       "  0.5271966365765439,\n",
       "  0.5209922555586267,\n",
       "  0.5412584897997621,\n",
       "  0.5250042762324305,\n",
       "  0.4751003642136529,\n",
       "  0.57135413113598,\n",
       "  0.5448991992727567,\n",
       "  0.4480944972702577,\n",
       "  0.4636756082322299,\n",
       "  0.47715050148992444,\n",
       "  0.4415171603432012,\n",
       "  0.43113104954505393,\n",
       "  0.48977952697490884,\n",
       "  0.4854290022146582,\n",
       "  0.4595447476077133,\n",
       "  0.5089189462959589,\n",
       "  0.5911543536757643,\n",
       "  0.52883024735131,\n",
       "  0.5384378654721691,\n",
       "  0.5233162779611186,\n",
       "  0.5288191392374411,\n",
       "  0.4661121707460669,\n",
       "  0.5351359504120317,\n",
       "  0.55887493556914,\n",
       "  0.5162312202269942,\n",
       "  0.45037734443639593,\n",
       "  0.5274915425896952,\n",
       "  0.5382719850993981,\n",
       "  0.6062362899739715,\n",
       "  0.5472907123426242,\n",
       "  0.6280718612008331,\n",
       "  0.609481242980428,\n",
       "  0.5483491640460466,\n",
       "  0.5596960598873666,\n",
       "  0.619615441186037,\n",
       "  0.5997958343943861,\n",
       "  0.5423747849421541,\n",
       "  0.5181629941747454,\n",
       "  0.5331735555708286,\n",
       "  0.5413576133021881,\n",
       "  0.5214825572364323,\n",
       "  0.5877732073433451,\n",
       "  0.6207156764427213,\n",
       "  0.6034564443198972,\n",
       "  0.5452977860325542,\n",
       "  0.5827079476684932,\n",
       "  0.5285671961461605,\n",
       "  0.5255081367835646,\n",
       "  0.49691924067252546,\n",
       "  0.4877540420089271,\n",
       "  0.46977974270707684,\n",
       "  0.41558482705451777,\n",
       "  0.4280179646010913,\n",
       "  0.47873939738463467,\n",
       "  0.45417312606770427,\n",
       "  0.45059153631688825,\n",
       "  0.47935929875559286,\n",
       "  0.45453838032133465,\n",
       "  0.42552554102848306,\n",
       "  0.36279053534861133,\n",
       "  0.3422182518932468,\n",
       "  0.3288132995866105,\n",
       "  0.3477465436949592,\n",
       "  0.3378645336846382,\n",
       "  0.32990097835099136,\n",
       "  0.36400272715455234,\n",
       "  0.39984151142814667,\n",
       "  0.49585788609882503,\n",
       "  0.5432376301494823,\n",
       "  0.5751376426868618,\n",
       "  0.6018437589619299,\n",
       "  0.5161983124998417,\n",
       "  0.5690959955253978,\n",
       "  0.5758201525670441,\n",
       "  0.5420181695224016,\n",
       "  0.506475094257123,\n",
       "  0.441338726068062,\n",
       "  0.3919407951770373,\n",
       "  0.37963792261596296,\n",
       "  0.377669187001434,\n",
       "  0.41594793139914144,\n",
       "  0.4034252432362396,\n",
       "  0.41638926194340875,\n",
       "  0.45141474102886825,\n",
       "  0.43309189411165533,\n",
       "  0.4570612623842886,\n",
       "  0.5393823161611038,\n",
       "  0.6241241046370773,\n",
       "  0.5381316547274385,\n",
       "  0.5753390888536831,\n",
       "  0.6061896533689467,\n",
       "  0.6181526999901741,\n",
       "  0.5812874296785724,\n",
       "  0.6090803741818023,\n",
       "  0.6452161123467657,\n",
       "  0.5885985046292354,\n",
       "  0.5758914779500602,\n",
       "  0.655040653493508,\n",
       "  0.583355138802123,\n",
       "  0.5895875938024526,\n",
       "  0.5557661066227576,\n",
       "  0.529325064852175,\n",
       "  0.5387203374311033,\n",
       "  0.4429736102831234,\n",
       "  0.4407026427649169,\n",
       "  0.35736360829308594,\n",
       "  0.32451124669853937,\n",
       "  0.4009231649261366,\n",
       "  0.40007921281339626,\n",
       "  0.40233350033916665,\n",
       "  0.3929638899638322,\n",
       "  0.41249864801701386,\n",
       "  0.41090921430776045,\n",
       "  0.3991425897963339,\n",
       "  0.3977490185925453,\n",
       "  0.3564321778263051,\n",
       "  0.26617023848966453,\n",
       "  0.2363289786358497,\n",
       "  0.3151228261489577,\n",
       "  0.384669450581159,\n",
       "  0.38522486575370385,\n",
       "  0.4541361330029352,\n",
       "  0.467037428847824,\n",
       "  0.5241070184059544,\n",
       "  0.6217244741183555,\n",
       "  0.6899445233737351,\n",
       "  0.6461199368656548,\n",
       "  0.5700721399512214,\n",
       "  0.5976715425269348,\n",
       "  0.5693240676798217,\n",
       "  0.5345016848033457,\n",
       "  0.5584628872461997,\n",
       "  0.5505956175070288,\n",
       "  0.5008819468867892,\n",
       "  0.43634875899858966,\n",
       "  0.44858607214125673,\n",
       "  0.48774895294454496,\n",
       "  0.4059936574855164,\n",
       "  0.43817251670043844,\n",
       "  0.4464508538971519,\n",
       "  0.45278784453508675,\n",
       "  0.4698199393553559,\n",
       "  0.4943878601871291,\n",
       "  0.5677557100630449,\n",
       "  0.6120869266478188,\n",
       "  0.5941903345601758,\n",
       "  0.6805275941250712,\n",
       "  0.5995169855201106,\n",
       "  0.6544644985999407,\n",
       "  0.675818177467176,\n",
       "  0.6912201598820729,\n",
       "  0.6145010703892981,\n",
       "  0.544512491781654,\n",
       "  0.5512733029586786,\n",
       "  0.5754495398825035,\n",
       "  0.5080994859319511,\n",
       "  0.6007303435370064,\n",
       "  0.5031159591137107,\n",
       "  0.46721554562460427,\n",
       "  0.4217917106213531,\n",
       "  0.4301685848648135,\n",
       "  0.46394304923615665,\n",
       "  0.45223100507817665,\n",
       "  0.4981364253823122,\n",
       "  0.4597327054184697,\n",
       "  0.4086018261266622,\n",
       "  0.41418612165395313,\n",
       "  0.44406705535944535,\n",
       "  0.4043376668356673,\n",
       "  0.3938921332788296,\n",
       "  0.3926752376445297,\n",
       "  0.3954484342773962,\n",
       "  0.33221411026017833,\n",
       "  0.3439235756145899,\n",
       "  0.3739305382237102,\n",
       "  0.4535464034303687,\n",
       "  0.45970933027676175,\n",
       "  0.48392701847980074,\n",
       "  0.5273311340355602,\n",
       "  0.5119037776107787,\n",
       "  0.49241170188969047,\n",
       "  0.4942895323055016,\n",
       "  0.517473803006165,\n",
       "  0.5162570470422277,\n",
       "  0.5328544668361208,\n",
       "  0.5026634135543637,\n",
       "  0.480546019871686,\n",
       "  0.5058509722789791,\n",
       "  0.5284311637894042,\n",
       "  0.5763037264571605,\n",
       "  0.619556429608076,\n",
       "  0.6746811818912082,\n",
       "  0.6655328309777055,\n",
       "  0.618790924949502,\n",
       "  0.6535329330152096,\n",
       "  0.7343028368583264,\n",
       "  0.6941640540727395,\n",
       "  0.6617662960029627,\n",
       "  0.5931353306431162,\n",
       "  0.5711015725791827,\n",
       "  0.48916757072622935,\n",
       "  0.4496223514226346,\n",
       "  0.45398753569214445,\n",
       "  0.35918267199478066,\n",
       "  0.3573306288626497,\n",
       "  0.397307424203644,\n",
       "  0.41470945491138583,\n",
       "  0.40670602296332725,\n",
       "  0.3879880749872423,\n",
       "  0.41331125347329944,\n",
       "  0.45810397464028746,\n",
       "  0.44989855166909565,\n",
       "  0.5035156381966482,\n",
       "  0.42949428513576904,\n",
       "  0.4587499469951522,\n",
       "  0.4600746977821044,\n",
       "  0.46332397235244255,\n",
       "  0.4317939722313329,\n",
       "  0.5044742928476276,\n",
       "  0.474605855608795,\n",
       "  0.5203645089213472,\n",
       "  0.5649743806099758,\n",
       "  0.6561961188552453,\n",
       "  0.6452195950012216,\n",
       "  0.711871850169997,\n",
       "  0.7779523914213133,\n",
       "  0.8593436734733525,\n",
       "  0.7654736328390066,\n",
       "  0.7703640640030713,\n",
       "  0.7328884279719518,\n",
       "  0.7400973485818045,\n",
       "  0.7194525048915725,\n",
       "  0.7069288303275106,\n",
       "  0.6870628094000801,\n",
       "  0.6247615250037932,\n",
       "  0.640422178300908,\n",
       "  0.6969688086978575,\n",
       "  0.6835091293916549,\n",
       "  0.671172192090928,\n",
       "  0.6697563475714364,\n",
       "  0.6417763306231348,\n",
       "  0.5823186994253051,\n",
       "  0.5158415835685952,\n",
       "  0.552026520521292,\n",
       "  0.5098556286407143,\n",
       "  0.5391117810376338,\n",
       "  0.514892418317562,\n",
       "  0.5089521112541466,\n",
       "  0.48097492140139625,\n",
       "  0.4274167698981462,\n",
       "  0.41979731108825696,\n",
       "  0.4639476341209203,\n",
       "  0.41711285855844005,\n",
       "  0.36646419914946765,\n",
       "  0.2947854555171741,\n",
       "  0.34451220481555755,\n",
       "  0.35731982960417,\n",
       "  0.28515722314915365,\n",
       "  0.28768015777675626,\n",
       "  0.37116955613600244,\n",
       "  0.3820063404763997,\n",
       "  0.37174390065988694,\n",
       "  0.45562128633889454,\n",
       "  0.42897148798834994,\n",
       "  0.39963412183852454,\n",
       "  0.43532882185911,\n",
       "  0.5055267832162645,\n",
       "  0.5289646676875176,\n",
       "  0.5334818346522314,\n",
       "  0.5284639502912754,\n",
       "  0.6053668459499733,\n",
       "  0.6088067689144898,\n",
       "  0.6536506238036265,\n",
       "  0.6878167955093054,\n",
       "  0.6541330819224697,\n",
       "  0.6801838402688661,\n",
       "  0.7373403221625773,\n",
       "  0.718955545047381,\n",
       "  0.7429504754233168,\n",
       "  0.7576912124355465,\n",
       "  0.6869987470408847,\n",
       "  0.6621009196309202,\n",
       "  0.6700100836000363,\n",
       "  0.6951052164775434,\n",
       "  0.6472772786818636,\n",
       "  0.6127122865539274,\n",
       "  0.5769261276670042,\n",
       "  0.5845555227523013,\n",
       "  0.5621190700141705,\n",
       "  0.5985675603178314,\n",
       "  0.580651499618099,\n",
       "  0.5922469197070438,\n",
       "  0.5575937160422283,\n",
       "  0.5215355749865664,\n",
       "  0.5006776262757,\n",
       "  0.5326322268766264,\n",
       "  0.43516668775789935,\n",
       "  0.3600347732776898,\n",
       "  0.32870766646318517,\n",
       "  0.422826807666107,\n",
       "  0.4112400126867914,\n",
       "  0.46816646246428156,\n",
       "  0.5074184859331319,\n",
       "  0.53770892507674,\n",
       "  0.522158072957172,\n",
       "  0.5799491991211913,\n",
       "  0.626837635099022,\n",
       "  0.6841614033490847,\n",
       "  0.6915144455177784,\n",
       "  0.6538967043959443,\n",
       "  0.6160270951695674,\n",
       "  0.5898860582944142,\n",
       "  0.5598796315040179,\n",
       "  0.5548730252577158,\n",
       "  0.561610852460137,\n",
       "  0.562494618668298,\n",
       "  0.5800515244542981,\n",
       "  0.49222958034244674,\n",
       "  0.517603318524399,\n",
       "  0.5581106258776164,\n",
       "  0.6057079457662099,\n",
       "  0.6350410710737915,\n",
       "  0.6197128268518233,\n",
       "  0.5992540740584418,\n",
       "  0.6422016990849484,\n",
       "  0.6331740042374814,\n",
       "  0.6894745655046081,\n",
       "  0.7185949520462189,\n",
       "  0.7108874677031118,\n",
       "  0.7231328324744564,\n",
       "  0.7028559078648363,\n",
       "  0.7135227400694046,\n",
       "  0.7572748089300554,\n",
       "  0.6946203575472699,\n",
       "  0.6784018418972042,\n",
       "  0.6574845187899357,\n",
       "  0.5950171202937831,\n",
       "  0.542904302292323,\n",
       "  0.46181162302263307,\n",
       "  0.4585983522489937,\n",
       "  0.4531349953735334,\n",
       "  0.3667190035353107,\n",
       "  0.3444346639833651,\n",
       "  0.2900868016101643,\n",
       "  0.33191609570765696,\n",
       "  0.3600311880892421,\n",
       "  0.34125303461850354,\n",
       "  0.439166061369574,\n",
       "  0.4284353773957775,\n",
       "  0.43939025590731945,\n",
       "  0.5195409457755752,\n",
       "  0.5772350087466691,\n",
       "  0.5964871906012958,\n",
       "  0.587499819960306,\n",
       "  0.5759683721170153,\n",
       "  0.6235595011285864,\n",
       "  0.5672983727232167,\n",
       "  0.6465843821796411,\n",
       "  0.6690723380825269,\n",
       "  0.5970564992969641,\n",
       "  0.5346286754988246,\n",
       "  0.5938522436185127,\n",
       "  0.5329889861840411,\n",
       "  0.4819158687025385,\n",
       "  0.4305557221055867,\n",
       "  0.42926800169138307,\n",
       "  0.4271206547055858,\n",
       "  0.3918928726949989,\n",
       "  0.46212935617867257,\n",
       "  0.5404507334468216,\n",
       "  0.4429670912777192,\n",
       "  0.48548526677425335,\n",
       "  0.5932239677366573,\n",
       "  0.6261542144462461,\n",
       "  0.632231894477022,\n",
       "  0.5649578918687644,\n",
       "  0.6257329466960386,\n",
       "  0.6530766857176943,\n",
       "  0.5718330554107127,\n",
       "  0.6233521490329649,\n",
       "  0.6019896240401522,\n",
       "  0.565974268858995,\n",
       "  0.5180910097487169,\n",
       "  0.48818524454530976,\n",
       "  0.48063533788420254,\n",
       "  0.4288139538462795,\n",
       "  0.40922324223454176,\n",
       "  0.49307631591192447,\n",
       "  0.5190307358949803,\n",
       "  0.5476060253177195,\n",
       "  0.48266675831590206,\n",
       "  0.512785695716103,\n",
       "  0.5576042880879265,\n",
       "  0.5593258883678982,\n",
       "  0.5624487170144328,\n",
       "  0.5748704422817037,\n",
       "  0.49246038949744964,\n",
       "  0.4999551688135131,\n",
       "  0.4365132618653421,\n",
       "  0.4697545592918629,\n",
       "  0.527051484891736,\n",
       "  0.47510686706386224,\n",
       "  0.5002729610156986,\n",
       "  0.49013803163456626,\n",
       "  0.48823457844846696,\n",
       "  0.5855576516722005,\n",
       "  0.522748308027671,\n",
       "  0.5657090714063846,\n",
       "  0.622224706456859,\n",
       "  0.582158736773341,\n",
       "  0.5836503898825902,\n",
       "  0.6101970216078445,\n",
       "  0.6013620512113117,\n",
       "  0.556698394433266,\n",
       "  0.4474203068016204,\n",
       "  0.5252396938040351,\n",
       "  0.5435514515748916,\n",
       "  0.5469745290017071,\n",
       "  0.594073374076083,\n",
       "  0.5999521232907976,\n",
       "  0.5756047525949742,\n",
       "  0.587067189740234,\n",
       "  0.6174983947755935,\n",
       "  0.7101454789910282,\n",
       "  0.6256558252999841,\n",
       "  0.5831316364796774,\n",
       "  0.5587370476128389,\n",
       "  0.5295788548537064,\n",
       "  0.5783263953590283,\n",
       "  0.5967403477004536,\n",
       "  0.6262970492368352],\n",
       " [0.3288535452916686,\n",
       "  0.3758743388017015,\n",
       "  0.43536153034925723,\n",
       "  0.4316792887730603,\n",
       "  0.4220414008102969,\n",
       "  0.48580511533824855,\n",
       "  0.5129326447739442,\n",
       "  0.5051914034576452,\n",
       "  0.43594880658259944,\n",
       "  0.45325045824763405,\n",
       "  0.47380545327025597,\n",
       "  0.4537391947685936,\n",
       "  0.48043716957142624,\n",
       "  0.49068299743287813,\n",
       "  0.48493121527463434,\n",
       "  0.48466743204476664,\n",
       "  0.457908101942369,\n",
       "  0.5039428378399561,\n",
       "  0.4692995792245261,\n",
       "  0.48879897411357176,\n",
       "  0.48668346334338236,\n",
       "  0.4237289865464811,\n",
       "  0.423086208819443,\n",
       "  0.37696047228277485,\n",
       "  0.3400863617164445,\n",
       "  0.35849494964590084,\n",
       "  0.37716955696840293,\n",
       "  0.34783942647242044,\n",
       "  0.3042443631050771,\n",
       "  0.2959332155507383,\n",
       "  0.2781959708357652,\n",
       "  0.31596518902484294,\n",
       "  0.3639118740318944,\n",
       "  0.4021484828191135,\n",
       "  0.3792410893867631,\n",
       "  0.42439846854987356,\n",
       "  0.4813859302351205,\n",
       "  0.4713880591682862,\n",
       "  0.4817438908066899,\n",
       "  0.505551249156284,\n",
       "  0.5438612632567198,\n",
       "  0.6270386161234062,\n",
       "  0.589268527423301,\n",
       "  0.6141395611162004,\n",
       "  0.6166860341599846,\n",
       "  0.6273644200725481,\n",
       "  0.5905496195241384,\n",
       "  0.5925980260729173,\n",
       "  0.6585350677658725,\n",
       "  0.6742249436949153,\n",
       "  0.662181111913032,\n",
       "  0.6006660264999467,\n",
       "  0.5376023343857294,\n",
       "  0.5717202659850827,\n",
       "  0.5339273847147598,\n",
       "  0.4887184606388488,\n",
       "  0.5110303015893248,\n",
       "  0.5215266794004223,\n",
       "  0.5026182093704649,\n",
       "  0.45975508228622197,\n",
       "  0.45372579223758225,\n",
       "  0.44640072226189403,\n",
       "  0.5140295208845126,\n",
       "  0.5393202885272469,\n",
       "  0.5025794564736036,\n",
       "  0.5094321402155566,\n",
       "  0.4963928277053617,\n",
       "  0.4504554212479412,\n",
       "  0.45048645093323253,\n",
       "  0.4785502588248095,\n",
       "  0.4984121415410293,\n",
       "  0.4942883284804248,\n",
       "  0.4635540292627611,\n",
       "  0.43844456957488265,\n",
       "  0.4803662259317363,\n",
       "  0.5146633209196068,\n",
       "  0.5192018598275631,\n",
       "  0.5947213884597123,\n",
       "  0.6118749191603021,\n",
       "  0.5946376077588295,\n",
       "  0.5918448505732473,\n",
       "  0.5904458576115331,\n",
       "  0.596403316296329,\n",
       "  0.60539697816776,\n",
       "  0.6095567737161932,\n",
       "  0.6072876504363471,\n",
       "  0.5377591040381282,\n",
       "  0.5599443571440929,\n",
       "  0.5563258237809049,\n",
       "  0.6157806831229952,\n",
       "  0.6363926602725916,\n",
       "  0.6233628886911561,\n",
       "  0.6179886592113196,\n",
       "  0.6272819440174752,\n",
       "  0.6415375078580869,\n",
       "  0.5968217794994043,\n",
       "  0.5889030407463509,\n",
       "  0.6402021502396225,\n",
       "  0.5871279854725091,\n",
       "  0.5584220359728165,\n",
       "  0.5219443570093371,\n",
       "  0.4870613163467698,\n",
       "  0.44496477254183114,\n",
       "  0.4467648191068168,\n",
       "  0.4524131452903738,\n",
       "  0.46935512575351707,\n",
       "  0.505902716897061,\n",
       "  0.42935406497953393,\n",
       "  0.39840912837959247,\n",
       "  0.3963520228124505,\n",
       "  0.40360115038968497,\n",
       "  0.43779058208292054,\n",
       "  0.4779404889949632,\n",
       "  0.5189422747783579,\n",
       "  0.5442112361258894,\n",
       "  0.5107389258795076,\n",
       "  0.5315836865605413,\n",
       "  0.5511261161368125,\n",
       "  0.5561496755659084,\n",
       "  0.5367938209148663,\n",
       "  0.522007340549978,\n",
       "  0.5375642409566832,\n",
       "  0.4819779104839648,\n",
       "  0.41934606382186784,\n",
       "  0.4036828385052296,\n",
       "  0.36077242882666644,\n",
       "  0.3438834595942611,\n",
       "  0.28187261345060216,\n",
       "  0.2686241474150845,\n",
       "  0.2763433118167691,\n",
       "  0.2996363851534164,\n",
       "  0.36300274444982183,\n",
       "  0.335649549431046,\n",
       "  0.34223523495230995,\n",
       "  0.37535181557739355,\n",
       "  0.32070022407553084,\n",
       "  0.3245306095905286,\n",
       "  0.3564763641976403,\n",
       "  0.3590594351119553,\n",
       "  0.32100318905717357,\n",
       "  0.3875189667056819,\n",
       "  0.40908274344295426,\n",
       "  0.36340102211263586,\n",
       "  0.3771234775661224,\n",
       "  0.422126923201628,\n",
       "  0.38094938632335595,\n",
       "  0.3804248357047931,\n",
       "  0.3585979843991455,\n",
       "  0.38568132926757404,\n",
       "  0.38315299180197326,\n",
       "  0.43732062229348134,\n",
       "  0.4171712854681113,\n",
       "  0.4203154838908592,\n",
       "  0.42136173438821434,\n",
       "  0.4549931778231114,\n",
       "  0.4532451041256808,\n",
       "  0.49831614125659945,\n",
       "  0.5169826193855882,\n",
       "  0.5626230446310345,\n",
       "  0.5331741843670808,\n",
       "  0.5709576725632947,\n",
       "  0.5361067799717604,\n",
       "  0.5318133314257967,\n",
       "  0.48763905439194094,\n",
       "  0.4947305272646988,\n",
       "  0.49403132656769944,\n",
       "  0.5010970889794274,\n",
       "  0.48198682565068673,\n",
       "  0.5397430643879494,\n",
       "  0.5090028106837565,\n",
       "  0.5584928490725731,\n",
       "  0.5737652268797608,\n",
       "  0.582394904463388,\n",
       "  0.5479776536459778,\n",
       "  0.543404485123903,\n",
       "  0.5961419349953425,\n",
       "  0.511597682308769,\n",
       "  0.5064958519794633,\n",
       "  0.5661153524201518,\n",
       "  0.5399122764100265,\n",
       "  0.5272898643940797,\n",
       "  0.5207891946031441,\n",
       "  0.5416922052842869,\n",
       "  0.5678604670629275,\n",
       "  0.5911800710445688,\n",
       "  0.6247699412154724,\n",
       "  0.5764256672476338,\n",
       "  0.5916843242200087,\n",
       "  0.5784787700049239,\n",
       "  0.5303650423612419,\n",
       "  0.49616850370124266,\n",
       "  0.4900691516706788,\n",
       "  0.47172155747465044,\n",
       "  0.41011223355860144,\n",
       "  0.39154648627739513,\n",
       "  0.3748621143499502,\n",
       "  0.4197396300844908,\n",
       "  0.46998939236377796,\n",
       "  0.4529285947588477,\n",
       "  0.4099013217764745,\n",
       "  0.4003368294124702,\n",
       "  0.47242147240727345,\n",
       "  0.5340829408516244,\n",
       "  0.5043682244491019,\n",
       "  0.4968188720216165,\n",
       "  0.5126966127022494,\n",
       "  0.5592743777275193,\n",
       "  0.5647803744975258,\n",
       "  0.5142505149662565,\n",
       "  0.5928232621322558,\n",
       "  0.6370284594697919,\n",
       "  0.6512791883349035,\n",
       "  0.6511390530528827,\n",
       "  0.6013154220657612,\n",
       "  0.636439925555792,\n",
       "  0.6247717831953984,\n",
       "  0.5788844261109097,\n",
       "  0.5855468545976464,\n",
       "  0.5201632839701734,\n",
       "  0.5579147719634115,\n",
       "  0.5322616472057558,\n",
       "  0.5462636484377738,\n",
       "  0.5356826736007878,\n",
       "  0.4770260377077142,\n",
       "  0.4821692061204503,\n",
       "  0.49507417315187113,\n",
       "  0.5422834730132554,\n",
       "  0.6136119562294193,\n",
       "  0.6114553490665916,\n",
       "  0.6043987838305941,\n",
       "  0.5854946284990284,\n",
       "  0.5404097346701524,\n",
       "  0.4675011531147938,\n",
       "  0.4406907366990392,\n",
       "  0.48849829327763766,\n",
       "  0.5336711261243733,\n",
       "  0.5301335032045744,\n",
       "  0.5062166791341083,\n",
       "  0.47538745871473065,\n",
       "  0.4658091402525299,\n",
       "  0.48787219947461485,\n",
       "  0.48965502234096087,\n",
       "  0.5005131200440659,\n",
       "  0.5043863440218371,\n",
       "  0.5219800007626905,\n",
       "  0.5242163435343936,\n",
       "  0.5038827421266636,\n",
       "  0.5126610358211509,\n",
       "  0.5232857444506656,\n",
       "  0.49255817477327124,\n",
       "  0.4930228167666871,\n",
       "  0.5339072283855365,\n",
       "  0.48314361192077676,\n",
       "  0.5237524815821551,\n",
       "  0.52465610524253,\n",
       "  0.5108723648285474,\n",
       "  0.5103534505125796,\n",
       "  0.4626786053898495,\n",
       "  0.40036643836794356,\n",
       "  0.4485836419647424,\n",
       "  0.46165917117588506,\n",
       "  0.4006176727242437,\n",
       "  0.3405826982529348,\n",
       "  0.36140438376304174,\n",
       "  0.3680948180824124,\n",
       "  0.3691085474796662,\n",
       "  0.4414414492843395,\n",
       "  0.3953702856629363,\n",
       "  0.4799376038118496,\n",
       "  0.5408093641103225,\n",
       "  0.47770619014146026,\n",
       "  0.4624695127424474,\n",
       "  0.4953287777769924,\n",
       "  0.48921475109418516,\n",
       "  0.526544743311601,\n",
       "  0.46250963393675515,\n",
       "  0.45411617989424274,\n",
       "  0.4606451988279817,\n",
       "  0.4531245251465901,\n",
       "  0.41915239847933833,\n",
       "  0.377390744522919,\n",
       "  0.3791414059884081,\n",
       "  0.3618281927162734,\n",
       "  0.40149927646115274,\n",
       "  0.4805614703600312,\n",
       "  0.5094474980879451,\n",
       "  0.515969506880053,\n",
       "  0.5345774267452736,\n",
       "  0.5014159043326457,\n",
       "  0.5636343612272965,\n",
       "  0.5587564116178668,\n",
       "  0.5804241637467409,\n",
       "  0.6121108517291428,\n",
       "  0.6299400518933247,\n",
       "  0.5961409833248724,\n",
       "  0.5359144234134541,\n",
       "  0.4701493953760561,\n",
       "  0.46742270949031933,\n",
       "  0.47338575072019,\n",
       "  0.5066193722845397,\n",
       "  0.4582511317975595,\n",
       "  0.46816907152737364,\n",
       "  0.4641032780930217,\n",
       "  0.4894578320360809,\n",
       "  0.5014026101529243,\n",
       "  0.48005552214733777,\n",
       "  0.48186645822684865,\n",
       "  0.48826227193598587,\n",
       "  0.5578773628852975,\n",
       "  0.6135785921541089,\n",
       "  0.5517088296498467,\n",
       "  0.5413843901150709,\n",
       "  0.5315857428122993,\n",
       "  0.5257238660893213,\n",
       "  0.4943809586122308,\n",
       "  0.48116454522644214,\n",
       "  0.4551272482805093,\n",
       "  0.4475379651114896,\n",
       "  0.42531909120110856,\n",
       "  0.3984163629364987,\n",
       "  0.32363601039267437,\n",
       "  0.3029378706274023,\n",
       "  0.3303059331648837,\n",
       "  0.3072692182773574,\n",
       "  0.3266509747832855,\n",
       "  0.3173144750332067,\n",
       "  0.3734554726590668,\n",
       "  0.38561961517875704,\n",
       "  0.4090441866441003,\n",
       "  0.47474018299633786,\n",
       "  0.4316403858461934,\n",
       "  0.5114868932492299,\n",
       "  0.5204061947144191,\n",
       "  0.533208639207408,\n",
       "  0.5963063047278331,\n",
       "  0.5989758853515806,\n",
       "  0.5832052453554777,\n",
       "  0.5144987687011005,\n",
       "  0.5472422827822281,\n",
       "  0.5852356785335004,\n",
       "  0.5396453149539227,\n",
       "  0.6138863887204565,\n",
       "  0.5404729976344348,\n",
       "  0.6074947763636284,\n",
       "  0.5398175911737557,\n",
       "  0.4790151190480112,\n",
       "  0.4864276771362473,\n",
       "  0.5304342478808807,\n",
       "  0.6031866144640841,\n",
       "  0.6328557300269467,\n",
       "  0.617112816044568,\n",
       "  0.6531224237654406,\n",
       "  0.5880675208516709,\n",
       "  0.6145181893925382,\n",
       "  0.5461013956979406,\n",
       "  0.6081981689771655,\n",
       "  0.6401718109703164,\n",
       "  0.5810352767957501,\n",
       "  0.5138132688288128,\n",
       "  0.5189252794037927,\n",
       "  0.5159738345061252,\n",
       "  0.4980724750504887,\n",
       "  0.4845981543854628,\n",
       "  0.5457924999024679,\n",
       "  0.5476717432339208,\n",
       "  0.569291152412885,\n",
       "  0.5350952154061802,\n",
       "  0.4978397929322011,\n",
       "  0.4770963470259485,\n",
       "  0.5300076789034427,\n",
       "  0.4803074969922459,\n",
       "  0.4587030427381846,\n",
       "  0.4144350154119119,\n",
       "  0.39748645102112246,\n",
       "  0.33266749171418764,\n",
       "  0.3028328860472124,\n",
       "  0.2904149337013089,\n",
       "  0.3349845006185906,\n",
       "  0.34769615703614526,\n",
       "  0.38193921604485404,\n",
       "  0.3788488595896579,\n",
       "  0.36219847513487974,\n",
       "  0.31100516072255346,\n",
       "  0.35340335245738913,\n",
       "  0.3666720957183829,\n",
       "  0.4130862301170879,\n",
       "  0.4415578610585629,\n",
       "  0.48041242121696043,\n",
       "  0.4715476546874981,\n",
       "  0.4570546876054209,\n",
       "  0.4655992420413399,\n",
       "  0.45345214791305394,\n",
       "  0.4526823689805919,\n",
       "  0.4894795471510653,\n",
       "  0.49236188302390854,\n",
       "  0.5292745998374195,\n",
       "  0.5537170536099075,\n",
       "  0.5388905452302789,\n",
       "  0.535245276592496,\n",
       "  0.4731339487925261,\n",
       "  0.4579681954348782,\n",
       "  0.4594790552970778,\n",
       "  0.4957151636029591,\n",
       "  0.4897520404865104,\n",
       "  0.5219140155665077,\n",
       "  0.5512414823744675,\n",
       "  0.4971380757680542,\n",
       "  0.47666992856483525,\n",
       "  0.5288304521121786,\n",
       "  0.5038485571217218,\n",
       "  0.5632199498077587,\n",
       "  0.6236623796575242,\n",
       "  0.6311974792612237,\n",
       "  0.6292750301672708,\n",
       "  0.6962874520180453,\n",
       "  0.7139284482150949,\n",
       "  0.685585095928004,\n",
       "  0.6732645380526562,\n",
       "  0.6330862148048894,\n",
       "  0.5756887208067082,\n",
       "  0.5936799043385472,\n",
       "  0.5988133090438771,\n",
       "  0.5366055912772287,\n",
       "  0.5445200140741893,\n",
       "  0.5318723890245989,\n",
       "  0.4819975832828224,\n",
       "  0.4415409457672299,\n",
       "  0.40459235102301433,\n",
       "  0.45492146513942555,\n",
       "  0.43584085409025924,\n",
       "  0.5052592513304025,\n",
       "  0.5269343771349366,\n",
       "  0.515179685072728,\n",
       "  0.5347608690277211,\n",
       "  0.5557814539808997,\n",
       "  0.5778074152999507,\n",
       "  0.5588205653967383,\n",
       "  0.5825206968533176,\n",
       "  0.6440782156271675,\n",
       "  0.6376983252478025,\n",
       "  0.6976709688005461,\n",
       "  0.6489289391611237,\n",
       "  0.6595074909045108,\n",
       "  0.6906674023785236,\n",
       "  0.7011062267578929,\n",
       "  0.6910924668222497,\n",
       "  0.643227262595292,\n",
       "  0.6455570862009105,\n",
       "  0.6046216340683238,\n",
       "  0.5395670173675348,\n",
       "  0.562218599511964,\n",
       "  0.5857655371144562,\n",
       "  0.5561408098682165,\n",
       "  0.5267200170102283,\n",
       "  0.4755397051477103,\n",
       "  0.4515157704369479,\n",
       "  0.40540340534708064,\n",
       "  0.3886120216834545,\n",
       "  0.4417777119113165,\n",
       "  0.41255422819284215,\n",
       "  0.4183277399290459,\n",
       "  0.37559031358515793,\n",
       "  0.2902821856798605,\n",
       "  0.3364948998736428,\n",
       "  0.3369447596365015,\n",
       "  0.3757727826523452,\n",
       "  0.38381967216901747,\n",
       "  0.38284749932808765,\n",
       "  0.40958595929827857,\n",
       "  0.3662813125731127,\n",
       "  0.4191657787048321,\n",
       "  0.42471519011546166,\n",
       "  0.4469655612487362,\n",
       "  0.5169706562743845,\n",
       "  0.533436840967687,\n",
       "  0.5668903474196272,\n",
       "  0.5405307704144459,\n",
       "  0.5663674489729759,\n",
       "  0.6182689113581628,\n",
       "  0.6388805436405837,\n",
       "  0.665909537474593,\n",
       "  0.6475021103258025,\n",
       "  0.6505171299879434,\n",
       "  0.5982091350923262,\n",
       "  0.5997053506382606,\n",
       "  0.5369250697625204,\n",
       "  0.5163477175023565,\n",
       "  0.516339543497109,\n",
       "  0.5594428206750467,\n",
       "  0.5508399079527325,\n",
       "  0.569426489654612,\n",
       "  0.529976433613955,\n",
       "  0.5406232598926479,\n",
       "  0.5668533363864566,\n",
       "  0.5853180862572117,\n",
       "  0.5576347588784133,\n",
       "  0.5793390527941115,\n",
       "  0.5594416652180569,\n",
       "  0.509946904143579,\n",
       "  0.4624349953550427,\n",
       "  0.434115584799231,\n",
       "  0.3733228033120634,\n",
       "  0.39721450646267553,\n",
       "  0.42291594622086676,\n",
       "  0.43299181865698944,\n",
       "  0.4494506982551018,\n",
       "  0.46259940313107323,\n",
       "  0.4644848075172248,\n",
       "  0.4349866328886098,\n",
       "  0.435262172882125,\n",
       "  0.42029007465457896,\n",
       "  0.43380026147043366,\n",
       "  0.4862424200931141,\n",
       "  0.5253350112196586,\n",
       "  0.5005961836468589,\n",
       "  0.5281966619274608,\n",
       "  0.5254041020163785,\n",
       "  0.5423973060458926,\n",
       "  0.5452524996304342,\n",
       "  0.5944085512033481,\n",
       "  0.6838372815074505,\n",
       "  0.6863568579400464,\n",
       "  0.6474612785309213,\n",
       "  0.6236768035906453,\n",
       "  0.596543615443873,\n",
       "  0.5827674176360511,\n",
       "  0.4933584264585624,\n",
       "  0.4867749417076535,\n",
       "  0.44961821315645545,\n",
       "  0.4492806431980325,\n",
       "  0.45988197876519793,\n",
       "  0.42323073657060245,\n",
       "  0.46218475476016535,\n",
       "  0.5283298771623314,\n",
       "  0.5400334912393746,\n",
       "  0.5365558431967394,\n",
       "  0.5716782348605296,\n",
       "  0.629572431078549,\n",
       "  0.6531708668106887,\n",
       "  0.6716986746820517,\n",
       "  0.6718574840684313,\n",
       "  0.6507680951875255,\n",
       "  0.6552503209932978,\n",
       "  0.6737309725465533,\n",
       "  0.6632368374314362,\n",
       "  0.6720999831610683,\n",
       "  0.6970815957281161,\n",
       "  0.7034050067921328,\n",
       "  0.700232915358946,\n",
       "  0.6730242475156136,\n",
       "  0.6398340565728393,\n",
       "  0.6671996067615972,\n",
       "  0.6894432470821065,\n",
       "  0.6813081786145839,\n",
       "  0.6099401792889951,\n",
       "  0.6145312338186865,\n",
       "  0.5816471440287208,\n",
       "  0.5543383111319582,\n",
       "  0.4843439654823846,\n",
       "  0.47569110439691964,\n",
       "  0.5116272477667408,\n",
       "  0.5259922071147047,\n",
       "  0.4939155967986794,\n",
       "  0.4741793662610123,\n",
       "  0.42649705986057646,\n",
       "  0.45877829895304384,\n",
       "  0.46906482716533393,\n",
       "  0.48778341925869834,\n",
       "  0.4818580647113373,\n",
       "  0.5403598989338594,\n",
       "  0.5489701713453013,\n",
       "  0.5002557828023787,\n",
       "  0.48072037549184365,\n",
       "  0.5289792824109779,\n",
       "  0.4937270707115941,\n",
       "  0.4987401061763254,\n",
       "  0.5281504692328333,\n",
       "  0.48970234850954636,\n",
       "  0.4604078552399532,\n",
       "  0.47037105468317325,\n",
       "  0.4747180957793368,\n",
       "  0.435041703831304,\n",
       "  0.47542148626348213,\n",
       "  0.5213968196880263,\n",
       "  0.5149402882543307,\n",
       "  0.5150031449334679,\n",
       "  0.5636196497656556,\n",
       "  0.5092047668363165,\n",
       "  0.5126453946584142,\n",
       "  0.49484128610895434,\n",
       "  0.5201366227224677,\n",
       "  0.5319540932951257,\n",
       "  0.5465986344253921,\n",
       "  0.5074396856596165,\n",
       "  0.5301989055374339,\n",
       "  0.5203522572940833,\n",
       "  0.572536983527585,\n",
       "  0.5198886330069682,\n",
       "  0.5805503996687207,\n",
       "  0.5861328894212753,\n",
       "  0.5992389059951092,\n",
       "  0.5666932694506662,\n",
       "  0.5571364629825322,\n",
       "  0.5985699534925727,\n",
       "  0.595622890435158,\n",
       "  0.5649045348244442,\n",
       "  0.5157171906654112,\n",
       "  0.5274678460281707,\n",
       "  0.5650171261525729,\n",
       "  0.5662672801117101,\n",
       "  0.575885078647088,\n",
       "  0.6022242377520463,\n",
       "  0.5867895476113625,\n",
       "  0.5654258502844404,\n",
       "  0.5066265580758961,\n",
       "  0.5019172058083835,\n",
       "  0.510086593162718,\n",
       "  0.5278557059655626,\n",
       "  0.5077035678066191,\n",
       "  0.4892414812255215,\n",
       "  0.4715154027811112,\n",
       "  0.47062713747292795,\n",
       "  0.4432849535326463,\n",
       "  0.42913962649035126,\n",
       "  0.4173592203341921,\n",
       "  0.44951756203331494,\n",
       "  0.4460517639841324,\n",
       "  0.39796189981432567,\n",
       "  0.3701667438581468,\n",
       "  0.3561792220461842,\n",
       "  0.415123087451471,\n",
       "  0.36952305551009385,\n",
       "  0.3073627381900977,\n",
       "  0.3435834394052497,\n",
       "  0.4079948143970718,\n",
       "  0.4595506081740496,\n",
       "  0.4705340133100828,\n",
       "  0.49257664521500205,\n",
       "  0.5517682231843538,\n",
       "  0.5574704097659576,\n",
       "  0.5661179885509198,\n",
       "  0.49396841817634896,\n",
       "  0.5106182323634196,\n",
       "  0.5524645455929977,\n",
       "  0.5228255163760122,\n",
       "  0.46406979092281164,\n",
       "  0.39748758418356955,\n",
       "  0.4163031333359506,\n",
       "  0.42722428234873183,\n",
       "  0.4037755665935369,\n",
       "  0.4123064677210856,\n",
       "  0.41433356959353174,\n",
       "  0.43568687958404323,\n",
       "  0.45331531962664706,\n",
       "  0.49099388157152307,\n",
       "  0.5470392575582183,\n",
       "  0.5359138366044608,\n",
       "  0.587343418361412,\n",
       "  0.5907468572578655,\n",
       "  0.5777467329319306,\n",
       "  0.5598571766827131,\n",
       "  0.5933432441427289,\n",
       "  0.6118800779776543,\n",
       "  0.6182265629040886,\n",
       "  0.6442639793847587,\n",
       "  0.6305433853309732,\n",
       "  0.5539869917691767,\n",
       "  0.6328471710465133,\n",
       "  0.5617324747429916,\n",
       "  0.4969679678962635,\n",
       "  0.528353129321671,\n",
       "  0.4987142257450141,\n",
       "  0.48046296447209136,\n",
       "  0.40874829424992976,\n",
       "  0.41447199247858557,\n",
       "  0.4108310992950574,\n",
       "  0.4242423559446038,\n",
       "  0.4136238614551182,\n",
       "  0.33609402839193775,\n",
       "  0.4111342995533352,\n",
       "  0.40182852984503853,\n",
       "  0.3662629891345528,\n",
       "  0.3717463555940023,\n",
       "  0.345523430256085,\n",
       "  0.33621834218316704,\n",
       "  0.35209322752967587,\n",
       "  0.34342358427379,\n",
       "  0.32348604111101636,\n",
       "  0.39713632580159286,\n",
       "  0.4518785468770318,\n",
       "  0.41088562799612477,\n",
       "  0.464362740765252,\n",
       "  0.5276358810650119,\n",
       "  0.5752873915495951,\n",
       "  0.5891104849255074,\n",
       "  0.5920705945605185,\n",
       "  0.6191299570219042,\n",
       "  0.6051191597813906,\n",
       "  0.5744685566951845,\n",
       "  0.5526258273990758,\n",
       "  0.5432841371776923,\n",
       "  0.5553268503696197,\n",
       "  0.5034851793072056,\n",
       "  0.44745179239879035,\n",
       "  0.4266378551184538,\n",
       "  0.4226630011654272,\n",
       "  0.4972012862125681,\n",
       "  0.45074253872536213,\n",
       "  0.45727800846247457,\n",
       "  0.49036270908388246,\n",
       "  0.5029018282303801,\n",
       "  0.5175252550348551,\n",
       "  0.5384376849305418,\n",
       "  0.5557809623961153,\n",
       "  0.6124333373340027,\n",
       "  0.588647858319849,\n",
       "  0.6540368632735275,\n",
       "  0.6517153672716235,\n",
       "  0.6906285048897269,\n",
       "  0.6352126493838259,\n",
       "  0.5786373433836444,\n",
       "  0.5849803199254459,\n",
       "  0.5620759140665814,\n",
       "  0.5273527040210202,\n",
       "  0.5939987747554377,\n",
       "  0.5088818891733233,\n",
       "  0.5434687346298457,\n",
       "  0.5002598601799734,\n",
       "  0.4342266190728021,\n",
       "  0.3926833437642585,\n",
       "  0.4522139028527101,\n",
       "  0.5241318597398472,\n",
       "  0.45245585148812195,\n",
       "  0.4574870089552039,\n",
       "  0.43204368203677956,\n",
       "  0.41528968066638666,\n",
       "  0.4194412574070289,\n",
       "  0.374234736244441,\n",
       "  0.3688607749650393,\n",
       "  0.42380650691755045,\n",
       "  0.41635363694131944,\n",
       "  0.36384068192700547,\n",
       "  0.3558640103708931,\n",
       "  0.42698216222833324,\n",
       "  0.45710491133464987,\n",
       "  0.4765019911736317,\n",
       "  0.4423598915248988,\n",
       "  0.4568694110537667,\n",
       "  0.5044134266900729,\n",
       "  0.49949260530029654,\n",
       "  0.4636796199778164,\n",
       "  0.5064445950107518,\n",
       "  0.5815619823186767,\n",
       "  0.5624318093324573,\n",
       "  0.4985925864438002,\n",
       "  0.48011214407216746,\n",
       "  0.4932818935798059,\n",
       "  0.544481911398655,\n",
       "  0.5875720478435399,\n",
       "  0.6128091945245128,\n",
       "  0.6465527484698277,\n",
       "  0.6644578093632252,\n",
       "  0.6747484433103514,\n",
       "  0.6634139800983321,\n",
       "  0.636794486314475,\n",
       "  0.6415530285963049,\n",
       "  0.615896386423858,\n",
       "  0.6224842004897222,\n",
       "  0.5415159761992054,\n",
       "  0.5075157754090122,\n",
       "  0.4838902806549004,\n",
       "  0.42409831323341296,\n",
       "  0.4494919196636346,\n",
       "  0.42715543365046665,\n",
       "  0.3800675342760808,\n",
       "  0.38070345187979343,\n",
       "  0.39848383784049646,\n",
       "  0.3943871857875372,\n",
       "  0.4150631952771888,\n",
       "  0.45176108324451825,\n",
       "  0.4681928205939696,\n",
       "  0.42945198739023666,\n",
       "  0.5086195677416797,\n",
       "  0.4641308633919983,\n",
       "  0.43471699127426505,\n",
       "  0.41246207928408957,\n",
       "  0.47437940660196465,\n",
       "  0.48593228851300463,\n",
       "  0.5393501104292846,\n",
       "  0.5556322436600784,\n",
       "  0.5982409059970863,\n",
       "  0.6245591687636034,\n",
       "  0.6951670529654576,\n",
       "  0.6958826276229423,\n",
       "  0.7391366957587469,\n",
       "  0.7215927651818808,\n",
       "  0.7629441817807906,\n",
       "  0.7262344028037317,\n",
       "  0.7728525560925408,\n",
       "  0.7611310845181798,\n",
       "  0.7407037185324955,\n",
       "  0.720421617956686,\n",
       "  0.6791442067159555,\n",
       "  0.6806778733204014,\n",
       "  0.6553334702263259,\n",
       "  0.6190795548048562,\n",
       "  0.6490786785553039,\n",
       "  0.690537151739385,\n",
       "  0.6865848230509658,\n",
       "  0.6116120964953594,\n",
       "  0.5538308641469775,\n",
       "  0.5524059532381403,\n",
       "  0.5356901799718293,\n",
       "  0.5852564069812863,\n",
       "  0.5163733875457549,\n",
       "  0.49524683519226775,\n",
       "  0.5248273452019007,\n",
       "  0.4871485685295988,\n",
       "  0.4071001575545763,\n",
       "  0.4083346579178928,\n",
       "  0.4172375379834325,\n",
       "  0.4134723199925432,\n",
       "  0.37478644470518996,\n",
       "  0.38109240441608105,\n",
       "  0.3465079658376155,\n",
       "  0.3368621855186574,\n",
       "  0.3061078793208248,\n",
       "  0.3172594041556178,\n",
       "  0.3711806702091911,\n",
       "  0.37792111126931166,\n",
       "  0.40665985362543117,\n",
       "  0.3844889596932981,\n",
       "  0.408231432070764,\n",
       "  0.4614979928446539,\n",
       "  0.4686013860283268,\n",
       "  0.4465445650253819,\n",
       "  0.5204340862944995,\n",
       "  0.568185591357434,\n",
       "  0.5695370756625604,\n",
       "  0.5922238405293231,\n",
       "  0.6151399149927212,\n",
       "  0.5982095759374638,\n",
       "  0.6457211151543882,\n",
       "  0.6981420647440608,\n",
       "  0.6936448834554915,\n",
       "  0.6950576187017766,\n",
       "  0.7432648885958152,\n",
       "  0.7529811120307276,\n",
       "  0.7219341287790034,\n",
       "  0.6615587025498597,\n",
       "  0.6482850152256383,\n",
       "  0.6796385091603203,\n",
       "  0.664973369157972,\n",
       "  0.6597551417903204,\n",
       "  0.6105740356638896,\n",
       "  0.6182591436237712,\n",
       "  0.624660359730828,\n",
       "  0.6038026527836063,\n",
       "  0.5167080284264937,\n",
       "  0.5707607928615868,\n",
       "  0.594132615315027,\n",
       "  0.5434942257469512,\n",
       "  0.5006780225342666,\n",
       "  0.5167735387323318,\n",
       "  0.4729945627906573,\n",
       "  0.4472037970486617,\n",
       "  0.39447258854705686,\n",
       "  0.40274163195989626,\n",
       "  0.41749279934528133,\n",
       "  0.5020994030982673,\n",
       "  0.4740891435682959,\n",
       "  0.48440864810795803,\n",
       "  0.5172828552537362,\n",
       "  0.5378531223915137,\n",
       "  0.5242809492306219,\n",
       "  0.5981955376671176,\n",
       "  0.673952272883605,\n",
       "  0.6835565576539024,\n",
       "  0.6601723656010985,\n",
       "  0.6202540899745328,\n",
       "  0.5594466955041059,\n",
       "  0.5561092965193049,\n",
       "  0.5574092447961113,\n",
       "  0.557283577539725,\n",
       "  0.5982792583942051,\n",
       "  0.5638184099009526,\n",
       "  0.5472817609791596,\n",
       "  0.5510237858955113,\n",
       "  0.5808269238229318,\n",
       "  0.5750035848802892,\n",
       "  0.5805130162480941,\n",
       "  0.5896246977951853,\n",
       "  0.6287343106710972,\n",
       "  0.6568309280302143,\n",
       "  0.6677110936761154,\n",
       "  0.6606354744634585,\n",
       "  0.7299256937360554,\n",
       "  0.7489874352366152,\n",
       "  0.6934315428698327,\n",
       "  0.6687251206779806,\n",
       "  0.6896341196775831,\n",
       "  0.690022290331008,\n",
       "  0.7215881926255654,\n",
       "  0.6802152188892868,\n",
       "  0.6294162057822508,\n",
       "  0.6100045692896404,\n",
       "  0.5388919842173177,\n",
       "  0.4870131756800999,\n",
       "  0.4478177994135892,\n",
       "  0.414613016135244,\n",
       "  0.38804113716970295,\n",
       "  0.3393434593638363,\n",
       "  0.3834571864750581,\n",
       "  0.3689311253939181,\n",
       "  0.3512697186039232,\n",
       "  0.41137748146114655,\n",
       "  0.3933567825829263,\n",
       "  0.4294730445010597,\n",
       "  0.46447513811153784,\n",
       "  0.4895775117477232,\n",
       "  0.5273356124178243,\n",
       "  0.5823286777289188,\n",
       "  0.6028342285358871,\n",
       "  0.5898870503119563,\n",
       "  0.5809597234343985,\n",
       "  0.6431733396784024,\n",
       "  0.6175781799934758,\n",
       "  0.6024378742125087,\n",
       "  0.5674998550498638,\n",
       "  0.5881357651984096,\n",
       "  0.546127386541314,\n",
       "  0.5090940560732674,\n",
       "  0.46147824297627693,\n",
       "  0.4609321476316085,\n",
       "  0.4824506471504929,\n",
       "  0.47406458906129745,\n",
       "  0.4515201256662617,\n",
       "  0.46226399671155954,\n",
       "  0.4620626131826637,\n",
       "  0.5059191430393919,\n",
       "  0.5085800121699311,\n",
       "  0.537704338827172,\n",
       "  0.5839179869016404,\n",
       "  0.5924160587749111,\n",
       "  0.6348086349741975,\n",
       "  0.6363932419488959,\n",
       "  0.6094877825698709,\n",
       "  0.5939721709725393,\n",
       "  0.5562691444339353,\n",
       "  0.6092222483727932,\n",
       "  0.5643817648971875,\n",
       "  0.4979772133814471,\n",
       "  0.4733551597696027,\n",
       "  0.4683757744581355,\n",
       "  0.5089739831572593,\n",
       "  0.5009505392010501,\n",
       "  0.4842982120266824,\n",
       "  0.5364470289033044,\n",
       "  0.49411601960428714,\n",
       "  0.4913967326320563,\n",
       "  0.4911290472960273,\n",
       "  0.507092787730751,\n",
       "  0.529136797387418,\n",
       "  0.5860754322097602,\n",
       "  0.5530248956429166,\n",
       "  0.5585334246822046,\n",
       "  0.49016816650155537,\n",
       "  0.45379914783810027,\n",
       "  0.4745793813744333,\n",
       "  0.48494368172617647,\n",
       "  0.49685509570314745,\n",
       "  0.4739371330164868,\n",
       "  0.5279098150029529,\n",
       "  0.5719322058174537,\n",
       "  0.5158880421107233,\n",
       "  0.5500989062452294,\n",
       "  0.5538378604553832,\n",
       "  0.5937438608446142,\n",
       "  0.5781311794822263,\n",
       "  0.5648832621072363,\n",
       "  0.5772368291371274,\n",
       "  0.5740760787082352,\n",
       "  0.5369813400450435,\n",
       "  0.5461649546743699,\n",
       "  0.5157301970747039,\n",
       "  0.5736593139795946,\n",
       "  0.6169510175743675,\n",
       "  0.5599081568918124,\n",
       "  0.5595209114158454,\n",
       "  0.5800323926570177,\n",
       "  0.5800499294818482,\n",
       "  0.6259859627739024,\n",
       "  0.6025846708380483,\n",
       "  0.6267667395385689,\n",
       "  0.6010662398231612,\n",
       "  0.6055188929843067,\n",
       "  0.5855596839114389,\n",
       "  0.5617029807448758,\n",
       "  0.601587332067412,\n",
       "  0.6166532930740327],\n",
       " [0.33871893961873223,\n",
       "  0.389054255543587,\n",
       "  0.3859385126714204,\n",
       "  0.37778337670292844,\n",
       "  0.43173728899581065,\n",
       "  0.45469135236447605,\n",
       "  0.5029925706987485,\n",
       "  0.4928188637171107,\n",
       "  0.46189220657230845,\n",
       "  0.458643392215706,\n",
       "  0.4566197918719392,\n",
       "  0.4912225309843992,\n",
       "  0.5259868688938412,\n",
       "  0.4782174081485173,\n",
       "  0.41950375506066717,\n",
       "  0.45393090013907195,\n",
       "  0.5239925683126492,\n",
       "  0.4890263478332909,\n",
       "  0.47239806546602636,\n",
       "  0.4462316418602398,\n",
       "  0.4483035444928365,\n",
       "  0.4310961962019314,\n",
       "  0.4092767778411461,\n",
       "  0.4298190870804843,\n",
       "  0.3750355297499958,\n",
       "  0.3234539208214959,\n",
       "  0.3379301557679678,\n",
       "  0.3713268945944503,\n",
       "  0.3519706747326803,\n",
       "  0.28138148569324944,\n",
       "  0.31648715784512327,\n",
       "  0.3426298444237249,\n",
       "  0.3595665972967809,\n",
       "  0.371633172552154,\n",
       "  0.4309294606985409,\n",
       "  0.46339553263274996,\n",
       "  0.4345553571269004,\n",
       "  0.4422177213655586,\n",
       "  0.4799575572149651,\n",
       "  0.5178353058578566,\n",
       "  0.5545150844010664,\n",
       "  0.5646939601988302,\n",
       "  0.626889805430247,\n",
       "  0.6140226970265161,\n",
       "  0.5945545576634763,\n",
       "  0.5903458071412544,\n",
       "  0.643928325213342,\n",
       "  0.6326709410788994,\n",
       "  0.6053891942930772,\n",
       "  0.6413978326143653,\n",
       "  0.6184617283675355,\n",
       "  0.5816352334413663,\n",
       "  0.5882669625074449,\n",
       "  0.5481033788537,\n",
       "  0.5289418712858258,\n",
       "  0.5073082611407355,\n",
       "  0.5098263531139324,\n",
       "  0.5383738392346562,\n",
       "  0.521998640339124,\n",
       "  0.48788191950933213,\n",
       "  0.46189954026484514,\n",
       "  0.48291175522027174,\n",
       "  0.4776760751918558,\n",
       "  0.505270634023616,\n",
       "  0.5242670607097076,\n",
       "  0.4652032696645234,\n",
       "  0.43667813820727364,\n",
       "  0.47747619105533395,\n",
       "  0.5108907261262202,\n",
       "  0.5024401852273299,\n",
       "  0.48083355875622125,\n",
       "  0.46511403386037825,\n",
       "  0.46998148989029515,\n",
       "  0.5064161167586453,\n",
       "  0.5058069263610034,\n",
       "  0.5072437748868983,\n",
       "  0.5431695198066155,\n",
       "  0.5233604896220583,\n",
       "  0.5606063895621145,\n",
       "  0.6305279355553254,\n",
       "  0.6208673754935844,\n",
       "  0.5805553766167377,\n",
       "  0.5556396648522273,\n",
       "  0.5675163281667146,\n",
       "  0.628036873136295,\n",
       "  0.5898423016760573,\n",
       "  0.5745791166819694,\n",
       "  0.5784224068430986,\n",
       "  0.6050810324105009,\n",
       "  0.5958666964807044,\n",
       "  0.6402485251583556,\n",
       "  0.6406259574918453,\n",
       "  0.6105406095310845,\n",
       "  0.5988710612146958,\n",
       "  0.5678704124154705,\n",
       "  0.6140804645489489,\n",
       "  0.6157730048881898,\n",
       "  0.5575209386356449,\n",
       "  0.5959064261724503,\n",
       "  0.5729271861426306,\n",
       "  0.5372582671133593,\n",
       "  0.4957119854358322,\n",
       "  0.48017163035157434,\n",
       "  0.4658908266534994,\n",
       "  0.4731042252119397,\n",
       "  0.4651649125443509,\n",
       "  0.4345406282670965,\n",
       "  0.4478853770175798,\n",
       "  0.3945931542300369,\n",
       "  0.39570558014558005,\n",
       "  0.4465647678899017,\n",
       "  0.4691584965936373,\n",
       "  0.4931717620096191,\n",
       "  0.5285292547800602,\n",
       "  0.5215458794776873,\n",
       "  0.5448740361343221,\n",
       "  0.5486912724913375,\n",
       "  0.5079821704160431,\n",
       "  0.4740240034941842,\n",
       "  0.4729920797127204,\n",
       "  0.5134522138646569,\n",
       "  0.5190174420734907,\n",
       "  0.4824811156516382,\n",
       "  0.4643113635977268,\n",
       "  0.42938705002227057,\n",
       "  0.3734191897065283,\n",
       "  0.32289520156292506,\n",
       "  0.34382492148297944,\n",
       "  0.29200954563285114,\n",
       "  0.26122500035438756,\n",
       "  0.30956006107603173,\n",
       "  0.343253214916809,\n",
       "  0.3669025834908485,\n",
       "  0.3452244480230086,\n",
       "  0.3278456289444366,\n",
       "  0.3491585887495989,\n",
       "  0.3334752499077988,\n",
       "  0.3214457453427849,\n",
       "  0.32446469256698224,\n",
       "  0.3814026137717648,\n",
       "  0.3800745816087389,\n",
       "  0.3832242774802268,\n",
       "  0.4088192161890988,\n",
       "  0.41693073474237674,\n",
       "  0.3835550792395785,\n",
       "  0.36015990650423,\n",
       "  0.33498227006031206,\n",
       "  0.38845926199337383,\n",
       "  0.37104929952169957,\n",
       "  0.3928713724942324,\n",
       "  0.4305741794577428,\n",
       "  0.46410806185262665,\n",
       "  0.4118604655192927,\n",
       "  0.44766650681846243,\n",
       "  0.4929526502918763,\n",
       "  0.4861027177469053,\n",
       "  0.4404224186598886,\n",
       "  0.4887061347821939,\n",
       "  0.5177087108614635,\n",
       "  0.5507382664298258,\n",
       "  0.5201544461670055,\n",
       "  0.5563636976009779,\n",
       "  0.5066851967051694,\n",
       "  0.4774875162702514,\n",
       "  0.5100414506219425,\n",
       "  0.5604210272536719,\n",
       "  0.5089434966779307,\n",
       "  0.5136130004202697,\n",
       "  0.4977487012205575,\n",
       "  0.5528327513658354,\n",
       "  0.5601662667941327,\n",
       "  0.5618027477869577,\n",
       "  0.5369190662094023,\n",
       "  0.5128601779877517,\n",
       "  0.5319194115983287,\n",
       "  0.5303141357823354,\n",
       "  0.5703763020123188,\n",
       "  0.5699376723992364,\n",
       "  0.5464566205538535,\n",
       "  0.536082041695736,\n",
       "  0.5367948615479233,\n",
       "  0.5878265237638124,\n",
       "  0.569729193778796,\n",
       "  0.5516547035796244,\n",
       "  0.5487159783164385,\n",
       "  0.5559908077228066,\n",
       "  0.571166307325194,\n",
       "  0.5554305470204262,\n",
       "  0.5858177462897904,\n",
       "  0.5377180950876668,\n",
       "  0.471735256446182,\n",
       "  0.47909502244875907,\n",
       "  0.48867622074917705,\n",
       "  0.46036997904162374,\n",
       "  0.4104907804813396,\n",
       "  0.4233829624116075,\n",
       "  0.4534448488390606,\n",
       "  0.4257620910926655,\n",
       "  0.41452533162175303,\n",
       "  0.42390832760648867,\n",
       "  0.44797730481273185,\n",
       "  0.47488117055342877,\n",
       "  0.48603324769694756,\n",
       "  0.49438752258458585,\n",
       "  0.4950411796188229,\n",
       "  0.5367049024704238,\n",
       "  0.5699654832132566,\n",
       "  0.5713888801297814,\n",
       "  0.572217472056159,\n",
       "  0.5558660807114572,\n",
       "  0.5917434452477666,\n",
       "  0.6521015389696926,\n",
       "  0.6449399797215981,\n",
       "  0.6248180926687709,\n",
       "  0.5711242353370101,\n",
       "  0.5580933502557373,\n",
       "  0.6117824261886029,\n",
       "  0.5762834358245768,\n",
       "  0.5702384444832288,\n",
       "  0.5447016258861997,\n",
       "  0.5829541167258179,\n",
       "  0.5433937164903706,\n",
       "  0.5167148744017807,\n",
       "  0.50184691784783,\n",
       "  0.49276319429099175,\n",
       "  0.5211741246002743,\n",
       "  0.5387773762103449,\n",
       "  0.6005146742334586,\n",
       "  0.5978725077412329,\n",
       "  0.5701942531690136,\n",
       "  0.5618332380169512,\n",
       "  0.506450285392372,\n",
       "  0.4659106383693027,\n",
       "  0.4678364969585886,\n",
       "  0.5001448392139407,\n",
       "  0.5377002804806427,\n",
       "  0.5415219863810619,\n",
       "  0.5221193870712261,\n",
       "  0.5358056234359218,\n",
       "  0.4914773289487061,\n",
       "  0.4671324382473261,\n",
       "  0.47392998404373504,\n",
       "  0.43782019852705634,\n",
       "  0.4503162481399119,\n",
       "  0.5158262734674808,\n",
       "  0.5536149976526998,\n",
       "  0.5581456780174615,\n",
       "  0.5327343557340783,\n",
       "  0.49032487839858485,\n",
       "  0.5246415860481037,\n",
       "  0.5409940571316956,\n",
       "  0.48180006812045806,\n",
       "  0.5042902227501153,\n",
       "  0.4674364994437687,\n",
       "  0.45908176295755015,\n",
       "  0.5208753635750323,\n",
       "  0.5034368938756806,\n",
       "  0.4533496044150808,\n",
       "  0.485942809443222,\n",
       "  0.4471694544679753,\n",
       "  0.4208455253565159,\n",
       "  0.41239942315294936,\n",
       "  0.3704306248096812,\n",
       "  0.36398741403208723,\n",
       "  0.3709452910705213,\n",
       "  0.38943396639785993,\n",
       "  0.41147967008460673,\n",
       "  0.4772613268615516,\n",
       "  0.47911999284394013,\n",
       "  0.4986584580792003,\n",
       "  0.4997182097079401,\n",
       "  0.4603991018130351,\n",
       "  0.43571568308381864,\n",
       "  0.47698429992206043,\n",
       "  0.4671563596107045,\n",
       "  0.44939373395076826,\n",
       "  0.4677458270287263,\n",
       "  0.48257011272585004,\n",
       "  0.45840136079578137,\n",
       "  0.4639065349562331,\n",
       "  0.41336936761321136,\n",
       "  0.34827260314374475,\n",
       "  0.39591632869892884,\n",
       "  0.4510242626063895,\n",
       "  0.4889309094159435,\n",
       "  0.48979499912182345,\n",
       "  0.45619061993310667,\n",
       "  0.5006665173637106,\n",
       "  0.5752393430845879,\n",
       "  0.5414185408487611,\n",
       "  0.5716216137717454,\n",
       "  0.5766419049784306,\n",
       "  0.5619681709187034,\n",
       "  0.579531355675937,\n",
       "  0.5983279962732346,\n",
       "  0.5470194715747079,\n",
       "  0.47867758607822114,\n",
       "  0.42567683369885234,\n",
       "  0.4927548650136609,\n",
       "  0.5106555550519067,\n",
       "  0.5132866053981464,\n",
       "  0.4874030049658205,\n",
       "  0.518004645332304,\n",
       "  0.4951037794162432,\n",
       "  0.46779223064517894,\n",
       "  0.47303495547852414,\n",
       "  0.4557374850148808,\n",
       "  0.4972616117851656,\n",
       "  0.5470400002033585,\n",
       "  0.5640738897640301,\n",
       "  0.5681928653091136,\n",
       "  0.5344119958447122,\n",
       "  0.5444953185973114,\n",
       "  0.5401839344041062,\n",
       "  0.5095402362214452,\n",
       "  0.43874327515969536,\n",
       "  0.4274571789050024,\n",
       "  0.40942204344499455,\n",
       "  0.426649992693331,\n",
       "  0.4077408558205565,\n",
       "  0.34835585785350326,\n",
       "  0.32850061539515374,\n",
       "  0.3275784785295291,\n",
       "  0.3627978133165699,\n",
       "  0.35887747705256634,\n",
       "  0.3806977494727683,\n",
       "  0.3467144461006021,\n",
       "  0.3664322601045595,\n",
       "  0.4260176035891573,\n",
       "  0.41319819485346493,\n",
       "  0.48065207293819767,\n",
       "  0.4515780232040513,\n",
       "  0.505831301315313,\n",
       "  0.5758133073837398,\n",
       "  0.5901339267053134,\n",
       "  0.5923618076571295,\n",
       "  0.5396458827878425,\n",
       "  0.5412687449651588,\n",
       "  0.5456308958444647,\n",
       "  0.5563470418604511,\n",
       "  0.5865262119949971,\n",
       "  0.536272146862741,\n",
       "  0.6003778921034193,\n",
       "  0.5298034303283733,\n",
       "  0.5407900895121639,\n",
       "  0.5505500357220237,\n",
       "  0.536623913402016,\n",
       "  0.5432088074214991,\n",
       "  0.5832806935333248,\n",
       "  0.6324581666735527,\n",
       "  0.6459379303847078,\n",
       "  0.5889223862642182,\n",
       "  0.5996261175415698,\n",
       "  0.5430213595459059,\n",
       "  0.5871093445414532,\n",
       "  0.5684398880255154,\n",
       "  0.5854265389406343,\n",
       "  0.5660685016780789,\n",
       "  0.5707067785709606,\n",
       "  0.571044959139301,\n",
       "  0.5435154333235873,\n",
       "  0.5204892125342213,\n",
       "  0.528574426451672,\n",
       "  0.5103986186302838,\n",
       "  0.5271336631746256,\n",
       "  0.5199052896299196,\n",
       "  0.5276031472237358,\n",
       "  0.4744942280588353,\n",
       "  0.4728526976214934,\n",
       "  0.48547558027568777,\n",
       "  0.5244132293703079,\n",
       "  0.4551005945612268,\n",
       "  0.4202306572776806,\n",
       "  0.38861636362864804,\n",
       "  0.3565972377286873,\n",
       "  0.3110449533121064,\n",
       "  0.33993916126310175,\n",
       "  0.3400996895972637,\n",
       "  0.34490069013771313,\n",
       "  0.3721680617162645,\n",
       "  0.388254304060168,\n",
       "  0.33910340629417085,\n",
       "  0.3477201645701942,\n",
       "  0.3423583174916945,\n",
       "  0.38747508376379697,\n",
       "  0.3938884308372908,\n",
       "  0.4360598936606064,\n",
       "  0.4826978116510357,\n",
       "  0.4811025582853584,\n",
       "  0.4554208559569626,\n",
       "  0.4616539001505719,\n",
       "  0.4481138950057923,\n",
       "  0.4327139880769001,\n",
       "  0.45785843278398775,\n",
       "  0.5270478428965812,\n",
       "  0.5569712924313126,\n",
       "  0.5396117342704335,\n",
       "  0.5394252406782594,\n",
       "  0.50941603973362,\n",
       "  0.4621112903159044,\n",
       "  0.4452089641650686,\n",
       "  0.49436661061002724,\n",
       "  0.4685508783055518,\n",
       "  0.4906432607067456,\n",
       "  0.5412546056557287,\n",
       "  0.5335281363417257,\n",
       "  0.5436934848120968,\n",
       "  0.5392359169644604,\n",
       "  0.4972288205728714,\n",
       "  0.5300024589914876,\n",
       "  0.536925762140159,\n",
       "  0.5789550284078128,\n",
       "  0.6393185476912825,\n",
       "  0.6689272139925243,\n",
       "  0.6752852707631682,\n",
       "  0.706959498721608,\n",
       "  0.6615939630607742,\n",
       "  0.6129467199455306,\n",
       "  0.6057018473817831,\n",
       "  0.5962372616121662,\n",
       "  0.5892187225490786,\n",
       "  0.5646432525794342,\n",
       "  0.5631320058640233,\n",
       "  0.5616500940788073,\n",
       "  0.5426811481646462,\n",
       "  0.5164333531939028,\n",
       "  0.4601405671104279,\n",
       "  0.44243420815059253,\n",
       "  0.4016246691597466,\n",
       "  0.4635435278475684,\n",
       "  0.506416475891437,\n",
       "  0.5380187692357107,\n",
       "  0.5147886842395043,\n",
       "  0.5267204361953501,\n",
       "  0.5965131759441874,\n",
       "  0.5547816146683414,\n",
       "  0.5592896136643571,\n",
       "  0.5972857175556431,\n",
       "  0.6084135292495385,\n",
       "  0.6496142688176582,\n",
       "  0.6277036981736207,\n",
       "  0.6956728608881112,\n",
       "  0.6949025893533515,\n",
       "  0.6621648646896982,\n",
       "  0.6755697130603301,\n",
       "  0.6882924320398243,\n",
       "  0.6307456111621967,\n",
       "  0.5819785680068269,\n",
       "  0.5809942538386247,\n",
       "  0.5912348314991622,\n",
       "  0.6002727716145947,\n",
       "  0.5586934928524324,\n",
       "  0.5510220555270732,\n",
       "  0.5481886221112325,\n",
       "  0.4861718704479141,\n",
       "  0.43419248480295536,\n",
       "  0.4238742585152994,\n",
       "  0.41978697239140705,\n",
       "  0.38679369274321557,\n",
       "  0.3887232685316624,\n",
       "  0.3974390987826372,\n",
       "  0.38933945249425495,\n",
       "  0.3676965162353915,\n",
       "  0.3404813976611116,\n",
       "  0.3955695221593415,\n",
       "  0.3652561940438127,\n",
       "  0.3557606183401978,\n",
       "  0.38839518755180996,\n",
       "  0.3866836631211265,\n",
       "  0.41264687176130427,\n",
       "  0.374285750089016,\n",
       "  0.42655638059916307,\n",
       "  0.4728065355556952,\n",
       "  0.5012589624821467,\n",
       "  0.5745344575947603,\n",
       "  0.5682152587707902,\n",
       "  0.5593830850208295,\n",
       "  0.5609496503220434,\n",
       "  0.6042159249508275,\n",
       "  0.6261976953989389,\n",
       "  0.613960538015363,\n",
       "  0.6147929802092574,\n",
       "  0.5780546052347351,\n",
       "  0.6208751329211405,\n",
       "  0.5773785466091949,\n",
       "  0.5740073555568904,\n",
       "  0.5537483147572242,\n",
       "  0.5530813316215689,\n",
       "  0.5696727667005935,\n",
       "  0.6068043439891351,\n",
       "  0.5514886757692246,\n",
       "  0.5308197594594174,\n",
       "  0.530976194673142,\n",
       "  0.5254373540997735,\n",
       "  0.5422823573669227,\n",
       "  0.5614115538953209,\n",
       "  0.5399380832782565,\n",
       "  0.5309206361565815,\n",
       "  0.5074628744199957,\n",
       "  0.500098647802389,\n",
       "  0.44931817545122615,\n",
       "  0.42149795143148405,\n",
       "  0.40684929963086375,\n",
       "  0.44891228970955577,\n",
       "  0.44829134040646523,\n",
       "  0.4540674907662136,\n",
       "  0.4591680103461012,\n",
       "  0.4361588997484229,\n",
       "  0.40900943007720836,\n",
       "  0.3897192208662835,\n",
       "  0.4356668732328045,\n",
       "  0.4694629194603635,\n",
       "  0.49868361994107663,\n",
       "  0.5145421599141522,\n",
       "  0.559743344333605,\n",
       "  0.5350120876180521,\n",
       "  0.54664136471067,\n",
       "  0.5402310730483056,\n",
       "  0.5476897173480401,\n",
       "  0.5946153696073991,\n",
       "  0.6024171036021144,\n",
       "  0.6152199626279397,\n",
       "  0.6415593824062659,\n",
       "  0.6363895348416791,\n",
       "  0.596217157835099,\n",
       "  0.5326862341511391,\n",
       "  0.5233171905925706,\n",
       "  0.48015190805828084,\n",
       "  0.47581891558662825,\n",
       "  0.4778690558028369,\n",
       "  0.4913661854798492,\n",
       "  0.4905354296886521,\n",
       "  0.4836367743359158,\n",
       "  0.5177473028903128,\n",
       "  0.5425464741742945,\n",
       "  0.5522183689096164,\n",
       "  0.5606336935343265,\n",
       "  0.582889339894187,\n",
       "  0.631055195016618,\n",
       "  0.6324272206611325,\n",
       "  0.6480728021368193,\n",
       "  0.6656482205373815,\n",
       "  0.6714845782728758,\n",
       "  0.6867188596796981,\n",
       "  0.695367880768,\n",
       "  0.6853363898838047,\n",
       "  0.6904558051465657,\n",
       "  0.6991296776715783,\n",
       "  0.6686436582946427,\n",
       "  0.639738108896402,\n",
       "  0.6442976929272859,\n",
       "  0.6630874403214809,\n",
       "  0.6736449620764338,\n",
       "  0.6369378802048884,\n",
       "  0.6522642474550271,\n",
       "  0.6174507950990649,\n",
       "  0.5931914830150156,\n",
       "  0.5315853286492179,\n",
       "  0.5117992619297966,\n",
       "  0.5063701698885418,\n",
       "  0.49230366345896714,\n",
       "  0.49274421924372613,\n",
       "  0.5229180869807043,\n",
       "  0.4699735762371085,\n",
       "  0.4417598471726048,\n",
       "  0.4726737193056617,\n",
       "  0.5140873827657368,\n",
       "  0.4809295706934125,\n",
       "  0.49664996741510437,\n",
       "  0.5072569898026255,\n",
       "  0.5198340153131522,\n",
       "  0.4965592005392874,\n",
       "  0.5074267100965422,\n",
       "  0.49561681771653376,\n",
       "  0.474055853402809,\n",
       "  0.4874277035333762,\n",
       "  0.5261551173932515,\n",
       "  0.5154662380854294,\n",
       "  0.4820348401315843,\n",
       "  0.4855946937017984,\n",
       "  0.46764314598105877,\n",
       "  0.4648861276689868,\n",
       "  0.47322790298313155,\n",
       "  0.5198520608635786,\n",
       "  0.5246253149363697,\n",
       "  0.5033669334721516,\n",
       "  0.5005242156389106,\n",
       "  0.5379211307242496,\n",
       "  0.48728154467291634,\n",
       "  0.5077869183117486,\n",
       "  0.5461338182100215,\n",
       "  0.5321434057629364,\n",
       "  0.4925736267984542,\n",
       "  0.5537455351960107,\n",
       "  0.5578704055817796,\n",
       "  0.5678977612621501,\n",
       "  0.507553994416691,\n",
       "  0.5559872773379707,\n",
       "  0.5569707950482354,\n",
       "  0.5634642778072793,\n",
       "  0.5535197354436542,\n",
       "  0.5988451217184335,\n",
       "  0.5985100702607176,\n",
       "  0.5464472243784816,\n",
       "  0.5692351432259778,\n",
       "  0.5648744482789905,\n",
       "  0.565586864754312,\n",
       "  0.5453473449892592,\n",
       "  0.5506821436783843,\n",
       "  0.6043524028975676,\n",
       "  0.5818036792624011,\n",
       "  0.5540753692968049,\n",
       "  0.5702340745786368,\n",
       "  0.5476843914051428,\n",
       "  0.4997232375388172,\n",
       "  0.49436460756225464,\n",
       "  0.5075329844970251,\n",
       "  0.5171860465084599,\n",
       "  0.5229448216170448,\n",
       "  0.5033377686231801,\n",
       "  0.524483950937868,\n",
       "  0.4777417106185778,\n",
       "  0.42990614054879683,\n",
       "  0.4138098290712219,\n",
       "  0.4315311728391026,\n",
       "  0.39871439528471025,\n",
       "  0.40241758903323344,\n",
       "  0.3960518243852863,\n",
       "  0.3869567324867775,\n",
       "  0.4275556828743519,\n",
       "  0.3864157966799665,\n",
       "  0.37058655298481713,\n",
       "  0.36949158776207963,\n",
       "  0.37690955948461097,\n",
       "  0.4275730753062555,\n",
       "  0.4665571924557985,\n",
       "  0.4623599086453956,\n",
       "  0.48893737923795866,\n",
       "  0.4903291400468308,\n",
       "  0.529242653725434,\n",
       "  0.5323109457589845,\n",
       "  0.5170949592560887,\n",
       "  0.48679855602764743,\n",
       "  0.4992090546486259,\n",
       "  0.5095078348738304,\n",
       "  0.4731842747340647,\n",
       "  0.47358730848100383,\n",
       "  0.43500686371628067,\n",
       "  0.4324494627854966,\n",
       "  0.4224082206289015,\n",
       "  0.41295179299473833,\n",
       "  0.4292633432973645,\n",
       "  0.42164654708939636,\n",
       "  0.4842816404389486,\n",
       "  0.530026845198071,\n",
       "  0.49550338880660677,\n",
       "  0.5277763456447876,\n",
       "  0.5807755953798955,\n",
       "  0.5875338357341247,\n",
       "  0.5539182686942957,\n",
       "  0.5629704190699759,\n",
       "  0.5890402257043761,\n",
       "  0.6035034238368285,\n",
       "  0.6162030476819731,\n",
       "  0.6491602222248125,\n",
       "  0.6152105677802113,\n",
       "  0.6155330952854446,\n",
       "  0.5402090678780572,\n",
       "  0.5478213987806518,\n",
       "  0.5376189757774207,\n",
       "  0.47604450356803685,\n",
       "  0.48065338421934284,\n",
       "  0.4611788636458671,\n",
       "  0.45215082627486114,\n",
       "  0.44608468110439115,\n",
       "  0.4850197394129407,\n",
       "  0.4200535449166694,\n",
       "  0.3663836394139532,\n",
       "  0.4193337129261913,\n",
       "  0.3523440869947884,\n",
       "  0.3722217187241264,\n",
       "  0.3700877546968927,\n",
       "  0.325951331163847,\n",
       "  0.32368234678584273,\n",
       "  0.34353027963127875,\n",
       "  0.3908099265091959,\n",
       "  0.4080316267173052,\n",
       "  0.4084656596529686,\n",
       "  0.38976810866446915,\n",
       "  0.4170167461531969,\n",
       "  0.46087915131066964,\n",
       "  0.4707999800032375,\n",
       "  0.5168606376776714,\n",
       "  0.5145145968331164,\n",
       "  0.5101105489882795,\n",
       "  0.5750434945869719,\n",
       "  0.6183413875538467,\n",
       "  0.596195366780428,\n",
       "  0.5854829422974412,\n",
       "  0.5757511130285795,\n",
       "  0.5508702669415272,\n",
       "  0.504546301828509,\n",
       "  0.5017405806516467,\n",
       "  0.484939580591919,\n",
       "  0.4256913907642371,\n",
       "  0.44403769062617976,\n",
       "  0.4579629247253104,\n",
       "  0.5042861223939633,\n",
       "  0.48723846467902493,\n",
       "  0.4989913540619708,\n",
       "  0.5275683193159931,\n",
       "  0.5388649156219985,\n",
       "  0.5151205385517901,\n",
       "  0.5500614542368939,\n",
       "  0.5570003089872327,\n",
       "  0.6004941430428609,\n",
       "  0.6344878932173234,\n",
       "  0.6847029663381795,\n",
       "  0.6210649681542585,\n",
       "  0.5954571455437253,\n",
       "  0.6070471560691005,\n",
       "  0.588248723532123,\n",
       "  0.5595541182140784,\n",
       "  0.5798289013922829,\n",
       "  0.5250527039807861,\n",
       "  0.5465822701080815,\n",
       "  0.5055781239125283,\n",
       "  0.5038237677005913,\n",
       "  0.4635576805995672,\n",
       "  0.45225603672287024,\n",
       "  0.4545753688784426,\n",
       "  0.45240678861888944,\n",
       "  0.4857369020926733,\n",
       "  0.43014619384674535,\n",
       "  0.455625165438272,\n",
       "  0.43374301838433194,\n",
       "  0.3606280836756997,\n",
       "  0.3870987195824419,\n",
       "  0.40257111348249536,\n",
       "  0.3925601070899369,\n",
       "  0.3926987052918115,\n",
       "  0.4234205483148257,\n",
       "  0.43105685424441675,\n",
       "  0.42902179190366013,\n",
       "  0.4504929274267919,\n",
       "  0.44282529684339844,\n",
       "  0.4547494044756289,\n",
       "  0.4360404841572805,\n",
       "  0.45483447549212985,\n",
       "  0.47825524587227447,\n",
       "  0.5089771855901551,\n",
       "  0.526184107554303,\n",
       "  0.5470251557227115,\n",
       "  0.5450776965278584,\n",
       "  0.5341548281124306,\n",
       "  0.5065927001088072,\n",
       "  0.5167596815129412,\n",
       "  0.5487317601193973,\n",
       "  0.5802668174646463,\n",
       "  0.6153357609980277,\n",
       "  0.6136774158264803,\n",
       "  0.6572705869832786,\n",
       "  0.6951901045793547,\n",
       "  0.6573212175950925,\n",
       "  0.5958393510704669,\n",
       "  0.5793940856513082,\n",
       "  0.6114240658399719,\n",
       "  0.5687167702358195,\n",
       "  0.5607758139748795,\n",
       "  0.5289969760660846,\n",
       "  0.4770118317125357,\n",
       "  0.4754858755595835,\n",
       "  0.47162670521305,\n",
       "  0.4545521795056171,\n",
       "  0.40851391715385116,\n",
       "  0.37166769223691365,\n",
       "  0.3742802159746686,\n",
       "  0.41977882226225827,\n",
       "  0.42983305216099343,\n",
       "  0.43022156944770423,\n",
       "  0.4341736009200341,\n",
       "  0.47794580984017754,\n",
       "  0.45876636864482023,\n",
       "  0.4806117404783864,\n",
       "  0.423219237646002,\n",
       "  0.44847266349742654,\n",
       "  0.46124556120661847,\n",
       "  0.5085196962857764,\n",
       "  0.5527505502634429,\n",
       "  0.6023246615690735,\n",
       "  0.6074873931669782,\n",
       "  0.6401324983762134,\n",
       "  0.6706064157877698,\n",
       "  0.7208072757258674,\n",
       "  0.6608198306200949,\n",
       "  0.6760612762826722,\n",
       "  0.6951412424838984,\n",
       "  0.7661913492753081,\n",
       "  0.7511557314456507,\n",
       "  0.7683263756645504,\n",
       "  0.7555390140922593,\n",
       "  0.7119975157527203,\n",
       "  0.7098868553420954,\n",
       "  0.6966462093331505,\n",
       "  0.6564255465130509,\n",
       "  0.621216489101324,\n",
       "  0.6349385851893661,\n",
       "  0.6655191376038933,\n",
       "  0.6381411232645585,\n",
       "  0.6052758141207047,\n",
       "  0.5817946347877501,\n",
       "  0.5647813256299629,\n",
       "  0.5804651752093897,\n",
       "  0.5372306603789998,\n",
       "  0.5410407411207994,\n",
       "  0.5245520227204733,\n",
       "  0.4789061876656317,\n",
       "  0.4555714029006677,\n",
       "  0.46181265860300713,\n",
       "  0.40688760393259876,\n",
       "  0.3741806192251164,\n",
       "  0.3814036986576067,\n",
       "  0.4186180135499737,\n",
       "  0.4062438012550995,\n",
       "  0.3689915881493927,\n",
       "  0.30483814079271637,\n",
       "  0.35607095985189574,\n",
       "  0.3739271249876438,\n",
       "  0.3312661280346309,\n",
       "  0.39370682291486525,\n",
       "  0.38775505189613263,\n",
       "  0.37409327427754585,\n",
       "  0.4188548527709479,\n",
       "  0.4652656848110214,\n",
       "  0.4669622107568004,\n",
       "  0.48689608820036223,\n",
       "  0.4924115162325628,\n",
       "  0.5529497130505828,\n",
       "  0.6160252460102191,\n",
       "  0.5833188679737185,\n",
       "  0.5858082046849421,\n",
       "  0.6143550551835051,\n",
       "  0.6207320683010017,\n",
       "  0.680448326723573,\n",
       "  0.7079647658064936,\n",
       "  0.7053803533154751,\n",
       "  0.7275250871254705,\n",
       "  0.7254334547933196,\n",
       "  0.6723628498820418,\n",
       "  0.6838016815910076,\n",
       "  0.6764816193948999,\n",
       "  0.6473654981399528,\n",
       "  0.6521064009353198,\n",
       "  0.6311943034541312,\n",
       "  0.6572112738899739,\n",
       "  0.6457879384876043,\n",
       "  0.6293600042854186,\n",
       "  0.5766138953540773,\n",
       "  0.5794684507105109,\n",
       "  0.5379525834302951,\n",
       "  0.5328140713331172,\n",
       "  0.5403518132278596,\n",
       "  0.5360865564917703,\n",
       "  0.4772538309302202,\n",
       "  0.44692774243856087,\n",
       "  0.432741421145674,\n",
       "  0.4699297507380714,\n",
       "  0.45948078989592717,\n",
       "  0.4729084705111412,\n",
       "  0.4697108659898636,\n",
       "  0.5106223385453803,\n",
       "  0.487563508741859,\n",
       "  0.49273070383104073,\n",
       "  0.5198291686702609,\n",
       "  0.559768651427248,\n",
       "  0.5799251328742536,\n",
       "  0.6109092629530353,\n",
       "  0.6501339241285949,\n",
       "  0.650526675719176,\n",
       "  0.605505062740857,\n",
       "  0.5870017482140374,\n",
       "  0.5574229738281714,\n",
       "  0.5579587990253759,\n",
       "  0.5890827586886345,\n",
       "  0.5592054072179055,\n",
       "  0.5677467302321791,\n",
       "  0.602553686975314,\n",
       "  0.5962127435464164,\n",
       "  0.5664081112027122,\n",
       "  0.5633359868373381,\n",
       "  0.5458108822896998,\n",
       "  0.5941773195726688,\n",
       "  0.6398250167348785,\n",
       "  0.6523910889272926,\n",
       "  0.6764280299456206,\n",
       "  0.7052871978455697,\n",
       "  0.6952690337142184,\n",
       "  0.7122263379489818,\n",
       "  0.6989725094454189,\n",
       "  0.6836937782490806,\n",
       "  0.6557320661903258,\n",
       "  0.6698440119203182,\n",
       "  0.6785407218075241,\n",
       "  0.6734947542623952,\n",
       "  0.636542846219906,\n",
       "  0.5766335390270158,\n",
       "  0.552388959541249,\n",
       "  0.5151925394412521,\n",
       "  0.4454233030559876,\n",
       "  0.39355641108110867,\n",
       "  0.38408078451323746,\n",
       "  0.41435150648016045,\n",
       "  0.39847993983414,\n",
       "  0.3919039303461448,\n",
       "  0.4110087678925024,\n",
       "  0.3938164770376009,\n",
       "  0.4074508640967772,\n",
       "  0.42924867162131597,\n",
       "  0.4734649088900567,\n",
       "  0.4795422879879082,\n",
       "  0.5073733081171569,\n",
       "  0.5433448873137817,\n",
       "  0.5851442022159132,\n",
       "  0.6029244709707695,\n",
       "  0.6116637522874361,\n",
       "  0.6214024294767435,\n",
       "  0.6063433779371733,\n",
       "  0.5395544109795379,\n",
       "  0.5940616569113403,\n",
       "  0.5721724290779642,\n",
       "  0.5172967570324486,\n",
       "  0.48359700377208703,\n",
       "  0.4871573401869837,\n",
       "  0.5006320224957067,\n",
       "  0.49396554526150144,\n",
       "  0.4945840468180022,\n",
       "  0.5209675837881874,\n",
       "  0.4530958401330866,\n",
       "  0.4450736874030055,\n",
       "  0.5146434659522361,\n",
       "  0.546960838427994,\n",
       "  0.5137278677044133,\n",
       "  0.5227643418158998,\n",
       "  0.5935312146416168,\n",
       "  0.6486370216263844,\n",
       "  0.6196664671323387,\n",
       "  0.5889484131289645,\n",
       "  0.5905252844881118,\n",
       "  0.5865360978078441,\n",
       "  0.5314810297139216,\n",
       "  0.5450327430435145,\n",
       "  0.5194066987381724,\n",
       "  0.4797088973328939,\n",
       "  0.49845404086443534,\n",
       "  0.5233279896641944,\n",
       "  0.5571526897624987,\n",
       "  0.5364374158415831,\n",
       "  0.4685599942219879,\n",
       "  0.49060208838688407,\n",
       "  0.49951499315848774,\n",
       "  0.4898702663496887,\n",
       "  0.4772681306712739,\n",
       "  0.5377628787718877,\n",
       "  0.5262877054002912,\n",
       "  0.5705279573289446,\n",
       "  0.5417677060086266,\n",
       "  0.5104662906462873,\n",
       "  0.5141233592190613,\n",
       "  0.4691061608907907,\n",
       "  0.4571012218329049,\n",
       "  0.48244055066111813,\n",
       "  0.520765951432755,\n",
       "  0.5456400340355577,\n",
       "  0.5452050170934026,\n",
       "  0.5440248744338239,\n",
       "  0.5432500119983178,\n",
       "  0.5762222150254475,\n",
       "  0.5270490062463055,\n",
       "  0.5773438247315605,\n",
       "  0.5735534296822752,\n",
       "  0.5412907349615066,\n",
       "  0.5264724153924673,\n",
       "  0.5624896782545586,\n",
       "  0.5810033959309722,\n",
       "  0.5839161316120994,\n",
       "  0.5821177151512124,\n",
       "  0.5804978014284702,\n",
       "  0.5841946809390457,\n",
       "  0.5492136104169194,\n",
       "  0.5657566520399893,\n",
       "  0.6140459386213857,\n",
       "  0.5731919269645014,\n",
       "  0.5683823395783023,\n",
       "  0.5853275068902652,\n",
       "  0.6389967099565026,\n",
       "  0.6172501332742347,\n",
       "  0.621017762872127,\n",
       "  0.6041292013489311,\n",
       "  0.5839427602079932,\n",
       "  0.6176910574809084],\n",
       " [0.35509558735276225,\n",
       "  0.35239527686355115,\n",
       "  0.3453274923575248,\n",
       "  0.3920875496780227,\n",
       "  0.4119810712641995,\n",
       "  0.45384212715390226,\n",
       "  0.4450249144364828,\n",
       "  0.46575977776597616,\n",
       "  0.5049048303145349,\n",
       "  0.46366006260341636,\n",
       "  0.4757598010419036,\n",
       "  0.5188503631667076,\n",
       "  0.48786068956281514,\n",
       "  0.4595910093097967,\n",
       "  0.4522456426478455,\n",
       "  0.462274030090712,\n",
       "  0.4814303401516439,\n",
       "  0.4939804681922177,\n",
       "  0.4664038996364075,\n",
       "  0.43948881428106185,\n",
       "  0.40344958653540136,\n",
       "  0.4325016892220321,\n",
       "  0.4358633590438354,\n",
       "  0.40329965357162145,\n",
       "  0.4034399415896568,\n",
       "  0.3550072977085746,\n",
       "  0.3255523649169912,\n",
       "  0.3428318070207867,\n",
       "  0.34256806330561657,\n",
       "  0.36231243016355497,\n",
       "  0.33679944082181656,\n",
       "  0.3542054491714321,\n",
       "  0.35215924042237245,\n",
       "  0.39018769619526233,\n",
       "  0.44558141227662384,\n",
       "  0.4388612985121419,\n",
       "  0.431848471292779,\n",
       "  0.44689328237287357,\n",
       "  0.4787671036687206,\n",
       "  0.525805373352619,\n",
       "  0.5393604375275342,\n",
       "  0.564055919363307,\n",
       "  0.5894241828182127,\n",
       "  0.6082161031960133,\n",
       "  0.5915496118947458,\n",
       "  0.6132845904400406,\n",
       "  0.6268781274730985,\n",
       "  0.6481699644520906,\n",
       "  0.6212672208391897,\n",
       "  0.5662391742629266,\n",
       "  0.5743625085120773,\n",
       "  0.6053431126583554,\n",
       "  0.5848650854395225,\n",
       "  0.5489861275651073,\n",
       "  0.5231433392043535,\n",
       "  0.5418722566779679,\n",
       "  0.5315022658265013,\n",
       "  0.5117954294323392,\n",
       "  0.520834970706449,\n",
       "  0.5155580295135438,\n",
       "  0.5086222704580964,\n",
       "  0.4869383370704185,\n",
       "  0.4794697553627269,\n",
       "  0.47284917286137396,\n",
       "  0.47251911511574496,\n",
       "  0.45923560290330895,\n",
       "  0.45296745897327784,\n",
       "  0.49089237350720444,\n",
       "  0.5189041287606049,\n",
       "  0.5085575237599222,\n",
       "  0.4730447527459256,\n",
       "  0.46156160127466933,\n",
       "  0.5020531757437956,\n",
       "  0.5241572763962115,\n",
       "  0.5262366737428645,\n",
       "  0.5316931513375581,\n",
       "  0.5124423320342161,\n",
       "  0.520476769915777,\n",
       "  0.5513283611028442,\n",
       "  0.5878763506917973,\n",
       "  0.6155859801287401,\n",
       "  0.5866458060512457,\n",
       "  0.5576330455283507,\n",
       "  0.581895215600362,\n",
       "  0.5560358451385273,\n",
       "  0.5969229141891745,\n",
       "  0.6181394044219745,\n",
       "  0.6117462673078061,\n",
       "  0.6097449521079658,\n",
       "  0.6277131156028125,\n",
       "  0.6049390159096427,\n",
       "  0.6268844650240003,\n",
       "  0.6210390661240345,\n",
       "  0.5612827934075325,\n",
       "  0.580763816565895,\n",
       "  0.5881549900302758,\n",
       "  0.583525652879324,\n",
       "  0.5806405967434982,\n",
       "  0.549161185461332,\n",
       "  0.5725665744676361,\n",
       "  0.543394753561154,\n",
       "  0.5245942791486448,\n",
       "  0.5070816039467446,\n",
       "  0.49854487414337983,\n",
       "  0.4751453340918628,\n",
       "  0.4424317807959188,\n",
       "  0.42031492522916186,\n",
       "  0.4037229638458574,\n",
       "  0.4389454687297041,\n",
       "  0.438345382441483,\n",
       "  0.45357468955488606,\n",
       "  0.4933918990521096,\n",
       "  0.5141730259275649,\n",
       "  0.4988642877848697,\n",
       "  0.5311946123001456,\n",
       "  0.5529969860615158,\n",
       "  0.5226473421992527,\n",
       "  0.48219408735378966,\n",
       "  0.44233458802992875,\n",
       "  0.46216391970676035,\n",
       "  0.47693620247806573,\n",
       "  0.4689284422125548,\n",
       "  0.4987678305601476,\n",
       "  0.48276529678135116,\n",
       "  0.4299990646265194,\n",
       "  0.38741150356761417,\n",
       "  0.36943035932844853,\n",
       "  0.3262108643725644,\n",
       "  0.3273855574879894,\n",
       "  0.3187085638154012,\n",
       "  0.3041477707891983,\n",
       "  0.3200656126947602,\n",
       "  0.35053763829840817,\n",
       "  0.3511426118122198,\n",
       "  0.3265406337795046,\n",
       "  0.3379645973498814,\n",
       "  0.34320130918034497,\n",
       "  0.30879861639987405,\n",
       "  0.34582499215050916,\n",
       "  0.3751983656436977,\n",
       "  0.37849606350089265,\n",
       "  0.38371394623329286,\n",
       "  0.42697359437699006,\n",
       "  0.4101671724896972,\n",
       "  0.36391881206586535,\n",
       "  0.3433694860894441,\n",
       "  0.36982506651440844,\n",
       "  0.34892217174503676,\n",
       "  0.3943202417597044,\n",
       "  0.4137614877940697,\n",
       "  0.42201372008539156,\n",
       "  0.42418441630348247,\n",
       "  0.4819732713283138,\n",
       "  0.47517276181832263,\n",
       "  0.47560499755303703,\n",
       "  0.476545316732697,\n",
       "  0.4794025019370463,\n",
       "  0.4512597247024072,\n",
       "  0.4882615816543251,\n",
       "  0.5084870008888138,\n",
       "  0.5407860756136139,\n",
       "  0.4967827185099272,\n",
       "  0.5060079423094811,\n",
       "  0.523561121129407,\n",
       "  0.5367183510599544,\n",
       "  0.5208306481769105,\n",
       "  0.563358292065836,\n",
       "  0.5190095660348528,\n",
       "  0.5284414043301282,\n",
       "  0.5435909111113101,\n",
       "  0.5564560099458672,\n",
       "  0.5300461222245725,\n",
       "  0.5042849390649303,\n",
       "  0.5244764014263164,\n",
       "  0.5055877828432134,\n",
       "  0.5181521994659767,\n",
       "  0.5783799333975985,\n",
       "  0.5964915747724095,\n",
       "  0.5433991604408649,\n",
       "  0.5428822817875205,\n",
       "  0.5873748561759502,\n",
       "  0.5770754385741843,\n",
       "  0.5903094464891682,\n",
       "  0.5528881399697231,\n",
       "  0.5264273910294232,\n",
       "  0.5124000239980685,\n",
       "  0.5405196847958703,\n",
       "  0.5688176753716468,\n",
       "  0.5231777251567364,\n",
       "  0.5276115713062653,\n",
       "  0.5173811324839911,\n",
       "  0.47297256901081336,\n",
       "  0.4682738591435881,\n",
       "  0.4785290964568067,\n",
       "  0.47878512598937734,\n",
       "  0.47384532822105,\n",
       "  0.4281166509750767,\n",
       "  0.40758193533260123,\n",
       "  0.4042333933827785,\n",
       "  0.44690798227380557,\n",
       "  0.485370556836117,\n",
       "  0.46303339907638824,\n",
       "  0.44837204409508813,\n",
       "  0.48039447241099303,\n",
       "  0.5292795955651562,\n",
       "  0.5470282584728193,\n",
       "  0.5502134012533304,\n",
       "  0.5757196199353078,\n",
       "  0.599837255087152,\n",
       "  0.5740290694330813,\n",
       "  0.579751066779149,\n",
       "  0.5941875635278535,\n",
       "  0.6291617085145543,\n",
       "  0.6129576768692355,\n",
       "  0.5584673051269928,\n",
       "  0.5670197989789058,\n",
       "  0.558611302121605,\n",
       "  0.5950170612106468,\n",
       "  0.5900673119045459,\n",
       "  0.5902960536080053,\n",
       "  0.5526907554421402,\n",
       "  0.5524531167895513,\n",
       "  0.5130412557858627,\n",
       "  0.525061898548079,\n",
       "  0.5330274856333602,\n",
       "  0.5309474341231196,\n",
       "  0.5744557454461813,\n",
       "  0.5351144648564599,\n",
       "  0.5662138144333088,\n",
       "  0.5618525381813239,\n",
       "  0.5037292058539135,\n",
       "  0.4944108874433083,\n",
       "  0.5015476990866504,\n",
       "  0.5140748736595155,\n",
       "  0.5132331253770661,\n",
       "  0.5114190896911285,\n",
       "  0.529745809528265,\n",
       "  0.5624583638097064,\n",
       "  0.5298330174931388,\n",
       "  0.5276196172736263,\n",
       "  0.4789133916453981,\n",
       "  0.4252119354877601,\n",
       "  0.43397044652684563,\n",
       "  0.4566102901125849,\n",
       "  0.48728841246095717,\n",
       "  0.5463503726950614,\n",
       "  0.5719887620423212,\n",
       "  0.5327230559583962,\n",
       "  0.5326496036140697,\n",
       "  0.5326004159591774,\n",
       "  0.5106993679838496,\n",
       "  0.5143810750815093,\n",
       "  0.4683663764804269,\n",
       "  0.45083723445306295,\n",
       "  0.4717891374384388,\n",
       "  0.4595431017145319,\n",
       "  0.47006910854887285,\n",
       "  0.5181647655904926,\n",
       "  0.48684779622882335,\n",
       "  0.4569218860522951,\n",
       "  0.40640963507581895,\n",
       "  0.3919863701462588,\n",
       "  0.4231079468415462,\n",
       "  0.37749591233661156,\n",
       "  0.38302899644551847,\n",
       "  0.4074220315160224,\n",
       "  0.4274121913496411,\n",
       "  0.4819148317185873,\n",
       "  0.4938429041532953,\n",
       "  0.45173290853072634,\n",
       "  0.48086534580286655,\n",
       "  0.47156506440839613,\n",
       "  0.4491578444672884,\n",
       "  0.42373161953285093,\n",
       "  0.4167281509279442,\n",
       "  0.4710748302005529,\n",
       "  0.47468346853062454,\n",
       "  0.4648544169740534,\n",
       "  0.48798844288363935,\n",
       "  0.4481562057362789,\n",
       "  0.4271353737031735,\n",
       "  0.4233439057456889,\n",
       "  0.4273832756581825,\n",
       "  0.472434803628044,\n",
       "  0.4629649485670951,\n",
       "  0.44551049350468375,\n",
       "  0.480022342575424,\n",
       "  0.5018825216688013,\n",
       "  0.5354353872735353,\n",
       "  0.5806142977088047,\n",
       "  0.559231017863797,\n",
       "  0.5568000933174455,\n",
       "  0.5531355346324139,\n",
       "  0.5436339735112415,\n",
       "  0.5391739958456525,\n",
       "  0.5404009275347287,\n",
       "  0.4982272412946444,\n",
       "  0.49913147065339686,\n",
       "  0.4643385197225186,\n",
       "  0.5003817346815704,\n",
       "  0.52893325536382,\n",
       "  0.5504617648463163,\n",
       "  0.511163475862906,\n",
       "  0.4954215490206925,\n",
       "  0.47135832279665385,\n",
       "  0.4483517039973374,\n",
       "  0.48755495559550877,\n",
       "  0.5110148211027511,\n",
       "  0.5107140352267513,\n",
       "  0.5165775158644625,\n",
       "  0.5474346257843558,\n",
       "  0.5673145399678496,\n",
       "  0.5414869281532899,\n",
       "  0.5279666457107534,\n",
       "  0.4858575453063254,\n",
       "  0.45921042661019695,\n",
       "  0.40131662738502444,\n",
       "  0.4120317076367966,\n",
       "  0.39630717914933133,\n",
       "  0.379499737653824,\n",
       "  0.400742867432321,\n",
       "  0.36365531973853304,\n",
       "  0.3569009538959124,\n",
       "  0.3695977347677539,\n",
       "  0.40481877290968377,\n",
       "  0.37881571837506106,\n",
       "  0.3736453283503684,\n",
       "  0.38691339193336965,\n",
       "  0.3757139907579476,\n",
       "  0.43763758545972653,\n",
       "  0.43293643936263887,\n",
       "  0.47986186930360725,\n",
       "  0.5087746103855116,\n",
       "  0.5588168621991104,\n",
       "  0.5751271429016759,\n",
       "  0.5398935189695759,\n",
       "  0.5547959656786329,\n",
       "  0.5632741111005259,\n",
       "  0.5499560078752279,\n",
       "  0.5520299958696333,\n",
       "  0.55119673259389,\n",
       "  0.5784668718236261,\n",
       "  0.527585301967047,\n",
       "  0.543516081400178,\n",
       "  0.5404401037162566,\n",
       "  0.582481048557081,\n",
       "  0.5912107008244718,\n",
       "  0.5815988775646495,\n",
       "  0.5765745269420499,\n",
       "  0.6012286053758672,\n",
       "  0.6059804141133848,\n",
       "  0.6005323974414508,\n",
       "  0.5497683977442155,\n",
       "  0.5778573949174253,\n",
       "  0.562792057716742,\n",
       "  0.5701857751012211,\n",
       "  0.513781276364883,\n",
       "  0.5758896721931656,\n",
       "  0.6087019355672665,\n",
       "  0.5851140454124937,\n",
       "  0.5676154701458942,\n",
       "  0.5638913967681998,\n",
       "  0.5380641404598984,\n",
       "  0.5146991777476481,\n",
       "  0.491304108787301,\n",
       "  0.4966250572424642,\n",
       "  0.46940975736572205,\n",
       "  0.5019792173822512,\n",
       "  0.4821031794042244,\n",
       "  0.4756248388637031,\n",
       "  0.462940520397679,\n",
       "  0.48230913708692136,\n",
       "  0.42730235246248954,\n",
       "  0.38176077825669574,\n",
       "  0.3624169807582496,\n",
       "  0.38158742935826145,\n",
       "  0.35135440580716093,\n",
       "  0.34787257076040645,\n",
       "  0.3623215359785512,\n",
       "  0.355312236538604,\n",
       "  0.33861277524329486,\n",
       "  0.3722323243807354,\n",
       "  0.36252970941787743,\n",
       "  0.3780067567540403,\n",
       "  0.36918764502497314,\n",
       "  0.41080041168195175,\n",
       "  0.4358989787136035,\n",
       "  0.44257168279406517,\n",
       "  0.4672345651560999,\n",
       "  0.481882159733831,\n",
       "  0.44162400667073826,\n",
       "  0.4425872613275695,\n",
       "  0.453208946832042,\n",
       "  0.4728419189329026,\n",
       "  0.5184537143023941,\n",
       "  0.5363035936639717,\n",
       "  0.5441511560476967,\n",
       "  0.5139710043013086,\n",
       "  0.4754851240271115,\n",
       "  0.4803767742643443,\n",
       "  0.4931041708168967,\n",
       "  0.454973889590014,\n",
       "  0.49015076849903316,\n",
       "  0.5160132564096688,\n",
       "  0.5048782660265695,\n",
       "  0.5360445913308393,\n",
       "  0.5651609239687883,\n",
       "  0.55257471705276,\n",
       "  0.5388642609462239,\n",
       "  0.526778363128697,\n",
       "  0.5480685258870371,\n",
       "  0.5620593234383982,\n",
       "  0.6186197919553945,\n",
       "  0.677854953871192,\n",
       "  0.6818243528723481,\n",
       "  0.6350811406230138,\n",
       "  0.6411563191643171,\n",
       "  0.6045957078116018,\n",
       "  0.5836962264930851,\n",
       "  0.6134260986818274,\n",
       "  0.570731182451119,\n",
       "  0.5595742046591784,\n",
       "  0.582610133500508,\n",
       "  0.5590567231704414,\n",
       "  0.5442992356849763,\n",
       "  0.5156472588309945,\n",
       "  0.507221859602594,\n",
       "  0.45016214735060733,\n",
       "  0.4515716300961607,\n",
       "  0.46735236604483565,\n",
       "  0.4974972064965467,\n",
       "  0.49862592888119556,\n",
       "  0.5449755423202521,\n",
       "  0.5709703082055373,\n",
       "  0.5297287111625396,\n",
       "  0.5779703131074415,\n",
       "  0.5886566066365119,\n",
       "  0.5848275461662767,\n",
       "  0.6083226300636049,\n",
       "  0.6036561585850161,\n",
       "  0.6542901352912662,\n",
       "  0.6703775604718852,\n",
       "  0.6931538688374601,\n",
       "  0.68125323368094,\n",
       "  0.6562517575431313,\n",
       "  0.6253388053232067,\n",
       "  0.6292015408038836,\n",
       "  0.5767660197867108,\n",
       "  0.5733957479217531,\n",
       "  0.6280822759899313,\n",
       "  0.5843109081292752,\n",
       "  0.568227456305511,\n",
       "  0.551461239065151,\n",
       "  0.5126400567041549,\n",
       "  0.5026678422173085,\n",
       "  0.45759508011435657,\n",
       "  0.44281969898058826,\n",
       "  0.4175967418561797,\n",
       "  0.37673855339836143,\n",
       "  0.37712865198098816,\n",
       "  0.3675473489411613,\n",
       "  0.3876846363865091,\n",
       "  0.4196378006360865,\n",
       "  0.41473430670143047,\n",
       "  0.3645464224108333,\n",
       "  0.3755860811545475,\n",
       "  0.3716967711255935,\n",
       "  0.3626968777592168,\n",
       "  0.39387341458596137,\n",
       "  0.3909005288951742,\n",
       "  0.4199212476621948,\n",
       "  0.4226888414740778,\n",
       "  0.47633188575472857,\n",
       "  0.5285837127958462,\n",
       "  0.5356906417095749,\n",
       "  0.5670089488257845,\n",
       "  0.5822203562431955,\n",
       "  0.5931163460619204,\n",
       "  0.5754638312955318,\n",
       "  0.5872405359009372,\n",
       "  0.5871915913790686,\n",
       "  0.558244909911163,\n",
       "  0.5938664693885196,\n",
       "  0.5626886991970335,\n",
       "  0.5957808995462357,\n",
       "  0.5865648953583816,\n",
       "  0.5981552027196033,\n",
       "  0.5949826053655621,\n",
       "  0.5949761837009092,\n",
       "  0.5677239843085051,\n",
       "  0.5683614639086966,\n",
       "  0.5494868363998173,\n",
       "  0.5189657744966903,\n",
       "  0.5144649650846546,\n",
       "  0.5127024570071266,\n",
       "  0.5289922253816521,\n",
       "  0.5218392593293003,\n",
       "  0.4974902755119102,\n",
       "  0.5195889830591498,\n",
       "  0.49009124662802767,\n",
       "  0.48036562381658726,\n",
       "  0.4682417559756314,\n",
       "  0.4630649042496058,\n",
       "  0.43098352747038277,\n",
       "  0.4650551427305412,\n",
       "  0.45686759193181625,\n",
       "  0.43228997614989795,\n",
       "  0.4117982561875701,\n",
       "  0.3967708404144317,\n",
       "  0.4128605360884528,\n",
       "  0.4364118002030695,\n",
       "  0.491650235672379,\n",
       "  0.4962266273896299,\n",
       "  0.532057694143641,\n",
       "  0.5425098131868805,\n",
       "  0.5715225290915671,\n",
       "  0.5465810644321658,\n",
       "  0.5506622466838942,\n",
       "  0.5836817505726256,\n",
       "  0.5608596406076785,\n",
       "  0.5470432814984966,\n",
       "  0.5747845920512288,\n",
       "  0.6099232935509941,\n",
       "  0.6153766789093763,\n",
       "  0.5757336818016022,\n",
       "  0.5429003290375429,\n",
       "  0.5159968771785516,\n",
       "  0.5089496681030264,\n",
       "  0.5005648123649014,\n",
       "  0.50875461591239,\n",
       "  0.5020371029981453,\n",
       "  0.5346333583552212,\n",
       "  0.5349095480776483,\n",
       "  0.5019169054564726,\n",
       "  0.5312790219843974,\n",
       "  0.5626151936698626,\n",
       "  0.5645293087322413,\n",
       "  0.5711105872865493,\n",
       "  0.5742823834867719,\n",
       "  0.6159985694328077,\n",
       "  0.6323032273885293,\n",
       "  0.666386459884217,\n",
       "  0.6915345674597173,\n",
       "  0.6905360846346199,\n",
       "  0.7027408688386493,\n",
       "  0.7081738734745069,\n",
       "  0.6886774216807134,\n",
       "  0.6620558633348165,\n",
       "  0.6468479437623559,\n",
       "  0.6443313895475548,\n",
       "  0.6599038345020831,\n",
       "  0.6529372560447191,\n",
       "  0.6210968965959754,\n",
       "  0.6494953172765711,\n",
       "  0.639847387118163,\n",
       "  0.628738728273667,\n",
       "  0.5692900682941163,\n",
       "  0.5511438841220678,\n",
       "  0.5443758573789764,\n",
       "  0.5213823921125208,\n",
       "  0.49070582221902226,\n",
       "  0.494131231830265,\n",
       "  0.47215065176435844,\n",
       "  0.48832267434145876,\n",
       "  0.5041964789059781,\n",
       "  0.49196351338099725,\n",
       "  0.48247531141128613,\n",
       "  0.5182645293670168,\n",
       "  0.5030657716415855,\n",
       "  0.48468885914632553,\n",
       "  0.46739590597643677,\n",
       "  0.5234383879666574,\n",
       "  0.5073576071276931,\n",
       "  0.4627000812647205,\n",
       "  0.48990539989475307,\n",
       "  0.5011067634939471,\n",
       "  0.48186440529888713,\n",
       "  0.5146495742811904,\n",
       "  0.5299537137062984,\n",
       "  0.4781154811966303,\n",
       "  0.47562344161650016,\n",
       "  0.496390992959342,\n",
       "  0.5047973401350031,\n",
       "  0.48244845442568174,\n",
       "  0.5091669170377903,\n",
       "  0.5107939535473665,\n",
       "  0.4891285791420669,\n",
       "  0.4826814965902846,\n",
       "  0.5303403530816947,\n",
       "  0.5327430380186462,\n",
       "  0.5198394242015839,\n",
       "  0.5101134505909201,\n",
       "  0.5402647502524666,\n",
       "  0.5382623919124838,\n",
       "  0.5832783262029545,\n",
       "  0.5417761579830135,\n",
       "  0.5541732455332089,\n",
       "  0.541336486664493,\n",
       "  0.5444543880354882,\n",
       "  0.5325943408507025,\n",
       "  0.567892948525871,\n",
       "  0.5828507673466335,\n",
       "  0.5840199604301362,\n",
       "  0.5730945524605827,\n",
       "  0.5263553299840266,\n",
       "  0.5692490813783253,\n",
       "  0.5839996143445148,\n",
       "  0.5806233868876782,\n",
       "  0.5820605556566963,\n",
       "  0.5662250411334265,\n",
       "  0.5816550115605917,\n",
       "  0.5568016123107322,\n",
       "  0.5245461243600222,\n",
       "  0.5126507136265371,\n",
       "  0.5315829898494207,\n",
       "  0.5048827748382488,\n",
       "  0.5026137318752927,\n",
       "  0.5059865809241146,\n",
       "  0.5121380233892341,\n",
       "  0.5489945166488753,\n",
       "  0.5044909199700419,\n",
       "  0.48201151180829577,\n",
       "  0.44760236847388574,\n",
       "  0.43187661217658857,\n",
       "  0.3981242328634003,\n",
       "  0.3931093814649269,\n",
       "  0.36169276345896667,\n",
       "  0.3922856854535039,\n",
       "  0.4423375607957121,\n",
       "  0.40905809577730967,\n",
       "  0.38729967361353446,\n",
       "  0.38413615914237115,\n",
       "  0.42243062280076604,\n",
       "  0.43882818576204063,\n",
       "  0.43180832112383555,\n",
       "  0.43427147343046124,\n",
       "  0.4830370190405288,\n",
       "  0.4644409690422614,\n",
       "  0.4777926648997475,\n",
       "  0.4774764405366709,\n",
       "  0.4916727396466452,\n",
       "  0.5209847282190918,\n",
       "  0.5063434416509115,\n",
       "  0.45832487201308253,\n",
       "  0.4593355067892563,\n",
       "  0.5116979442307945,\n",
       "  0.49560809158901503,\n",
       "  0.47994290398460326,\n",
       "  0.4297952660434212,\n",
       "  0.4365790061742766,\n",
       "  0.4357572790739678,\n",
       "  0.41947394370432683,\n",
       "  0.47223527420983963,\n",
       "  0.4923523722562638,\n",
       "  0.4890848455270311,\n",
       "  0.515600643187784,\n",
       "  0.5397716394516975,\n",
       "  0.5358836503966884,\n",
       "  0.5501869868751977,\n",
       "  0.5734227500134714,\n",
       "  0.580002098911526,\n",
       "  0.575825618147896,\n",
       "  0.5958321130845562,\n",
       "  0.6322756804570905,\n",
       "  0.5947648818517366,\n",
       "  0.6336690592661758,\n",
       "  0.5951065569397699,\n",
       "  0.5441526360898405,\n",
       "  0.5221804896898871,\n",
       "  0.5229072722449369,\n",
       "  0.4950437504946363,\n",
       "  0.44653648603903967,\n",
       "  0.45609080848210976,\n",
       "  0.4865463230002753,\n",
       "  0.5082683624451322,\n",
       "  0.4493769897352104,\n",
       "  0.4267718672905986,\n",
       "  0.4241447917300593,\n",
       "  0.3764284087334884,\n",
       "  0.3845162210911629,\n",
       "  0.3314333409130954,\n",
       "  0.3364904512042382,\n",
       "  0.328653427182769,\n",
       "  0.32683354716797997,\n",
       "  0.37266651925471095,\n",
       "  0.39315195198034375,\n",
       "  0.4408615462064299,\n",
       "  0.4542033405161258,\n",
       "  0.42418477944417526,\n",
       "  0.4058500242686303,\n",
       "  0.4681250354717516,\n",
       "  0.5068418072287108,\n",
       "  0.4670063204771646,\n",
       "  0.46816427464078764,\n",
       "  0.5122693236187044,\n",
       "  0.5438065756587958,\n",
       "  0.5610450447023502,\n",
       "  0.5995603686980966,\n",
       "  0.5944100075913379,\n",
       "  0.5795805079144504,\n",
       "  0.5378493922791691,\n",
       "  0.5050230443096964,\n",
       "  0.4883319666057535,\n",
       "  0.47564306080131974,\n",
       "  0.49224587463548614,\n",
       "  0.4558808725696279,\n",
       "  0.4572663613949074,\n",
       "  0.48863000908515836,\n",
       "  0.5341699400559949,\n",
       "  0.5198998928008352,\n",
       "  0.5306807596904946,\n",
       "  0.5241451564598516,\n",
       "  0.5488818849286426,\n",
       "  0.5215986954433351,\n",
       "  0.5480304035975189,\n",
       "  0.6009480124760593,\n",
       "  0.6342104617296481,\n",
       "  0.610221210522847,\n",
       "  0.6030111933785178,\n",
       "  0.5985412314454389,\n",
       "  0.6015443680510626,\n",
       "  0.5820688697667613,\n",
       "  0.6001449379523254,\n",
       "  0.5532672629534677,\n",
       "  0.5406239138129949,\n",
       "  0.5200333321137687,\n",
       "  0.5118081607056296,\n",
       "  0.47306046644516897,\n",
       "  0.5101696431802785,\n",
       "  0.5077475241204855,\n",
       "  0.4524175865375376,\n",
       "  0.4305739376990791,\n",
       "  0.4330782937122607,\n",
       "  0.48035665195966976,\n",
       "  0.4318719504399619,\n",
       "  0.4028737167434252,\n",
       "  0.4038059174727161,\n",
       "  0.38700049762451233,\n",
       "  0.4052064148083661,\n",
       "  0.378442404531529,\n",
       "  0.4018572342604933,\n",
       "  0.4471049848515938,\n",
       "  0.4778164205840328,\n",
       "  0.4508895584809365,\n",
       "  0.4203905419353741,\n",
       "  0.4351085607881015,\n",
       "  0.4372864230823293,\n",
       "  0.4532684611992953,\n",
       "  0.42248645311956085,\n",
       "  0.4690088623844295,\n",
       "  0.5304823849859684,\n",
       "  0.5438093261299332,\n",
       "  0.5019481098375104,\n",
       "  0.5245726591466545,\n",
       "  0.54581311369299,\n",
       "  0.5587103360223994,\n",
       "  0.5528744769059196,\n",
       "  0.5514695640882288,\n",
       "  0.5779723498831724,\n",
       "  0.5853582595343336,\n",
       "  0.6287868193725917,\n",
       "  0.6470827908186919,\n",
       "  0.6444973722069973,\n",
       "  0.6323886094910686,\n",
       "  0.6048373061829325,\n",
       "  0.5758227403517567,\n",
       "  0.5433720583913482,\n",
       "  0.5594181488137416,\n",
       "  0.5542401975822329,\n",
       "  0.5272377242958176,\n",
       "  0.5156989322619854,\n",
       "  0.5111479689643381,\n",
       "  0.4764055733031751,\n",
       "  0.44954122137430547,\n",
       "  0.43734103037440075,\n",
       "  0.3992390506662019,\n",
       "  0.3936988314829183,\n",
       "  0.4076808961400465,\n",
       "  0.43228732961202904,\n",
       "  0.41751430495757713,\n",
       "  0.44373699361391983,\n",
       "  0.4589498495367002,\n",
       "  0.45776219393219025,\n",
       "  0.4240248922979139,\n",
       "  0.4864140231779101,\n",
       "  0.46406396753060536,\n",
       "  0.4815151469706685,\n",
       "  0.5224462850311832,\n",
       "  0.5672083624927279,\n",
       "  0.5980759056223075,\n",
       "  0.6380862075547188,\n",
       "  0.6496712440008057,\n",
       "  0.6696919653804678,\n",
       "  0.6435888199633251,\n",
       "  0.6685858348509867,\n",
       "  0.6459982355567482,\n",
       "  0.6904598755110031,\n",
       "  0.720885482016206,\n",
       "  0.7631568204800142,\n",
       "  0.7476393174861902,\n",
       "  0.7397646456378048,\n",
       "  0.7417265670082043,\n",
       "  0.722785476816054,\n",
       "  0.6849736411728323,\n",
       "  0.6615697938105721,\n",
       "  0.6651905739518668,\n",
       "  0.6391798455372989,\n",
       "  0.5969418360511857,\n",
       "  0.5978600879239433,\n",
       "  0.6087621195487372,\n",
       "  0.6079068874094619,\n",
       "  0.6021941362895517,\n",
       "  0.5622375892284261,\n",
       "  0.5427837623665538,\n",
       "  0.5415378411526565,\n",
       "  0.5207729924739105,\n",
       "  0.4645669157235951,\n",
       "  0.4580473831777812,\n",
       "  0.44892435704880834,\n",
       "  0.42508209164458566,\n",
       "  0.37721160105699425,\n",
       "  0.38387911374387973,\n",
       "  0.40778444047387274,\n",
       "  0.40312722490099145,\n",
       "  0.3621651748271891,\n",
       "  0.3813552722207679,\n",
       "  0.36378411884104067,\n",
       "  0.36303524645420343,\n",
       "  0.39308359669543436,\n",
       "  0.34600954100916653,\n",
       "  0.36720952490810677,\n",
       "  0.4171033469363845,\n",
       "  0.428074714358198,\n",
       "  0.4292762603046356,\n",
       "  0.4815658535224261,\n",
       "  0.5039912157055013,\n",
       "  0.5195480311348528,\n",
       "  0.5439757602816261,\n",
       "  0.5671055814018502,\n",
       "  0.6072915075476363,\n",
       "  0.5868814624082649,\n",
       "  0.6069812142336778,\n",
       "  0.6486341132062496,\n",
       "  0.6395664087475179,\n",
       "  0.6923786081664814,\n",
       "  0.734382285493066,\n",
       "  0.6949777153906909,\n",
       "  0.6610500632506436,\n",
       "  0.6919187570951476,\n",
       "  0.6838554915034524,\n",
       "  0.6782692112680309,\n",
       "  0.6530413775686221,\n",
       "  0.6204380239990266,\n",
       "  0.6509215475356862,\n",
       "  0.6589636501959851,\n",
       "  0.6616384024279081,\n",
       "  0.6013306588601834,\n",
       "  0.6048627156218276,\n",
       "  0.5870383941003607,\n",
       "  0.5454202710059807,\n",
       "  0.49883322587271434,\n",
       "  0.5278181119004717,\n",
       "  0.5147610084118737,\n",
       "  0.47297846400257704,\n",
       "  0.44179987241929297,\n",
       "  0.4666603762507294,\n",
       "  0.48397935130154596,\n",
       "  0.521782594978727,\n",
       "  0.49913804891447905,\n",
       "  0.484187138910256,\n",
       "  0.48197241948407593,\n",
       "  0.514339628113729,\n",
       "  0.493732893237764,\n",
       "  0.5177404848034068,\n",
       "  0.5686476985694565,\n",
       "  0.5759107981736925,\n",
       "  0.5718195159544918,\n",
       "  0.5919696712363881,\n",
       "  0.6040940538460529,\n",
       "  0.6176716347607943,\n",
       "  0.597610054990147,\n",
       "  0.584485656826668,\n",
       "  0.5848715219974169,\n",
       "  0.5595343552150456,\n",
       "  0.563847434242288,\n",
       "  0.5933910477067583,\n",
       "  0.6074249192233991,\n",
       "  0.6090161154309144,\n",
       "  0.5790024888624374,\n",
       "  0.5422538321145449,\n",
       "  0.5774686536400703,\n",
       "  0.5951596674381653,\n",
       "  0.619287459541162,\n",
       "  0.6590766265676088,\n",
       "  0.6869997131739961,\n",
       "  0.7043381072319909,\n",
       "  0.6932328889488374,\n",
       "  0.6590852182315012,\n",
       "  0.7012809692671101,\n",
       "  0.6836788770537929,\n",
       "  0.6673343970499179,\n",
       "  0.6503534033553974,\n",
       "  0.6350622560996037,\n",
       "  0.6409145984382957,\n",
       "  0.6218726366105056,\n",
       "  0.5830708808472647,\n",
       "  0.5510618129131325,\n",
       "  0.5076276320855319,\n",
       "  0.4591827042160806,\n",
       "  0.41485399739414947,\n",
       "  0.4156233612953177,\n",
       "  0.4293674242342471,\n",
       "  0.4175527751677552,\n",
       "  0.43100738807421685,\n",
       "  0.42335989275636926,\n",
       "  0.4076548613192016,\n",
       "  0.42486148827691544,\n",
       "  0.4485134372878123,\n",
       "  0.4470037303795332,\n",
       "  0.49103627945792144,\n",
       "  0.4997894361550601,\n",
       "  0.519807478620787,\n",
       "  0.5513550095869604,\n",
       "  0.6046497236741347,\n",
       "  0.635046183202619,\n",
       "  0.5839457304304997,\n",
       "  0.5532719297335617,\n",
       "  0.5985632557795387,\n",
       "  0.5473300343466018,\n",
       "  0.5318777309391167,\n",
       "  0.5145067583397475,\n",
       "  0.49719124313644525,\n",
       "  0.5145811112494848,\n",
       "  0.5122895924588409,\n",
       "  0.5087234521615196,\n",
       "  0.5319613465314456,\n",
       "  0.49020780986901846,\n",
       "  0.4982421707772236,\n",
       "  0.49986148227332633,\n",
       "  0.4887558841579789,\n",
       "  0.5182964802444799,\n",
       "  0.5327786410714486,\n",
       "  0.5314180143053564,\n",
       "  0.5807760718817115,\n",
       "  0.5859116585563501,\n",
       "  0.6058856660254454,\n",
       "  0.6018751441864851,\n",
       "  0.5831736507653719,\n",
       "  0.5644747663902098,\n",
       "  0.5339300132644624,\n",
       "  0.49688940373387724,\n",
       "  0.5229261318464926,\n",
       "  0.5350188571578847,\n",
       "  0.5258230674615105,\n",
       "  0.541611578894686,\n",
       "  0.5510996226909037,\n",
       "  0.5337989706336546,\n",
       "  0.4967064158022483,\n",
       "  0.47664657468660165,\n",
       "  0.4893851035081884,\n",
       "  0.48638407263537337,\n",
       "  0.5187473481028155,\n",
       "  0.4817147398445832,\n",
       "  0.5307300743335638,\n",
       "  0.5200964330829232,\n",
       "  0.527270503478251,\n",
       "  0.5556489344295221,\n",
       "  0.516176749584194,\n",
       "  0.493703090570453,\n",
       "  0.46904845007912493,\n",
       "  0.4831244799812638,\n",
       "  0.5434492758583621,\n",
       "  0.5367076417205046,\n",
       "  0.524959303073998,\n",
       "  0.5650097943316273,\n",
       "  0.5674749462848669,\n",
       "  0.5214447181447259,\n",
       "  0.5643450698366899,\n",
       "  0.529892579517804,\n",
       "  0.5552355595220182,\n",
       "  0.5300487243642167,\n",
       "  0.535620567067884,\n",
       "  0.5660260537806155,\n",
       "  0.5930307351232323,\n",
       "  0.6298361517497769,\n",
       "  0.5884752450501243,\n",
       "  0.5583733303903542,\n",
       "  0.5684839085453419,\n",
       "  0.5863091535435438,\n",
       "  0.582801187884718,\n",
       "  0.5617188201838699,\n",
       "  0.5657148017388678,\n",
       "  0.562154750726229,\n",
       "  0.5867662339352139,\n",
       "  0.6014520456055817,\n",
       "  0.6479653549296541,\n",
       "  0.6291183218050219,\n",
       "  0.6323836007898618,\n",
       "  0.6177468474697588,\n",
       "  0.6002519318142793],\n",
       " [0.3267445671281217,\n",
       "  0.3205082866816279,\n",
       "  0.36176716078794957,\n",
       "  0.3793202680698703,\n",
       "  0.4162564938549021,\n",
       "  0.40847660028070853,\n",
       "  0.42677206792437916,\n",
       "  0.4613118201731074,\n",
       "  0.46686464235887515,\n",
       "  0.5145650218554352,\n",
       "  0.5177411230715676,\n",
       "  0.4746126150749171,\n",
       "  0.4611053700898605,\n",
       "  0.463809922189952,\n",
       "  0.4926133397187622,\n",
       "  0.47670812001084734,\n",
       "  0.44305376977526506,\n",
       "  0.46236300441105815,\n",
       "  0.46240378741416766,\n",
       "  0.42628182049376556,\n",
       "  0.42658302789056085,\n",
       "  0.4109084490037319,\n",
       "  0.4244954135276414,\n",
       "  0.411876551615064,\n",
       "  0.38230249308547026,\n",
       "  0.39588138981883964,\n",
       "  0.35732320858569633,\n",
       "  0.30556216433007427,\n",
       "  0.35303204624942836,\n",
       "  0.3842678381117208,\n",
       "  0.39020206694342374,\n",
       "  0.3458936612443772,\n",
       "  0.38185478915542737,\n",
       "  0.41969873807687896,\n",
       "  0.4019795253841195,\n",
       "  0.4198415487832525,\n",
       "  0.44924112180150155,\n",
       "  0.4653178380394255,\n",
       "  0.49123715247575545,\n",
       "  0.5023561259877461,\n",
       "  0.5376013702073545,\n",
       "  0.5641616366236123,\n",
       "  0.5549713451645055,\n",
       "  0.5724889329029217,\n",
       "  0.6231353620538597,\n",
       "  0.6236423880989034,\n",
       "  0.6206323585652073,\n",
       "  0.6174975288622724,\n",
       "  0.608592797347956,\n",
       "  0.5644867127224855,\n",
       "  0.5608077550024275,\n",
       "  0.5780679926197785,\n",
       "  0.5686745935738327,\n",
       "  0.5585166143858847,\n",
       "  0.5580371433488467,\n",
       "  0.5426280400372507,\n",
       "  0.5398395706572638,\n",
       "  0.5168352139966896,\n",
       "  0.5073129152811549,\n",
       "  0.5352584508145213,\n",
       "  0.5313383220774381,\n",
       "  0.5025604452616952,\n",
       "  0.48158962773428016,\n",
       "  0.4536067538158864,\n",
       "  0.42151763807317905,\n",
       "  0.4608621238645022,\n",
       "  0.504417873497832,\n",
       "  0.49240490189934694,\n",
       "  0.49118641290388465,\n",
       "  0.49103004792015703,\n",
       "  0.48829121245223517,\n",
       "  0.504705087480053,\n",
       "  0.5103543409699632,\n",
       "  0.520055189672795,\n",
       "  0.5448391984302059,\n",
       "  0.5285891772427371,\n",
       "  0.5130202977243543,\n",
       "  0.5384043548217146,\n",
       "  0.5492596320474191,\n",
       "  0.5474618797796785,\n",
       "  0.5615621452781794,\n",
       "  0.5912391464022807,\n",
       "  0.6061646871585389,\n",
       "  0.5486659466962283,\n",
       "  0.5598701527100713,\n",
       "  0.5849811071540459,\n",
       "  0.6270887767993593,\n",
       "  0.6411043564111071,\n",
       "  0.6309316071954568,\n",
       "  0.6161172038832334,\n",
       "  0.6173960519025629,\n",
       "  0.5918549284183041,\n",
       "  0.5814988795628762,\n",
       "  0.602454084973994,\n",
       "  0.5799559641274122,\n",
       "  0.5577232942671735,\n",
       "  0.5604049845917731,\n",
       "  0.5730900219321445,\n",
       "  0.5618425898779507,\n",
       "  0.5258991567931229,\n",
       "  0.557238548927679,\n",
       "  0.5478170324678036,\n",
       "  0.5355797708711707,\n",
       "  0.5104013720049188,\n",
       "  0.46848793507848613,\n",
       "  0.4343976486316946,\n",
       "  0.41431135306790523,\n",
       "  0.41567035342085007,\n",
       "  0.44125377584233094,\n",
       "  0.48491940190448896,\n",
       "  0.48063042587265686,\n",
       "  0.495126780971734,\n",
       "  0.49838881743703767,\n",
       "  0.5182137800749926,\n",
       "  0.5292836867344617,\n",
       "  0.5131921675143994,\n",
       "  0.4938164446377762,\n",
       "  0.46299769047230366,\n",
       "  0.47076812120493267,\n",
       "  0.4494214600796796,\n",
       "  0.42891215579701103,\n",
       "  0.46401963227163656,\n",
       "  0.4707736224374879,\n",
       "  0.46443857064879746,\n",
       "  0.4394482561732331,\n",
       "  0.41982305253762653,\n",
       "  0.38274693522262665,\n",
       "  0.3519126337039904,\n",
       "  0.34574513703484816,\n",
       "  0.3574749952676928,\n",
       "  0.3269018737449416,\n",
       "  0.31517584367032825,\n",
       "  0.3116699871896276,\n",
       "  0.33342683863938705,\n",
       "  0.357330291832579,\n",
       "  0.32394514650899753,\n",
       "  0.3156629386732322,\n",
       "  0.36215293120627107,\n",
       "  0.35540668984016516,\n",
       "  0.34744599151400496,\n",
       "  0.3789832421906619,\n",
       "  0.41765466240737015,\n",
       "  0.3878568806109745,\n",
       "  0.3790168555877608,\n",
       "  0.3715784616807411,\n",
       "  0.37200467024406564,\n",
       "  0.3546826680431268,\n",
       "  0.377188777541049,\n",
       "  0.3892125881943824,\n",
       "  0.4198636226618482,\n",
       "  0.41010142520662507,\n",
       "  0.4427294157130255,\n",
       "  0.4785983305927219,\n",
       "  0.5025887908576618,\n",
       "  0.46278745438064134,\n",
       "  0.4709280683318519,\n",
       "  0.48185789287929487,\n",
       "  0.48010479421776775,\n",
       "  0.4509404495687818,\n",
       "  0.4868304350253735,\n",
       "  0.4892375288711792,\n",
       "  0.4981871882372773,\n",
       "  0.5128382374954594,\n",
       "  0.5549150993546038,\n",
       "  0.5314904518535006,\n",
       "  0.5420986054464187,\n",
       "  0.5283139856684324,\n",
       "  0.5705897906162327,\n",
       "  0.5569572965485409,\n",
       "  0.534507967434357,\n",
       "  0.518964354806736,\n",
       "  0.5063340302312654,\n",
       "  0.5198758820024177,\n",
       "  0.4988769714577284,\n",
       "  0.513204509565066,\n",
       "  0.5509077634377538,\n",
       "  0.5473390992597439,\n",
       "  0.5539703921404043,\n",
       "  0.5874512812469914,\n",
       "  0.587796688659274,\n",
       "  0.5777078003119159,\n",
       "  0.5896188077086597,\n",
       "  0.5613514211196626,\n",
       "  0.5635024362496325,\n",
       "  0.5203538083178336,\n",
       "  0.5162544492342892,\n",
       "  0.5172413820775416,\n",
       "  0.5138155316484447,\n",
       "  0.5194592940236122,\n",
       "  0.5069439781453673,\n",
       "  0.5221296335856361,\n",
       "  0.5033287989752835,\n",
       "  0.46586671248676464,\n",
       "  0.4835926499678455,\n",
       "  0.5264256602300258,\n",
       "  0.4764440084185831,\n",
       "  0.43097799519982244,\n",
       "  0.40884373418606923,\n",
       "  0.4369717325301949,\n",
       "  0.4607794702587694,\n",
       "  0.46031857398161136,\n",
       "  0.46074610569255897,\n",
       "  0.4607638736617883,\n",
       "  0.4845727530178852,\n",
       "  0.5279885663654403,\n",
       "  0.5420724247153995,\n",
       "  0.5548039349617396,\n",
       "  0.5778061413776516,\n",
       "  0.5769060708115159,\n",
       "  0.615739163455622,\n",
       "  0.5782696885995916,\n",
       "  0.5680218601646793,\n",
       "  0.5719387570338564,\n",
       "  0.5701058823487758,\n",
       "  0.6044145340200581,\n",
       "  0.5588803267884932,\n",
       "  0.5574930213171441,\n",
       "  0.5728526202748685,\n",
       "  0.609799820235165,\n",
       "  0.5917794043340995,\n",
       "  0.5625196493251599,\n",
       "  0.5248154031791308,\n",
       "  0.5556136389906651,\n",
       "  0.5392365405450914,\n",
       "  0.5549540273108875,\n",
       "  0.5786461674346797,\n",
       "  0.5286366231740711,\n",
       "  0.5472560372445523,\n",
       "  0.5107154379371017,\n",
       "  0.5080364713594797,\n",
       "  0.5023599582440657,\n",
       "  0.49972352141221305,\n",
       "  0.5335557716318484,\n",
       "  0.5376375239114174,\n",
       "  0.52238391414579,\n",
       "  0.5090929633724477,\n",
       "  0.5334338811505127,\n",
       "  0.5356547278467715,\n",
       "  0.5520998006813533,\n",
       "  0.5142347565144044,\n",
       "  0.4835147996591504,\n",
       "  0.44306869294206475,\n",
       "  0.44327475312667314,\n",
       "  0.46851597994106986,\n",
       "  0.49050990511984965,\n",
       "  0.5113036851802398,\n",
       "  0.5253063303279333,\n",
       "  0.5672958153119321,\n",
       "  0.5650369799754119,\n",
       "  0.5194055267849084,\n",
       "  0.5101058601704859,\n",
       "  0.49544619302342313,\n",
       "  0.46602951454512265,\n",
       "  0.47209754211847016,\n",
       "  0.45221424259210413,\n",
       "  0.43273493901966215,\n",
       "  0.4777022581877365,\n",
       "  0.4976593361334936,\n",
       "  0.4887672501105841,\n",
       "  0.44621520949917387,\n",
       "  0.4272136478437413,\n",
       "  0.41656301339836094,\n",
       "  0.3956844773363059,\n",
       "  0.4329539862875786,\n",
       "  0.40891061022780784,\n",
       "  0.4172927208091302,\n",
       "  0.4700480727893681,\n",
       "  0.4479075990202279,\n",
       "  0.4574209527510873,\n",
       "  0.4787096349595779,\n",
       "  0.4325372275225656,\n",
       "  0.4685387959107569,\n",
       "  0.45677331641347435,\n",
       "  0.3992643548201002,\n",
       "  0.4322978865330529,\n",
       "  0.44288563238344375,\n",
       "  0.4681319386026854,\n",
       "  0.480392188575171,\n",
       "  0.4550553911946957,\n",
       "  0.4527101349630096,\n",
       "  0.4528646996033982,\n",
       "  0.4876609352677446,\n",
       "  0.48763343338352466,\n",
       "  0.44070046761741766,\n",
       "  0.43606339026962654,\n",
       "  0.4574984928561224,\n",
       "  0.48708336285128756,\n",
       "  0.5131294836474207,\n",
       "  0.5152553429743792,\n",
       "  0.5518561791780053,\n",
       "  0.5664785227271215,\n",
       "  0.540538442513151,\n",
       "  0.5412308694404213,\n",
       "  0.520631490199048,\n",
       "  0.49895644494926494,\n",
       "  0.49704502509607357,\n",
       "  0.5511869031650005,\n",
       "  0.5238051515983744,\n",
       "  0.5051108726380541,\n",
       "  0.48591496533060535,\n",
       "  0.5347015660436706,\n",
       "  0.545012464932072,\n",
       "  0.5267170187461871,\n",
       "  0.48832222632248445,\n",
       "  0.475017635110772,\n",
       "  0.4843673385095073,\n",
       "  0.4979947394886987,\n",
       "  0.5005667005368677,\n",
       "  0.48837441481556143,\n",
       "  0.5023099616608362,\n",
       "  0.5218749169686003,\n",
       "  0.5521451390049074,\n",
       "  0.5500458025537646,\n",
       "  0.4933985855671088,\n",
       "  0.4813901772903217,\n",
       "  0.4472911772526005,\n",
       "  0.4418640404670513,\n",
       "  0.3906982666606122,\n",
       "  0.3721483396674121,\n",
       "  0.3914776219445618,\n",
       "  0.38933527698763604,\n",
       "  0.417302901163912,\n",
       "  0.39648679980649565,\n",
       "  0.39467201935109025,\n",
       "  0.3859290938505213,\n",
       "  0.3957582809267526,\n",
       "  0.4105087561952137,\n",
       "  0.3809864944273804,\n",
       "  0.4017668126021998,\n",
       "  0.39753999521845607,\n",
       "  0.44200087489726103,\n",
       "  0.4855971437982113,\n",
       "  0.5296690620848057,\n",
       "  0.516056076665835,\n",
       "  0.5181714511977189,\n",
       "  0.5440084193624674,\n",
       "  0.5607128220476222,\n",
       "  0.5608697599271089,\n",
       "  0.5668447034455498,\n",
       "  0.546163503697112,\n",
       "  0.5489771917331723,\n",
       "  0.5417760358352012,\n",
       "  0.5308724530007419,\n",
       "  0.5372315582929824,\n",
       "  0.5799815168059268,\n",
       "  0.5775065649249775,\n",
       "  0.6167698833882206,\n",
       "  0.6150037600010786,\n",
       "  0.5976331310690899,\n",
       "  0.559786349945608,\n",
       "  0.5664248204269746,\n",
       "  0.5694259503781864,\n",
       "  0.5812180798436901,\n",
       "  0.5664193622245639,\n",
       "  0.5640132983082826,\n",
       "  0.515228321581922,\n",
       "  0.563563923716915,\n",
       "  0.557550450421601,\n",
       "  0.5879922142742589,\n",
       "  0.6012456833462645,\n",
       "  0.598198882323751,\n",
       "  0.5775784938907066,\n",
       "  0.5474935925803518,\n",
       "  0.5179612762655472,\n",
       "  0.4892427002106795,\n",
       "  0.45011407218272886,\n",
       "  0.47766018855659786,\n",
       "  0.47672171098731403,\n",
       "  0.5009985749770529,\n",
       "  0.4626160560849771,\n",
       "  0.4442139798497273,\n",
       "  0.4374903155062693,\n",
       "  0.44106177562025933,\n",
       "  0.39963395712580363,\n",
       "  0.40085053080890726,\n",
       "  0.3919403767896338,\n",
       "  0.3836877003152762,\n",
       "  0.3696378330600738,\n",
       "  0.3567095963349933,\n",
       "  0.3338723450597796,\n",
       "  0.3450507330004651,\n",
       "  0.3593407640054919,\n",
       "  0.39607200456524183,\n",
       "  0.3838295405441606,\n",
       "  0.39970184927120705,\n",
       "  0.4091617503055217,\n",
       "  0.41951781173837477,\n",
       "  0.4277606827401228,\n",
       "  0.4477926106005166,\n",
       "  0.45367102646835644,\n",
       "  0.46267885964491606,\n",
       "  0.4468831569097884,\n",
       "  0.47683269758278707,\n",
       "  0.5072223700485118,\n",
       "  0.4873859253704447,\n",
       "  0.5116733090378999,\n",
       "  0.5140686131743275,\n",
       "  0.4871774160179265,\n",
       "  0.4878122448204549,\n",
       "  0.5012583910913745,\n",
       "  0.4848554955099695,\n",
       "  0.4895328324593291,\n",
       "  0.49844975129547464,\n",
       "  0.5027690075703733,\n",
       "  0.5143857554460676,\n",
       "  0.5361601222051724,\n",
       "  0.5447808425409841,\n",
       "  0.5617829913639528,\n",
       "  0.5721365608985016,\n",
       "  0.5537623432711517,\n",
       "  0.5501488465108446,\n",
       "  0.58670055284323,\n",
       "  0.6051513552739518,\n",
       "  0.6359181406184308,\n",
       "  0.6420784057348177,\n",
       "  0.6267197998334749,\n",
       "  0.5879077180428923,\n",
       "  0.6120282838570079,\n",
       "  0.6115413577316622,\n",
       "  0.5626662784238176,\n",
       "  0.5844212445280627,\n",
       "  0.5858680856318683,\n",
       "  0.5563969318359997,\n",
       "  0.5648346655739865,\n",
       "  0.5332767531694786,\n",
       "  0.5328931081054599,\n",
       "  0.5003125717816744,\n",
       "  0.5076622140896246,\n",
       "  0.5024468824620553,\n",
       "  0.48293921687483654,\n",
       "  0.4650741316059875,\n",
       "  0.508402778363985,\n",
       "  0.5500994506580845,\n",
       "  0.5454822430413132,\n",
       "  0.5576140019070733,\n",
       "  0.5625658103704314,\n",
       "  0.5983060536158312,\n",
       "  0.5994102483693172,\n",
       "  0.5834046877073762,\n",
       "  0.6173062344525595,\n",
       "  0.6441386887997912,\n",
       "  0.6569360511991441,\n",
       "  0.6612193088646359,\n",
       "  0.6842906561613409,\n",
       "  0.6362631950163478,\n",
       "  0.6078822269816181,\n",
       "  0.5783458489141298,\n",
       "  0.616072820399753,\n",
       "  0.6188117139263243,\n",
       "  0.5693851194868421,\n",
       "  0.5965352913789355,\n",
       "  0.5749156941667511,\n",
       "  0.5323368219584139,\n",
       "  0.5109108312818159,\n",
       "  0.4843113374385169,\n",
       "  0.5022241656194137,\n",
       "  0.448088939344656,\n",
       "  0.4021260673291738,\n",
       "  0.4054448765821009,\n",
       "  0.35946388495183706,\n",
       "  0.370911237725775,\n",
       "  0.39684496242549433,\n",
       "  0.4268370256034708,\n",
       "  0.43155912800643215,\n",
       "  0.3948471782216606,\n",
       "  0.37031278708687276,\n",
       "  0.3793739026637584,\n",
       "  0.37849502044116434,\n",
       "  0.3692396164259541,\n",
       "  0.4025006235779639,\n",
       "  0.4316544590812689,\n",
       "  0.46462141490969006,\n",
       "  0.47780019716616595,\n",
       "  0.5096453764527439,\n",
       "  0.5273495279760338,\n",
       "  0.5518745061924283,\n",
       "  0.5958764304732229,\n",
       "  0.5925245505231969,\n",
       "  0.5794438944165945,\n",
       "  0.5470153705842824,\n",
       "  0.5412232172342226,\n",
       "  0.5719742452231457,\n",
       "  0.5470173099159642,\n",
       "  0.5749019885909707,\n",
       "  0.5725225183771583,\n",
       "  0.6145262301028241,\n",
       "  0.6190873187656024,\n",
       "  0.6298184403074878,\n",
       "  0.5902854634119584,\n",
       "  0.5624475436638431,\n",
       "  0.5640476191544069,\n",
       "  0.5534853943004927,\n",
       "  0.5327403818538959,\n",
       "  0.5084904628976588,\n",
       "  0.5060110124249768,\n",
       "  0.48351620849454297,\n",
       "  0.49282602534035885,\n",
       "  0.5129091391641878,\n",
       "  0.4833356155670073,\n",
       "  0.49988451068852946,\n",
       "  0.5019916916581734,\n",
       "  0.510116738375506,\n",
       "  0.4823140209699402,\n",
       "  0.4756435846163517,\n",
       "  0.4405870215146434,\n",
       "  0.44454702372034177,\n",
       "  0.4153413874877341,\n",
       "  0.3979909736314969,\n",
       "  0.4148681937139197,\n",
       "  0.43714057282357843,\n",
       "  0.46494071908153045,\n",
       "  0.4639152035826921,\n",
       "  0.5219254051768415,\n",
       "  0.5230587370449223,\n",
       "  0.5457082277759564,\n",
       "  0.5518356485441775,\n",
       "  0.5721431703172477,\n",
       "  0.5841728397319941,\n",
       "  0.5619330578734747,\n",
       "  0.5429926868335673,\n",
       "  0.5413671260621248,\n",
       "  0.5503905359752439,\n",
       "  0.5595380643016247,\n",
       "  0.5595170986674775,\n",
       "  0.5660783569027941,\n",
       "  0.5559433729845588,\n",
       "  0.5279192046708896,\n",
       "  0.5297912081408318,\n",
       "  0.5341128445650046,\n",
       "  0.5192194708828717,\n",
       "  0.5448858354574193,\n",
       "  0.5398375988343781,\n",
       "  0.5447632876946178,\n",
       "  0.5448302125503893,\n",
       "  0.5244045483899529,\n",
       "  0.5446050685249743,\n",
       "  0.5716263940235254,\n",
       "  0.5590949390976921,\n",
       "  0.5648776362102542,\n",
       "  0.5810135467373408,\n",
       "  0.6359311183515718,\n",
       "  0.6590670621022199,\n",
       "  0.683796391190304,\n",
       "  0.7051050805082014,\n",
       "  0.7024039365678177,\n",
       "  0.7036412523118223,\n",
       "  0.6810306226608528,\n",
       "  0.6437761571715013,\n",
       "  0.6413788962003067,\n",
       "  0.6638047799007857,\n",
       "  0.6519505691664348,\n",
       "  0.6232278966053898,\n",
       "  0.6340649466368067,\n",
       "  0.6255277537087369,\n",
       "  0.6290632627257775,\n",
       "  0.5947177349939028,\n",
       "  0.587455876867107,\n",
       "  0.5761399772150917,\n",
       "  0.554970808143028,\n",
       "  0.5260831167893493,\n",
       "  0.5195739255397185,\n",
       "  0.4727748387989571,\n",
       "  0.4669925565780413,\n",
       "  0.502091204057214,\n",
       "  0.5271420472113516,\n",
       "  0.5091363825756094,\n",
       "  0.4982520391332726,\n",
       "  0.5018254015752184,\n",
       "  0.5051677206649282,\n",
       "  0.46838731157860025,\n",
       "  0.49200391221316264,\n",
       "  0.48035488762065937,\n",
       "  0.4820899886597424,\n",
       "  0.5009368514718677,\n",
       "  0.4879045045378528,\n",
       "  0.484705113645336,\n",
       "  0.4939016788538114,\n",
       "  0.4986006288216001,\n",
       "  0.5073542888503949,\n",
       "  0.5159368418657999,\n",
       "  0.5022491890932835,\n",
       "  0.5095760039162188,\n",
       "  0.5018017042349792,\n",
       "  0.4971404156685517,\n",
       "  0.4752062956131128,\n",
       "  0.4959213122094051,\n",
       "  0.49384217345640746,\n",
       "  0.4881799578788929,\n",
       "  0.5233357610815323,\n",
       "  0.5383215718350852,\n",
       "  0.5025357466125421,\n",
       "  0.5284528436407403,\n",
       "  0.5483635581865384,\n",
       "  0.567909069957834,\n",
       "  0.5263684103452544,\n",
       "  0.5693589811549707,\n",
       "  0.5675581024879772,\n",
       "  0.5442105822433434,\n",
       "  0.5216671810059336,\n",
       "  0.5505984962897504,\n",
       "  0.5609364742466197,\n",
       "  0.5584533560000277,\n",
       "  0.5622675813952304,\n",
       "  0.5618714964289518,\n",
       "  0.5726528026850535,\n",
       "  0.5477621374883084,\n",
       "  0.5820857518931762,\n",
       "  0.6118462979504586,\n",
       "  0.5908152089704456,\n",
       "  0.5646560159171142,\n",
       "  0.5459971747794805,\n",
       "  0.5523551316441615,\n",
       "  0.5075730540903978,\n",
       "  0.5130611544043993,\n",
       "  0.5156823669980686,\n",
       "  0.5344829957389052,\n",
       "  0.5038300904690661,\n",
       "  0.49987398378576015,\n",
       "  0.5309666930925452,\n",
       "  0.5121201857816352,\n",
       "  0.5086352390979577,\n",
       "  0.4747504169774944,\n",
       "  0.47762011956699446,\n",
       "  0.42978654365490626,\n",
       "  0.39793439163025873,\n",
       "  0.3655275180078983,\n",
       "  0.3852645497849663,\n",
       "  0.4065753615771447,\n",
       "  0.41115995271377037,\n",
       "  0.4050785081630661,\n",
       "  0.4043828509973911,\n",
       "  0.4310781916124638,\n",
       "  0.4435926195681848,\n",
       "  0.46551528738641657,\n",
       "  0.4434144064062475,\n",
       "  0.45043744709059325,\n",
       "  0.43941222498239396,\n",
       "  0.4738976075888637,\n",
       "  0.4561460190044226,\n",
       "  0.45069568057442627,\n",
       "  0.4739338374393907,\n",
       "  0.4851769558314234,\n",
       "  0.4918389867719528,\n",
       "  0.4703215597747283,\n",
       "  0.4662788464881388,\n",
       "  0.4807504943606605,\n",
       "  0.5128222184104656,\n",
       "  0.48388006683381735,\n",
       "  0.47799915506892593,\n",
       "  0.440704782857948,\n",
       "  0.439554172896909,\n",
       "  0.472909696258316,\n",
       "  0.48211703689686514,\n",
       "  0.4778906159027488,\n",
       "  0.4840556614168114,\n",
       "  0.5289001894232376,\n",
       "  0.5241865829638146,\n",
       "  0.5176056855861638,\n",
       "  0.5295091848005162,\n",
       "  0.5736411055161771,\n",
       "  0.583535886735931,\n",
       "  0.5870582497520201,\n",
       "  0.6044691158350605,\n",
       "  0.5793126649516908,\n",
       "  0.6205934239368489,\n",
       "  0.5794314235723441,\n",
       "  0.568552658331145,\n",
       "  0.5727404598253006,\n",
       "  0.5226012024043052,\n",
       "  0.48643040692125783,\n",
       "  0.4913575192867748,\n",
       "  0.4716779052823372,\n",
       "  0.4706421710702031,\n",
       "  0.5051427542550255,\n",
       "  0.4846911080397177,\n",
       "  0.45413804903927835,\n",
       "  0.44953709635660843,\n",
       "  0.42853040164587725,\n",
       "  0.3928574661339909,\n",
       "  0.35514430080979453,\n",
       "  0.35154222005984553,\n",
       "  0.29942121825755064,\n",
       "  0.3360289806148978,\n",
       "  0.3712899228438967,\n",
       "  0.3725816971775431,\n",
       "  0.4189642316057392,\n",
       "  0.4356422494189456,\n",
       "  0.45092007701591097,\n",
       "  0.46081265053724957,\n",
       "  0.4684370308086673,\n",
       "  0.45287932384831825,\n",
       "  0.4650923881877445,\n",
       "  0.46505311401369104,\n",
       "  0.4706144060357365,\n",
       "  0.5028309186850659,\n",
       "  0.5073029467755991,\n",
       "  0.5360038898325515,\n",
       "  0.5636050597799858,\n",
       "  0.5926961705483217,\n",
       "  0.5587721487462395,\n",
       "  0.5357494007719028,\n",
       "  0.5196246152648953,\n",
       "  0.48160964871728434,\n",
       "  0.49437959240727336,\n",
       "  0.49640417180171376,\n",
       "  0.4982466801362098,\n",
       "  0.48318501196427993,\n",
       "  0.4891661723907066,\n",
       "  0.5172852051448577,\n",
       "  0.5579925231406895,\n",
       "  0.5177816228119054,\n",
       "  0.5404821038941812,\n",
       "  0.5287994574926195,\n",
       "  0.547228554283106,\n",
       "  0.5645409765856995,\n",
       "  0.5839523011970772,\n",
       "  0.5834821019504935,\n",
       "  0.5680697802485974,\n",
       "  0.5916230613834663,\n",
       "  0.6074935605514868,\n",
       "  0.5775022640755703,\n",
       "  0.6104768343607777,\n",
       "  0.5738728502364951,\n",
       "  0.5631621799047132,\n",
       "  0.5455190455446076,\n",
       "  0.5106418591984888,\n",
       "  0.4896406686777174,\n",
       "  0.5164681222459372,\n",
       "  0.5109335300406145,\n",
       "  0.5034988216688193,\n",
       "  0.4803142430513951,\n",
       "  0.4353617618647889,\n",
       "  0.4323164186868517,\n",
       "  0.4342560671926852,\n",
       "  0.43090166940287583,\n",
       "  0.40567698704081506,\n",
       "  0.42117341927852747,\n",
       "  0.417817742920264,\n",
       "  0.36754229747459877,\n",
       "  0.4119219614037477,\n",
       "  0.42812515717372307,\n",
       "  0.45239045262206806,\n",
       "  0.4627164144006198,\n",
       "  0.46446006723785427,\n",
       "  0.4372684548521926,\n",
       "  0.41814268331184534,\n",
       "  0.43611253362516333,\n",
       "  0.42518040288139447,\n",
       "  0.4659595101387167,\n",
       "  0.47513025736725717,\n",
       "  0.5044452597084367,\n",
       "  0.5085920014203672,\n",
       "  0.5243766326325626,\n",
       "  0.5076710763585498,\n",
       "  0.5473665977690713,\n",
       "  0.5820358092687735,\n",
       "  0.5844013318818346,\n",
       "  0.5781876188402479,\n",
       "  0.5593499251351786,\n",
       "  0.5942366262271825,\n",
       "  0.6181652558559494,\n",
       "  0.6208673672300715,\n",
       "  0.5973293908891056,\n",
       "  0.5996967263007497,\n",
       "  0.6104269813956653,\n",
       "  0.5700598444204237,\n",
       "  0.5341235577389907,\n",
       "  0.5335803427375332,\n",
       "  0.5299854420570563,\n",
       "  0.5395368387531867,\n",
       "  0.5514489168611396,\n",
       "  0.5117794824236954,\n",
       "  0.48701121690058846,\n",
       "  0.45864827774062444,\n",
       "  0.4365307739769144,\n",
       "  0.4490539958105828,\n",
       "  0.4257739055542962,\n",
       "  0.40780398394205014,\n",
       "  0.39941754931596707,\n",
       "  0.4439696732687693,\n",
       "  0.4413356179678657,\n",
       "  0.42995248736878494,\n",
       "  0.4282740197139146,\n",
       "  0.4655700370842637,\n",
       "  0.4599695769429272,\n",
       "  0.5111054662801254,\n",
       "  0.5177330289847523,\n",
       "  0.5364762700138738,\n",
       "  0.5660044533163294,\n",
       "  0.602893997077279,\n",
       "  0.6364041843044695,\n",
       "  0.6644088303021779,\n",
       "  0.6282951502482914,\n",
       "  0.6296277893550318,\n",
       "  0.6325381196905804,\n",
       "  0.682169944926771,\n",
       "  0.6744952712531549,\n",
       "  0.6966919352521326,\n",
       "  0.7213439696319108,\n",
       "  0.7385634769487134,\n",
       "  0.7363812402480321,\n",
       "  0.7460167136483833,\n",
       "  0.7159984707804888,\n",
       "  0.6887604904746139,\n",
       "  0.6893488895412251,\n",
       "  0.672672366582403,\n",
       "  0.6281049730931781,\n",
       "  0.5825794242981188,\n",
       "  0.5758661606799754,\n",
       "  0.6010540615548186,\n",
       "  0.6235890344313871,\n",
       "  0.6005888186105178,\n",
       "  0.5663894824776186,\n",
       "  0.5630960512228965,\n",
       "  0.524695393413916,\n",
       "  0.48661147398691873,\n",
       "  0.4974426585365979,\n",
       "  0.45764357963984537,\n",
       "  0.426081032970377,\n",
       "  0.4177941482625444,\n",
       "  0.4276511782882628,\n",
       "  0.4009819141420069,\n",
       "  0.3742977002072594,\n",
       "  0.3687102831293902,\n",
       "  0.4100204006402521,\n",
       "  0.4074319749834196,\n",
       "  0.3845256060029368,\n",
       "  0.3818801828357503,\n",
       "  0.37230659691178514,\n",
       "  0.3697769485976393,\n",
       "  0.3768163320313848,\n",
       "  0.4156500601992044,\n",
       "  0.42650476603488113,\n",
       "  0.4468326244509461,\n",
       "  0.46638255295962644,\n",
       "  0.5110034778384985,\n",
       "  0.5481267605166821,\n",
       "  0.5359681128466451,\n",
       "  0.5447459305474168,\n",
       "  0.5721564925584345,\n",
       "  0.6234461274009098,\n",
       "  0.6203598774607149,\n",
       "  0.6252174974591126,\n",
       "  0.6629036807755597,\n",
       "  0.6709228504779025,\n",
       "  0.6847294270739064,\n",
       "  0.6749211234426193,\n",
       "  0.6689889514690838,\n",
       "  0.6725215454614646,\n",
       "  0.686082215574387,\n",
       "  0.6623054108204364,\n",
       "  0.6508739443050868,\n",
       "  0.6518859214356157,\n",
       "  0.6462058334130276,\n",
       "  0.6555678052284855,\n",
       "  0.6181865550296278,\n",
       "  0.6362256891197408,\n",
       "  0.6076208914591269,\n",
       "  0.5718326435400284,\n",
       "  0.5467465126471935,\n",
       "  0.539528989192133,\n",
       "  0.4811376436650967,\n",
       "  0.4731072590678069,\n",
       "  0.4790654947279198,\n",
       "  0.48732482071166505,\n",
       "  0.48594411064228366,\n",
       "  0.5127975181674658,\n",
       "  0.5160888667407837,\n",
       "  0.5259844642170535,\n",
       "  0.506495045182947,\n",
       "  0.4905771237805783,\n",
       "  0.4880737692460842,\n",
       "  0.5338648555266771,\n",
       "  0.5398782167291127,\n",
       "  0.5369280456530745,\n",
       "  0.5628224406172898,\n",
       "  0.5633168601624559,\n",
       "  0.5404095607844962,\n",
       "  0.5698689885652028,\n",
       "  0.5972938715830504,\n",
       "  0.6118433321782027,\n",
       "  0.6171014702968958,\n",
       "  0.5827550466644598,\n",
       "  0.5631004988613721,\n",
       "  0.5896594558820168,\n",
       "  0.5993163417039399,\n",
       "  0.6001711480227064,\n",
       "  0.5909203208931844,\n",
       "  0.5826908098556842,\n",
       "  0.5896293710971895,\n",
       "  0.5862153543249737,\n",
       "  0.6015903848984582,\n",
       "  0.6174011289725406,\n",
       "  0.6537190255689745,\n",
       "  0.685744506923584,\n",
       "  0.6785150270500055,\n",
       "  0.6713442613922084,\n",
       "  0.6858097341119088,\n",
       "  0.6502834592052332,\n",
       "  0.684777139853963,\n",
       "  0.6756451379802129,\n",
       "  0.6369398613105111,\n",
       "  0.6204700378475048,\n",
       "  0.5940347991317941,\n",
       "  0.5932191287308605,\n",
       "  0.5939871020884333,\n",
       "  0.5399659541150418,\n",
       "  0.49742145554128936,\n",
       "  0.4733365589686695,\n",
       "  0.4709328022715624,\n",
       "  0.4511924191619919,\n",
       "  0.41829838015905935,\n",
       "  0.4544342921637141,\n",
       "  0.4422905249624697,\n",
       "  0.42569527989992617,\n",
       "  0.4472768537653211,\n",
       "  0.44386254387335905,\n",
       "  0.44104385580997774,\n",
       "  0.4669530550361923,\n",
       "  0.46869692671624075,\n",
       "  0.503929609744564,\n",
       "  0.5119813618265381,\n",
       "  0.544704906212762,\n",
       "  0.5857646923072758,\n",
       "  0.5810178254019321,\n",
       "  0.5733258888732379,\n",
       "  0.5797159341157249,\n",
       "  0.5585189481452034,\n",
       "  0.5431654859372005,\n",
       "  0.4993711948401001,\n",
       "  0.5124221629242116,\n",
       "  0.5382092349883149,\n",
       "  0.5181863006763825,\n",
       "  0.5200795387482869,\n",
       "  0.5436595292032222,\n",
       "  0.5031986071661202,\n",
       "  0.5106161276696237,\n",
       "  0.527105497670885,\n",
       "  0.5305301698699391,\n",
       "  0.5048237870816485,\n",
       "  0.48308982228691116,\n",
       "  0.533367949299422,\n",
       "  0.5827873088641591,\n",
       "  0.5320023119167399,\n",
       "  0.551037928674374,\n",
       "  0.574184586377772,\n",
       "  0.5987976694815129,\n",
       "  0.577554115312057,\n",
       "  0.5371520993497376,\n",
       "  0.5300711273870777,\n",
       "  0.5157303833587433,\n",
       "  0.5133139311635404,\n",
       "  0.558530724958378,\n",
       "  0.5687972946794647,\n",
       "  0.5500339109795109,\n",
       "  0.5228337221183897,\n",
       "  0.5143178924386294,\n",
       "  0.5332590149951765,\n",
       "  0.4949144494486505,\n",
       "  0.46775087051584024,\n",
       "  0.5149219595070061,\n",
       "  0.4892350875572228,\n",
       "  0.5147790536771264,\n",
       "  0.4814957308064005,\n",
       "  0.49724383658240834,\n",
       "  0.5348941373279139,\n",
       "  0.5303321775020552,\n",
       "  0.5327456885383429,\n",
       "  0.510588111962912,\n",
       "  0.5123586867322346,\n",
       "  0.5244552194392805,\n",
       "  0.5016190857000418,\n",
       "  0.5254593083248912,\n",
       "  0.555182136386338,\n",
       "  0.547893551337839,\n",
       "  0.5432098547745392,\n",
       "  0.5580242027348551,\n",
       "  0.524613081396234,\n",
       "  0.5463670422864902,\n",
       "  0.49664264543298425,\n",
       "  0.5485919026087617,\n",
       "  0.5645282512982592,\n",
       "  0.5657296303269108,\n",
       "  0.6108758197560736,\n",
       "  0.5959811759790032,\n",
       "  0.6032712903021297,\n",
       "  0.5769362285506988,\n",
       "  0.5632768474588751,\n",
       "  0.5958529124135852,\n",
       "  0.5803284193759615,\n",
       "  0.543831920133869,\n",
       "  0.5533299125360567,\n",
       "  0.5822497129760762,\n",
       "  0.579108491494336,\n",
       "  0.6008245060904992,\n",
       "  0.613782575211412,\n",
       "  0.6548237304973581,\n",
       "  0.6381939953873886,\n",
       "  0.6410751239034238,\n",
       "  0.6281603415621565],\n",
       " [0.3009141769374988,\n",
       "  0.3378300116642076,\n",
       "  0.3535354234427683,\n",
       "  0.38658362546095465,\n",
       "  0.3796226680524657,\n",
       "  0.39599229699680255,\n",
       "  0.42689628585092787,\n",
       "  0.43186460043819375,\n",
       "  0.4745438873561685,\n",
       "  0.5149156354350675,\n",
       "  0.5094538322203913,\n",
       "  0.46619131243387707,\n",
       "  0.4544880415821341,\n",
       "  0.4904922593210335,\n",
       "  0.4844801093524162,\n",
       "  0.4722226531598833,\n",
       "  0.46014494804724915,\n",
       "  0.4201616552282679,\n",
       "  0.4268896594124153,\n",
       "  0.448444402419182,\n",
       "  0.4305521464961283,\n",
       "  0.42004253504099776,\n",
       "  0.3920734013085263,\n",
       "  0.40347734783413564,\n",
       "  0.4042255726595531,\n",
       "  0.38150144540953757,\n",
       "  0.3705923656198246,\n",
       "  0.36492432773080624,\n",
       "  0.3467678469434878,\n",
       "  0.3789628143065874,\n",
       "  0.3874080987750746,\n",
       "  0.41115183242678877,\n",
       "  0.40698327274346147,\n",
       "  0.39328252127596636,\n",
       "  0.39939282591962516,\n",
       "  0.4151490276038647,\n",
       "  0.4510517108733601,\n",
       "  0.4886700751115929,\n",
       "  0.4878395175490057,\n",
       "  0.5054302255433466,\n",
       "  0.5284418632357938,\n",
       "  0.532257756361685,\n",
       "  0.5516682599830467,\n",
       "  0.5739248670932637,\n",
       "  0.6032099094005178,\n",
       "  0.6286727575749226,\n",
       "  0.6155898250654479,\n",
       "  0.5881199044074956,\n",
       "  0.567090726018581,\n",
       "  0.5992748303164538,\n",
       "  0.5688417033230174,\n",
       "  0.5326870124168996,\n",
       "  0.5552085282896546,\n",
       "  0.5747004007478389,\n",
       "  0.5722267914277894,\n",
       "  0.5545168572597031,\n",
       "  0.5283337542726034,\n",
       "  0.5328768852351594,\n",
       "  0.5301614600628342,\n",
       "  0.5223000311785748,\n",
       "  0.527030904022328,\n",
       "  0.521878952144365,\n",
       "  0.4769892659935781,\n",
       "  0.4347413645161156,\n",
       "  0.4451675891489701,\n",
       "  0.46591419227145014,\n",
       "  0.4953172396519089,\n",
       "  0.5032572245379535,\n",
       "  0.47025432713276283,\n",
       "  0.4748819355081686,\n",
       "  0.5174645268744572,\n",
       "  0.5291342310030176,\n",
       "  0.5205330039706042,\n",
       "  0.5303121591505107,\n",
       "  0.522810743759004,\n",
       "  0.526748113924429,\n",
       "  0.550118687609602,\n",
       "  0.5395582767043945,\n",
       "  0.5363052932463694,\n",
       "  0.5297802607451692,\n",
       "  0.5328488285874845,\n",
       "  0.5816667926660802,\n",
       "  0.5796784684078627,\n",
       "  0.5839033707242602,\n",
       "  0.5753401178093028,\n",
       "  0.5907609520433001,\n",
       "  0.609019042856736,\n",
       "  0.6426396062260412,\n",
       "  0.6435048549149632,\n",
       "  0.6213617616117972,\n",
       "  0.603233737393763,\n",
       "  0.5777866768185504,\n",
       "  0.578298275568871,\n",
       "  0.5960784442958902,\n",
       "  0.579555694663759,\n",
       "  0.5559900672511586,\n",
       "  0.5511021885367655,\n",
       "  0.5457157797280437,\n",
       "  0.5497578029689245,\n",
       "  0.5492568811937454,\n",
       "  0.5316975744220231,\n",
       "  0.5636314341763565,\n",
       "  0.5464994114123742,\n",
       "  0.5047883099470246,\n",
       "  0.47023175470760453,\n",
       "  0.44058479929209843,\n",
       "  0.4287595871818859,\n",
       "  0.446776985988745,\n",
       "  0.45925493734658956,\n",
       "  0.4787816153964499,\n",
       "  0.5187981455564473,\n",
       "  0.48644466581490325,\n",
       "  0.5007470604674147,\n",
       "  0.5256562239022338,\n",
       "  0.503472732869341,\n",
       "  0.47882881275817396,\n",
       "  0.4608167080413244,\n",
       "  0.48236980573785293,\n",
       "  0.4671635125755149,\n",
       "  0.4401108375490336,\n",
       "  0.44076081751586255,\n",
       "  0.43477534719990313,\n",
       "  0.4369616837497454,\n",
       "  0.4332785518243152,\n",
       "  0.4517085065669167,\n",
       "  0.4297971421166002,\n",
       "  0.39884480400951366,\n",
       "  0.39427380330466344,\n",
       "  0.37625296474730385,\n",
       "  0.3502300382118636,\n",
       "  0.3617288263214938,\n",
       "  0.318670391866646,\n",
       "  0.3035884749888967,\n",
       "  0.3213613455891691,\n",
       "  0.3303796968857878,\n",
       "  0.335337682018451,\n",
       "  0.34292882544496794,\n",
       "  0.3566423388805076,\n",
       "  0.36188456863089763,\n",
       "  0.36087649262466287,\n",
       "  0.38575106127105196,\n",
       "  0.38318804705939086,\n",
       "  0.3757269415927566,\n",
       "  0.35567859113756356,\n",
       "  0.3846623030606879,\n",
       "  0.37873141652442593,\n",
       "  0.37836382182267486,\n",
       "  0.3901256199927424,\n",
       "  0.4018466935291413,\n",
       "  0.38852189004768856,\n",
       "  0.43862504479431463,\n",
       "  0.46026997915982426,\n",
       "  0.4653058127251041,\n",
       "  0.46715615354064927,\n",
       "  0.49556377068032514,\n",
       "  0.46898900802255045,\n",
       "  0.47244848075199153,\n",
       "  0.47835136584637866,\n",
       "  0.47968290380623807,\n",
       "  0.4397747694814279,\n",
       "  0.4543951821716239,\n",
       "  0.5043972237149447,\n",
       "  0.542769460758935,\n",
       "  0.5210616264205904,\n",
       "  0.5578135639851616,\n",
       "  0.537063985011537,\n",
       "  0.5508067553725018,\n",
       "  0.5612878056403028,\n",
       "  0.5715810958899001,\n",
       "  0.5335160213878977,\n",
       "  0.4919723058488196,\n",
       "  0.5110311680203697,\n",
       "  0.5012796285652074,\n",
       "  0.5102747702764464,\n",
       "  0.5401328289776316,\n",
       "  0.5398399135806379,\n",
       "  0.5319594549402481,\n",
       "  0.5444243603699136,\n",
       "  0.5925817351042927,\n",
       "  0.6139194820888746,\n",
       "  0.5897600313481905,\n",
       "  0.5635723781960037,\n",
       "  0.565706286839655,\n",
       "  0.531350884257452,\n",
       "  0.5504976940939642,\n",
       "  0.52384830930265,\n",
       "  0.49491549489833797,\n",
       "  0.4785077033234164,\n",
       "  0.500276094165461,\n",
       "  0.5154125368296443,\n",
       "  0.49546948546269454,\n",
       "  0.5105973341088743,\n",
       "  0.5133450918357564,\n",
       "  0.5100544152280704,\n",
       "  0.48099191066992775,\n",
       "  0.4825359062627194,\n",
       "  0.4541127294554179,\n",
       "  0.45481138639059343,\n",
       "  0.4589522934116094,\n",
       "  0.4500166040312433,\n",
       "  0.4413356020332015,\n",
       "  0.45857371704168265,\n",
       "  0.4918336808763805,\n",
       "  0.5054144418051575,\n",
       "  0.5007249519993945,\n",
       "  0.5369499287089352,\n",
       "  0.5676176107779954,\n",
       "  0.5580671473218803,\n",
       "  0.5943532292557037,\n",
       "  0.5803974667627688,\n",
       "  0.6014563894662045,\n",
       "  0.560038427518464,\n",
       "  0.5216182102637063,\n",
       "  0.5686126734146324,\n",
       "  0.569250314654141,\n",
       "  0.5919542871604658,\n",
       "  0.5715942404343723,\n",
       "  0.5746695993805029,\n",
       "  0.5761965652518036,\n",
       "  0.5828942199160758,\n",
       "  0.5627237050575165,\n",
       "  0.5642878499750397,\n",
       "  0.5470139056065179,\n",
       "  0.5791432552055372,\n",
       "  0.5793996711134582,\n",
       "  0.550359449810395,\n",
       "  0.5538684893607486,\n",
       "  0.5074877929496336,\n",
       "  0.4971981805141533,\n",
       "  0.462868087492631,\n",
       "  0.5039990415426355,\n",
       "  0.5365475840126797,\n",
       "  0.5322064360106296,\n",
       "  0.5389395554382694,\n",
       "  0.5313642843773534,\n",
       "  0.5409271670879063,\n",
       "  0.5165538740948816,\n",
       "  0.5272209017892698,\n",
       "  0.5210855774601532,\n",
       "  0.5100607340360089,\n",
       "  0.4784451455831055,\n",
       "  0.4935391244759262,\n",
       "  0.4730201442689791,\n",
       "  0.4750097283422165,\n",
       "  0.49197937474462666,\n",
       "  0.4775589690624415,\n",
       "  0.5134926356701107,\n",
       "  0.5549994966200487,\n",
       "  0.5517988821808022,\n",
       "  0.5414958970048737,\n",
       "  0.5048415114202047,\n",
       "  0.46729396020751074,\n",
       "  0.4959340973792516,\n",
       "  0.46566238708089003,\n",
       "  0.43712184830377193,\n",
       "  0.469233367765227,\n",
       "  0.4613508447037134,\n",
       "  0.4556584293270558,\n",
       "  0.4601658069643683,\n",
       "  0.4588340512862687,\n",
       "  0.4511097506905688,\n",
       "  0.42681434609825897,\n",
       "  0.4260615680019884,\n",
       "  0.4218777791337242,\n",
       "  0.4583557407348038,\n",
       "  0.46478774413429763,\n",
       "  0.43669592457128803,\n",
       "  0.4493816293899439,\n",
       "  0.4392026008082773,\n",
       "  0.43964712824690544,\n",
       "  0.4679075335659313,\n",
       "  0.42341069898877565,\n",
       "  0.42185715239027605,\n",
       "  0.4609597977420105,\n",
       "  0.42450671150216235,\n",
       "  0.4337465565420663,\n",
       "  0.4513405751756359,\n",
       "  0.4590193869444568,\n",
       "  0.44962699246813054,\n",
       "  0.4585420240801796,\n",
       "  0.5041725046513272,\n",
       "  0.5072794565574924,\n",
       "  0.49323130074605376,\n",
       "  0.45349073408857415,\n",
       "  0.43815305787072384,\n",
       "  0.4742546000255412,\n",
       "  0.4894916032594143,\n",
       "  0.5006063249475956,\n",
       "  0.5301697609962743,\n",
       "  0.5094874342786021,\n",
       "  0.5359075421469842,\n",
       "  0.5515293824782392,\n",
       "  0.5127818861379565,\n",
       "  0.5015091969450548,\n",
       "  0.48488899064906726,\n",
       "  0.512969631837978,\n",
       "  0.5200549675992604,\n",
       "  0.5510573752026829,\n",
       "  0.5368507469449936,\n",
       "  0.5353202861771454,\n",
       "  0.5048298675793796,\n",
       "  0.5151152351964651,\n",
       "  0.5210125059675722,\n",
       "  0.5051666252767324,\n",
       "  0.49817619790495016,\n",
       "  0.5166281478016285,\n",
       "  0.49634496472924955,\n",
       "  0.4791080687700609,\n",
       "  0.49411540678735244,\n",
       "  0.49608294222967436,\n",
       "  0.5112745960290686,\n",
       "  0.5112070595980241,\n",
       "  0.5079968102855223,\n",
       "  0.5060479985099035,\n",
       "  0.4580980414915882,\n",
       "  0.46353501593275714,\n",
       "  0.4329511124078552,\n",
       "  0.40303867619652256,\n",
       "  0.3869674957393678,\n",
       "  0.38172239043833994,\n",
       "  0.40726978322943364,\n",
       "  0.4160076583906444,\n",
       "  0.4447399652798079,\n",
       "  0.4082686405606831,\n",
       "  0.3876333426883196,\n",
       "  0.4135372460606095,\n",
       "  0.3999990134613018,\n",
       "  0.42131493634502554,\n",
       "  0.39996002434789507,\n",
       "  0.40944667924183875,\n",
       "  0.44838340909704005,\n",
       "  0.4905505731126855,\n",
       "  0.4945518732687427,\n",
       "  0.49637030488506634,\n",
       "  0.4944310152082107,\n",
       "  0.5390857821382715,\n",
       "  0.5505783980391211,\n",
       "  0.5641771719408439,\n",
       "  0.5563276507096492,\n",
       "  0.5625538042101987,\n",
       "  0.5382642727968934,\n",
       "  0.5094968885853762,\n",
       "  0.5489131352986009,\n",
       "  0.5648303297742472,\n",
       "  0.5707340283663932,\n",
       "  0.6109241092075942,\n",
       "  0.6002376321776778,\n",
       "  0.6274141095949757,\n",
       "  0.5959375771033117,\n",
       "  0.5668713734102678,\n",
       "  0.5319422575686176,\n",
       "  0.5527338601568178,\n",
       "  0.5822549656886064,\n",
       "  0.5684775002537977,\n",
       "  0.5234805136294278,\n",
       "  0.5587382183110549,\n",
       "  0.5542378936098236,\n",
       "  0.5756899612080248,\n",
       "  0.5562634337128799,\n",
       "  0.5993967347883559,\n",
       "  0.6066199453073735,\n",
       "  0.5799158485182501,\n",
       "  0.5554323150398863,\n",
       "  0.5212647005912006,\n",
       "  0.478301015358483,\n",
       "  0.47305122370561853,\n",
       "  0.4586874712318367,\n",
       "  0.4793426694388576,\n",
       "  0.4598523341666095,\n",
       "  0.4702232025841956,\n",
       "  0.43987897426768446,\n",
       "  0.41131846245715536,\n",
       "  0.41166196567409985,\n",
       "  0.4518998702865997,\n",
       "  0.4221320507994049,\n",
       "  0.4007020257230104,\n",
       "  0.4040270252809271,\n",
       "  0.3878244990341308,\n",
       "  0.3434131572820652,\n",
       "  0.34738116055914386,\n",
       "  0.3529174329189575,\n",
       "  0.3692421933108414,\n",
       "  0.3787341861092596,\n",
       "  0.4135817981004751,\n",
       "  0.4180545931089475,\n",
       "  0.40866989799650605,\n",
       "  0.40469456216167915,\n",
       "  0.42661589146579876,\n",
       "  0.41978003048434986,\n",
       "  0.4341990841139416,\n",
       "  0.45710847459828363,\n",
       "  0.49120460805038996,\n",
       "  0.49587682925318294,\n",
       "  0.4894256740111264,\n",
       "  0.5023379384175308,\n",
       "  0.47264069738429215,\n",
       "  0.4641155255386104,\n",
       "  0.4906531327048248,\n",
       "  0.5090069400237602,\n",
       "  0.49103684061326575,\n",
       "  0.49720464411097415,\n",
       "  0.5206095185180178,\n",
       "  0.5008878817378655,\n",
       "  0.4988423562347993,\n",
       "  0.530980063988723,\n",
       "  0.5244822787272257,\n",
       "  0.536190477428595,\n",
       "  0.5631039527726242,\n",
       "  0.5727003565580746,\n",
       "  0.5882724462646544,\n",
       "  0.5877284918757332,\n",
       "  0.589958609408714,\n",
       "  0.6055379426061744,\n",
       "  0.5807937699516422,\n",
       "  0.5914462997156409,\n",
       "  0.5991340523618875,\n",
       "  0.6021775071196553,\n",
       "  0.5958788774207052,\n",
       "  0.5902296927040925,\n",
       "  0.5857880399046269,\n",
       "  0.5770587606410461,\n",
       "  0.5789629435948097,\n",
       "  0.5696207772627322,\n",
       "  0.5336106209229743,\n",
       "  0.5524675588039971,\n",
       "  0.5177005074581413,\n",
       "  0.5305848728040804,\n",
       "  0.541814658520226,\n",
       "  0.5298236776291279,\n",
       "  0.4967143025517995,\n",
       "  0.49422925376904026,\n",
       "  0.51466115606691,\n",
       "  0.5127059067940151,\n",
       "  0.5403460037118223,\n",
       "  0.5732045389769244,\n",
       "  0.5779519077514607,\n",
       "  0.5749338894225289,\n",
       "  0.5956141794737038,\n",
       "  0.6083863556325175,\n",
       "  0.6217576327287686,\n",
       "  0.6235666750899983,\n",
       "  0.6387064501693148,\n",
       "  0.6528182101350707,\n",
       "  0.6230738979348748,\n",
       "  0.6380611921201754,\n",
       "  0.5930669298405272,\n",
       "  0.5983796154434239,\n",
       "  0.615799382709845,\n",
       "  0.6079920399603063,\n",
       "  0.591561313175813,\n",
       "  0.562550011061682,\n",
       "  0.5614428464290672,\n",
       "  0.5361648603499146,\n",
       "  0.5049167294308159,\n",
       "  0.5096461744242776,\n",
       "  0.47299360545255736,\n",
       "  0.459560972390377,\n",
       "  0.43400651278485114,\n",
       "  0.38399741514746116,\n",
       "  0.39690127176416146,\n",
       "  0.3865284300682744,\n",
       "  0.40770794372629166,\n",
       "  0.40991065935797116,\n",
       "  0.40776930865819877,\n",
       "  0.42966453791703596,\n",
       "  0.39620879777546897,\n",
       "  0.3765411137417225,\n",
       "  0.38347245569141375,\n",
       "  0.3878328805018821,\n",
       "  0.40798375527343045,\n",
       "  0.4443292599661682,\n",
       "  0.48002087021553824,\n",
       "  0.4956609035179183,\n",
       "  0.48204155976208973,\n",
       "  0.5268672831223317,\n",
       "  0.5573530032237157,\n",
       "  0.5642883484482998,\n",
       "  0.5833526490630574,\n",
       "  0.5652747994417984,\n",
       "  0.5390912031342017,\n",
       "  0.5376289262126447,\n",
       "  0.5329692269939857,\n",
       "  0.5573104702111676,\n",
       "  0.5574656101593464,\n",
       "  0.5938719065579462,\n",
       "  0.6030996737395373,\n",
       "  0.6411332292726976,\n",
       "  0.6123472745544791,\n",
       "  0.5970462616841573,\n",
       "  0.5846211915263492,\n",
       "  0.5497598940401716,\n",
       "  0.5475312353233625,\n",
       "  0.5404791028904327,\n",
       "  0.5232525908668958,\n",
       "  0.48281981887160685,\n",
       "  0.47607085585715403,\n",
       "  0.4795601063294168,\n",
       "  0.4806523033024512,\n",
       "  0.4959819632425761,\n",
       "  0.49469450123198194,\n",
       "  0.5244493093073576,\n",
       "  0.511030040791761,\n",
       "  0.5164185224798681,\n",
       "  0.48550341106222,\n",
       "  0.4561796421455617,\n",
       "  0.405145740740167,\n",
       "  0.41256822698593626,\n",
       "  0.4177152125060296,\n",
       "  0.43398282544841077,\n",
       "  0.46125491979978217,\n",
       "  0.4616721682031871,\n",
       "  0.4948405567003494,\n",
       "  0.4913240831486841,\n",
       "  0.5352055972654183,\n",
       "  0.5334503872216573,\n",
       "  0.5489808332216296,\n",
       "  0.5849172807480226,\n",
       "  0.5799664304728351,\n",
       "  0.5477151417381663,\n",
       "  0.5443793956731586,\n",
       "  0.5464139771195967,\n",
       "  0.5312431239692268,\n",
       "  0.511556862403229,\n",
       "  0.5213067882544461,\n",
       "  0.5435169890031885,\n",
       "  0.5502344005889199,\n",
       "  0.5640807748133352,\n",
       "  0.5484368323928844,\n",
       "  0.5434057556804968,\n",
       "  0.5637714906155451,\n",
       "  0.5512322968537403,\n",
       "  0.5528702483292797,\n",
       "  0.5481952406513853,\n",
       "  0.5603736648205585,\n",
       "  0.5553270762376432,\n",
       "  0.536489374525326,\n",
       "  0.5418400262421953,\n",
       "  0.565995247614527,\n",
       "  0.5667162372049465,\n",
       "  0.5880931729504697,\n",
       "  0.6103590494444523,\n",
       "  0.6547142507341386,\n",
       "  0.6746267322358633,\n",
       "  0.6951244369667774,\n",
       "  0.7056618223874033,\n",
       "  0.6787252318299892,\n",
       "  0.6618912966318842,\n",
       "  0.660532835295656,\n",
       "  0.6592714091470285,\n",
       "  0.6485068456853307,\n",
       "  0.6305788412144072,\n",
       "  0.6351686804202273,\n",
       "  0.626968031915817,\n",
       "  0.617407884211335,\n",
       "  0.5866559211143384,\n",
       "  0.5920918131038965,\n",
       "  0.5981700043758507,\n",
       "  0.5870576517548041,\n",
       "  0.5564291967047816,\n",
       "  0.5498170837325725,\n",
       "  0.5063156795639934,\n",
       "  0.4926137746604179,\n",
       "  0.4994980501099753,\n",
       "  0.5039709552261998,\n",
       "  0.5067327257457014,\n",
       "  0.5290656193233501,\n",
       "  0.5236431925997254,\n",
       "  0.4886404197928506,\n",
       "  0.47092787099953337,\n",
       "  0.5095570985122454,\n",
       "  0.47987783140741386,\n",
       "  0.4583168681757645,\n",
       "  0.4774523925082929,\n",
       "  0.5026002718625427,\n",
       "  0.49512275834585084,\n",
       "  0.482847561328899,\n",
       "  0.499380607497611,\n",
       "  0.4895583071975607,\n",
       "  0.4893595418995434,\n",
       "  0.5258698372154252,\n",
       "  0.5420719344235166,\n",
       "  0.5064736995889652,\n",
       "  0.5022220542587397,\n",
       "  0.49328469373854406,\n",
       "  0.48655503254517957,\n",
       "  0.4637849826827025,\n",
       "  0.4943575212826348,\n",
       "  0.5290422335942477,\n",
       "  0.4997589846795899,\n",
       "  0.4972984242378722,\n",
       "  0.544082826319225,\n",
       "  0.5375571801431879,\n",
       "  0.554430593546777,\n",
       "  0.5366582940185906,\n",
       "  0.5570727355722822,\n",
       "  0.5510583341273545,\n",
       "  0.5588465207775372,\n",
       "  0.547199079969952,\n",
       "  0.549733606027909,\n",
       "  0.5481761592912037,\n",
       "  0.5439730137388507,\n",
       "  0.5448267071427342,\n",
       "  0.5413275307810848,\n",
       "  0.5630120127608467,\n",
       "  0.5772864119385803,\n",
       "  0.5837799582713172,\n",
       "  0.5764920624890167,\n",
       "  0.5910508174403367,\n",
       "  0.5931384737314891,\n",
       "  0.5701281529867024,\n",
       "  0.5402297018490952,\n",
       "  0.5030878792698392,\n",
       "  0.5391518419697473,\n",
       "  0.5108200765318879,\n",
       "  0.517605563404993,\n",
       "  0.5136036923351347,\n",
       "  0.5286769828310485,\n",
       "  0.5264077161413511,\n",
       "  0.5011489753582743,\n",
       "  0.4967534261844958,\n",
       "  0.48470718143971436,\n",
       "  0.5019036010620921,\n",
       "  0.4559522528232908,\n",
       "  0.4424356583002356,\n",
       "  0.39728818712193015,\n",
       "  0.3904074358992065,\n",
       "  0.4052819737400648,\n",
       "  0.40289111898294555,\n",
       "  0.3770027565077843,\n",
       "  0.40675559086474206,\n",
       "  0.4423773048411049,\n",
       "  0.4554495059199591,\n",
       "  0.4687173579457619,\n",
       "  0.44719456079656533,\n",
       "  0.47863535101324395,\n",
       "  0.4470516122184202,\n",
       "  0.4456916128390966,\n",
       "  0.4346250322179979,\n",
       "  0.45006294343577463,\n",
       "  0.45522162902604,\n",
       "  0.4491970381157772,\n",
       "  0.4528087941213928,\n",
       "  0.4551749021337319,\n",
       "  0.4954278992223853,\n",
       "  0.4883259114980402,\n",
       "  0.47206573367444,\n",
       "  0.47182095613004715,\n",
       "  0.5076220941779268,\n",
       "  0.4879480765320364,\n",
       "  0.47630113067394975,\n",
       "  0.47342562941405114,\n",
       "  0.4934895479436452,\n",
       "  0.4778987470310793,\n",
       "  0.4757710677625549,\n",
       "  0.5146932109282264,\n",
       "  0.4950583424554674,\n",
       "  0.5102118570202295,\n",
       "  0.5197143840022789,\n",
       "  0.5420205602953595,\n",
       "  0.5431802613640806,\n",
       "  0.5806240818887612,\n",
       "  0.6083526721836008,\n",
       "  0.573201255457618,\n",
       "  0.5969435773297949,\n",
       "  0.5672198040596076,\n",
       "  0.5637077636612242,\n",
       "  0.5610696665086007,\n",
       "  0.5467013732186865,\n",
       "  0.5354314415443783,\n",
       "  0.4944046939512792,\n",
       "  0.4664307921074513,\n",
       "  0.5082077602885805,\n",
       "  0.5139257413107116,\n",
       "  0.4706563631507644,\n",
       "  0.457039379964536,\n",
       "  0.4811170857215467,\n",
       "  0.4528308238046666,\n",
       "  0.41887029928364733,\n",
       "  0.40400230582863655,\n",
       "  0.3624763867856724,\n",
       "  0.324005984760444,\n",
       "  0.34954492860037173,\n",
       "  0.34064673636752996,\n",
       "  0.37599359552377865,\n",
       "  0.4128590966749024,\n",
       "  0.4127646217071132,\n",
       "  0.43026895018271594,\n",
       "  0.44350964165860157,\n",
       "  0.4876999548081684,\n",
       "  0.49710595792237894,\n",
       "  0.4656907679401436,\n",
       "  0.42116970185386826,\n",
       "  0.4685221418232478,\n",
       "  0.4963981282245816,\n",
       "  0.47055553386905996,\n",
       "  0.500162795258819,\n",
       "  0.5152505495215627,\n",
       "  0.5365523945264945,\n",
       "  0.5349611805829347,\n",
       "  0.5520982680908979,\n",
       "  0.5402633738948294,\n",
       "  0.5115662198247757,\n",
       "  0.5217416858600298,\n",
       "  0.4995573177264826,\n",
       "  0.4995241323003643,\n",
       "  0.5165685808146039,\n",
       "  0.5224748985281036,\n",
       "  0.5093970291883139,\n",
       "  0.5152183538523059,\n",
       "  0.5156651412238128,\n",
       "  0.5638872244334412,\n",
       "  0.5226158430673236,\n",
       "  0.5398869955307495,\n",
       "  0.5664635235621787,\n",
       "  0.5794536046947543,\n",
       "  0.552745902524968,\n",
       "  0.5300641294016709,\n",
       "  0.5696562957281376,\n",
       "  0.5757583627854561,\n",
       "  0.5735269505853705,\n",
       "  0.6148595364601347,\n",
       "  0.5706496787791417,\n",
       "  0.5762994301699192,\n",
       "  0.5647712254724594,\n",
       "  0.5339636819768163,\n",
       "  0.5156429031617366,\n",
       "  0.5149340670510947,\n",
       "  0.5217818095544265,\n",
       "  0.5098364946761412,\n",
       "  0.4860525937240462,\n",
       "  0.4828613748425409,\n",
       "  0.47663748337178996,\n",
       "  0.43617519412069217,\n",
       "  0.3931240904279117,\n",
       "  0.41056750870368824,\n",
       "  0.44432477665434095,\n",
       "  0.4180169288025054,\n",
       "  0.40016630107555057,\n",
       "  0.42249888165172145,\n",
       "  0.41314266637097563,\n",
       "  0.456076448659551,\n",
       "  0.444091154946838,\n",
       "  0.44311644888727303,\n",
       "  0.44928417895177697,\n",
       "  0.4578099279112781,\n",
       "  0.4379393890680805,\n",
       "  0.4093261115289546,\n",
       "  0.4492735697892911,\n",
       "  0.4719991803912455,\n",
       "  0.4979867448229035,\n",
       "  0.4613706644526363,\n",
       "  0.4912016988341048,\n",
       "  0.5130131934041544,\n",
       "  0.5447918436646294,\n",
       "  0.5440958079089288,\n",
       "  0.5715473559857583,\n",
       "  0.6016147960139249,\n",
       "  0.5879856793666206,\n",
       "  0.5927172062051964,\n",
       "  0.5914412728333773,\n",
       "  0.590787663062339,\n",
       "  0.5766930069676609,\n",
       "  0.5832699477325789,\n",
       "  0.5813699571828989,\n",
       "  0.5691211636587347,\n",
       "  0.5694746347375158,\n",
       "  0.5584895950428971,\n",
       "  0.5104516191750881,\n",
       "  0.5225994274530918,\n",
       "  0.5513588545880035,\n",
       "  0.5335207092672218,\n",
       "  0.5256106704991739,\n",
       "  0.4921678064866216,\n",
       "  0.471426080226472,\n",
       "  0.46688543130286897,\n",
       "  0.45634704168618695,\n",
       "  0.45584753597636773,\n",
       "  0.41647585740493565,\n",
       "  0.4208338014949208,\n",
       "  0.42263627734007886,\n",
       "  0.43161167508576975,\n",
       "  0.41574295250209276,\n",
       "  0.43986578982731434,\n",
       "  0.45998777677355807,\n",
       "  0.4898564847118929,\n",
       "  0.5084202519900773,\n",
       "  0.5571664374967347,\n",
       "  0.5572022591395075,\n",
       "  0.5716404791136146,\n",
       "  0.6036741186957353,\n",
       "  0.6301502606384203,\n",
       "  0.6186747382834131,\n",
       "  0.6291180554455551,\n",
       "  0.6200175415532075,\n",
       "  0.6458828400013604,\n",
       "  0.6594523217206462,\n",
       "  0.688618622651385,\n",
       "  0.6797886770948962,\n",
       "  0.6816836684323246,\n",
       "  0.7140388845087461,\n",
       "  0.7442838713465039,\n",
       "  0.7139240306506206,\n",
       "  0.7131279114657969,\n",
       "  0.7166473951514027,\n",
       "  0.6958321927795109,\n",
       "  0.6536240555529923,\n",
       "  0.6185043558899679,\n",
       "  0.6059674596513592,\n",
       "  0.5870456810863572,\n",
       "  0.5925950801927424,\n",
       "  0.5952276658773048,\n",
       "  0.58930119700578,\n",
       "  0.5973199446706132,\n",
       "  0.5477203397188305,\n",
       "  0.5116821216461586,\n",
       "  0.5034079997921094,\n",
       "  0.4780964303053191,\n",
       "  0.46469431620799245,\n",
       "  0.4288724220320264,\n",
       "  0.42827453772253116,\n",
       "  0.43479047605381355,\n",
       "  0.4144707488560885,\n",
       "  0.36673688139503474,\n",
       "  0.38349996531014857,\n",
       "  0.40852319818473315,\n",
       "  0.4098396331380364,\n",
       "  0.4190286789636989,\n",
       "  0.3905588817230116,\n",
       "  0.36220617283874257,\n",
       "  0.39710245667875743,\n",
       "  0.41284822504867064,\n",
       "  0.3894688664779344,\n",
       "  0.43374131177260994,\n",
       "  0.4599968693861629,\n",
       "  0.4768276808465351,\n",
       "  0.5098310575534066,\n",
       "  0.5265945565591921,\n",
       "  0.5483789128350153,\n",
       "  0.5437649774136105,\n",
       "  0.5657838090477373,\n",
       "  0.6036608607474507,\n",
       "  0.638029653111327,\n",
       "  0.6361036206275222,\n",
       "  0.6547836728271835,\n",
       "  0.6591623005759844,\n",
       "  0.6244006986448885,\n",
       "  0.6625550897037089,\n",
       "  0.6837249696110406,\n",
       "  0.6661804464900941,\n",
       "  0.6544329412758174,\n",
       "  0.6607482394173996,\n",
       "  0.6602964202538713,\n",
       "  0.6707255716432919,\n",
       "  0.6559415863291804,\n",
       "  0.6110639921360719,\n",
       "  0.6334691246053277,\n",
       "  0.6220403530213726,\n",
       "  0.6033711010994033,\n",
       "  0.5694036820158966,\n",
       "  0.563781246913528,\n",
       "  0.5258701194325378,\n",
       "  0.48934444957431067,\n",
       "  0.45273885402648295,\n",
       "  0.48592991559012466,\n",
       "  0.5146402739475824,\n",
       "  0.5264302166939095,\n",
       "  0.5144668603152082,\n",
       "  0.5175028829397853,\n",
       "  0.5208871457361176,\n",
       "  0.5273021006476789,\n",
       "  0.5093728185806521,\n",
       "  0.5105483803430214,\n",
       "  0.5299573875269415,\n",
       "  0.5493353709476144,\n",
       "  0.5376945103340524,\n",
       "  0.5297632329609804,\n",
       "  0.5356658570796308,\n",
       "  0.5465586505170724,\n",
       "  0.541028818029342,\n",
       "  0.5696860490118937,\n",
       "  0.6147668414266779,\n",
       "  0.6074151362065918,\n",
       "  0.5942295076699633,\n",
       "  0.6072648007928642,\n",
       "  0.5949144618934729,\n",
       "  0.5961186605673117,\n",
       "  0.5854026039894803,\n",
       "  0.577547976445733,\n",
       "  0.5991740753105155,\n",
       "  0.6177682794396323,\n",
       "  0.6099318972276293,\n",
       "  0.6070571160255402,\n",
       "  0.6342604255173119,\n",
       "  0.6456487585115782,\n",
       "  0.6496306945743537,\n",
       "  0.6581809185730846,\n",
       "  0.6734225055536833,\n",
       "  0.6621785777202099,\n",
       "  0.6726717009691141,\n",
       "  0.6466106840181943,\n",
       "  0.6557459507393312,\n",
       "  0.64624510203896,\n",
       "  0.6000334413697438,\n",
       "  0.5799472029083038,\n",
       "  0.5720148827150675,\n",
       "  0.5535833260879667,\n",
       "  0.5414746466320157,\n",
       "  0.5058804337442165,\n",
       "  0.5039095694514353,\n",
       "  0.4996938245952106,\n",
       "  0.4675041937837266,\n",
       "  0.47132330152754187,\n",
       "  0.4403536715552456,\n",
       "  0.44721536336677015,\n",
       "  0.461697213001416,\n",
       "  0.4561926360188329,\n",
       "  0.4593963020329658,\n",
       "  0.46085071695500995,\n",
       "  0.46108091301330095,\n",
       "  0.48102426891600186,\n",
       "  0.48287838752112305,\n",
       "  0.5278776101033019,\n",
       "  0.5469135671826542,\n",
       "  0.5298705569651463,\n",
       "  0.5357287964226025,\n",
       "  0.577541471333825,\n",
       "  0.5759096464900041,\n",
       "  0.5321334370635079,\n",
       "  0.5144306271342702,\n",
       "  0.5245696877135397,\n",
       "  0.5221718911572023,\n",
       "  0.5296039596928117,\n",
       "  0.540641709725261,\n",
       "  0.5456334326879299,\n",
       "  0.513940878848533,\n",
       "  0.5233297878350892,\n",
       "  0.5348448754838848,\n",
       "  0.5382028682375901,\n",
       "  0.5286776635101671,\n",
       "  0.521063242331409,\n",
       "  0.519726963937421,\n",
       "  0.5330648217629719,\n",
       "  0.533685485583916,\n",
       "  0.5559677873647046,\n",
       "  0.5271843364558658,\n",
       "  0.5504694830667577,\n",
       "  0.5553384613647272,\n",
       "  0.5559758583500359,\n",
       "  0.5453951384227446,\n",
       "  0.5205290530040653,\n",
       "  0.5412739441764395,\n",
       "  0.5483445717733512,\n",
       "  0.5458214727348851,\n",
       "  0.5767501473169186,\n",
       "  0.5491344001128019,\n",
       "  0.51723612198657,\n",
       "  0.5235048406013583,\n",
       "  0.5108607144763175,\n",
       "  0.5193404964941188,\n",
       "  0.517181178927544,\n",
       "  0.4722631683006037,\n",
       "  0.5117740527677906,\n",
       "  0.48824751655330784,\n",
       "  0.48649673786361225,\n",
       "  0.4987990137915525,\n",
       "  0.5031439309085325,\n",
       "  0.5165864749096597,\n",
       "  0.5238417724811333,\n",
       "  0.5453277905812117,\n",
       "  0.5557899938237052,\n",
       "  0.5258292069278812,\n",
       "  0.5103583070587099,\n",
       "  0.5218424289295204,\n",
       "  0.5459267930608656,\n",
       "  0.5367114176189737,\n",
       "  0.5414988223664629,\n",
       "  0.5437536390911712,\n",
       "  0.5426039535690802,\n",
       "  0.49541887701735005,\n",
       "  0.5413562458099478,\n",
       "  0.5310091778404152,\n",
       "  0.5741661870467458,\n",
       "  0.6048146526954961,\n",
       "  0.5712432989658977,\n",
       "  0.5891030839338317,\n",
       "  0.5848666948027933,\n",
       "  0.6029325466358826,\n",
       "  0.6005345667480368,\n",
       "  0.5603501175283717,\n",
       "  0.5596118071071553,\n",
       "  0.5708636494603295,\n",
       "  0.5609297756203184,\n",
       "  0.5694279793485917,\n",
       "  0.595303590268609,\n",
       "  0.5924930236796836,\n",
       "  0.6119231420025665,\n",
       "  0.6235172038475937,\n",
       "  0.660238237524493,\n",
       "  0.6453590008471517,\n",
       "  0.6479368526772885]]"
      ]
     },
     "execution_count": 597,
     "metadata": {},
     "output_type": "execute_result"
    }
   ],
   "source": [
    "import random\n",
    "random.seed(1) # This line fixes the value called by your function,\n",
    "               # and is used for answer-checking.\n",
    "R = 1000\n",
    "x = []\n",
    "# write your code here!\n",
    "for i in range(R):\n",
    "    x.append(random.uniform(0,1))\n",
    "\n",
    "y = []\n",
    "for i in range(1,10):\n",
    "    y.append(moving_window_average(x, i))\n",
    "    \n",
    "y"
   ]
  },
  {
   "cell_type": "code",
   "execution_count": 602,
   "metadata": {},
   "outputs": [
    {
     "data": {
      "text/plain": [
       "[0.3288535452916686,\n",
       " 0.3758743388017015,\n",
       " 0.43536153034925723,\n",
       " 0.4316792887730603,\n",
       " 0.4220414008102969,\n",
       " 0.48580511533824855,\n",
       " 0.5129326447739442,\n",
       " 0.5051914034576452,\n",
       " 0.43594880658259944,\n",
       " 0.45325045824763405,\n",
       " 0.47380545327025597,\n",
       " 0.4537391947685936,\n",
       " 0.48043716957142624,\n",
       " 0.49068299743287813,\n",
       " 0.48493121527463434,\n",
       " 0.48466743204476664,\n",
       " 0.457908101942369,\n",
       " 0.5039428378399561,\n",
       " 0.4692995792245261,\n",
       " 0.48879897411357176,\n",
       " 0.48668346334338236,\n",
       " 0.4237289865464811,\n",
       " 0.423086208819443,\n",
       " 0.37696047228277485,\n",
       " 0.3400863617164445,\n",
       " 0.35849494964590084,\n",
       " 0.37716955696840293,\n",
       " 0.34783942647242044,\n",
       " 0.3042443631050771,\n",
       " 0.2959332155507383,\n",
       " 0.2781959708357652,\n",
       " 0.31596518902484294,\n",
       " 0.3639118740318944,\n",
       " 0.4021484828191135,\n",
       " 0.3792410893867631,\n",
       " 0.42439846854987356,\n",
       " 0.4813859302351205,\n",
       " 0.4713880591682862,\n",
       " 0.4817438908066899,\n",
       " 0.505551249156284,\n",
       " 0.5438612632567198,\n",
       " 0.6270386161234062,\n",
       " 0.589268527423301,\n",
       " 0.6141395611162004,\n",
       " 0.6166860341599846,\n",
       " 0.6273644200725481,\n",
       " 0.5905496195241384,\n",
       " 0.5925980260729173,\n",
       " 0.6585350677658725,\n",
       " 0.6742249436949153,\n",
       " 0.662181111913032,\n",
       " 0.6006660264999467,\n",
       " 0.5376023343857294,\n",
       " 0.5717202659850827,\n",
       " 0.5339273847147598,\n",
       " 0.4887184606388488,\n",
       " 0.5110303015893248,\n",
       " 0.5215266794004223,\n",
       " 0.5026182093704649,\n",
       " 0.45975508228622197,\n",
       " 0.45372579223758225,\n",
       " 0.44640072226189403,\n",
       " 0.5140295208845126,\n",
       " 0.5393202885272469,\n",
       " 0.5025794564736036,\n",
       " 0.5094321402155566,\n",
       " 0.4963928277053617,\n",
       " 0.4504554212479412,\n",
       " 0.45048645093323253,\n",
       " 0.4785502588248095,\n",
       " 0.4984121415410293,\n",
       " 0.4942883284804248,\n",
       " 0.4635540292627611,\n",
       " 0.43844456957488265,\n",
       " 0.4803662259317363,\n",
       " 0.5146633209196068,\n",
       " 0.5192018598275631,\n",
       " 0.5947213884597123,\n",
       " 0.6118749191603021,\n",
       " 0.5946376077588295,\n",
       " 0.5918448505732473,\n",
       " 0.5904458576115331,\n",
       " 0.596403316296329,\n",
       " 0.60539697816776,\n",
       " 0.6095567737161932,\n",
       " 0.6072876504363471,\n",
       " 0.5377591040381282,\n",
       " 0.5599443571440929,\n",
       " 0.5563258237809049,\n",
       " 0.6157806831229952,\n",
       " 0.6363926602725916,\n",
       " 0.6233628886911561,\n",
       " 0.6179886592113196,\n",
       " 0.6272819440174752,\n",
       " 0.6415375078580869,\n",
       " 0.5968217794994043,\n",
       " 0.5889030407463509,\n",
       " 0.6402021502396225,\n",
       " 0.5871279854725091,\n",
       " 0.5584220359728165,\n",
       " 0.5219443570093371,\n",
       " 0.4870613163467698,\n",
       " 0.44496477254183114,\n",
       " 0.4467648191068168,\n",
       " 0.4524131452903738,\n",
       " 0.46935512575351707,\n",
       " 0.505902716897061,\n",
       " 0.42935406497953393,\n",
       " 0.39840912837959247,\n",
       " 0.3963520228124505,\n",
       " 0.40360115038968497,\n",
       " 0.43779058208292054,\n",
       " 0.4779404889949632,\n",
       " 0.5189422747783579,\n",
       " 0.5442112361258894,\n",
       " 0.5107389258795076,\n",
       " 0.5315836865605413,\n",
       " 0.5511261161368125,\n",
       " 0.5561496755659084,\n",
       " 0.5367938209148663,\n",
       " 0.522007340549978,\n",
       " 0.5375642409566832,\n",
       " 0.4819779104839648,\n",
       " 0.41934606382186784,\n",
       " 0.4036828385052296,\n",
       " 0.36077242882666644,\n",
       " 0.3438834595942611,\n",
       " 0.28187261345060216,\n",
       " 0.2686241474150845,\n",
       " 0.2763433118167691,\n",
       " 0.2996363851534164,\n",
       " 0.36300274444982183,\n",
       " 0.335649549431046,\n",
       " 0.34223523495230995,\n",
       " 0.37535181557739355,\n",
       " 0.32070022407553084,\n",
       " 0.3245306095905286,\n",
       " 0.3564763641976403,\n",
       " 0.3590594351119553,\n",
       " 0.32100318905717357,\n",
       " 0.3875189667056819,\n",
       " 0.40908274344295426,\n",
       " 0.36340102211263586,\n",
       " 0.3771234775661224,\n",
       " 0.422126923201628,\n",
       " 0.38094938632335595,\n",
       " 0.3804248357047931,\n",
       " 0.3585979843991455,\n",
       " 0.38568132926757404,\n",
       " 0.38315299180197326,\n",
       " 0.43732062229348134,\n",
       " 0.4171712854681113,\n",
       " 0.4203154838908592,\n",
       " 0.42136173438821434,\n",
       " 0.4549931778231114,\n",
       " 0.4532451041256808,\n",
       " 0.49831614125659945,\n",
       " 0.5169826193855882,\n",
       " 0.5626230446310345,\n",
       " 0.5331741843670808,\n",
       " 0.5709576725632947,\n",
       " 0.5361067799717604,\n",
       " 0.5318133314257967,\n",
       " 0.48763905439194094,\n",
       " 0.4947305272646988,\n",
       " 0.49403132656769944,\n",
       " 0.5010970889794274,\n",
       " 0.48198682565068673,\n",
       " 0.5397430643879494,\n",
       " 0.5090028106837565,\n",
       " 0.5584928490725731,\n",
       " 0.5737652268797608,\n",
       " 0.582394904463388,\n",
       " 0.5479776536459778,\n",
       " 0.543404485123903,\n",
       " 0.5961419349953425,\n",
       " 0.511597682308769,\n",
       " 0.5064958519794633,\n",
       " 0.5661153524201518,\n",
       " 0.5399122764100265,\n",
       " 0.5272898643940797,\n",
       " 0.5207891946031441,\n",
       " 0.5416922052842869,\n",
       " 0.5678604670629275,\n",
       " 0.5911800710445688,\n",
       " 0.6247699412154724,\n",
       " 0.5764256672476338,\n",
       " 0.5916843242200087,\n",
       " 0.5784787700049239,\n",
       " 0.5303650423612419,\n",
       " 0.49616850370124266,\n",
       " 0.4900691516706788,\n",
       " 0.47172155747465044,\n",
       " 0.41011223355860144,\n",
       " 0.39154648627739513,\n",
       " 0.3748621143499502,\n",
       " 0.4197396300844908,\n",
       " 0.46998939236377796,\n",
       " 0.4529285947588477,\n",
       " 0.4099013217764745,\n",
       " 0.4003368294124702,\n",
       " 0.47242147240727345,\n",
       " 0.5340829408516244,\n",
       " 0.5043682244491019,\n",
       " 0.4968188720216165,\n",
       " 0.5126966127022494,\n",
       " 0.5592743777275193,\n",
       " 0.5647803744975258,\n",
       " 0.5142505149662565,\n",
       " 0.5928232621322558,\n",
       " 0.6370284594697919,\n",
       " 0.6512791883349035,\n",
       " 0.6511390530528827,\n",
       " 0.6013154220657612,\n",
       " 0.636439925555792,\n",
       " 0.6247717831953984,\n",
       " 0.5788844261109097,\n",
       " 0.5855468545976464,\n",
       " 0.5201632839701734,\n",
       " 0.5579147719634115,\n",
       " 0.5322616472057558,\n",
       " 0.5462636484377738,\n",
       " 0.5356826736007878,\n",
       " 0.4770260377077142,\n",
       " 0.4821692061204503,\n",
       " 0.49507417315187113,\n",
       " 0.5422834730132554,\n",
       " 0.6136119562294193,\n",
       " 0.6114553490665916,\n",
       " 0.6043987838305941,\n",
       " 0.5854946284990284,\n",
       " 0.5404097346701524,\n",
       " 0.4675011531147938,\n",
       " 0.4406907366990392,\n",
       " 0.48849829327763766,\n",
       " 0.5336711261243733,\n",
       " 0.5301335032045744,\n",
       " 0.5062166791341083,\n",
       " 0.47538745871473065,\n",
       " 0.4658091402525299,\n",
       " 0.48787219947461485,\n",
       " 0.48965502234096087,\n",
       " 0.5005131200440659,\n",
       " 0.5043863440218371,\n",
       " 0.5219800007626905,\n",
       " 0.5242163435343936,\n",
       " 0.5038827421266636,\n",
       " 0.5126610358211509,\n",
       " 0.5232857444506656,\n",
       " 0.49255817477327124,\n",
       " 0.4930228167666871,\n",
       " 0.5339072283855365,\n",
       " 0.48314361192077676,\n",
       " 0.5237524815821551,\n",
       " 0.52465610524253,\n",
       " 0.5108723648285474,\n",
       " 0.5103534505125796,\n",
       " 0.4626786053898495,\n",
       " 0.40036643836794356,\n",
       " 0.4485836419647424,\n",
       " 0.46165917117588506,\n",
       " 0.4006176727242437,\n",
       " 0.3405826982529348,\n",
       " 0.36140438376304174,\n",
       " 0.3680948180824124,\n",
       " 0.3691085474796662,\n",
       " 0.4414414492843395,\n",
       " 0.3953702856629363,\n",
       " 0.4799376038118496,\n",
       " 0.5408093641103225,\n",
       " 0.47770619014146026,\n",
       " 0.4624695127424474,\n",
       " 0.4953287777769924,\n",
       " 0.48921475109418516,\n",
       " 0.526544743311601,\n",
       " 0.46250963393675515,\n",
       " 0.45411617989424274,\n",
       " 0.4606451988279817,\n",
       " 0.4531245251465901,\n",
       " 0.41915239847933833,\n",
       " 0.377390744522919,\n",
       " 0.3791414059884081,\n",
       " 0.3618281927162734,\n",
       " 0.40149927646115274,\n",
       " 0.4805614703600312,\n",
       " 0.5094474980879451,\n",
       " 0.515969506880053,\n",
       " 0.5345774267452736,\n",
       " 0.5014159043326457,\n",
       " 0.5636343612272965,\n",
       " 0.5587564116178668,\n",
       " 0.5804241637467409,\n",
       " 0.6121108517291428,\n",
       " 0.6299400518933247,\n",
       " 0.5961409833248724,\n",
       " 0.5359144234134541,\n",
       " 0.4701493953760561,\n",
       " 0.46742270949031933,\n",
       " 0.47338575072019,\n",
       " 0.5066193722845397,\n",
       " 0.4582511317975595,\n",
       " 0.46816907152737364,\n",
       " 0.4641032780930217,\n",
       " 0.4894578320360809,\n",
       " 0.5014026101529243,\n",
       " 0.48005552214733777,\n",
       " 0.48186645822684865,\n",
       " 0.48826227193598587,\n",
       " 0.5578773628852975,\n",
       " 0.6135785921541089,\n",
       " 0.5517088296498467,\n",
       " 0.5413843901150709,\n",
       " 0.5315857428122993,\n",
       " 0.5257238660893213,\n",
       " 0.4943809586122308,\n",
       " 0.48116454522644214,\n",
       " 0.4551272482805093,\n",
       " 0.4475379651114896,\n",
       " 0.42531909120110856,\n",
       " 0.3984163629364987,\n",
       " 0.32363601039267437,\n",
       " 0.3029378706274023,\n",
       " 0.3303059331648837,\n",
       " 0.3072692182773574,\n",
       " 0.3266509747832855,\n",
       " 0.3173144750332067,\n",
       " 0.3734554726590668,\n",
       " 0.38561961517875704,\n",
       " 0.4090441866441003,\n",
       " 0.47474018299633786,\n",
       " 0.4316403858461934,\n",
       " 0.5114868932492299,\n",
       " 0.5204061947144191,\n",
       " 0.533208639207408,\n",
       " 0.5963063047278331,\n",
       " 0.5989758853515806,\n",
       " 0.5832052453554777,\n",
       " 0.5144987687011005,\n",
       " 0.5472422827822281,\n",
       " 0.5852356785335004,\n",
       " 0.5396453149539227,\n",
       " 0.6138863887204565,\n",
       " 0.5404729976344348,\n",
       " 0.6074947763636284,\n",
       " 0.5398175911737557,\n",
       " 0.4790151190480112,\n",
       " 0.4864276771362473,\n",
       " 0.5304342478808807,\n",
       " 0.6031866144640841,\n",
       " 0.6328557300269467,\n",
       " 0.617112816044568,\n",
       " 0.6531224237654406,\n",
       " 0.5880675208516709,\n",
       " 0.6145181893925382,\n",
       " 0.5461013956979406,\n",
       " 0.6081981689771655,\n",
       " 0.6401718109703164,\n",
       " 0.5810352767957501,\n",
       " 0.5138132688288128,\n",
       " 0.5189252794037927,\n",
       " 0.5159738345061252,\n",
       " 0.4980724750504887,\n",
       " 0.4845981543854628,\n",
       " 0.5457924999024679,\n",
       " 0.5476717432339208,\n",
       " 0.569291152412885,\n",
       " 0.5350952154061802,\n",
       " 0.4978397929322011,\n",
       " 0.4770963470259485,\n",
       " 0.5300076789034427,\n",
       " 0.4803074969922459,\n",
       " 0.4587030427381846,\n",
       " 0.4144350154119119,\n",
       " 0.39748645102112246,\n",
       " 0.33266749171418764,\n",
       " 0.3028328860472124,\n",
       " 0.2904149337013089,\n",
       " 0.3349845006185906,\n",
       " 0.34769615703614526,\n",
       " 0.38193921604485404,\n",
       " 0.3788488595896579,\n",
       " 0.36219847513487974,\n",
       " 0.31100516072255346,\n",
       " 0.35340335245738913,\n",
       " 0.3666720957183829,\n",
       " 0.4130862301170879,\n",
       " 0.4415578610585629,\n",
       " 0.48041242121696043,\n",
       " 0.4715476546874981,\n",
       " 0.4570546876054209,\n",
       " 0.4655992420413399,\n",
       " 0.45345214791305394,\n",
       " 0.4526823689805919,\n",
       " 0.4894795471510653,\n",
       " 0.49236188302390854,\n",
       " 0.5292745998374195,\n",
       " 0.5537170536099075,\n",
       " 0.5388905452302789,\n",
       " 0.535245276592496,\n",
       " 0.4731339487925261,\n",
       " 0.4579681954348782,\n",
       " 0.4594790552970778,\n",
       " 0.4957151636029591,\n",
       " 0.4897520404865104,\n",
       " 0.5219140155665077,\n",
       " 0.5512414823744675,\n",
       " 0.4971380757680542,\n",
       " 0.47666992856483525,\n",
       " 0.5288304521121786,\n",
       " 0.5038485571217218,\n",
       " 0.5632199498077587,\n",
       " 0.6236623796575242,\n",
       " 0.6311974792612237,\n",
       " 0.6292750301672708,\n",
       " 0.6962874520180453,\n",
       " 0.7139284482150949,\n",
       " 0.685585095928004,\n",
       " 0.6732645380526562,\n",
       " 0.6330862148048894,\n",
       " 0.5756887208067082,\n",
       " 0.5936799043385472,\n",
       " 0.5988133090438771,\n",
       " 0.5366055912772287,\n",
       " 0.5445200140741893,\n",
       " 0.5318723890245989,\n",
       " 0.4819975832828224,\n",
       " 0.4415409457672299,\n",
       " 0.40459235102301433,\n",
       " 0.45492146513942555,\n",
       " 0.43584085409025924,\n",
       " 0.5052592513304025,\n",
       " 0.5269343771349366,\n",
       " 0.515179685072728,\n",
       " 0.5347608690277211,\n",
       " 0.5557814539808997,\n",
       " 0.5778074152999507,\n",
       " 0.5588205653967383,\n",
       " 0.5825206968533176,\n",
       " 0.6440782156271675,\n",
       " 0.6376983252478025,\n",
       " 0.6976709688005461,\n",
       " 0.6489289391611237,\n",
       " 0.6595074909045108,\n",
       " 0.6906674023785236,\n",
       " 0.7011062267578929,\n",
       " 0.6910924668222497,\n",
       " 0.643227262595292,\n",
       " 0.6455570862009105,\n",
       " 0.6046216340683238,\n",
       " 0.5395670173675348,\n",
       " 0.562218599511964,\n",
       " 0.5857655371144562,\n",
       " 0.5561408098682165,\n",
       " 0.5267200170102283,\n",
       " 0.4755397051477103,\n",
       " 0.4515157704369479,\n",
       " 0.40540340534708064,\n",
       " 0.3886120216834545,\n",
       " 0.4417777119113165,\n",
       " 0.41255422819284215,\n",
       " 0.4183277399290459,\n",
       " 0.37559031358515793,\n",
       " 0.2902821856798605,\n",
       " 0.3364948998736428,\n",
       " 0.3369447596365015,\n",
       " 0.3757727826523452,\n",
       " 0.38381967216901747,\n",
       " 0.38284749932808765,\n",
       " 0.40958595929827857,\n",
       " 0.3662813125731127,\n",
       " 0.4191657787048321,\n",
       " 0.42471519011546166,\n",
       " 0.4469655612487362,\n",
       " 0.5169706562743845,\n",
       " 0.533436840967687,\n",
       " 0.5668903474196272,\n",
       " 0.5405307704144459,\n",
       " 0.5663674489729759,\n",
       " 0.6182689113581628,\n",
       " 0.6388805436405837,\n",
       " 0.665909537474593,\n",
       " 0.6475021103258025,\n",
       " 0.6505171299879434,\n",
       " 0.5982091350923262,\n",
       " 0.5997053506382606,\n",
       " 0.5369250697625204,\n",
       " 0.5163477175023565,\n",
       " 0.516339543497109,\n",
       " 0.5594428206750467,\n",
       " 0.5508399079527325,\n",
       " 0.569426489654612,\n",
       " 0.529976433613955,\n",
       " 0.5406232598926479,\n",
       " 0.5668533363864566,\n",
       " 0.5853180862572117,\n",
       " 0.5576347588784133,\n",
       " 0.5793390527941115,\n",
       " 0.5594416652180569,\n",
       " 0.509946904143579,\n",
       " 0.4624349953550427,\n",
       " 0.434115584799231,\n",
       " 0.3733228033120634,\n",
       " 0.39721450646267553,\n",
       " 0.42291594622086676,\n",
       " 0.43299181865698944,\n",
       " 0.4494506982551018,\n",
       " 0.46259940313107323,\n",
       " 0.4644848075172248,\n",
       " 0.4349866328886098,\n",
       " 0.435262172882125,\n",
       " 0.42029007465457896,\n",
       " 0.43380026147043366,\n",
       " 0.4862424200931141,\n",
       " 0.5253350112196586,\n",
       " 0.5005961836468589,\n",
       " 0.5281966619274608,\n",
       " 0.5254041020163785,\n",
       " 0.5423973060458926,\n",
       " 0.5452524996304342,\n",
       " 0.5944085512033481,\n",
       " 0.6838372815074505,\n",
       " 0.6863568579400464,\n",
       " 0.6474612785309213,\n",
       " 0.6236768035906453,\n",
       " 0.596543615443873,\n",
       " 0.5827674176360511,\n",
       " 0.4933584264585624,\n",
       " 0.4867749417076535,\n",
       " 0.44961821315645545,\n",
       " 0.4492806431980325,\n",
       " 0.45988197876519793,\n",
       " 0.42323073657060245,\n",
       " 0.46218475476016535,\n",
       " 0.5283298771623314,\n",
       " 0.5400334912393746,\n",
       " 0.5365558431967394,\n",
       " 0.5716782348605296,\n",
       " 0.629572431078549,\n",
       " 0.6531708668106887,\n",
       " 0.6716986746820517,\n",
       " 0.6718574840684313,\n",
       " 0.6507680951875255,\n",
       " 0.6552503209932978,\n",
       " 0.6737309725465533,\n",
       " 0.6632368374314362,\n",
       " 0.6720999831610683,\n",
       " 0.6970815957281161,\n",
       " 0.7034050067921328,\n",
       " 0.700232915358946,\n",
       " 0.6730242475156136,\n",
       " 0.6398340565728393,\n",
       " 0.6671996067615972,\n",
       " 0.6894432470821065,\n",
       " 0.6813081786145839,\n",
       " 0.6099401792889951,\n",
       " 0.6145312338186865,\n",
       " 0.5816471440287208,\n",
       " 0.5543383111319582,\n",
       " 0.4843439654823846,\n",
       " 0.47569110439691964,\n",
       " 0.5116272477667408,\n",
       " 0.5259922071147047,\n",
       " 0.4939155967986794,\n",
       " 0.4741793662610123,\n",
       " 0.42649705986057646,\n",
       " 0.45877829895304384,\n",
       " 0.46906482716533393,\n",
       " 0.48778341925869834,\n",
       " 0.4818580647113373,\n",
       " 0.5403598989338594,\n",
       " 0.5489701713453013,\n",
       " 0.5002557828023787,\n",
       " 0.48072037549184365,\n",
       " 0.5289792824109779,\n",
       " 0.4937270707115941,\n",
       " 0.4987401061763254,\n",
       " 0.5281504692328333,\n",
       " 0.48970234850954636,\n",
       " 0.4604078552399532,\n",
       " 0.47037105468317325,\n",
       " 0.4747180957793368,\n",
       " 0.435041703831304,\n",
       " 0.47542148626348213,\n",
       " 0.5213968196880263,\n",
       " 0.5149402882543307,\n",
       " 0.5150031449334679,\n",
       " 0.5636196497656556,\n",
       " 0.5092047668363165,\n",
       " 0.5126453946584142,\n",
       " 0.49484128610895434,\n",
       " 0.5201366227224677,\n",
       " 0.5319540932951257,\n",
       " 0.5465986344253921,\n",
       " 0.5074396856596165,\n",
       " 0.5301989055374339,\n",
       " 0.5203522572940833,\n",
       " 0.572536983527585,\n",
       " 0.5198886330069682,\n",
       " 0.5805503996687207,\n",
       " 0.5861328894212753,\n",
       " 0.5992389059951092,\n",
       " 0.5666932694506662,\n",
       " 0.5571364629825322,\n",
       " 0.5985699534925727,\n",
       " 0.595622890435158,\n",
       " 0.5649045348244442,\n",
       " 0.5157171906654112,\n",
       " 0.5274678460281707,\n",
       " 0.5650171261525729,\n",
       " 0.5662672801117101,\n",
       " 0.575885078647088,\n",
       " 0.6022242377520463,\n",
       " 0.5867895476113625,\n",
       " 0.5654258502844404,\n",
       " 0.5066265580758961,\n",
       " 0.5019172058083835,\n",
       " 0.510086593162718,\n",
       " 0.5278557059655626,\n",
       " 0.5077035678066191,\n",
       " 0.4892414812255215,\n",
       " 0.4715154027811112,\n",
       " 0.47062713747292795,\n",
       " 0.4432849535326463,\n",
       " 0.42913962649035126,\n",
       " 0.4173592203341921,\n",
       " 0.44951756203331494,\n",
       " 0.4460517639841324,\n",
       " 0.39796189981432567,\n",
       " 0.3701667438581468,\n",
       " 0.3561792220461842,\n",
       " 0.415123087451471,\n",
       " 0.36952305551009385,\n",
       " 0.3073627381900977,\n",
       " 0.3435834394052497,\n",
       " 0.4079948143970718,\n",
       " 0.4595506081740496,\n",
       " 0.4705340133100828,\n",
       " 0.49257664521500205,\n",
       " 0.5517682231843538,\n",
       " 0.5574704097659576,\n",
       " 0.5661179885509198,\n",
       " 0.49396841817634896,\n",
       " 0.5106182323634196,\n",
       " 0.5524645455929977,\n",
       " 0.5228255163760122,\n",
       " 0.46406979092281164,\n",
       " 0.39748758418356955,\n",
       " 0.4163031333359506,\n",
       " 0.42722428234873183,\n",
       " 0.4037755665935369,\n",
       " 0.4123064677210856,\n",
       " 0.41433356959353174,\n",
       " 0.43568687958404323,\n",
       " 0.45331531962664706,\n",
       " 0.49099388157152307,\n",
       " 0.5470392575582183,\n",
       " 0.5359138366044608,\n",
       " 0.587343418361412,\n",
       " 0.5907468572578655,\n",
       " 0.5777467329319306,\n",
       " 0.5598571766827131,\n",
       " 0.5933432441427289,\n",
       " 0.6118800779776543,\n",
       " 0.6182265629040886,\n",
       " 0.6442639793847587,\n",
       " 0.6305433853309732,\n",
       " 0.5539869917691767,\n",
       " 0.6328471710465133,\n",
       " 0.5617324747429916,\n",
       " 0.4969679678962635,\n",
       " 0.528353129321671,\n",
       " 0.4987142257450141,\n",
       " 0.48046296447209136,\n",
       " 0.40874829424992976,\n",
       " 0.41447199247858557,\n",
       " 0.4108310992950574,\n",
       " 0.4242423559446038,\n",
       " 0.4136238614551182,\n",
       " 0.33609402839193775,\n",
       " 0.4111342995533352,\n",
       " 0.40182852984503853,\n",
       " 0.3662629891345528,\n",
       " 0.3717463555940023,\n",
       " 0.345523430256085,\n",
       " 0.33621834218316704,\n",
       " 0.35209322752967587,\n",
       " 0.34342358427379,\n",
       " 0.32348604111101636,\n",
       " 0.39713632580159286,\n",
       " 0.4518785468770318,\n",
       " 0.41088562799612477,\n",
       " 0.464362740765252,\n",
       " 0.5276358810650119,\n",
       " 0.5752873915495951,\n",
       " 0.5891104849255074,\n",
       " 0.5920705945605185,\n",
       " 0.6191299570219042,\n",
       " 0.6051191597813906,\n",
       " 0.5744685566951845,\n",
       " 0.5526258273990758,\n",
       " 0.5432841371776923,\n",
       " 0.5553268503696197,\n",
       " 0.5034851793072056,\n",
       " 0.44745179239879035,\n",
       " 0.4266378551184538,\n",
       " 0.4226630011654272,\n",
       " 0.4972012862125681,\n",
       " 0.45074253872536213,\n",
       " 0.45727800846247457,\n",
       " 0.49036270908388246,\n",
       " 0.5029018282303801,\n",
       " 0.5175252550348551,\n",
       " 0.5384376849305418,\n",
       " 0.5557809623961153,\n",
       " 0.6124333373340027,\n",
       " 0.588647858319849,\n",
       " 0.6540368632735275,\n",
       " 0.6517153672716235,\n",
       " 0.6906285048897269,\n",
       " 0.6352126493838259,\n",
       " 0.5786373433836444,\n",
       " 0.5849803199254459,\n",
       " 0.5620759140665814,\n",
       " 0.5273527040210202,\n",
       " 0.5939987747554377,\n",
       " 0.5088818891733233,\n",
       " 0.5434687346298457,\n",
       " 0.5002598601799734,\n",
       " 0.4342266190728021,\n",
       " 0.3926833437642585,\n",
       " 0.4522139028527101,\n",
       " 0.5241318597398472,\n",
       " 0.45245585148812195,\n",
       " 0.4574870089552039,\n",
       " 0.43204368203677956,\n",
       " 0.41528968066638666,\n",
       " 0.4194412574070289,\n",
       " 0.374234736244441,\n",
       " 0.3688607749650393,\n",
       " 0.42380650691755045,\n",
       " 0.41635363694131944,\n",
       " 0.36384068192700547,\n",
       " 0.3558640103708931,\n",
       " 0.42698216222833324,\n",
       " 0.45710491133464987,\n",
       " 0.4765019911736317,\n",
       " 0.4423598915248988,\n",
       " 0.4568694110537667,\n",
       " 0.5044134266900729,\n",
       " 0.49949260530029654,\n",
       " 0.4636796199778164,\n",
       " 0.5064445950107518,\n",
       " 0.5815619823186767,\n",
       " 0.5624318093324573,\n",
       " 0.4985925864438002,\n",
       " 0.48011214407216746,\n",
       " 0.4932818935798059,\n",
       " 0.544481911398655,\n",
       " 0.5875720478435399,\n",
       " 0.6128091945245128,\n",
       " 0.6465527484698277,\n",
       " 0.6644578093632252,\n",
       " 0.6747484433103514,\n",
       " 0.6634139800983321,\n",
       " 0.636794486314475,\n",
       " 0.6415530285963049,\n",
       " 0.615896386423858,\n",
       " 0.6224842004897222,\n",
       " 0.5415159761992054,\n",
       " 0.5075157754090122,\n",
       " 0.4838902806549004,\n",
       " 0.42409831323341296,\n",
       " 0.4494919196636346,\n",
       " 0.42715543365046665,\n",
       " 0.3800675342760808,\n",
       " 0.38070345187979343,\n",
       " 0.39848383784049646,\n",
       " 0.3943871857875372,\n",
       " 0.4150631952771888,\n",
       " 0.45176108324451825,\n",
       " 0.4681928205939696,\n",
       " 0.42945198739023666,\n",
       " 0.5086195677416797,\n",
       " 0.4641308633919983,\n",
       " 0.43471699127426505,\n",
       " 0.41246207928408957,\n",
       " 0.47437940660196465,\n",
       " 0.48593228851300463,\n",
       " 0.5393501104292846,\n",
       " 0.5556322436600784,\n",
       " 0.5982409059970863,\n",
       " 0.6245591687636034,\n",
       " 0.6951670529654576,\n",
       " 0.6958826276229423,\n",
       " 0.7391366957587469,\n",
       " 0.7215927651818808,\n",
       " 0.7629441817807906,\n",
       " 0.7262344028037317,\n",
       " 0.7728525560925408,\n",
       " 0.7611310845181798,\n",
       " 0.7407037185324955,\n",
       " 0.720421617956686,\n",
       " 0.6791442067159555,\n",
       " 0.6806778733204014,\n",
       " 0.6553334702263259,\n",
       " 0.6190795548048562,\n",
       " 0.6490786785553039,\n",
       " 0.690537151739385,\n",
       " 0.6865848230509658,\n",
       " 0.6116120964953594,\n",
       " 0.5538308641469775,\n",
       " 0.5524059532381403,\n",
       " 0.5356901799718293,\n",
       " 0.5852564069812863,\n",
       " 0.5163733875457549,\n",
       " 0.49524683519226775,\n",
       " 0.5248273452019007,\n",
       " 0.4871485685295988,\n",
       " 0.4071001575545763,\n",
       " 0.4083346579178928,\n",
       " 0.4172375379834325,\n",
       " 0.4134723199925432,\n",
       " 0.37478644470518996,\n",
       " 0.38109240441608105,\n",
       " 0.3465079658376155,\n",
       " 0.3368621855186574,\n",
       " 0.3061078793208248,\n",
       " 0.3172594041556178,\n",
       " 0.3711806702091911,\n",
       " 0.37792111126931166,\n",
       " 0.40665985362543117,\n",
       " 0.3844889596932981,\n",
       " 0.408231432070764,\n",
       " 0.4614979928446539,\n",
       " 0.4686013860283268,\n",
       " 0.4465445650253819,\n",
       " 0.5204340862944995,\n",
       " 0.568185591357434,\n",
       " 0.5695370756625604,\n",
       " 0.5922238405293231,\n",
       " 0.6151399149927212,\n",
       " 0.5982095759374638,\n",
       " 0.6457211151543882,\n",
       " 0.6981420647440608,\n",
       " 0.6936448834554915,\n",
       " 0.6950576187017766,\n",
       " 0.7432648885958152,\n",
       " 0.7529811120307276,\n",
       " 0.7219341287790034,\n",
       " 0.6615587025498597,\n",
       " 0.6482850152256383,\n",
       " 0.6796385091603203,\n",
       " 0.664973369157972,\n",
       " 0.6597551417903204,\n",
       " 0.6105740356638896,\n",
       " 0.6182591436237712,\n",
       " 0.624660359730828,\n",
       " 0.6038026527836063,\n",
       " 0.5167080284264937,\n",
       " 0.5707607928615868,\n",
       " 0.594132615315027,\n",
       " 0.5434942257469512,\n",
       " 0.5006780225342666,\n",
       " 0.5167735387323318,\n",
       " 0.4729945627906573,\n",
       " 0.4472037970486617,\n",
       " 0.39447258854705686,\n",
       " 0.40274163195989626,\n",
       " 0.41749279934528133,\n",
       " 0.5020994030982673,\n",
       " 0.4740891435682959,\n",
       " 0.48440864810795803,\n",
       " 0.5172828552537362,\n",
       " 0.5378531223915137,\n",
       " 0.5242809492306219,\n",
       " 0.5981955376671176,\n",
       " 0.673952272883605,\n",
       " 0.6835565576539024,\n",
       " 0.6601723656010985,\n",
       " 0.6202540899745328,\n",
       " 0.5594466955041059,\n",
       " 0.5561092965193049,\n",
       " 0.5574092447961113,\n",
       " 0.557283577539725,\n",
       " 0.5982792583942051,\n",
       " 0.5638184099009526,\n",
       " 0.5472817609791596,\n",
       " 0.5510237858955113,\n",
       " 0.5808269238229318,\n",
       " 0.5750035848802892,\n",
       " 0.5805130162480941,\n",
       " 0.5896246977951853,\n",
       " 0.6287343106710972,\n",
       " 0.6568309280302143,\n",
       " 0.6677110936761154,\n",
       " 0.6606354744634585,\n",
       " 0.7299256937360554,\n",
       " 0.7489874352366152,\n",
       " 0.6934315428698327,\n",
       " 0.6687251206779806,\n",
       " 0.6896341196775831,\n",
       " 0.690022290331008,\n",
       " 0.7215881926255654,\n",
       " 0.6802152188892868,\n",
       " 0.6294162057822508,\n",
       " 0.6100045692896404,\n",
       " 0.5388919842173177,\n",
       " 0.4870131756800999,\n",
       " 0.4478177994135892,\n",
       " 0.414613016135244,\n",
       " 0.38804113716970295,\n",
       " 0.3393434593638363,\n",
       " 0.3834571864750581,\n",
       " 0.3689311253939181,\n",
       " 0.3512697186039232,\n",
       " 0.41137748146114655,\n",
       " 0.3933567825829263,\n",
       " 0.4294730445010597,\n",
       " 0.46447513811153784,\n",
       " 0.4895775117477232,\n",
       " 0.5273356124178243,\n",
       " 0.5823286777289188,\n",
       " 0.6028342285358871,\n",
       " 0.5898870503119563,\n",
       " 0.5809597234343985,\n",
       " 0.6431733396784024,\n",
       " 0.6175781799934758,\n",
       " 0.6024378742125087,\n",
       " 0.5674998550498638,\n",
       " 0.5881357651984096,\n",
       " 0.546127386541314,\n",
       " 0.5090940560732674,\n",
       " 0.46147824297627693,\n",
       " 0.4609321476316085,\n",
       " 0.4824506471504929,\n",
       " 0.47406458906129745,\n",
       " 0.4515201256662617,\n",
       " 0.46226399671155954,\n",
       " 0.4620626131826637,\n",
       " 0.5059191430393919,\n",
       " 0.5085800121699311,\n",
       " 0.537704338827172,\n",
       " 0.5839179869016404,\n",
       " 0.5924160587749111,\n",
       " 0.6348086349741975,\n",
       " 0.6363932419488959,\n",
       " 0.6094877825698709,\n",
       " 0.5939721709725393,\n",
       " 0.5562691444339353,\n",
       " 0.6092222483727932,\n",
       " 0.5643817648971875,\n",
       " 0.4979772133814471,\n",
       " 0.4733551597696027,\n",
       " 0.4683757744581355,\n",
       " 0.5089739831572593,\n",
       " 0.5009505392010501,\n",
       " 0.4842982120266824,\n",
       " 0.5364470289033044,\n",
       " 0.49411601960428714,\n",
       " 0.4913967326320563,\n",
       " 0.4911290472960273,\n",
       " 0.507092787730751,\n",
       " 0.529136797387418,\n",
       " 0.5860754322097602,\n",
       " 0.5530248956429166,\n",
       " 0.5585334246822046,\n",
       " 0.49016816650155537,\n",
       " 0.45379914783810027,\n",
       " 0.4745793813744333,\n",
       " 0.48494368172617647,\n",
       " 0.49685509570314745,\n",
       " 0.4739371330164868,\n",
       " 0.5279098150029529,\n",
       " 0.5719322058174537,\n",
       " 0.5158880421107233,\n",
       " 0.5500989062452294,\n",
       " 0.5538378604553832,\n",
       " 0.5937438608446142,\n",
       " 0.5781311794822263,\n",
       " 0.5648832621072363,\n",
       " 0.5772368291371274,\n",
       " 0.5740760787082352,\n",
       " 0.5369813400450435,\n",
       " 0.5461649546743699,\n",
       " 0.5157301970747039,\n",
       " 0.5736593139795946,\n",
       " 0.6169510175743675,\n",
       " 0.5599081568918124,\n",
       " 0.5595209114158454,\n",
       " 0.5800323926570177,\n",
       " 0.5800499294818482,\n",
       " 0.6259859627739024,\n",
       " 0.6025846708380483,\n",
       " 0.6267667395385689,\n",
       " 0.6010662398231612,\n",
       " 0.6055188929843067,\n",
       " 0.5855596839114389,\n",
       " 0.5617029807448758,\n",
       " 0.601587332067412,\n",
       " 0.6166532930740327]"
      ]
     },
     "execution_count": 602,
     "metadata": {},
     "output_type": "execute_result"
    }
   ],
   "source": [
    "import random\n",
    "random.seed(1) # This line fixes the value called by your function,\n",
    "               # and is used for answer-checking.\n",
    "R = 1000\n",
    "x = []\n",
    "# write your code here!\n",
    "for i in range(R):\n",
    "    x.append(random.uniform(0,1))\n",
    "\n",
    "y1 = []\n",
    "y1 = moving_window_average(x, 5)\n",
    "y1"
   ]
  },
  {
   "cell_type": "code",
   "execution_count": null,
   "metadata": {},
   "outputs": [],
   "source": []
  }
 ],
 "metadata": {
  "kernelspec": {
   "display_name": "Python 3",
   "language": "python",
   "name": "python3"
  },
  "language_info": {
   "codemirror_mode": {
    "name": "ipython",
    "version": 3
   },
   "file_extension": ".py",
   "mimetype": "text/x-python",
   "name": "python",
   "nbconvert_exporter": "python",
   "pygments_lexer": "ipython3",
   "version": "3.6.4"
  }
 },
 "nbformat": 4,
 "nbformat_minor": 2
}
