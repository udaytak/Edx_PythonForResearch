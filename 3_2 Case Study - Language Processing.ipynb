{
 "cells": [
  {
   "cell_type": "markdown",
   "metadata": {},
   "source": [
    "# 3.2.1 Introduction to Language Processing"
   ]
  },
  {
   "cell_type": "code",
   "execution_count": 1,
   "metadata": {},
   "outputs": [
    {
     "data": {
      "text/plain": [
       "'\\nPattern within texts - are different for languages/authors\\n\\nProperties of individual books - various authors and languages\\n    - book lengths\\n    - number of Unique words\\n    - How attributes clustere by language/author\\n    \\nProject Gutenberg - oldest online digital library\\n    gutenberg.org\\n    \\n'"
      ]
     },
     "execution_count": 1,
     "metadata": {},
     "output_type": "execute_result"
    }
   ],
   "source": [
    "'''\n",
    "Pattern within texts - are different for languages/authors\n",
    "\n",
    "Properties of individual books - various authors and languages\n",
    "    - book lengths\n",
    "    - number of Unique words\n",
    "    - How attributes clustere by language/author\n",
    "    \n",
    "Project Gutenberg - oldest online digital library\n",
    "    gutenberg.org\n",
    "    \n",
    "'''"
   ]
  },
  {
   "cell_type": "code",
   "execution_count": null,
   "metadata": {},
   "outputs": [],
   "source": []
  },
  {
   "cell_type": "markdown",
   "metadata": {},
   "source": [
    "# 3.2.2. Counting Words"
   ]
  },
  {
   "cell_type": "code",
   "execution_count": 2,
   "metadata": {},
   "outputs": [],
   "source": [
    "text = \"This is my text. We're keeping this text short to keep things manageable.\""
   ]
  },
  {
   "cell_type": "code",
   "execution_count": 3,
   "metadata": {},
   "outputs": [],
   "source": [
    "def count_words(text):\n",
    "    '''\n",
    "    Count the number of times each word occures in text (str). \n",
    "    Returns dictionary where keys are unique words and values are word counts.\n",
    "    '''\n",
    "    word_counts = {}\n",
    "    for word in text.split(\" \"):\n",
    "        #known word\n",
    "        if word in word_counts:\n",
    "            word_counts[word] += 1\n",
    "        \n",
    "        #unknown word\n",
    "        else:\n",
    "            word_counts[word] = 1\n",
    "            \n",
    "    return word_counts"
   ]
  },
  {
   "cell_type": "code",
   "execution_count": 4,
   "metadata": {},
   "outputs": [
    {
     "data": {
      "text/plain": [
       "{'This': 1,\n",
       " \"We're\": 1,\n",
       " 'is': 1,\n",
       " 'keep': 1,\n",
       " 'keeping': 1,\n",
       " 'manageable.': 1,\n",
       " 'my': 1,\n",
       " 'short': 1,\n",
       " 'text': 1,\n",
       " 'text.': 1,\n",
       " 'things': 1,\n",
       " 'this': 1,\n",
       " 'to': 1}"
      ]
     },
     "execution_count": 4,
     "metadata": {},
     "output_type": "execute_result"
    }
   ],
   "source": [
    "count_words(text)"
   ]
  },
  {
   "cell_type": "code",
   "execution_count": 5,
   "metadata": {},
   "outputs": [],
   "source": [
    "#punctuation with word :  text and text. \n",
    "#lower case : This, this\n",
    "def count_words(text):\n",
    "    '''\n",
    "    Count the number of times each word occures in text (str). skip punctuation\n",
    "    Returns dictionary where keys are unique words and values are word counts.\n",
    "    \n",
    "    '''\n",
    "    text=text.lower()\n",
    "    \n",
    "    skips = [\".\", \",\", \":\", \";\", \"'\", '\"']\n",
    "    for ch in skips:\n",
    "        text = text.replace(ch,\"\")\n",
    "    \n",
    "    word_counts = {}\n",
    "    \n",
    "    for word in text.split(\" \"):\n",
    "        #known word\n",
    "        if word in word_counts:\n",
    "            word_counts[word] += 1\n",
    "        \n",
    "        #unknown word\n",
    "        else:\n",
    "            word_counts[word] = 1\n",
    "            \n",
    "    return word_counts"
   ]
  },
  {
   "cell_type": "code",
   "execution_count": 7,
   "metadata": {},
   "outputs": [
    {
     "data": {
      "text/plain": [
       "{'is': 1,\n",
       " 'keep': 1,\n",
       " 'keeping': 1,\n",
       " 'manageable': 1,\n",
       " 'my': 1,\n",
       " 'short': 1,\n",
       " 'text': 2,\n",
       " 'things': 1,\n",
       " 'this': 2,\n",
       " 'to': 1,\n",
       " 'were': 1}"
      ]
     },
     "execution_count": 7,
     "metadata": {},
     "output_type": "execute_result"
    }
   ],
   "source": [
    "count_words(text)"
   ]
  },
  {
   "cell_type": "code",
   "execution_count": null,
   "metadata": {},
   "outputs": [],
   "source": []
  },
  {
   "cell_type": "code",
   "execution_count": 11,
   "metadata": {},
   "outputs": [],
   "source": [
    "#using counter object\n",
    "from collections import Counter\n",
    "\n",
    "def count_words_fast(text):\n",
    "    '''\n",
    "    Count the number of times each word occures in text (str). skip punctuation\n",
    "    Returns dictionary where keys are unique words and values are word counts.\n",
    "    \n",
    "    '''\n",
    "    text=text.lower()\n",
    "    \n",
    "    skips = [\".\", \",\", \":\", \";\", \"'\", '\"']\n",
    "    for ch in skips:\n",
    "        text = text.replace(ch,\"\")\n",
    "    \n",
    "    word_counts = Counter(text.split(\" \"))\n",
    "\n",
    "    return word_counts"
   ]
  },
  {
   "cell_type": "code",
   "execution_count": 13,
   "metadata": {},
   "outputs": [
    {
     "data": {
      "text/plain": [
       "True"
      ]
     },
     "execution_count": 13,
     "metadata": {},
     "output_type": "execute_result"
    }
   ],
   "source": [
    "count_words(text) == count_words_fast(text)"
   ]
  },
  {
   "cell_type": "code",
   "execution_count": null,
   "metadata": {},
   "outputs": [],
   "source": []
  },
  {
   "cell_type": "code",
   "execution_count": 14,
   "metadata": {},
   "outputs": [
    {
     "data": {
      "text/plain": [
       "6"
      ]
     },
     "execution_count": 14,
     "metadata": {},
     "output_type": "execute_result"
    }
   ],
   "source": [
    "len(count_words(\"This comprehension check is to check for comprehension.\"))"
   ]
  },
  {
   "cell_type": "code",
   "execution_count": 15,
   "metadata": {},
   "outputs": [
    {
     "data": {
      "text/plain": [
       "False"
      ]
     },
     "execution_count": 15,
     "metadata": {},
     "output_type": "execute_result"
    }
   ],
   "source": [
    "count_words(text) is count_words_fast(text)"
   ]
  },
  {
   "cell_type": "code",
   "execution_count": null,
   "metadata": {},
   "outputs": [],
   "source": []
  },
  {
   "cell_type": "markdown",
   "metadata": {},
   "source": [
    "# 3.2.3 Reading in a Book"
   ]
  },
  {
   "cell_type": "code",
   "execution_count": 61,
   "metadata": {},
   "outputs": [],
   "source": [
    "\n",
    "def read_book(title_path):\n",
    "    '''\n",
    "    Read a book and return it as a string\n",
    "    '''\n",
    "#    with open(title_path, \"r\", encoding=\"utf-8\") as current_file:\n",
    "    with open(title_path, \"r\", encoding=\"ISO-8859-1\") as current_file:\n",
    "        text = current_file.read()\n",
    "        text = text.replace(\"\\n\",\"\").replace(\"\\r\",\"\")\n",
    "        \n",
    "    return text    "
   ]
  },
  {
   "cell_type": "code",
   "execution_count": 62,
   "metadata": {},
   "outputs": [],
   "source": [
    "text = read_book(\"./python_case_studies/books/English/Shakespeare/Romeo and Juliet.txt\")"
   ]
  },
  {
   "cell_type": "code",
   "execution_count": 63,
   "metadata": {},
   "outputs": [
    {
     "data": {
      "text/plain": [
       "161333"
      ]
     },
     "execution_count": 63,
     "metadata": {},
     "output_type": "execute_result"
    }
   ],
   "source": [
    "len(text)"
   ]
  },
  {
   "cell_type": "code",
   "execution_count": null,
   "metadata": {},
   "outputs": [],
   "source": []
  },
  {
   "cell_type": "code",
   "execution_count": 64,
   "metadata": {},
   "outputs": [],
   "source": [
    "ind = text.find(\"What's in a name?\")"
   ]
  },
  {
   "cell_type": "code",
   "execution_count": 65,
   "metadata": {},
   "outputs": [
    {
     "data": {
      "text/plain": [
       "51240"
      ]
     },
     "execution_count": 65,
     "metadata": {},
     "output_type": "execute_result"
    }
   ],
   "source": [
    "ind"
   ]
  },
  {
   "cell_type": "code",
   "execution_count": 38,
   "metadata": {},
   "outputs": [],
   "source": [
    "sample_text = text[ind : ind + 1000]"
   ]
  },
  {
   "cell_type": "code",
   "execution_count": 39,
   "metadata": {},
   "outputs": [
    {
     "data": {
      "text/plain": [
       "\"What's in a name? That which we call a rose    By any other name would smell as sweet.    So Romeo would, were he not Romeo call'd,    Retain that dear perfection which he owes    Without that title. Romeo, doff thy name;    And for that name, which is no part of thee,    Take all myself.  Rom. I take thee at thy word.    Call me but love, and I'll be new baptiz'd;    Henceforth I never will be Romeo.  Jul. What man art thou that, thus bescreen'd in night,    So stumblest on my counsel?  Rom. By a name    I know not how to tell thee who I am.    My name, dear saint, is hateful to myself,    Because it is an enemy to thee.    Had I it written, I would tear the word.  Jul. My ears have yet not drunk a hundred words    Of that tongue's utterance, yet I know the sound.    Art thou not Romeo, and a Montague?  Rom. Neither, fair saint, if either thee dislike.  Jul. How cam'st thou hither, tell me, and wherefore?    The orchard walls are high and hard to climb,    And the place death, conside\""
      ]
     },
     "execution_count": 39,
     "metadata": {},
     "output_type": "execute_result"
    }
   ],
   "source": [
    "sample_text"
   ]
  },
  {
   "cell_type": "code",
   "execution_count": null,
   "metadata": {},
   "outputs": [],
   "source": []
  },
  {
   "cell_type": "markdown",
   "metadata": {},
   "source": [
    "# 3.2.4 Computing Word Frequency Statistics"
   ]
  },
  {
   "cell_type": "code",
   "execution_count": 67,
   "metadata": {},
   "outputs": [],
   "source": [
    "def word_stats(word_counts):\n",
    "    '''\n",
    "    return number of unique word and word frequecy\n",
    "    '''\n",
    "    num_unique = len(word_counts)\n",
    "    counts = word_counts.values()\n",
    "    return(num_unique,counts)"
   ]
  },
  {
   "cell_type": "code",
   "execution_count": 76,
   "metadata": {},
   "outputs": [],
   "source": [
    "text = read_book(\"./python_case_studies/books/English/Shakespeare/Romeo and Juliet.txt\")"
   ]
  },
  {
   "cell_type": "code",
   "execution_count": 77,
   "metadata": {},
   "outputs": [],
   "source": [
    "word_counts = count_words_fast(text)"
   ]
  },
  {
   "cell_type": "code",
   "execution_count": 79,
   "metadata": {},
   "outputs": [
    {
     "data": {
      "text/plain": [
       "collections.Counter"
      ]
     },
     "execution_count": 79,
     "metadata": {},
     "output_type": "execute_result"
    }
   ],
   "source": [
    "type(word_counts)"
   ]
  },
  {
   "cell_type": "code",
   "execution_count": 70,
   "metadata": {},
   "outputs": [],
   "source": [
    "(num_unique, counts) = word_stats(word_counts)"
   ]
  },
  {
   "cell_type": "code",
   "execution_count": 71,
   "metadata": {},
   "outputs": [
    {
     "data": {
      "text/plain": [
       "4920"
      ]
     },
     "execution_count": 71,
     "metadata": {},
     "output_type": "execute_result"
    }
   ],
   "source": [
    "num_unique"
   ]
  },
  {
   "cell_type": "code",
   "execution_count": 72,
   "metadata": {},
   "outputs": [
    {
     "data": {
      "text/plain": [
       "39424"
      ]
     },
     "execution_count": 72,
     "metadata": {},
     "output_type": "execute_result"
    }
   ],
   "source": [
    "sum(counts)"
   ]
  },
  {
   "cell_type": "code",
   "execution_count": null,
   "metadata": {},
   "outputs": [],
   "source": []
  },
  {
   "cell_type": "markdown",
   "metadata": {},
   "source": [
    "Romeo Juliet German"
   ]
  },
  {
   "cell_type": "code",
   "execution_count": 83,
   "metadata": {},
   "outputs": [],
   "source": [
    "text = read_book(\"./python_case_studies/books/German/Shakespeare/Romeo und Juliette.txt\")"
   ]
  },
  {
   "cell_type": "code",
   "execution_count": 84,
   "metadata": {},
   "outputs": [],
   "source": [
    "word_counts = count_words_fast(text)"
   ]
  },
  {
   "cell_type": "code",
   "execution_count": 85,
   "metadata": {},
   "outputs": [],
   "source": [
    "(num_unique, counts) = word_stats(word_counts)"
   ]
  },
  {
   "cell_type": "code",
   "execution_count": 86,
   "metadata": {},
   "outputs": [
    {
     "data": {
      "text/plain": [
       "8186"
      ]
     },
     "execution_count": 86,
     "metadata": {},
     "output_type": "execute_result"
    }
   ],
   "source": [
    "num_unique"
   ]
  },
  {
   "cell_type": "code",
   "execution_count": 87,
   "metadata": {},
   "outputs": [
    {
     "data": {
      "text/plain": [
       "26136"
      ]
     },
     "execution_count": 87,
     "metadata": {},
     "output_type": "execute_result"
    }
   ],
   "source": [
    "sum(counts)"
   ]
  },
  {
   "cell_type": "code",
   "execution_count": null,
   "metadata": {},
   "outputs": [],
   "source": []
  },
  {
   "cell_type": "markdown",
   "metadata": {},
   "source": [
    "# 3.2.5 Reading Multiple Files"
   ]
  },
  {
   "cell_type": "code",
   "execution_count": 88,
   "metadata": {},
   "outputs": [],
   "source": [
    "import os\n",
    "book_dir = \"./python_case_studies/books\""
   ]
  },
  {
   "cell_type": "code",
   "execution_count": 89,
   "metadata": {},
   "outputs": [
    {
     "data": {
      "text/plain": [
       "['English', 'German']"
      ]
     },
     "execution_count": 89,
     "metadata": {},
     "output_type": "execute_result"
    }
   ],
   "source": [
    "os.listdir(book_dir)"
   ]
  },
  {
   "cell_type": "code",
   "execution_count": 91,
   "metadata": {},
   "outputs": [
    {
     "name": "stdout",
     "output_type": "stream",
     "text": [
      "./python_case_studies/books/English/Shakespeare/hamlets.csv\n",
      "./python_case_studies/books/English/Shakespeare/Romeo and Juliet.txt\n",
      "./python_case_studies/books/German/Shakespeare/Romeo und Juliette.txt\n"
     ]
    }
   ],
   "source": [
    "for language in os.listdir(book_dir):\n",
    "    for author in os.listdir(book_dir+\"/\"+language):\n",
    "        for title in os.listdir(book_dir+\"/\"+language+\"/\"+author):\n",
    "            inputfile = book_dir+\"/\"+language+\"/\"+author+\"/\"+title\n",
    "            print(inputfile)"
   ]
  },
  {
   "cell_type": "code",
   "execution_count": 92,
   "metadata": {},
   "outputs": [
    {
     "name": "stdout",
     "output_type": "stream",
     "text": [
      "./python_case_studies/books/English/Shakespeare/hamlets.csv\n",
      "./python_case_studies/books/English/Shakespeare/Romeo and Juliet.txt\n",
      "./python_case_studies/books/German/Shakespeare/Romeo und Juliette.txt\n"
     ]
    }
   ],
   "source": [
    "for language in os.listdir(book_dir):\n",
    "    for author in os.listdir(book_dir+\"/\"+language):\n",
    "        for title in os.listdir(book_dir+\"/\"+language+\"/\"+author):\n",
    "            inputfile = book_dir+\"/\"+language+\"/\"+author+\"/\"+title\n",
    "            print(inputfile)\n",
    "            text = read_book(inputfile)\n",
    "            (num_unique, counts) = word_stats(count_words(text))"
   ]
  },
  {
   "cell_type": "code",
   "execution_count": 93,
   "metadata": {},
   "outputs": [
    {
     "data": {
      "text/plain": [
       "'\\nPandas:\\n    Panel data (Multi Dimensional Struct data sets) Additional data s tructure and data analysis\\n    Manipulate numerical table and time series data\\n\\n'"
      ]
     },
     "execution_count": 93,
     "metadata": {},
     "output_type": "execute_result"
    }
   ],
   "source": [
    "'''\n",
    "Pandas:\n",
    "    Panel data (Multi Dimensional Struct data sets) Additional data s tructure and data analysis\n",
    "    Manipulate numerical table and time series data\n",
    "\n",
    "'''"
   ]
  },
  {
   "cell_type": "code",
   "execution_count": 95,
   "metadata": {},
   "outputs": [],
   "source": [
    "import pandas as pd"
   ]
  },
  {
   "cell_type": "code",
   "execution_count": 96,
   "metadata": {},
   "outputs": [
    {
     "data": {
      "text/html": [
       "<div>\n",
       "<style scoped>\n",
       "    .dataframe tbody tr th:only-of-type {\n",
       "        vertical-align: middle;\n",
       "    }\n",
       "\n",
       "    .dataframe tbody tr th {\n",
       "        vertical-align: top;\n",
       "    }\n",
       "\n",
       "    .dataframe thead th {\n",
       "        text-align: right;\n",
       "    }\n",
       "</style>\n",
       "<table border=\"1\" class=\"dataframe\">\n",
       "  <thead>\n",
       "    <tr style=\"text-align: right;\">\n",
       "      <th></th>\n",
       "      <th>name</th>\n",
       "      <th>age</th>\n",
       "    </tr>\n",
       "  </thead>\n",
       "  <tbody>\n",
       "    <tr>\n",
       "      <th>1</th>\n",
       "      <td>James</td>\n",
       "      <td>22</td>\n",
       "    </tr>\n",
       "    <tr>\n",
       "      <th>2</th>\n",
       "      <td>Jess</td>\n",
       "      <td>32</td>\n",
       "    </tr>\n",
       "  </tbody>\n",
       "</table>\n",
       "</div>"
      ],
      "text/plain": [
       "    name age\n",
       "1  James  22\n",
       "2   Jess  32"
      ]
     },
     "execution_count": 96,
     "metadata": {},
     "output_type": "execute_result"
    }
   ],
   "source": [
    "# dataframe - R - table\n",
    "table = pd.DataFrame(columns=(\"name\",\"age\"))\n",
    "\n",
    "table.loc[1] = \"James\", 22 #insert row 1\n",
    "table.loc[2] = \"Jess\", 32\n",
    "\n",
    "table"
   ]
  },
  {
   "cell_type": "code",
   "execution_count": 97,
   "metadata": {},
   "outputs": [
    {
     "data": {
      "text/plain": [
       "Index(['name', 'age'], dtype='object')"
      ]
     },
     "execution_count": 97,
     "metadata": {},
     "output_type": "execute_result"
    }
   ],
   "source": [
    "table.columns"
   ]
  },
  {
   "cell_type": "code",
   "execution_count": null,
   "metadata": {},
   "outputs": [],
   "source": []
  },
  {
   "cell_type": "code",
   "execution_count": 98,
   "metadata": {},
   "outputs": [
    {
     "name": "stdout",
     "output_type": "stream",
     "text": [
      "./python_case_studies/books/English/Shakespeare/hamlets.csv\n",
      "./python_case_studies/books/English/Shakespeare/Romeo and Juliet.txt\n",
      "./python_case_studies/books/German/Shakespeare/Romeo und Juliette.txt\n"
     ]
    }
   ],
   "source": [
    "import os\n",
    "book_dir = \"./python_case_studies/books\"\n",
    "\n",
    "import pandas as pd\n",
    "stats = pd.DataFrame(columns=(\"language\",\"author\",\"title\",\"length\", \"unique\"))\n",
    "title_num = 1\n",
    "\n",
    "for language in os.listdir(book_dir):\n",
    "    for author in os.listdir(book_dir+\"/\"+language):\n",
    "        for title in os.listdir(book_dir+\"/\"+language+\"/\"+author):\n",
    "            inputfile = book_dir+\"/\"+language+\"/\"+author+\"/\"+title\n",
    "            print(inputfile)\n",
    "            text = read_book(inputfile)\n",
    "            (num_unique, counts) = word_stats(count_words(text))\n",
    "            \n",
    "            stats.loc[title_num] = language, author, title, sum(counts), num_unique\n",
    "            title_num += 1"
   ]
  },
  {
   "cell_type": "code",
   "execution_count": null,
   "metadata": {},
   "outputs": [],
   "source": []
  },
  {
   "cell_type": "code",
   "execution_count": 99,
   "metadata": {},
   "outputs": [
    {
     "data": {
      "text/html": [
       "<div>\n",
       "<style scoped>\n",
       "    .dataframe tbody tr th:only-of-type {\n",
       "        vertical-align: middle;\n",
       "    }\n",
       "\n",
       "    .dataframe tbody tr th {\n",
       "        vertical-align: top;\n",
       "    }\n",
       "\n",
       "    .dataframe thead th {\n",
       "        text-align: right;\n",
       "    }\n",
       "</style>\n",
       "<table border=\"1\" class=\"dataframe\">\n",
       "  <thead>\n",
       "    <tr style=\"text-align: right;\">\n",
       "      <th></th>\n",
       "      <th>language</th>\n",
       "      <th>author</th>\n",
       "      <th>title</th>\n",
       "      <th>length</th>\n",
       "      <th>unique</th>\n",
       "    </tr>\n",
       "  </thead>\n",
       "  <tbody>\n",
       "    <tr>\n",
       "      <th>1</th>\n",
       "      <td>English</td>\n",
       "      <td>Shakespeare</td>\n",
       "      <td>hamlets.csv</td>\n",
       "      <td>265408</td>\n",
       "      <td>19854</td>\n",
       "    </tr>\n",
       "    <tr>\n",
       "      <th>2</th>\n",
       "      <td>English</td>\n",
       "      <td>Shakespeare</td>\n",
       "      <td>Romeo and Juliet.txt</td>\n",
       "      <td>39424</td>\n",
       "      <td>4920</td>\n",
       "    </tr>\n",
       "    <tr>\n",
       "      <th>3</th>\n",
       "      <td>German</td>\n",
       "      <td>Shakespeare</td>\n",
       "      <td>Romeo und Juliette.txt</td>\n",
       "      <td>26136</td>\n",
       "      <td>8186</td>\n",
       "    </tr>\n",
       "  </tbody>\n",
       "</table>\n",
       "</div>"
      ],
      "text/plain": [
       "  language       author                   title  length unique\n",
       "1  English  Shakespeare             hamlets.csv  265408  19854\n",
       "2  English  Shakespeare    Romeo and Juliet.txt   39424   4920\n",
       "3   German  Shakespeare  Romeo und Juliette.txt   26136   8186"
      ]
     },
     "execution_count": 99,
     "metadata": {},
     "output_type": "execute_result"
    }
   ],
   "source": [
    "stats"
   ]
  },
  {
   "cell_type": "code",
   "execution_count": 100,
   "metadata": {},
   "outputs": [
    {
     "data": {
      "text/html": [
       "<div>\n",
       "<style scoped>\n",
       "    .dataframe tbody tr th:only-of-type {\n",
       "        vertical-align: middle;\n",
       "    }\n",
       "\n",
       "    .dataframe tbody tr th {\n",
       "        vertical-align: top;\n",
       "    }\n",
       "\n",
       "    .dataframe thead th {\n",
       "        text-align: right;\n",
       "    }\n",
       "</style>\n",
       "<table border=\"1\" class=\"dataframe\">\n",
       "  <thead>\n",
       "    <tr style=\"text-align: right;\">\n",
       "      <th></th>\n",
       "      <th>language</th>\n",
       "      <th>author</th>\n",
       "      <th>title</th>\n",
       "      <th>length</th>\n",
       "      <th>unique</th>\n",
       "    </tr>\n",
       "  </thead>\n",
       "  <tbody>\n",
       "    <tr>\n",
       "      <th>1</th>\n",
       "      <td>English</td>\n",
       "      <td>Shakespeare</td>\n",
       "      <td>hamlets.csv</td>\n",
       "      <td>265408</td>\n",
       "      <td>19854</td>\n",
       "    </tr>\n",
       "    <tr>\n",
       "      <th>2</th>\n",
       "      <td>English</td>\n",
       "      <td>Shakespeare</td>\n",
       "      <td>Romeo and Juliet.txt</td>\n",
       "      <td>39424</td>\n",
       "      <td>4920</td>\n",
       "    </tr>\n",
       "    <tr>\n",
       "      <th>3</th>\n",
       "      <td>German</td>\n",
       "      <td>Shakespeare</td>\n",
       "      <td>Romeo und Juliette.txt</td>\n",
       "      <td>26136</td>\n",
       "      <td>8186</td>\n",
       "    </tr>\n",
       "  </tbody>\n",
       "</table>\n",
       "</div>"
      ],
      "text/plain": [
       "  language       author                   title  length unique\n",
       "1  English  Shakespeare             hamlets.csv  265408  19854\n",
       "2  English  Shakespeare    Romeo and Juliet.txt   39424   4920\n",
       "3   German  Shakespeare  Romeo und Juliette.txt   26136   8186"
      ]
     },
     "execution_count": 100,
     "metadata": {},
     "output_type": "execute_result"
    }
   ],
   "source": [
    "stats.head()"
   ]
  },
  {
   "cell_type": "code",
   "execution_count": 101,
   "metadata": {},
   "outputs": [
    {
     "data": {
      "text/html": [
       "<div>\n",
       "<style scoped>\n",
       "    .dataframe tbody tr th:only-of-type {\n",
       "        vertical-align: middle;\n",
       "    }\n",
       "\n",
       "    .dataframe tbody tr th {\n",
       "        vertical-align: top;\n",
       "    }\n",
       "\n",
       "    .dataframe thead th {\n",
       "        text-align: right;\n",
       "    }\n",
       "</style>\n",
       "<table border=\"1\" class=\"dataframe\">\n",
       "  <thead>\n",
       "    <tr style=\"text-align: right;\">\n",
       "      <th></th>\n",
       "      <th>language</th>\n",
       "      <th>author</th>\n",
       "      <th>title</th>\n",
       "      <th>length</th>\n",
       "      <th>unique</th>\n",
       "    </tr>\n",
       "  </thead>\n",
       "  <tbody>\n",
       "    <tr>\n",
       "      <th>1</th>\n",
       "      <td>English</td>\n",
       "      <td>Shakespeare</td>\n",
       "      <td>hamlets.csv</td>\n",
       "      <td>265408</td>\n",
       "      <td>19854</td>\n",
       "    </tr>\n",
       "    <tr>\n",
       "      <th>2</th>\n",
       "      <td>English</td>\n",
       "      <td>Shakespeare</td>\n",
       "      <td>Romeo and Juliet.txt</td>\n",
       "      <td>39424</td>\n",
       "      <td>4920</td>\n",
       "    </tr>\n",
       "    <tr>\n",
       "      <th>3</th>\n",
       "      <td>German</td>\n",
       "      <td>Shakespeare</td>\n",
       "      <td>Romeo und Juliette.txt</td>\n",
       "      <td>26136</td>\n",
       "      <td>8186</td>\n",
       "    </tr>\n",
       "  </tbody>\n",
       "</table>\n",
       "</div>"
      ],
      "text/plain": [
       "  language       author                   title  length unique\n",
       "1  English  Shakespeare             hamlets.csv  265408  19854\n",
       "2  English  Shakespeare    Romeo and Juliet.txt   39424   4920\n",
       "3   German  Shakespeare  Romeo und Juliette.txt   26136   8186"
      ]
     },
     "execution_count": 101,
     "metadata": {},
     "output_type": "execute_result"
    }
   ],
   "source": [
    "stats.tail()"
   ]
  },
  {
   "cell_type": "code",
   "execution_count": null,
   "metadata": {},
   "outputs": [],
   "source": []
  },
  {
   "cell_type": "code",
   "execution_count": 103,
   "metadata": {},
   "outputs": [],
   "source": [
    "import os\n",
    "book_dir = \"./python_case_studies/books\"\n",
    "\n",
    "import pandas as pd\n",
    "stats = pd.DataFrame(columns=(\"language\", \"author\", \"title\", \"length\", \"unique\"))\n",
    "title_num = 1\n",
    "\n",
    "for language in os.listdir(book_dir):\n",
    "    for author in os.listdir(book_dir+\"/\"+language):\n",
    "        for title in os.listdir(book_dir+\"/\"+language+\"/\"+author):\n",
    "            inputfile = book_dir+\"/\"+language+\"/\"+author+\"/\"+title\n",
    "#            print(inputfile)\n",
    "            text = read_book(inputfile)\n",
    "            (num_unique, counts) = word_stats(count_words(text))\n",
    "            \n",
    "            stats.loc[title_num] = language, author.capitalize(), title.replace(\".txt\",\"\").replace(\".csv\",\"\"), sum(counts), num_unique\n",
    "            title_num += 1"
   ]
  },
  {
   "cell_type": "code",
   "execution_count": 105,
   "metadata": {},
   "outputs": [
    {
     "data": {
      "text/html": [
       "<div>\n",
       "<style scoped>\n",
       "    .dataframe tbody tr th:only-of-type {\n",
       "        vertical-align: middle;\n",
       "    }\n",
       "\n",
       "    .dataframe tbody tr th {\n",
       "        vertical-align: top;\n",
       "    }\n",
       "\n",
       "    .dataframe thead th {\n",
       "        text-align: right;\n",
       "    }\n",
       "</style>\n",
       "<table border=\"1\" class=\"dataframe\">\n",
       "  <thead>\n",
       "    <tr style=\"text-align: right;\">\n",
       "      <th></th>\n",
       "      <th>language</th>\n",
       "      <th>author</th>\n",
       "      <th>title</th>\n",
       "      <th>length</th>\n",
       "      <th>unique</th>\n",
       "    </tr>\n",
       "  </thead>\n",
       "  <tbody>\n",
       "    <tr>\n",
       "      <th>1</th>\n",
       "      <td>English</td>\n",
       "      <td>Shakespeare</td>\n",
       "      <td>hamlets</td>\n",
       "      <td>265408</td>\n",
       "      <td>19854</td>\n",
       "    </tr>\n",
       "    <tr>\n",
       "      <th>2</th>\n",
       "      <td>English</td>\n",
       "      <td>Shakespeare</td>\n",
       "      <td>Romeo and Juliet</td>\n",
       "      <td>39424</td>\n",
       "      <td>4920</td>\n",
       "    </tr>\n",
       "    <tr>\n",
       "      <th>3</th>\n",
       "      <td>German</td>\n",
       "      <td>Shakespeare</td>\n",
       "      <td>Romeo und Juliette</td>\n",
       "      <td>26136</td>\n",
       "      <td>8186</td>\n",
       "    </tr>\n",
       "  </tbody>\n",
       "</table>\n",
       "</div>"
      ],
      "text/plain": [
       "  language       author               title  length unique\n",
       "1  English  Shakespeare             hamlets  265408  19854\n",
       "2  English  Shakespeare    Romeo and Juliet   39424   4920\n",
       "3   German  Shakespeare  Romeo und Juliette   26136   8186"
      ]
     },
     "execution_count": 105,
     "metadata": {},
     "output_type": "execute_result"
    }
   ],
   "source": [
    "stats"
   ]
  },
  {
   "cell_type": "code",
   "execution_count": null,
   "metadata": {},
   "outputs": [],
   "source": []
  },
  {
   "cell_type": "code",
   "execution_count": 107,
   "metadata": {},
   "outputs": [
    {
     "ename": "SyntaxError",
     "evalue": "invalid syntax (<ipython-input-107-00983b6acaa5>, line 2)",
     "output_type": "error",
     "traceback": [
      "\u001b[1;36m  File \u001b[1;32m\"<ipython-input-107-00983b6acaa5>\"\u001b[1;36m, line \u001b[1;32m2\u001b[0m\n\u001b[1;33m    title_num++\u001b[0m\n\u001b[1;37m               ^\u001b[0m\n\u001b[1;31mSyntaxError\u001b[0m\u001b[1;31m:\u001b[0m invalid syntax\n"
     ]
    }
   ],
   "source": []
  },
  {
   "cell_type": "code",
   "execution_count": null,
   "metadata": {},
   "outputs": [],
   "source": []
  }
 ],
 "metadata": {
  "kernelspec": {
   "display_name": "Python 3",
   "language": "python",
   "name": "python3"
  },
  "language_info": {
   "codemirror_mode": {
    "name": "ipython",
    "version": 3
   },
   "file_extension": ".py",
   "mimetype": "text/x-python",
   "name": "python",
   "nbconvert_exporter": "python",
   "pygments_lexer": "ipython3",
   "version": "3.6.4"
  }
 },
 "nbformat": 4,
 "nbformat_minor": 2
}
