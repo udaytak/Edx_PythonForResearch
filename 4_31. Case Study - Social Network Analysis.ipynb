{
 "cells": [
  {
   "cell_type": "markdown",
   "metadata": {},
   "source": [
    "4.3.1: Introduction to Network Analysis"
   ]
  },
  {
   "cell_type": "code",
   "execution_count": null,
   "metadata": {},
   "outputs": [],
   "source": [
    "'''\n",
    "Network: real word object - like road network\n",
    "graph : abstract mathematical representation of the network\n",
    "    nodes/vertices\n",
    "        degree of vertex : no of vertex attached\n",
    "    links/edges - has 2 vertices (1 vertex neighbor pf vertex 2)\n",
    "    \n",
    "    disconnected / connected graph - every vertex is rechable from every vertex within the graph\n",
    "    disconnected graph - graph into component which cant be connected\n",
    "    \n",
    "    directed graph / undirected\n",
    "    \n",
    "    path : \n",
    "        sequence of unique vertices  such that any 2 vertices connected to each other by edge\n",
    "        length : no of edges involved within the path (shortest path)\n",
    "    \n",
    "\n",
    "\n",
    "'''"
   ]
  }
 ],
 "metadata": {
  "kernelspec": {
   "display_name": "Python 3",
   "language": "python",
   "name": "python3"
  },
  "language_info": {
   "codemirror_mode": {
    "name": "ipython",
    "version": 3
   },
   "file_extension": ".py",
   "mimetype": "text/x-python",
   "name": "python",
   "nbconvert_exporter": "python",
   "pygments_lexer": "ipython3",
   "version": "3.6.4"
  }
 },
 "nbformat": 4,
 "nbformat_minor": 2
}
