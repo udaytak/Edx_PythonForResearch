{
 "cells": [
  {
   "cell_type": "code",
   "execution_count": null,
   "metadata": {},
   "outputs": [],
   "source": [
    "3.3.1. Introduction to KNN classification"
   ]
  },
  {
   "cell_type": "code",
   "execution_count": 1,
   "metadata": {},
   "outputs": [
    {
     "data": {
      "text/plain": [
       "'\\nsupervised learning:\\n    output predict on input\\n    inputs : Predictors, Independent Variables, Features, Variables\\n    outputs: Response variables, Dependent variables\\n    \\nRegression Problems : Quantitative response: number measures weight height \\nClassification Problem  : Qualitative response: Y/N, Blue/Green\\n\\nkNN : \\n    1 approach to classification\\n    k = 5: \\n        identify 5 data point near the data\\n        classify new data point as belonging to most common class among those neighbours\\n\\n'"
      ]
     },
     "execution_count": 1,
     "metadata": {},
     "output_type": "execute_result"
    }
   ],
   "source": [
    "'''\n",
    "supervised learning:\n",
    "    output predict on input\n",
    "    inputs : Predictors, Independent Variables, Features, Variables\n",
    "    outputs: Response variables, Dependent variables\n",
    "    \n",
    "Regression Problems : Quantitative response: number measures weight height \n",
    "Classification Problem  : Qualitative response: Y/N, Blue/Green\n",
    "\n",
    "kNN : \n",
    "    1 approach to classification\n",
    "    k = 5: \n",
    "        identify 5 data point near the data\n",
    "        classify new data point as belonging to most common class among those neighbours\n",
    "\n",
    "'''"
   ]
  },
  {
   "cell_type": "code",
   "execution_count": null,
   "metadata": {},
   "outputs": [],
   "source": []
  },
  {
   "cell_type": "markdown",
   "metadata": {},
   "source": [
    "3.3.2 Finding the distance between two points"
   ]
  },
  {
   "cell_type": "code",
   "execution_count": 2,
   "metadata": {},
   "outputs": [
    {
     "data": {
      "text/plain": [
       "'\\n(x1,y1) (x2,y2) \\nd2 = ((x2-x1)^2 + (y2-y1)^2)0.5\\nmathematics : numpy\\n'"
      ]
     },
     "execution_count": 2,
     "metadata": {},
     "output_type": "execute_result"
    }
   ],
   "source": [
    "'''\n",
    "(x1,y1) (x2,y2) \n",
    "d2 = ((x2-x1)^2 + (y2-y1)^2)0.5\n",
    "mathematics : numpy\n",
    "'''"
   ]
  },
  {
   "cell_type": "code",
   "execution_count": 3,
   "metadata": {},
   "outputs": [
    {
     "data": {
      "text/plain": [
       "array([3, 3])"
      ]
     },
     "execution_count": 3,
     "metadata": {},
     "output_type": "execute_result"
    }
   ],
   "source": [
    "import numpy as np\n",
    "p1 = np.array([1,1])\n",
    "p2 = np.array([4,4])\n",
    "p2-p1"
   ]
  },
  {
   "cell_type": "code",
   "execution_count": 4,
   "metadata": {},
   "outputs": [
    {
     "data": {
      "text/plain": [
       "array([9, 9], dtype=int32)"
      ]
     },
     "execution_count": 4,
     "metadata": {},
     "output_type": "execute_result"
    }
   ],
   "source": [
    "np.power(p2-p1, 2)"
   ]
  },
  {
   "cell_type": "code",
   "execution_count": 5,
   "metadata": {},
   "outputs": [
    {
     "data": {
      "text/plain": [
       "4.242640687119285"
      ]
     },
     "execution_count": 5,
     "metadata": {},
     "output_type": "execute_result"
    }
   ],
   "source": [
    "np.sqrt(np.sum(np.power(p2-p1, 2)))"
   ]
  },
  {
   "cell_type": "code",
   "execution_count": 6,
   "metadata": {},
   "outputs": [],
   "source": [
    "import numpy as np\n",
    "\n",
    "def distance(p1,p2):\n",
    "    '''\n",
    "    Find the distance between the points p1, p2\n",
    "    '''\n",
    "    return np.sqrt(np.sum(np.power(p2-p1, 2)))"
   ]
  },
  {
   "cell_type": "code",
   "execution_count": 7,
   "metadata": {},
   "outputs": [
    {
     "data": {
      "text/plain": [
       "4.242640687119285"
      ]
     },
     "execution_count": 7,
     "metadata": {},
     "output_type": "execute_result"
    }
   ],
   "source": [
    "p1 = np.array([1,1])\n",
    "p2 = np.array([4,4])\n",
    "distance(p1,p2)"
   ]
  },
  {
   "cell_type": "code",
   "execution_count": null,
   "metadata": {},
   "outputs": [],
   "source": []
  },
  {
   "cell_type": "markdown",
   "metadata": {},
   "source": [
    "3.3.3 Majority Vote"
   ]
  },
  {
   "cell_type": "code",
   "execution_count": 8,
   "metadata": {},
   "outputs": [
    {
     "data": {
      "text/plain": [
       "\"\\nKNN - Majority vote\\nSequence of votes \\n    - 1,2,3 : determine how many times each occured and find most common elements\\n    ex: 2 - 1's\\n        1 - 2's\\n        1 - 3's\\n        majority vote - 2\\n        \\n\""
      ]
     },
     "execution_count": 8,
     "metadata": {},
     "output_type": "execute_result"
    }
   ],
   "source": [
    "'''\n",
    "KNN - Majority vote\n",
    "Sequence of votes \n",
    "    - 1,2,3 : determine how many times each occured and find most common elements\n",
    "    ex: 2 - 1's\n",
    "        1 - 2's\n",
    "        1 - 3's\n",
    "        majority vote - 2\n",
    "        \n",
    "'''"
   ]
  },
  {
   "cell_type": "code",
   "execution_count": 9,
   "metadata": {},
   "outputs": [],
   "source": [
    "def count_words(text):\n",
    "    '''\n",
    "    Count the number of times each word occures in text (str). skip punctuation\n",
    "    Returns dictionary where keys are unique words and values are word counts.\n",
    "    \n",
    "    '''\n",
    "    text=text.lower()\n",
    "    \n",
    "    skips = [\".\", \",\", \":\", \";\", \"'\", '\"']\n",
    "    for ch in skips:\n",
    "        text = text.replace(ch,\"\")\n",
    "    \n",
    "    word_counts = {}\n",
    "    \n",
    "    for word in text.split(\" \"):\n",
    "        if word in word_counts:\n",
    "            word_counts[word] += 1\n",
    "        \n",
    "        else:\n",
    "            word_counts[word] = 1\n",
    "            \n",
    "    return word_counts"
   ]
  },
  {
   "cell_type": "code",
   "execution_count": 19,
   "metadata": {},
   "outputs": [],
   "source": [
    "def majority_vote(votes):\n",
    "    '''\n",
    "    Return the most common element in votes\n",
    "    \n",
    "    '''\n",
    "    vote_counts = {}\n",
    "    \n",
    "    for vote in votes:\n",
    "        if vote in vote_counts:\n",
    "            vote_counts[vote] += 1  \n",
    "        else:\n",
    "            vote_counts[vote] = 1\n",
    "    \n",
    "    return vote_counts"
   ]
  },
  {
   "cell_type": "code",
   "execution_count": 21,
   "metadata": {},
   "outputs": [
    {
     "name": "stdout",
     "output_type": "stream",
     "text": [
      "{1: 3, 2: 3, 3: 6}\n"
     ]
    },
    {
     "data": {
      "text/plain": [
       "{1: 3, 2: 3, 3: 6}"
      ]
     },
     "execution_count": 21,
     "metadata": {},
     "output_type": "execute_result"
    }
   ],
   "source": [
    "votes = [1,2,3,1,2,3,1,2,3,3,3,3]\n",
    "\n",
    "vote_counts = majority_vote(votes)\n",
    "vote_counts"
   ]
  },
  {
   "cell_type": "code",
   "execution_count": 22,
   "metadata": {},
   "outputs": [
    {
     "data": {
      "text/plain": [
       "3"
      ]
     },
     "execution_count": 22,
     "metadata": {},
     "output_type": "execute_result"
    }
   ],
   "source": [
    "max(vote_counts)"
   ]
  },
  {
   "cell_type": "code",
   "execution_count": 23,
   "metadata": {},
   "outputs": [
    {
     "data": {
      "text/plain": [
       "3"
      ]
     },
     "execution_count": 23,
     "metadata": {},
     "output_type": "execute_result"
    }
   ],
   "source": [
    "max(vote_counts.keys())"
   ]
  },
  {
   "cell_type": "code",
   "execution_count": 24,
   "metadata": {},
   "outputs": [
    {
     "data": {
      "text/plain": [
       "6"
      ]
     },
     "execution_count": 24,
     "metadata": {},
     "output_type": "execute_result"
    }
   ],
   "source": [
    "max(vote_counts.values())"
   ]
  },
  {
   "cell_type": "code",
   "execution_count": 26,
   "metadata": {},
   "outputs": [
    {
     "data": {
      "text/plain": [
       "6"
      ]
     },
     "execution_count": 26,
     "metadata": {},
     "output_type": "execute_result"
    }
   ],
   "source": [
    "max_counts = max(vote_counts.values())\n",
    "max_counts"
   ]
  },
  {
   "cell_type": "code",
   "execution_count": null,
   "metadata": {},
   "outputs": [],
   "source": []
  },
  {
   "cell_type": "code",
   "execution_count": 28,
   "metadata": {},
   "outputs": [
    {
     "name": "stdout",
     "output_type": "stream",
     "text": [
      "1 3\n",
      "2 3\n",
      "3 6\n"
     ]
    }
   ],
   "source": [
    "for vote, count in vote_counts.items():\n",
    "    print(vote,count)"
   ]
  },
  {
   "cell_type": "code",
   "execution_count": 30,
   "metadata": {},
   "outputs": [
    {
     "data": {
      "text/plain": [
       "[3]"
      ]
     },
     "execution_count": 30,
     "metadata": {},
     "output_type": "execute_result"
    }
   ],
   "source": [
    "winners = []\n",
    "max_counts = max(vote_counts.values())\n",
    "for vote, count in vote_counts.items():\n",
    "    if count == max_counts:\n",
    "        winners.append(vote)\n",
    "    \n",
    "winners    "
   ]
  },
  {
   "cell_type": "code",
   "execution_count": null,
   "metadata": {},
   "outputs": [],
   "source": []
  },
  {
   "cell_type": "code",
   "execution_count": 31,
   "metadata": {},
   "outputs": [],
   "source": [
    "import random\n",
    "\n",
    "def majority_vote(votes):\n",
    "    '''\n",
    "    Return the most common element in votes    \n",
    "    '''\n",
    "    vote_counts = {}\n",
    "    \n",
    "    for vote in votes:\n",
    "        if vote in vote_counts:\n",
    "            vote_counts[vote] += 1  \n",
    "        else:\n",
    "            vote_counts[vote] = 1\n",
    "    \n",
    "    winners = []\n",
    "    max_counts = max(vote_counts.values())\n",
    "    for vote, count in vote_counts.items():\n",
    "        if count == max_counts:\n",
    "            winners.append(vote)\n",
    "    \n",
    "    return random.choice(winners)"
   ]
  },
  {
   "cell_type": "code",
   "execution_count": 35,
   "metadata": {},
   "outputs": [
    {
     "data": {
      "text/plain": [
       "3"
      ]
     },
     "execution_count": 35,
     "metadata": {},
     "output_type": "execute_result"
    }
   ],
   "source": [
    "votes = [1,2,3,1,2,3,1,2,3,3,3,3]\n",
    "\n",
    "winner = majority_vote(votes)\n",
    "winner"
   ]
  },
  {
   "cell_type": "code",
   "execution_count": 36,
   "metadata": {},
   "outputs": [
    {
     "data": {
      "text/plain": [
       "3"
      ]
     },
     "execution_count": 36,
     "metadata": {},
     "output_type": "execute_result"
    }
   ],
   "source": [
    "votes = [1,2,3,1,2,3,1,2,3,3,3,3,2,2,2]"
   ]
  },
  {
   "cell_type": "code",
   "execution_count": 37,
   "metadata": {},
   "outputs": [
    {
     "data": {
      "text/plain": [
       "3"
      ]
     },
     "execution_count": 37,
     "metadata": {},
     "output_type": "execute_result"
    }
   ],
   "source": [
    "winner = majority_vote(votes)\n",
    "winner"
   ]
  },
  {
   "cell_type": "code",
   "execution_count": 38,
   "metadata": {},
   "outputs": [
    {
     "data": {
      "text/plain": [
       "2"
      ]
     },
     "execution_count": 38,
     "metadata": {},
     "output_type": "execute_result"
    }
   ],
   "source": [
    "winner = majority_vote(votes)\n",
    "winner"
   ]
  },
  {
   "cell_type": "code",
   "execution_count": 41,
   "metadata": {},
   "outputs": [],
   "source": [
    "'''\n",
    "most commonly occured element in the sequence - mode\n",
    "'''\n",
    "\n",
    "import scipy.stats as ss\n",
    "\n",
    "def majority_vote_short(votes):\n",
    "    '''\n",
    "    Return the most common element in votes\n",
    "    '''\n",
    "    mode, count = ss.mstats.mode(votes)\n",
    "    return mode"
   ]
  },
  {
   "cell_type": "code",
   "execution_count": 43,
   "metadata": {},
   "outputs": [
    {
     "data": {
      "text/plain": [
       "array([3.])"
      ]
     },
     "execution_count": 43,
     "metadata": {},
     "output_type": "execute_result"
    }
   ],
   "source": [
    "votes = [1,2,3,1,2,3,1,2,3,3,3,3]\n",
    "\n",
    "majority_vote_short(votes)"
   ]
  },
  {
   "cell_type": "code",
   "execution_count": 45,
   "metadata": {},
   "outputs": [
    {
     "data": {
      "text/plain": [
       "array([2.])"
      ]
     },
     "execution_count": 45,
     "metadata": {},
     "output_type": "execute_result"
    }
   ],
   "source": [
    "votes = [1,2,3,1,2,3,1,2,3,3,3,3,2,2,2]\n",
    "\n",
    "majority_vote_short(votes)"
   ]
  },
  {
   "cell_type": "code",
   "execution_count": null,
   "metadata": {},
   "outputs": [],
   "source": []
  }
 ],
 "metadata": {
  "kernelspec": {
   "display_name": "Python 3",
   "language": "python",
   "name": "python3"
  },
  "language_info": {
   "codemirror_mode": {
    "name": "ipython",
    "version": 3
   },
   "file_extension": ".py",
   "mimetype": "text/x-python",
   "name": "python",
   "nbconvert_exporter": "python",
   "pygments_lexer": "ipython3",
   "version": "3.6.4"
  }
 },
 "nbformat": 4,
 "nbformat_minor": 2
}
