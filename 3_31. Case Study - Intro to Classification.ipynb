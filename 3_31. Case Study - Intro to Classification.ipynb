{
 "cells": [
  {
   "cell_type": "markdown",
   "metadata": {},
   "source": [
    "3.1.1. Introduction to KNN classification"
   ]
  },
  {
   "cell_type": "code",
   "execution_count": null,
   "metadata": {},
   "outputs": [],
   "source": [
    "'''\n",
    "supervised learning:\n",
    "    output predict on input\n",
    "    inputs : Predictors, Independent Variables, Features, Variables\n",
    "    outputs: Response variables, Dependent variables\n",
    "    \n",
    "Regression Problems : Quantitative response: number measures weight height \n",
    "Classification Problem  : Qualitative response: Y/N, Blue/Green\n",
    "\n",
    "kNN : \n",
    "    1 approach to classification\n",
    "    k = 5: \n",
    "        identify 5 data point near the data\n",
    "        classify new data point as belonging to most common class among those neighbours\n",
    "\n",
    "'''"
   ]
  }
 ],
 "metadata": {
  "kernelspec": {
   "display_name": "Python 3",
   "language": "python",
   "name": "python3"
  },
  "language_info": {
   "codemirror_mode": {
    "name": "ipython",
    "version": 3
   },
   "file_extension": ".py",
   "mimetype": "text/x-python",
   "name": "python",
   "nbconvert_exporter": "python",
   "pygments_lexer": "ipython3",
   "version": "3.6.4"
  }
 },
 "nbformat": 4,
 "nbformat_minor": 2
}
