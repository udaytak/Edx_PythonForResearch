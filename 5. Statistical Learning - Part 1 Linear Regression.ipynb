{
 "cells": [
  {
   "cell_type": "markdown",
   "metadata": {},
   "source": [
    "5.1.1: Introduction to Statistical Learning"
   ]
  },
  {
   "cell_type": "code",
   "execution_count": 1,
   "metadata": {},
   "outputs": [
    {
     "data": {
      "text/plain": [
       "'\\nStatistical learning -\\n    unsupervised\\n        techniques and algorithm - inputs only\\n    supervised \\n        input output example given\\n        Types - \\n            Regression - continuous output\\n            Classification - Categorical outputs - 0/1, Blue/Green\\n        scikitlearn library\\n        variables\\n            quantitative - take numerical values - income\\n                - Range depends on what they measure - $, $ k\\n            qualitative - take variables incategory - M/F\\n                - have categories - M/L , colors any number\\n            in some cases we convert continuous variable into categorical variable by specifying cutoff point\\n                -Income - low income household, high income household\\n        Outcome -\\n            quantitative - output : Regression\\n            qualitative - output : classification\\n          \\n        prediction - \\n            input - X \\n            output - y\\n            function - f(X) predict y on given values X\\n            best prediction depends on Loss function \\n                - how far prediction from y from given value of X are true absurd value of y            \\n            Regression: Squared error loss \\n                - best value for given X is \\n                    -conditional avg of y given X\\n                    - avg of all values of y given X\\n            Classification - 0-1 loss function\\n                - classifying observation to class is high conditional probability given X\\n                - for given value of X we calculate probability of each class then assign observation to class with high pobability\\n                \\n        Regression - X, y - mean of values of x on the line / avg of neighboring x if x are not present on line\\n            f(X) conditional expectation of y given specific value for X\\n        Classification - X, y - y: 0,1 - separate observation of 0 from 1 - \\n            p(y = 0 | X=x)\\n            p(y = 1 | X=x)\\n            probability largest - prediction for X\\n\\n        \\n        \\n'"
      ]
     },
     "execution_count": 1,
     "metadata": {},
     "output_type": "execute_result"
    }
   ],
   "source": [
    "'''\n",
    "Statistical learning -\n",
    "    unsupervised\n",
    "        techniques and algorithm - inputs only\n",
    "    supervised \n",
    "        input output example given\n",
    "        Types - \n",
    "            Regression - continuous output\n",
    "            Classification - Categorical outputs - 0/1, Blue/Green\n",
    "        scikitlearn library\n",
    "        variables\n",
    "            quantitative - take numerical values - income\n",
    "                - Range depends on what they measure - $, $ k\n",
    "            qualitative - take variables incategory - M/F\n",
    "                - have categories - M/L , colors any number\n",
    "            in some cases we convert continuous variable into categorical variable by specifying cutoff point\n",
    "                -Income - low income household, high income household\n",
    "        Outcome -\n",
    "            quantitative - output : Regression\n",
    "            qualitative - output : classification\n",
    "          \n",
    "        prediction - \n",
    "            input - X \n",
    "            output - y\n",
    "            function - f(X) predict y on given values X\n",
    "            best prediction depends on Loss function \n",
    "                - how far prediction from y from given value of X are true absurd value of y            \n",
    "            Regression: Least Square loss (estimate expected value)\n",
    "                - best value for given X is \n",
    "                    -conditional avg of y given X\n",
    "                    - avg of all values of y given X\n",
    "            Classification - 0-1 loss function (estimate probablity)\n",
    "                - classifying observation to class is high conditional probability given X\n",
    "                - for given value of X we calculate probability of each class then assign observation to class with high pobability\n",
    "                \n",
    "        Regression - X, y - mean of values of x on the line / avg of neighboring x if x are not present on line\n",
    "            f(X) conditional expectation of y given specific value for X\n",
    "        Classification - X, y - y: 0,1 - separate observation of 0 from 1 - \n",
    "            p(y = 0 | X=x)\n",
    "            p(y = 1 | X=x)\n",
    "            probability largest - prediction for X\n",
    "        \n",
    "'''"
   ]
  },
  {
   "cell_type": "code",
   "execution_count": null,
   "metadata": {},
   "outputs": [],
   "source": []
  },
  {
   "cell_type": "markdown",
   "metadata": {},
   "source": [
    "5.1.2. Generating Example Regression Data"
   ]
  },
  {
   "cell_type": "code",
   "execution_count": 2,
   "metadata": {},
   "outputs": [],
   "source": [
    "import numpy as np\n",
    "import scipy.stats as ss\n",
    "import matplotlib.pyplot as plt"
   ]
  },
  {
   "cell_type": "code",
   "execution_count": 3,
   "metadata": {},
   "outputs": [],
   "source": [
    "n = 100\n",
    "beta_0 = 5\n",
    "beta_1 = 2\n",
    "np.random.seed(1)"
   ]
  },
  {
   "cell_type": "code",
   "execution_count": 9,
   "metadata": {},
   "outputs": [
    {
     "data": {
      "text/plain": [
       "array([0.24803356, 0.85167187, 0.41584872, 0.61668507, 0.23366614,\n",
       "       0.10196726, 0.51585702, 0.47714099, 0.15267164, 0.62180623,\n",
       "       0.54401012, 0.65413735, 0.14454554, 0.75152782, 0.22204914,\n",
       "       0.51935182, 0.78529603, 0.02233043, 0.32436246, 0.87292238,\n",
       "       0.84470961, 0.53844059, 0.86660827, 0.94980599, 0.826407  ,\n",
       "       0.85411544, 0.0987434 , 0.65130433, 0.70351699, 0.61024081,\n",
       "       0.79961526, 0.03457122, 0.77023873, 0.7317286 , 0.25969839,\n",
       "       0.2570693 , 0.63230332, 0.34529746, 0.79658868, 0.44614623,\n",
       "       0.78274941, 0.99047178, 0.30024834, 0.14300583, 0.90130844,\n",
       "       0.54155938, 0.97474037, 0.6366044 , 0.99391302, 0.5460708 ,\n",
       "       0.52642593, 0.1354279 , 0.35570517, 0.02621857, 0.16039518,\n",
       "       0.74563719, 0.03039969, 0.3665431 , 0.86234625, 0.69267772,\n",
       "       0.69094214, 0.1886368 , 0.44190428, 0.58157741, 0.98975171,\n",
       "       0.20390623, 0.2477329 , 0.26217308, 0.75017241, 0.45697533,\n",
       "       0.05692944, 0.50851624, 0.21196016, 0.79860424, 0.29733138,\n",
       "       0.02760601, 0.59343245, 0.84384043, 0.38101612, 0.74985831,\n",
       "       0.51114148, 0.5409518 , 0.95943432, 0.80396089, 0.03232307,\n",
       "       0.70938725, 0.46500148, 0.94754894, 0.22143273, 0.26707202,\n",
       "       0.08147396, 0.42861883, 0.10901876, 0.63378676, 0.80296324,\n",
       "       0.6968005 , 0.76621138, 0.34245412, 0.84585148, 0.42876877])"
      ]
     },
     "execution_count": 9,
     "metadata": {},
     "output_type": "execute_result"
    }
   ],
   "source": [
    "ss.uniform.rvs(size=n)"
   ]
  },
  {
   "cell_type": "code",
   "execution_count": 6,
   "metadata": {},
   "outputs": [],
   "source": [
    "X = 10 * ss.uniform.rvs(size=n) #generate random variables"
   ]
  },
  {
   "cell_type": "code",
   "execution_count": 10,
   "metadata": {},
   "outputs": [
    {
     "data": {
      "text/plain": [
       "array([3.26644902, 5.27058102, 8.85942099, 3.5726976 , 9.08535151,\n",
       "       6.23360116, 0.15821243, 9.29437234, 6.90896918, 9.9732285 ,\n",
       "       1.72340508, 1.3713575 , 9.32595463, 6.96818161, 0.66000173,\n",
       "       7.55463053, 7.53876188, 9.23024536, 7.11524759, 1.24270962,\n",
       "       0.19880134, 0.26210987, 0.28306488, 2.46211068, 8.60027949,\n",
       "       5.38831064, 5.52821979, 8.42030892, 1.24173315, 2.79183679,\n",
       "       5.85759271, 9.69595748, 5.61030219, 0.18647289, 8.00632673,\n",
       "       2.32974274, 8.07105196, 3.87860644, 8.63541855, 7.47121643,\n",
       "       5.56240234, 1.36455226, 0.5991769 , 1.21343456, 0.44551879,\n",
       "       1.07494129, 2.25709339, 7.1298898 , 5.59716982, 0.1255598 ,\n",
       "       0.7197428 , 9.6727633 , 5.68100462, 2.03293235, 2.52325745,\n",
       "       7.43825854, 1.95429481, 5.81358927, 9.70019989, 8.46828801,\n",
       "       2.39847759, 4.93769714, 6.19955718, 8.289809  , 1.56791395,\n",
       "       0.18576202, 0.70022144, 4.86345111, 6.06329462, 5.68851437,\n",
       "       3.17362409, 9.88616154, 5.79745219, 3.80141173, 5.50948219,\n",
       "       7.45334431, 6.69232893, 2.64919558, 0.66334834, 3.70084198,\n",
       "       6.29717507, 2.1017401 , 7.52755554, 0.66536481, 2.60315099,\n",
       "       8.04754564, 1.93434283, 6.39460881, 5.24670309, 9.2480797 ,\n",
       "       2.6329677 , 0.65961091, 7.35065963, 7.7217803 , 9.07815853,\n",
       "       9.31972069, 0.13951573, 2.34362086, 6.16778357, 9.49016321])"
      ]
     },
     "execution_count": 10,
     "metadata": {},
     "output_type": "execute_result"
    }
   ],
   "source": [
    "X #random values between 0,10"
   ]
  },
  {
   "cell_type": "code",
   "execution_count": 7,
   "metadata": {},
   "outputs": [],
   "source": [
    "y = beta_0 + beta_1 * X + ss.norm.rvs(loc=0, scale=1, size=n) #generating actual data + noise"
   ]
  },
  {
   "cell_type": "code",
   "execution_count": 11,
   "metadata": {},
   "outputs": [
    {
     "data": {
      "text/plain": [
       "array([11.61071916, 16.15954231, 22.95133655, 12.82794661, 22.86058624,\n",
       "       15.03236455,  6.35524946, 25.77572432, 19.25930279, 24.84630178,\n",
       "        8.31036542,  7.6236608 , 23.66931867, 17.8143445 ,  5.802909  ,\n",
       "       19.11223422, 20.32632293, 23.16384956, 19.7257065 ,  7.31071608,\n",
       "        6.38393786,  5.73775364,  7.75682949,  8.02786043, 21.55364229,\n",
       "       16.67810818, 18.58476528, 21.59198307,  7.5271353 , 10.35735934,\n",
       "       18.04664254, 24.1046071 , 16.90067422,  5.05314419, 19.7400947 ,\n",
       "        9.9730332 , 21.64528873, 14.05043876, 22.16039006, 19.32507079,\n",
       "       16.68756578,  7.96984161,  6.47901887,  7.35375641,  7.05137614,\n",
       "        7.5193753 , 11.41884548, 20.37083631, 16.85338944,  3.62368126,\n",
       "        7.04180487, 24.7658088 , 17.17296091, 10.11030679,  9.6456367 ,\n",
       "       20.7005227 ,  8.34628419, 18.58205662, 23.06844812, 20.17588747,\n",
       "        8.14623392, 13.9848387 , 16.27999897, 23.53569689,  7.80932839,\n",
       "        4.02884825,  7.51482585, 14.14037828, 15.88973586, 17.25286767,\n",
       "       11.97061036, 24.33736641, 18.00244439, 12.73192503, 17.63591398,\n",
       "       20.4094295 , 19.94346341, 10.40779385,  5.10695229, 14.85105261,\n",
       "       17.04857597,  9.00464234, 19.35471257,  6.12733518, 10.44897141,\n",
       "       21.29692145,  9.52970594, 19.58137583, 15.37294161, 22.26303867,\n",
       "        9.08361728,  5.6534673 , 18.02712346, 21.26859042, 22.65810349,\n",
       "       23.32845641,  5.27713998,  8.2906213 , 16.47425078, 24.65503794])"
      ]
     },
     "execution_count": 11,
     "metadata": {},
     "output_type": "execute_result"
    }
   ],
   "source": [
    "y"
   ]
  },
  {
   "cell_type": "code",
   "execution_count": 12,
   "metadata": {},
   "outputs": [
    {
     "data": {
      "text/plain": [
       "array([11.53289804, 15.54116205, 22.71884199, 12.1453952 , 23.17070302,\n",
       "       17.46720232,  5.31642486, 23.58874467, 18.81793835, 24.94645701,\n",
       "        8.44681017,  7.74271499, 23.65190926, 18.93636323,  6.32000345,\n",
       "       20.10926105, 20.07752377, 23.46049071, 19.23049517,  7.48541924,\n",
       "        5.39760268,  5.52421974,  5.56612976,  9.92422135, 22.20055897,\n",
       "       15.77662129, 16.05643957, 21.84061785,  7.4834663 , 10.58367358,\n",
       "       16.71518543, 24.39191497, 16.22060439,  5.37294579, 21.01265345,\n",
       "        9.65948548, 21.14210391, 12.75721288, 22.27083709, 19.94243285,\n",
       "       16.12480468,  7.72910451,  6.19835379,  7.42686911,  5.89103757,\n",
       "        7.14988258,  9.51418677, 19.25977961, 16.19433964,  5.2511196 ,\n",
       "        6.43948559, 24.3455266 , 16.36200924,  9.06586469, 10.04651489,\n",
       "       19.87651708,  8.90858962, 16.62717855, 24.40039978, 21.93657603,\n",
       "        9.79695518, 14.87539429, 17.39911437, 21.57961799,  8.13582789,\n",
       "        5.37152404,  6.40044287, 14.72690222, 17.12658923, 16.37702874,\n",
       "       11.34724819, 24.77232309, 16.59490438, 12.60282345, 16.01896438,\n",
       "       19.90668862, 18.38465787, 10.29839115,  6.32669669, 12.40168396,\n",
       "       17.59435014,  9.2034802 , 20.05511107,  6.33072963, 10.20630197,\n",
       "       21.09509127,  8.86868565, 17.78921762, 15.49340618, 23.49615941,\n",
       "       10.26593541,  6.31922181, 19.70131927, 20.44356059, 23.15631705,\n",
       "       23.63944138,  5.27903146,  9.68724172, 17.33556714, 23.98032641])"
      ]
     },
     "execution_count": 12,
     "metadata": {},
     "output_type": "execute_result"
    }
   ],
   "source": [
    "beta_0 + beta_1 * X "
   ]
  },
  {
   "cell_type": "code",
   "execution_count": null,
   "metadata": {},
   "outputs": [],
   "source": []
  },
  {
   "cell_type": "code",
   "execution_count": 8,
   "metadata": {},
   "outputs": [
    {
     "data": {
      "text/plain": [
       "Text(0,0.5,'y')"
      ]
     },
     "execution_count": 8,
     "metadata": {},
     "output_type": "execute_result"
    },
    {
     "data": {
      "image/png": "[encoded data removed]",
      "text/plain": [
       "<matplotlib.figure.Figure at 0x95ec6a0>"
      ]
     },
     "metadata": {},
     "output_type": "display_data"
    }
   ],
   "source": [
    "plt.figure()\n",
    "plt.plot(X,y,\"o\", ms=5)\n",
    "xx = np.array([0, 10])\n",
    "plt.plot(xx, beta_0 + beta_1 * xx) # deterministic model - doesnt involve error\n",
    "plt.xlabel(\"X\")\n",
    "plt.ylabel(\"y\")"
   ]
  },
  {
   "cell_type": "code",
   "execution_count": null,
   "metadata": {},
   "outputs": [],
   "source": []
  },
  {
   "cell_type": "code",
   "execution_count": 13,
   "metadata": {},
   "outputs": [],
   "source": [
    "import numpy as np\n",
    "import scipy.stats as ss\n",
    "import matplotlib.pyplot as plt\n",
    "n = 100\n",
    "beta_0 = 5\n",
    "beta_1 = 2\n",
    "np.random.seed(1)\n",
    "x = 10 * ss.uniform.rvs(size=n)\n",
    "y = beta_0 + beta_1 * x + ss.norm.rvs(loc=0, scale = 1, size = n)"
   ]
  },
  {
   "cell_type": "code",
   "execution_count": 14,
   "metadata": {},
   "outputs": [
    {
     "data": {
      "text/plain": [
       "4.8587792760014565"
      ]
     },
     "execution_count": 14,
     "metadata": {},
     "output_type": "execute_result"
    }
   ],
   "source": [
    "np.mean(x)"
   ]
  },
  {
   "cell_type": "code",
   "execution_count": 15,
   "metadata": {},
   "outputs": [
    {
     "data": {
      "text/plain": [
       "14.80142786070299"
      ]
     },
     "execution_count": 15,
     "metadata": {},
     "output_type": "execute_result"
    }
   ],
   "source": [
    "np.mean(y)"
   ]
  },
  {
   "cell_type": "code",
   "execution_count": null,
   "metadata": {},
   "outputs": [],
   "source": []
  }
 ],
 "metadata": {
  "kernelspec": {
   "display_name": "Python 3",
   "language": "python",
   "name": "python3"
  },
  "language_info": {
   "codemirror_mode": {
    "name": "ipython",
    "version": 3
   },
   "file_extension": ".py",
   "mimetype": "text/x-python",
   "name": "python",
   "nbconvert_exporter": "python",
   "pygments_lexer": "ipython3",
   "version": "3.6.4"
  }
 },
 "nbformat": 4,
 "nbformat_minor": 2
}
