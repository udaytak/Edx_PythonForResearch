{
 "cells": [
  {
   "cell_type": "markdown",
   "metadata": {},
   "source": [
    "5.1.1: Introduction to Statistical Learning"
   ]
  },
  {
   "cell_type": "code",
   "execution_count": null,
   "metadata": {},
   "outputs": [],
   "source": [
    "'''\n",
    "Statistical learning -\n",
    "    unsupervised\n",
    "        techniques and algorithm - inputs only\n",
    "    supervised \n",
    "        input output example given\n",
    "        Types - \n",
    "            Regression - continuous output\n",
    "            Classification - Categorical outputs - 0/1, Blue/Green\n",
    "        scikitlearn library\n",
    "        variables\n",
    "            quantitative - take numerical values - income\n",
    "                - Range depends on what they measure - $, $ k\n",
    "            qualitative - take variables incategory - M/F\n",
    "                - have categories - M/L , colors any number\n",
    "            in some cases we convert continuous variable into categorical variable by specifying cutoff point\n",
    "                -Income - low income household, high income household\n",
    "        Outcome -\n",
    "            quantitative - output : Regression\n",
    "            qualitative - output : classification\n",
    "          \n",
    "        prediction - \n",
    "            input - X \n",
    "            output - y\n",
    "            function - f(X) predict y on given values X\n",
    "            best prediction depends on Loss function \n",
    "                - how far prediction from y from given value of X are true absurd value of y            \n",
    "            Regression: Squared error loss \n",
    "                - best value for given X is \n",
    "                    -conditional avg of y given X\n",
    "                    - avg of all values of y given X\n",
    "            Classification - 0-1 loss function\n",
    "                - classifying observation to class is high conditional probability given X\n",
    "                - for given value of X we calculate probability of each class then assign observation to class with high pobability\n",
    "                \n",
    "        Regression - X, y - mean of values of x on the line / avg of neighboring x if x are not present on line\n",
    "            f(X) conditional expectation of y given specific value for X\n",
    "        Classification - X, y - y: 0,1 - separate observation of 0 from 1 - \n",
    "            p(y = 0 | X=x)\n",
    "            p(y = 1 | X=x)\n",
    "            probability largest - prediction for X\n",
    "\n",
    "        \n",
    "        \n",
    "'''"
   ]
  }
 ],
 "metadata": {
  "kernelspec": {
   "display_name": "Python 3",
   "language": "python",
   "name": "python3"
  },
  "language_info": {
   "codemirror_mode": {
    "name": "ipython",
    "version": 3
   },
   "file_extension": ".py",
   "mimetype": "text/x-python",
   "name": "python",
   "nbconvert_exporter": "python",
   "pygments_lexer": "ipython3",
   "version": "3.6.4"
  }
 },
 "nbformat": 4,
 "nbformat_minor": 2
}
