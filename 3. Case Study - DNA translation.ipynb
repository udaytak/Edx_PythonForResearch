{
 "cells": [
  {
   "cell_type": "markdown",
   "metadata": {},
   "source": [
    "# 3.1.1. Intro to DNA Translation"
   ]
  },
  {
   "cell_type": "code",
   "execution_count": 2,
   "metadata": {},
   "outputs": [
    {
     "data": {
      "text/plain": [
       "'\\n    cells - store, retrieve, transfer - genetical information\\n    \\n    DNA ~ 1 stream of information - 4 characters\\n    \\n    A - Adenine\\n    C - Cytosine\\n    G - Guanine\\n    T - Thymine\\n    \\n    3 characters stream - 1 Amino Acid\\n    \\n    20 Amino Acid Unique sequence - 1 Protein \\n    \\n    1 Protein dominates - cell\\n    \\n    Basic flow of genetic information:\\n        DNA -> RNA -> Protein\\n    \\n    Steps:\\n        1. Download DNA sequence - from Public Repo\\n        2. Translate DNA sequence - Amino Acid\\n        3. Download Amino acid sequence to varify\\n        \\n        \\n    Ex:\\n        ATA : I\\n        ATG : M\\n        CAA : Q\\n        TCT : S\\n        TGG : W\\n        \\n        ATACAATGGCAA : DNA\\n        ___---___---\\n         I  Q  W  Q  : Amino acid\\n'"
      ]
     },
     "execution_count": 2,
     "metadata": {},
     "output_type": "execute_result"
    }
   ],
   "source": [
    "'''\n",
    "    cells - store, retrieve, transfer - genetical information\n",
    "    \n",
    "    DNA ~ 1 stream of information - 4 characters\n",
    "    \n",
    "    A - Adenine\n",
    "    C - Cytosine\n",
    "    G - Guanine\n",
    "    T - Thymine\n",
    "    \n",
    "    3 characters stream - 1 Amino Acid\n",
    "    \n",
    "    20 Amino Acid Unique sequence - 1 Protein \n",
    "    \n",
    "    1 Protein dominates - cell\n",
    "    \n",
    "    Basic flow of genetic information:\n",
    "        DNA -> RNA -> Protein\n",
    "    \n",
    "    Steps:\n",
    "        1. Download DNA sequence - from Public Repo\n",
    "        2. Translate DNA sequence - Amino Acid\n",
    "        3. Download Amino acid sequence to varify\n",
    "        \n",
    "        \n",
    "    Ex:\n",
    "        ATA : I\n",
    "        ATG : M\n",
    "        CAA : Q\n",
    "        TCT : S\n",
    "        TGG : W\n",
    "        \n",
    "        ATACAATGGCAA : DNA\n",
    "        ___---___---\n",
    "         I  Q  W  Q  : Amino acid\n",
    "'''"
   ]
  },
  {
   "cell_type": "code",
   "execution_count": null,
   "metadata": {},
   "outputs": [],
   "source": []
  },
  {
   "cell_type": "markdown",
   "metadata": {},
   "source": [
    "# 3.1.2 Download DNA Data"
   ]
  },
  {
   "cell_type": "code",
   "execution_count": 3,
   "metadata": {},
   "outputs": [
    {
     "data": {
      "text/plain": [
       "'\\nNCBI - National Center of Biological Information\\n'"
      ]
     },
     "execution_count": 3,
     "metadata": {},
     "output_type": "execute_result"
    }
   ],
   "source": [
    "'''\n",
    "NCBI - National Center of Biological Information\n",
    "1. Strand of DNA\n",
    "2. Corresponding Protein sequence\n",
    "'''"
   ]
  },
  {
   "cell_type": "code",
   "execution_count": 4,
   "metadata": {},
   "outputs": [
    {
     "data": {
      "text/plain": [
       "'\\n    NCBI\\n    Nucleotide - NM_207618.2\\n    DNA - FASTA:\\n        GGTCAGAAAAAGCCCTCTCCATGTCTACTCACGATACATCCCTGAAAACCACTGAGGAAGTGGCTTTTCA\\nGATCATCTTGCTTTGCCAGTTTGGGGTTGGGACTTTTGCCAATGTATTTCTCTTTGTCTATAATTTCTCT\\nCCAATCTCGACTGGTTCTAAACAGAGGCCCAGACAAGTGATTTTAAGACACATGGCTGTGGCCAATGCCT\\nTAACTCTCTTCCTCACTATATTTCCAAACAACATGATGACTTTTGCTCCAATTATTCCTCAAACTGACCT\\nCAAATGTAAATTAGAATTCTTCACTCGCCTCGTGGCAAGAAGCACAAACTTGTGTTCAACTTGTGTTCTG\\nAGTATCCATCAGTTTGTCACACTTGTTCCTGTTAATTCAGGTAAAGGAATACTCAGAGCAAGTGTCACAA\\nACATGGCAAGTTATTCTTGTTACAGTTGTTGGTTCTTCAGTGTCTTAAATAACATCTACATTCCAATTAA\\nGGTCACTGGTCCACAGTTAACAGACAATAACAATAACTCTAAAAGCAAGTTGTTCTGTTCCACTTCTGAT\\nTTCAGTGTAGGCATTGTCTTCTTGAGGTTTGCCCATGATGCCACATTCATGAGCATCATGGTCTGGACCA\\nGTGTCTCCATGGTACTTCTCCTCCATAGACATTGTCAGAGAATGCAGTACATATTCACTCTCAATCAGGA\\nCCCCAGGGGCCAAGCAGAGACCACAGCAACCCATACTATCCTGATGCTGGTAGTCACATTTGTTGGCTTT\\nTATCTTCTAAGTCTTATTTGTATCATCTTTTACACCTATTTTATATATTCTCATCATTCCCTGAGGCATT\\nGCAATGACATTTTGGTTTCGGGTTTCCCTACAATTTCTCCTTTACTGTTGACCTTCAGAGACCCTAAGGG\\nTCCTTGTTCTGTGTTCTTCAACTGTTGAAAGCCAGAGTCACTAAAAATGCCAAACACAGAAGACAGCTTT\\nGCTAATACCATTAAATACTTTATTCCATAAATATGTTTTTAAAAGCTTGTATGAACAAGGTATGGTGCTC\\nACTGCTATACTTATAAAAGAGTAAGGTTATAATCACTTGTTGATATGAAAAGATTTCTGGTTGGAATCTG\\nATTGAAACAGTGAGTTATTCACCACCCTCCATTCTCT\\n        \\n    Protein - CDS:\\n        MSTHDTSLKTTEEVAFQIILLCQFGVGTFANVFLFVYNFSPIST\\nGSKQRPRQVILRHMAVANALTLFLTIFPNNMMTFAPIIPQTDLKCKLEFFTRLVARST\\nNLCSTCVLSIHQFVTLVPVNSGKGILRASVTNMASYSCYSCWFFSVLNNIYIPIKVTG\\nPQLTDNNNNSKSKLFCSTSDFSVGIVFLRFAHDATFMSIMVWTSVSMVLLLHRHCQRM\\nQYIFTLNQDPRGQAETTATHTILMLVVTFVGFYLLSLICIIFYTYFIYSHHSLRHCND\\nILVSGFPTISPLLLTFRDPKGPCSVFFNC\\n    \\n'"
      ]
     },
     "execution_count": 4,
     "metadata": {},
     "output_type": "execute_result"
    }
   ],
   "source": [
    "'''\n",
    "    NCBI\n",
    "    Nucleotide - NM_207618.2\n",
    "    DNA - FASTA:\n",
    "        GGTCAGAAAAAGCCCTCTCCATGTCTACTCACGATACATCCCTGAAAACCACTGAGGAAGTGGCTTTTCA\n",
    "GATCATCTTGCTTTGCCAGTTTGGGGTTGGGACTTTTGCCAATGTATTTCTCTTTGTCTATAATTTCTCT\n",
    "CCAATCTCGACTGGTTCTAAACAGAGGCCCAGACAAGTGATTTTAAGACACATGGCTGTGGCCAATGCCT\n",
    "TAACTCTCTTCCTCACTATATTTCCAAACAACATGATGACTTTTGCTCCAATTATTCCTCAAACTGACCT\n",
    "CAAATGTAAATTAGAATTCTTCACTCGCCTCGTGGCAAGAAGCACAAACTTGTGTTCAACTTGTGTTCTG\n",
    "AGTATCCATCAGTTTGTCACACTTGTTCCTGTTAATTCAGGTAAAGGAATACTCAGAGCAAGTGTCACAA\n",
    "ACATGGCAAGTTATTCTTGTTACAGTTGTTGGTTCTTCAGTGTCTTAAATAACATCTACATTCCAATTAA\n",
    "GGTCACTGGTCCACAGTTAACAGACAATAACAATAACTCTAAAAGCAAGTTGTTCTGTTCCACTTCTGAT\n",
    "TTCAGTGTAGGCATTGTCTTCTTGAGGTTTGCCCATGATGCCACATTCATGAGCATCATGGTCTGGACCA\n",
    "GTGTCTCCATGGTACTTCTCCTCCATAGACATTGTCAGAGAATGCAGTACATATTCACTCTCAATCAGGA\n",
    "CCCCAGGGGCCAAGCAGAGACCACAGCAACCCATACTATCCTGATGCTGGTAGTCACATTTGTTGGCTTT\n",
    "TATCTTCTAAGTCTTATTTGTATCATCTTTTACACCTATTTTATATATTCTCATCATTCCCTGAGGCATT\n",
    "GCAATGACATTTTGGTTTCGGGTTTCCCTACAATTTCTCCTTTACTGTTGACCTTCAGAGACCCTAAGGG\n",
    "TCCTTGTTCTGTGTTCTTCAACTGTTGAAAGCCAGAGTCACTAAAAATGCCAAACACAGAAGACAGCTTT\n",
    "GCTAATACCATTAAATACTTTATTCCATAAATATGTTTTTAAAAGCTTGTATGAACAAGGTATGGTGCTC\n",
    "ACTGCTATACTTATAAAAGAGTAAGGTTATAATCACTTGTTGATATGAAAAGATTTCTGGTTGGAATCTG\n",
    "ATTGAAACAGTGAGTTATTCACCACCCTCCATTCTCT\n",
    "        \n",
    "    Protein - CDS:\n",
    "        MSTHDTSLKTTEEVAFQIILLCQFGVGTFANVFLFVYNFSPIST\n",
    "GSKQRPRQVILRHMAVANALTLFLTIFPNNMMTFAPIIPQTDLKCKLEFFTRLVARST\n",
    "NLCSTCVLSIHQFVTLVPVNSGKGILRASVTNMASYSCYSCWFFSVLNNIYIPIKVTG\n",
    "PQLTDNNNNSKSKLFCSTSDFSVGIVFLRFAHDATFMSIMVWTSVSMVLLLHRHCQRM\n",
    "QYIFTLNQDPRGQAETTATHTILMLVVTFVGFYLLSLICIIFYTYFIYSHHSLRHCND\n",
    "ILVSGFPTISPLLLTFRDPKGPCSVFFNC\n",
    "    \n",
    "'''"
   ]
  },
  {
   "cell_type": "code",
   "execution_count": 5,
   "metadata": {},
   "outputs": [
    {
     "data": {
      "text/plain": [
       "'\\n    NCBI\\n    Nucleotide - NM_201917.1\\n    DNA - FASTA:\\n                1 gtaacaacca aaaaataatt cacctgagac tcacattctt taaggttttc gcatttaata\\n       61 tttcactttc ttgaaatctc ctatattttt gttatatatg gtcgtcggcg atgccaacgg\\n      121 cggtgaatgt agcgaaacaa tgcttaacgg cagaagcatc ctacgcatta gaagaagctg\\n      181 tgaacgttgc acgtcgaaga ggacactcac aaacgacgtc gcttcacgct atctcagctt\\n      241 tactctctct accaacctca gtcttacgtg acgcatgtgc tcgtgttcgt aactctgctt\\n      301 actctcctcg tcttcaattc aaagctttag atctttgctt aagcgtttct ttagaccgga\\n      361 tccagtcggg tcatcaactt ggatctgatg attcaccacc tgtttctaac tctctaatgg\\n      421 ctgcaattaa acgatctcaa gcgcatcaac gtcgtttacc tgagaacttc aggatctatc\\n      481 aagaaatgtc acagagtcag aatcagaact cactttcttg tgtgaaagtg gagcttcgtc\\n      541 agttgattct ttcgatcttg gatgatccgg ttgtgagccg ggtttttggt gaagcgggtt\\n      601 ttcggagctc cgagttaaag ctttccatta ttcgacctgt tcctcatctt cttcgttatt\\n      661 catcacaaca gcctctgttt ctctgtaacc taaccgggaa tcctgaaccg aatccggttc\\n      721 gatggggttt caccgtacca agcctgaatt ttaacggaga tttggattac cggaggatta\\n      781 gcgcggtttt cacgaaagat aaagggagga atcctctgct tgttggtgta tcagcttacg\\n      841 gtgtactaac cagttattta aattcgctag agaaaaacca aaccgacggg atgattctcc\\n      901 cgacgaagct tcacggttta acggcggtta acatcggttc agaaatctcc gaccaaatca\\n      961 gcgtcaaatt cgataaaacc tacaccgaca ctaggtttca tgatctaggg aagcttgcag\\n     1021 agcaaggttc aggacctgga ctactcttac actacggtga tcttagggtt ttcaccaacg\\n     1081 gcgaaggaaa cgtaccggcg gcgaattaca tcgtgaatcg gatttcggag ctgttgcggc\\n     1141 gacacgggag aagagtgtgg ttgatcggag cgacgacgag caacgaggtt tatgagaaga\\n     1201 tgatgagaag gtttccgaat gtggagaaag attgggattt gcagttactc accatcactt\\n     1261 ctcttaagcc ttgtttgcct cacaacaagt ccagtttgat aggatcattt gttccgtttg\\n     1321 gtggattctt ctcaacaact ccttctgaac tgaaactacc cttctccggt ttcaaaacgg\\n     1381 aaatcaccgg acccgtttct tcaatatccg atcagacaca atctaccttg ccaccttggt\\n     1441 tacaaatgac cacaagaact gatttaaacc aaaaatcaag tgccaaggtc gtgcagacca\\n     1501 aagaagggtt ggaatcagtt tgtggaaata agttcacgag cagtgcttct gcatcgacct\\n     1561 gttcagctaa atcggtcacc actgatctga atcttagggt aagttcagtc accacaggat\\n     1621 ccggtctcaa gaagcatttg gatagcaaag atttttctca gccacaatct gtgtcctcct\\n     1681 attcctttga taacccaagg gacctcaacg cagagagttt caagattatt tacagaagat\\n     1741 taaccgatat ggtttcagga caagatgagg ctgctagagt tatcagctgt gcactgtcac\\n     1801 aaccgcctaa gagtgtcact cgaagagatg tttggcttaa tttggttggt cctgatactg\\n     1861 taggaaagag aagaatgtcg cttgtccttg ctgagattgt gtatcaaagc gaacacagat\\n     1921 ttatggccgt tgatcttggt gccgcggagc agggaatggg cggttgtgat gatccgatga\\n     1981 ggttgagagg aaagacgatg gttgatcata tctttgaagt gatgtgtagg aatcctttct\\n     2041 gcgtggtttt ccttgagaac attgaaaaag ctgacgagaa gctgcagatg agcttgtcaa\\n     2101 aggcaatcga aactgggaag tttatggatt cacacgggag agaagttggt atcggaaaca\\n     2161 ctatttttgt tatgacgtca tcttcacaag gttccgcaac aacaacatct tattctgaag\\n     2221 agaaactatt gagagtcaaa ggaaggcaag tggagataag gattgaaact gtatctagtt\\n     2281 taccaatggt gcgatcggtt tacggcccaa cctcggtgaa caagaggaag ctgatgggat\\n     2341 tagggaatct tcaggagaca aaagatactg tggagagcgt aaaacggtta aacagaacaa\\n     2401 ctaatggagt tcttgatctg aaccttccgg ctcaagaaac cgaaatcgag gaaaaatatc\\n     2461 attgtgaaga gaactcaaac gtttggttaa tgaacttgaa gaatcataaa cgtctcattg\\n     2521 aggttccttt caagcctttt gattttgaag gactagctga aaaaatcaaa aagagcgtta\\n     2581 aagaaaattt cgacaagtgc gtgagatcgg attgcttgct ggaggttgac cctaagatca\\n     2641 tagaacgatt gctagcggct gtttatttct cagatagtag aaaagatatc aaagagttgc\\n     2701 tggagaatat aatgagtcca gtgttcttga gaattaaaga aaggtatgaa atcactacta\\n     2761 gttgtgtagt aaaattagtt ggtcgagatc ttgacatttt tcttgaggat caaatggact\\n     2821 tgttctttgt aaaatctcag taggttaaag agaactttat atggaaagtg tatcatataa\\n     2881 ggtagagtta gtaataggta ttattgttct tttgtgttgc tatactatga taatgtgtgt\\n     2941 tcctgtagtt atgatgatga gttgatcttt ctccttgttt attttatatg tatgtaaata\\n     3001 gttatttaca ttctatttta ttttacctgt tttaaac\\n        \\n    Protein - CDS:\\n        MSTHDTSLKTTEEVAFQIILLCQFGVGTFANVFLFVYNFSPIST\\nGSKQRPRQVILRHMAVANALTLFLTIFPNNMMTFAPIIPQTDLKCKLEFFTRLVARST\\nNLCSTCVLSIHQFVTLVPVNSGKGILRASVTNMASYSCYSCWFFSVLNNIYIPIKVTG\\nPQLTDNNNNSKSKLFCSTSDFSVGIVFLRFAHDATFMSIMVWTSVSMVLLLHRHCQRM\\nQYIFTLNQDPRGQAETTATHTILMLVVTFVGFYLLSLICIIFYTYFIYSHHSLRHCND\\nILVSGFPTISPLLLTFRDPKGPCSVFFNC\\n    \\n'"
      ]
     },
     "execution_count": 5,
     "metadata": {},
     "output_type": "execute_result"
    }
   ],
   "source": [
    "'''\n",
    "    NCBI\n",
    "    Nucleotide - NM_201917.1\n",
    "    DNA - FASTA:\n",
    "                1 gtaacaacca aaaaataatt cacctgagac tcacattctt taaggttttc gcatttaata\n",
    "       61 tttcactttc ttgaaatctc ctatattttt gttatatatg gtcgtcggcg atgccaacgg\n",
    "      121 cggtgaatgt agcgaaacaa tgcttaacgg cagaagcatc ctacgcatta gaagaagctg\n",
    "      181 tgaacgttgc acgtcgaaga ggacactcac aaacgacgtc gcttcacgct atctcagctt\n",
    "      241 tactctctct accaacctca gtcttacgtg acgcatgtgc tcgtgttcgt aactctgctt\n",
    "      301 actctcctcg tcttcaattc aaagctttag atctttgctt aagcgtttct ttagaccgga\n",
    "      361 tccagtcggg tcatcaactt ggatctgatg attcaccacc tgtttctaac tctctaatgg\n",
    "      421 ctgcaattaa acgatctcaa gcgcatcaac gtcgtttacc tgagaacttc aggatctatc\n",
    "      481 aagaaatgtc acagagtcag aatcagaact cactttcttg tgtgaaagtg gagcttcgtc\n",
    "      541 agttgattct ttcgatcttg gatgatccgg ttgtgagccg ggtttttggt gaagcgggtt\n",
    "      601 ttcggagctc cgagttaaag ctttccatta ttcgacctgt tcctcatctt cttcgttatt\n",
    "      661 catcacaaca gcctctgttt ctctgtaacc taaccgggaa tcctgaaccg aatccggttc\n",
    "      721 gatggggttt caccgtacca agcctgaatt ttaacggaga tttggattac cggaggatta\n",
    "      781 gcgcggtttt cacgaaagat aaagggagga atcctctgct tgttggtgta tcagcttacg\n",
    "      841 gtgtactaac cagttattta aattcgctag agaaaaacca aaccgacggg atgattctcc\n",
    "      901 cgacgaagct tcacggttta acggcggtta acatcggttc agaaatctcc gaccaaatca\n",
    "      961 gcgtcaaatt cgataaaacc tacaccgaca ctaggtttca tgatctaggg aagcttgcag\n",
    "     1021 agcaaggttc aggacctgga ctactcttac actacggtga tcttagggtt ttcaccaacg\n",
    "     1081 gcgaaggaaa cgtaccggcg gcgaattaca tcgtgaatcg gatttcggag ctgttgcggc\n",
    "     1141 gacacgggag aagagtgtgg ttgatcggag cgacgacgag caacgaggtt tatgagaaga\n",
    "     1201 tgatgagaag gtttccgaat gtggagaaag attgggattt gcagttactc accatcactt\n",
    "     1261 ctcttaagcc ttgtttgcct cacaacaagt ccagtttgat aggatcattt gttccgtttg\n",
    "     1321 gtggattctt ctcaacaact ccttctgaac tgaaactacc cttctccggt ttcaaaacgg\n",
    "     1381 aaatcaccgg acccgtttct tcaatatccg atcagacaca atctaccttg ccaccttggt\n",
    "     1441 tacaaatgac cacaagaact gatttaaacc aaaaatcaag tgccaaggtc gtgcagacca\n",
    "     1501 aagaagggtt ggaatcagtt tgtggaaata agttcacgag cagtgcttct gcatcgacct\n",
    "     1561 gttcagctaa atcggtcacc actgatctga atcttagggt aagttcagtc accacaggat\n",
    "     1621 ccggtctcaa gaagcatttg gatagcaaag atttttctca gccacaatct gtgtcctcct\n",
    "     1681 attcctttga taacccaagg gacctcaacg cagagagttt caagattatt tacagaagat\n",
    "     1741 taaccgatat ggtttcagga caagatgagg ctgctagagt tatcagctgt gcactgtcac\n",
    "     1801 aaccgcctaa gagtgtcact cgaagagatg tttggcttaa tttggttggt cctgatactg\n",
    "     1861 taggaaagag aagaatgtcg cttgtccttg ctgagattgt gtatcaaagc gaacacagat\n",
    "     1921 ttatggccgt tgatcttggt gccgcggagc agggaatggg cggttgtgat gatccgatga\n",
    "     1981 ggttgagagg aaagacgatg gttgatcata tctttgaagt gatgtgtagg aatcctttct\n",
    "     2041 gcgtggtttt ccttgagaac attgaaaaag ctgacgagaa gctgcagatg agcttgtcaa\n",
    "     2101 aggcaatcga aactgggaag tttatggatt cacacgggag agaagttggt atcggaaaca\n",
    "     2161 ctatttttgt tatgacgtca tcttcacaag gttccgcaac aacaacatct tattctgaag\n",
    "     2221 agaaactatt gagagtcaaa ggaaggcaag tggagataag gattgaaact gtatctagtt\n",
    "     2281 taccaatggt gcgatcggtt tacggcccaa cctcggtgaa caagaggaag ctgatgggat\n",
    "     2341 tagggaatct tcaggagaca aaagatactg tggagagcgt aaaacggtta aacagaacaa\n",
    "     2401 ctaatggagt tcttgatctg aaccttccgg ctcaagaaac cgaaatcgag gaaaaatatc\n",
    "     2461 attgtgaaga gaactcaaac gtttggttaa tgaacttgaa gaatcataaa cgtctcattg\n",
    "     2521 aggttccttt caagcctttt gattttgaag gactagctga aaaaatcaaa aagagcgtta\n",
    "     2581 aagaaaattt cgacaagtgc gtgagatcgg attgcttgct ggaggttgac cctaagatca\n",
    "     2641 tagaacgatt gctagcggct gtttatttct cagatagtag aaaagatatc aaagagttgc\n",
    "     2701 tggagaatat aatgagtcca gtgttcttga gaattaaaga aaggtatgaa atcactacta\n",
    "     2761 gttgtgtagt aaaattagtt ggtcgagatc ttgacatttt tcttgaggat caaatggact\n",
    "     2821 tgttctttgt aaaatctcag taggttaaag agaactttat atggaaagtg tatcatataa\n",
    "     2881 ggtagagtta gtaataggta ttattgttct tttgtgttgc tatactatga taatgtgtgt\n",
    "     2941 tcctgtagtt atgatgatga gttgatcttt ctccttgttt attttatatg tatgtaaata\n",
    "     3001 gttatttaca ttctatttta ttttacctgt tttaaac\n",
    "        \n",
    "    Protein - CDS:\n",
    "        MSTHDTSLKTTEEVAFQIILLCQFGVGTFANVFLFVYNFSPIST\n",
    "GSKQRPRQVILRHMAVANALTLFLTIFPNNMMTFAPIIPQTDLKCKLEFFTRLVARST\n",
    "NLCSTCVLSIHQFVTLVPVNSGKGILRASVTNMASYSCYSCWFFSVLNNIYIPIKVTG\n",
    "PQLTDNNNNSKSKLFCSTSDFSVGIVFLRFAHDATFMSIMVWTSVSMVLLLHRHCQRM\n",
    "QYIFTLNQDPRGQAETTATHTILMLVVTFVGFYLLSLICIIFYTYFIYSHHSLRHCND\n",
    "ILVSGFPTISPLLLTFRDPKGPCSVFFNC\n",
    "    \n",
    "'''"
   ]
  },
  {
   "cell_type": "code",
   "execution_count": null,
   "metadata": {},
   "outputs": [],
   "source": []
  },
  {
   "cell_type": "markdown",
   "metadata": {},
   "source": [
    "# 3.1.3 Importing DNA data into Python"
   ]
  },
  {
   "cell_type": "code",
   "execution_count": 6,
   "metadata": {},
   "outputs": [
    {
     "data": {
      "text/plain": [
       "'\\n1. for loop read one line at a time and procee\\n2. entire file in 1 go\\n'"
      ]
     },
     "execution_count": 6,
     "metadata": {},
     "output_type": "execute_result"
    }
   ],
   "source": [
    "'''\n",
    "1. for loop read one line at a time and procee\n",
    "2. entire file in 1 go\n",
    "'''"
   ]
  },
  {
   "cell_type": "code",
   "execution_count": 10,
   "metadata": {},
   "outputs": [
    {
     "data": {
      "text/plain": [
       "'C:\\\\Uday\\\\Python_ForResearch_Edx'"
      ]
     },
     "execution_count": 10,
     "metadata": {},
     "output_type": "execute_result"
    }
   ],
   "source": [
    "pwd"
   ]
  },
  {
   "cell_type": "code",
   "execution_count": 11,
   "metadata": {},
   "outputs": [
    {
     "name": "stdout",
     "output_type": "stream",
     "text": [
      "C:\\Uday\\Python_ForResearch_Edx\\python_case_studies\n"
     ]
    }
   ],
   "source": [
    "cd python_case_studies/"
   ]
  },
  {
   "cell_type": "code",
   "execution_count": 12,
   "metadata": {},
   "outputs": [
    {
     "name": "stdout",
     "output_type": "stream",
     "text": [
      "C:\\Uday\\Python_ForResearch_Edx\\python_case_studies\\translation\n"
     ]
    }
   ],
   "source": [
    "cd translation/"
   ]
  },
  {
   "cell_type": "code",
   "execution_count": 13,
   "metadata": {},
   "outputs": [
    {
     "data": {
      "text/plain": [
       "'C:\\\\Uday\\\\Python_ForResearch_Edx\\\\python_case_studies\\\\translation'"
      ]
     },
     "execution_count": 13,
     "metadata": {},
     "output_type": "execute_result"
    }
   ],
   "source": [
    "pwd"
   ]
  },
  {
   "cell_type": "code",
   "execution_count": null,
   "metadata": {},
   "outputs": [],
   "source": []
  },
  {
   "cell_type": "markdown",
   "metadata": {},
   "source": [
    "Data read from file"
   ]
  },
  {
   "cell_type": "code",
   "execution_count": 14,
   "metadata": {},
   "outputs": [],
   "source": [
    "inputfile = \"dna.txt\""
   ]
  },
  {
   "cell_type": "code",
   "execution_count": 15,
   "metadata": {},
   "outputs": [],
   "source": [
    "f = open(inputfile, \"r\")\n",
    "seq = f.read()"
   ]
  },
  {
   "cell_type": "code",
   "execution_count": 16,
   "metadata": {},
   "outputs": [
    {
     "name": "stdout",
     "output_type": "stream",
     "text": [
      "GGTCAGAAAAAGCCCTCTCCATGTCTACTCACGATACATCCCTGAAAACCACTGAGGAAGTGGCTTTTCA\n",
      "GATCATCTTGCTTTGCCAGTTTGGGGTTGGGACTTTTGCCAATGTATTTCTCTTTGTCTATAATTTCTCT\n",
      "CCAATCTCGACTGGTTCTAAACAGAGGCCCAGACAAGTGATTTTAAGACACATGGCTGTGGCCAATGCCT\n",
      "TAACTCTCTTCCTCACTATATTTCCAAACAACATGATGACTTTTGCTCCAATTATTCCTCAAACTGACCT\n",
      "CAAATGTAAATTAGAATTCTTCACTCGCCTCGTGGCAAGAAGCACAAACTTGTGTTCAACTTGTGTTCTG\n",
      "AGTATCCATCAGTTTGTCACACTTGTTCCTGTTAATTCAGGTAAAGGAATACTCAGAGCAAGTGTCACAA\n",
      "ACATGGCAAGTTATTCTTGTTACAGTTGTTGGTTCTTCAGTGTCTTAAATAACATCTACATTCCAATTAA\n",
      "GGTCACTGGTCCACAGTTAACAGACAATAACAATAACTCTAAAAGCAAGTTGTTCTGTTCCACTTCTGAT\n",
      "TTCAGTGTAGGCATTGTCTTCTTGAGGTTTGCCCATGATGCCACATTCATGAGCATCATGGTCTGGACCA\n",
      "GTGTCTCCATGGTACTTCTCCTCCATAGACATTGTCAGAGAATGCAGTACATATTCACTCTCAATCAGGA\n",
      "CCCCAGGGGCCAAGCAGAGACCACAGCAACCCATACTATCCTGATGCTGGTAGTCACATTTGTTGGCTTT\n",
      "TATCTTCTAAGTCTTATTTGTATCATCTTTTACACCTATTTTATATATTCTCATCATTCCCTGAGGCATT\n",
      "GCAATGACATTTTGGTTTCGGGTTTCCCTACAATTTCTCCTTTACTGTTGACCTTCAGAGACCCTAAGGG\n",
      "TCCTTGTTCTGTGTTCTTCAACTGTTGAAAGCCAGAGTCACTAAAAATGCCAAACACAGAAGACAGCTTT\n",
      "GCTAATACCATTAAATACTTTATTCCATAAATATGTTTTTAAAAGCTTGTATGAACAAGGTATGGTGCTC\n",
      "ACTGCTATACTTATAAAAGAGTAAGGTTATAATCACTTGTTGATATGAAAAGATTTCTGGTTGGAATCTG\n",
      "ATTGAAACAGTGAGTTATTCACCACCCTCCATTCTCT\n"
     ]
    }
   ],
   "source": [
    "print(seq)"
   ]
  },
  {
   "cell_type": "code",
   "execution_count": null,
   "metadata": {},
   "outputs": [],
   "source": []
  },
  {
   "cell_type": "markdown",
   "metadata": {},
   "source": [
    "Data cleaning by replacing special character"
   ]
  },
  {
   "cell_type": "code",
   "execution_count": 17,
   "metadata": {},
   "outputs": [
    {
     "data": {
      "text/plain": [
       "'GGTCAGAAAAAGCCCTCTCCATGTCTACTCACGATACATCCCTGAAAACCACTGAGGAAGTGGCTTTTCAGATCATCTTGCTTTGCCAGTTTGGGGTTGGGACTTTTGCCAATGTATTTCTCTTTGTCTATAATTTCTCTCCAATCTCGACTGGTTCTAAACAGAGGCCCAGACAAGTGATTTTAAGACACATGGCTGTGGCCAATGCCTTAACTCTCTTCCTCACTATATTTCCAAACAACATGATGACTTTTGCTCCAATTATTCCTCAAACTGACCTCAAATGTAAATTAGAATTCTTCACTCGCCTCGTGGCAAGAAGCACAAACTTGTGTTCAACTTGTGTTCTGAGTATCCATCAGTTTGTCACACTTGTTCCTGTTAATTCAGGTAAAGGAATACTCAGAGCAAGTGTCACAAACATGGCAAGTTATTCTTGTTACAGTTGTTGGTTCTTCAGTGTCTTAAATAACATCTACATTCCAATTAAGGTCACTGGTCCACAGTTAACAGACAATAACAATAACTCTAAAAGCAAGTTGTTCTGTTCCACTTCTGATTTCAGTGTAGGCATTGTCTTCTTGAGGTTTGCCCATGATGCCACATTCATGAGCATCATGGTCTGGACCAGTGTCTCCATGGTACTTCTCCTCCATAGACATTGTCAGAGAATGCAGTACATATTCACTCTCAATCAGGACCCCAGGGGCCAAGCAGAGACCACAGCAACCCATACTATCCTGATGCTGGTAGTCACATTTGTTGGCTTTTATCTTCTAAGTCTTATTTGTATCATCTTTTACACCTATTTTATATATTCTCATCATTCCCTGAGGCATTGCAATGACATTTTGGTTTCGGGTTTCCCTACAATTTCTCCTTTACTGTTGACCTTCAGAGACCCTAAGGGTCCTTGTTCTGTGTTCTTCAACTGTTGAAAGCCAGAGTCACTAAAAATGCCAAACACAGAAGACAGCTTTGCTAATACCATTAAATACTTTATTCCATAAATATGTTTTTAAAAGCTTGTATGAACAAGGTATGGTGCTCACTGCTATACTTATAAAAGAGTAAGGTTATAATCACTTGTTGATATGAAAAGATTTCTGGTTGGAATCTGATTGAAACAGTGAGTTATTCACCACCCTCCATTCTCT'"
      ]
     },
     "execution_count": 17,
     "metadata": {},
     "output_type": "execute_result"
    }
   ],
   "source": [
    "seq.replace('\\n','')"
   ]
  },
  {
   "cell_type": "code",
   "execution_count": 18,
   "metadata": {},
   "outputs": [
    {
     "data": {
      "text/plain": [
       "'GGTCAGAAAAAGCCCTCTCCATGTCTACTCACGATACATCCCTGAAAACCACTGAGGAAGTGGCTTTTCA\\nGATCATCTTGCTTTGCCAGTTTGGGGTTGGGACTTTTGCCAATGTATTTCTCTTTGTCTATAATTTCTCT\\nCCAATCTCGACTGGTTCTAAACAGAGGCCCAGACAAGTGATTTTAAGACACATGGCTGTGGCCAATGCCT\\nTAACTCTCTTCCTCACTATATTTCCAAACAACATGATGACTTTTGCTCCAATTATTCCTCAAACTGACCT\\nCAAATGTAAATTAGAATTCTTCACTCGCCTCGTGGCAAGAAGCACAAACTTGTGTTCAACTTGTGTTCTG\\nAGTATCCATCAGTTTGTCACACTTGTTCCTGTTAATTCAGGTAAAGGAATACTCAGAGCAAGTGTCACAA\\nACATGGCAAGTTATTCTTGTTACAGTTGTTGGTTCTTCAGTGTCTTAAATAACATCTACATTCCAATTAA\\nGGTCACTGGTCCACAGTTAACAGACAATAACAATAACTCTAAAAGCAAGTTGTTCTGTTCCACTTCTGAT\\nTTCAGTGTAGGCATTGTCTTCTTGAGGTTTGCCCATGATGCCACATTCATGAGCATCATGGTCTGGACCA\\nGTGTCTCCATGGTACTTCTCCTCCATAGACATTGTCAGAGAATGCAGTACATATTCACTCTCAATCAGGA\\nCCCCAGGGGCCAAGCAGAGACCACAGCAACCCATACTATCCTGATGCTGGTAGTCACATTTGTTGGCTTT\\nTATCTTCTAAGTCTTATTTGTATCATCTTTTACACCTATTTTATATATTCTCATCATTCCCTGAGGCATT\\nGCAATGACATTTTGGTTTCGGGTTTCCCTACAATTTCTCCTTTACTGTTGACCTTCAGAGACCCTAAGGG\\nTCCTTGTTCTGTGTTCTTCAACTGTTGAAAGCCAGAGTCACTAAAAATGCCAAACACAGAAGACAGCTTT\\nGCTAATACCATTAAATACTTTATTCCATAAATATGTTTTTAAAAGCTTGTATGAACAAGGTATGGTGCTC\\nACTGCTATACTTATAAAAGAGTAAGGTTATAATCACTTGTTGATATGAAAAGATTTCTGGTTGGAATCTG\\nATTGAAACAGTGAGTTATTCACCACCCTCCATTCTCT'"
      ]
     },
     "execution_count": 18,
     "metadata": {},
     "output_type": "execute_result"
    }
   ],
   "source": [
    "print(seq)"
   ]
  },
  {
   "cell_type": "code",
   "execution_count": 19,
   "metadata": {},
   "outputs": [],
   "source": [
    "seq = seq.replace('\\n','')"
   ]
  },
  {
   "cell_type": "code",
   "execution_count": 20,
   "metadata": {},
   "outputs": [
    {
     "name": "stdout",
     "output_type": "stream",
     "text": [
      "GGTCAGAAAAAGCCCTCTCCATGTCTACTCACGATACATCCCTGAAAACCACTGAGGAAGTGGCTTTTCAGATCATCTTGCTTTGCCAGTTTGGGGTTGGGACTTTTGCCAATGTATTTCTCTTTGTCTATAATTTCTCTCCAATCTCGACTGGTTCTAAACAGAGGCCCAGACAAGTGATTTTAAGACACATGGCTGTGGCCAATGCCTTAACTCTCTTCCTCACTATATTTCCAAACAACATGATGACTTTTGCTCCAATTATTCCTCAAACTGACCTCAAATGTAAATTAGAATTCTTCACTCGCCTCGTGGCAAGAAGCACAAACTTGTGTTCAACTTGTGTTCTGAGTATCCATCAGTTTGTCACACTTGTTCCTGTTAATTCAGGTAAAGGAATACTCAGAGCAAGTGTCACAAACATGGCAAGTTATTCTTGTTACAGTTGTTGGTTCTTCAGTGTCTTAAATAACATCTACATTCCAATTAAGGTCACTGGTCCACAGTTAACAGACAATAACAATAACTCTAAAAGCAAGTTGTTCTGTTCCACTTCTGATTTCAGTGTAGGCATTGTCTTCTTGAGGTTTGCCCATGATGCCACATTCATGAGCATCATGGTCTGGACCAGTGTCTCCATGGTACTTCTCCTCCATAGACATTGTCAGAGAATGCAGTACATATTCACTCTCAATCAGGACCCCAGGGGCCAAGCAGAGACCACAGCAACCCATACTATCCTGATGCTGGTAGTCACATTTGTTGGCTTTTATCTTCTAAGTCTTATTTGTATCATCTTTTACACCTATTTTATATATTCTCATCATTCCCTGAGGCATTGCAATGACATTTTGGTTTCGGGTTTCCCTACAATTTCTCCTTTACTGTTGACCTTCAGAGACCCTAAGGGTCCTTGTTCTGTGTTCTTCAACTGTTGAAAGCCAGAGTCACTAAAAATGCCAAACACAGAAGACAGCTTTGCTAATACCATTAAATACTTTATTCCATAAATATGTTTTTAAAAGCTTGTATGAACAAGGTATGGTGCTCACTGCTATACTTATAAAAGAGTAAGGTTATAATCACTTGTTGATATGAAAAGATTTCTGGTTGGAATCTGATTGAAACAGTGAGTTATTCACCACCCTCCATTCTCT\n"
     ]
    }
   ],
   "source": [
    "print(seq)"
   ]
  },
  {
   "cell_type": "code",
   "execution_count": 21,
   "metadata": {},
   "outputs": [],
   "source": [
    "seq = seq.replace('\\r','')"
   ]
  },
  {
   "cell_type": "code",
   "execution_count": null,
   "metadata": {},
   "outputs": [],
   "source": []
  },
  {
   "cell_type": "markdown",
   "metadata": {},
   "source": [
    "# 3.1.4 Translating the DNA Sequence"
   ]
  },
  {
   "cell_type": "code",
   "execution_count": null,
   "metadata": {},
   "outputs": [],
   "source": []
  }
 ],
 "metadata": {
  "kernelspec": {
   "display_name": "Python 3",
   "language": "python",
   "name": "python3"
  },
  "language_info": {
   "codemirror_mode": {
    "name": "ipython",
    "version": 3
   },
   "file_extension": ".py",
   "mimetype": "text/x-python",
   "name": "python",
   "nbconvert_exporter": "python",
   "pygments_lexer": "ipython3",
   "version": "3.6.4"
  }
 },
 "nbformat": 4,
 "nbformat_minor": 2
}
