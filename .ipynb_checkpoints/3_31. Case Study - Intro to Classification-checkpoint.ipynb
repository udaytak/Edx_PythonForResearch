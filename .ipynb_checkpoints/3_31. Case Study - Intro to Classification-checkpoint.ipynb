{
 "cells": [
  {
   "cell_type": "code",
   "execution_count": null,
   "metadata": {},
   "outputs": [],
   "source": [
    "3.3.1. Introduction to KNN classification"
   ]
  },
  {
   "cell_type": "code",
   "execution_count": 1,
   "metadata": {},
   "outputs": [
    {
     "data": {
      "text/plain": [
       "'\\nsupervised learning:\\n    output predict on input\\n    inputs : Predictors, Independent Variables, Features, Variables\\n    outputs: Response variables, Dependent variables\\n    \\nRegression Problems : Quantitative response: number measures weight height \\nClassification Problem  : Qualitative response: Y/N, Blue/Green\\n\\nkNN : \\n    1 approach to classification\\n    k = 5: \\n        identify 5 data point near the data\\n        classify new data point as belonging to most common class among those neighbours\\n\\n'"
      ]
     },
     "execution_count": 1,
     "metadata": {},
     "output_type": "execute_result"
    }
   ],
   "source": [
    "'''\n",
    "supervised learning:\n",
    "    output predict on input\n",
    "    inputs : Predictors, Independent Variables, Features, Variables\n",
    "    outputs: Response variables, Dependent variables\n",
    "    \n",
    "Regression Problems : Quantitative response: number measures weight height \n",
    "Classification Problem  : Qualitative response: Y/N, Blue/Green\n",
    "\n",
    "kNN : \n",
    "    1 approach to classification\n",
    "    k = 5: \n",
    "        identify 5 data point near the data\n",
    "        classify new data point as belonging to most common class among those neighbours\n",
    "\n",
    "'''"
   ]
  },
  {
   "cell_type": "code",
   "execution_count": null,
   "metadata": {},
   "outputs": [],
   "source": []
  },
  {
   "cell_type": "markdown",
   "metadata": {},
   "source": [
    "3.3.2 Finding the distance between two points"
   ]
  },
  {
   "cell_type": "code",
   "execution_count": 2,
   "metadata": {},
   "outputs": [
    {
     "data": {
      "text/plain": [
       "'\\n(x1,y1) (x2,y2) \\nd2 = ((x2-x1)^2 + (y2-y1)^2)0.5\\nmathematics : numpy\\n'"
      ]
     },
     "execution_count": 2,
     "metadata": {},
     "output_type": "execute_result"
    }
   ],
   "source": [
    "'''\n",
    "(x1,y1) (x2,y2) \n",
    "d2 = ((x2-x1)^2 + (y2-y1)^2)0.5\n",
    "mathematics : numpy\n",
    "'''"
   ]
  },
  {
   "cell_type": "code",
   "execution_count": 3,
   "metadata": {},
   "outputs": [
    {
     "data": {
      "text/plain": [
       "array([3, 3])"
      ]
     },
     "execution_count": 3,
     "metadata": {},
     "output_type": "execute_result"
    }
   ],
   "source": [
    "import numpy as np\n",
    "p1 = np.array([1,1])\n",
    "p2 = np.array([4,4])\n",
    "p2-p1"
   ]
  },
  {
   "cell_type": "code",
   "execution_count": 4,
   "metadata": {},
   "outputs": [
    {
     "data": {
      "text/plain": [
       "array([9, 9], dtype=int32)"
      ]
     },
     "execution_count": 4,
     "metadata": {},
     "output_type": "execute_result"
    }
   ],
   "source": [
    "np.power(p2-p1, 2)"
   ]
  },
  {
   "cell_type": "code",
   "execution_count": 5,
   "metadata": {},
   "outputs": [
    {
     "data": {
      "text/plain": [
       "4.242640687119285"
      ]
     },
     "execution_count": 5,
     "metadata": {},
     "output_type": "execute_result"
    }
   ],
   "source": [
    "np.sqrt(np.sum(np.power(p2-p1, 2)))"
   ]
  },
  {
   "cell_type": "code",
   "execution_count": 6,
   "metadata": {},
   "outputs": [],
   "source": [
    "import numpy as np\n",
    "\n",
    "def distance(p1,p2):\n",
    "    '''\n",
    "    Find the distance between the points p1, p2\n",
    "    '''\n",
    "    return np.sqrt(np.sum(np.power(p2-p1, 2)))"
   ]
  },
  {
   "cell_type": "code",
   "execution_count": 7,
   "metadata": {},
   "outputs": [
    {
     "data": {
      "text/plain": [
       "4.242640687119285"
      ]
     },
     "execution_count": 7,
     "metadata": {},
     "output_type": "execute_result"
    }
   ],
   "source": [
    "p1 = np.array([1,1])\n",
    "p2 = np.array([4,4])\n",
    "distance(p1,p2)"
   ]
  },
  {
   "cell_type": "code",
   "execution_count": null,
   "metadata": {},
   "outputs": [],
   "source": []
  },
  {
   "cell_type": "markdown",
   "metadata": {},
   "source": [
    "3.3.3 Majority Vote"
   ]
  },
  {
   "cell_type": "code",
   "execution_count": 8,
   "metadata": {},
   "outputs": [
    {
     "data": {
      "text/plain": [
       "\"\\nKNN - Majority vote\\nSequence of votes \\n    - 1,2,3 : determine how many times each occured and find most common elements\\n    ex: 2 - 1's\\n        1 - 2's\\n        1 - 3's\\n        majority vote - 2\\n        \\n\""
      ]
     },
     "execution_count": 8,
     "metadata": {},
     "output_type": "execute_result"
    }
   ],
   "source": [
    "'''\n",
    "KNN - Majority vote\n",
    "Sequence of votes \n",
    "    - 1,2,3 : determine how many times each occured and find most common elements\n",
    "    ex: 2 - 1's\n",
    "        1 - 2's\n",
    "        1 - 3's\n",
    "        majority vote - 2\n",
    "        \n",
    "'''"
   ]
  },
  {
   "cell_type": "code",
   "execution_count": 9,
   "metadata": {},
   "outputs": [],
   "source": [
    "def count_words(text):\n",
    "    '''\n",
    "    Count the number of times each word occures in text (str). skip punctuation\n",
    "    Returns dictionary where keys are unique words and values are word counts.\n",
    "    \n",
    "    '''\n",
    "    text=text.lower()\n",
    "    \n",
    "    skips = [\".\", \",\", \":\", \";\", \"'\", '\"']\n",
    "    for ch in skips:\n",
    "        text = text.replace(ch,\"\")\n",
    "    \n",
    "    word_counts = {}\n",
    "    \n",
    "    for word in text.split(\" \"):\n",
    "        if word in word_counts:\n",
    "            word_counts[word] += 1\n",
    "        \n",
    "        else:\n",
    "            word_counts[word] = 1\n",
    "            \n",
    "    return word_counts"
   ]
  },
  {
   "cell_type": "code",
   "execution_count": 17,
   "metadata": {},
   "outputs": [],
   "source": [
    "def majority_vote(votes):\n",
    "    '''\n",
    "    XXX\n",
    "    \n",
    "    '''\n",
    "    vote_counts = {}\n",
    "    \n",
    "    for vote in votes:\n",
    "        if vote in vote_counts:\n",
    "            vote_counts[vote] += 1  \n",
    "        else:\n",
    "            vote_counts[vote] = 1\n",
    "    \n",
    "    print(vote_counts)\n",
    "    \n",
    "    return vote_counts"
   ]
  },
  {
   "cell_type": "code",
   "execution_count": 18,
   "metadata": {},
   "outputs": [
    {
     "data": {
      "text/plain": [
       "{}"
      ]
     },
     "execution_count": 18,
     "metadata": {},
     "output_type": "execute_result"
    }
   ],
   "source": [
    "votes = [1,2,3,1,2,3,1,2,3,3,3,3]\n",
    "\n",
    "vote_counts = ajority_vote(votes)\n",
    "vote_counts"
   ]
  },
  {
   "cell_type": "code",
   "execution_count": null,
   "metadata": {},
   "outputs": [],
   "source": []
  }
 ],
 "metadata": {
  "kernelspec": {
   "display_name": "Python 3",
   "language": "python",
   "name": "python3"
  },
  "language_info": {
   "codemirror_mode": {
    "name": "ipython",
    "version": 3
   },
   "file_extension": ".py",
   "mimetype": "text/x-python",
   "name": "python",
   "nbconvert_exporter": "python",
   "pygments_lexer": "ipython3",
   "version": "3.6.4"
  }
 },
 "nbformat": 4,
 "nbformat_minor": 2
}
